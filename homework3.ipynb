{
  "cells": [
    {
      "cell_type": "markdown",
      "metadata": {
        "id": "qVMCjEV1IEC7"
      },
      "source": [
        "# CIS 545 Homework 3: Spark SQL\n",
        "\n",
        "#### **Worth 100 points**\n",
        "\n",
        "Welcome to CIS 545 Homework 3! In this homework you will gain a mastery of using Spark SQL. By the end, you'll be a star (not that you aren't already one). Over the next few days you will be using an EMR cluster to use Spark to manipulate the  `basic_stats2.json` and `defensive.json` datasets, as well as `superbowl3.csv`.\n",
        "\n",
        "The goal of the homework will be to create a dataset for a Time Series model.  Yes, we are training you for the portions of the class coming up in the not-so-distant future!!\n",
        "\n",
        "## The Necessary Notes and Nags\n",
        "Before we begin here are some important notes to keep in mind,\n",
        "\n",
        "\n",
        "1.   **IMPORTANT!** I said it twice, it's really important. In this homework, we will be using AWS resources. You are given a quota ($100) to use for the entirety of the homework. There is a small chance you will use all this money, however it is important that at the end of every session, you **shut down your EMR cluster**.\n",
        "2.   **Be sure you use Google Colab for this Homework** since we must connect to the EMR cluster and local Jupyter will have issues doing that. Using a Google Colab Notebook with an EMR cluster has two important abnormalities:\n",
        "    * The first line of any cell in which you will use the spark session must be `%%spark`. Notice that all cells below have this.\n",
        "    * You will, unfortunately, not be able to stop a cell while it is running. If you wish to do so, you will need to restart your cluster. See the Setup EMR Document for reference.\n",
        "3.   You are **required** to use Spark SQL queries to handle the data in the assignment. Mastering SQL is more beneficial than being able to use Spark commands (functions) as it will show up in more areas of programming and data science/analytics than just Spark. Use the following [function list](https://spark.apache.org/docs/latest/api/sql/index.html#) to see all the SQL functions avaliable in Spark.\n",
        "4.   Throughout the homework you will be manipulating Spark dataframes (sdfs). We do not specify any ordering on the final output. You are welcome to order your final tables in whatever way you deem fit. We will conduct our own ordering when we grade.\n",
        "5. Based on the challenges you've faced in the previous homework, we are including information on the expected schema of your results.  Apache Spark is very fiddly but we hope this will help.\n",
        "6. There are portions of this homework that are _very_ hard. We urge you start early to come to office hours and get help if you get stuck. But don't worry, I can see the future, and you all got this.\n",
        "\n",
        "With that said, let's dive in.\n",
        "\n",
        "\n"
      ]
    },
    {
      "cell_type": "code",
      "execution_count": 1,
      "metadata": {
        "id": "PpCsXltQ9xId",
        "colab": {
          "base_uri": "https://localhost:8080/"
        },
        "outputId": "e9b9c80c-a78b-46d5-f1f9-58f77ae3ec16"
      },
      "outputs": [
        {
          "output_type": "stream",
          "name": "stdout",
          "text": [
            "Collecting pandas==1.1.5\n",
            "  Downloading pandas-1.1.5-cp37-cp37m-manylinux1_x86_64.whl (9.5 MB)\n",
            "\u001b[K     |████████████████████████████████| 9.5 MB 3.3 MB/s \n",
            "\u001b[?25hRequirement already satisfied: numpy>=1.15.4 in /usr/local/lib/python3.7/dist-packages (from pandas==1.1.5) (1.21.5)\n",
            "Requirement already satisfied: pytz>=2017.2 in /usr/local/lib/python3.7/dist-packages (from pandas==1.1.5) (2018.9)\n",
            "Requirement already satisfied: python-dateutil>=2.7.3 in /usr/local/lib/python3.7/dist-packages (from pandas==1.1.5) (2.8.2)\n",
            "Requirement already satisfied: six>=1.5 in /usr/local/lib/python3.7/dist-packages (from python-dateutil>=2.7.3->pandas==1.1.5) (1.15.0)\n",
            "Installing collected packages: pandas\n",
            "  Attempting uninstall: pandas\n",
            "    Found existing installation: pandas 1.3.5\n",
            "    Uninstalling pandas-1.3.5:\n",
            "      Successfully uninstalled pandas-1.3.5\n",
            "Successfully installed pandas-1.1.5\n"
          ]
        }
      ],
      "source": [
        "# As always, run this, restart, rerun\n",
        "!pip install pandas==1.1.5"
      ]
    },
    {
      "cell_type": "markdown",
      "metadata": {
        "id": "7XEqGpEGBWs5"
      },
      "source": [
        "## Step 0: Set up EMR\n",
        "\n",
        "Follow the [AWS Academy Getting Started](https://docs.google.com/document/d/1JPitLGaorjTbXjGsaoIHcLTu2cj8rjm5UNr9bSpZ72k/edit?usp=sharing) instructions.\n",
        "\n",
        "Move on to Step 0.1 after you have completed all the steps in the document.\n",
        "\n",
        "![ACME GIANT RUBBER BAND](https://pbs.twimg.com/media/DRqbJh7UMAE2z4o?format=jpg&name=4096x4096)\n"
      ]
    },
    {
      "cell_type": "markdown",
      "metadata": {
        "id": "5iBPXxgAdXkv"
      },
      "source": [
        "### Step 0.1: The Superfluous Setup\n",
        "\n",
        "Run the following two cells. These will allow your colab notebook to connect to an use your EMR."
      ]
    },
    {
      "cell_type": "code",
      "execution_count": 3,
      "metadata": {
        "id": "pvkEbVaaAQ1e"
      },
      "outputs": [],
      "source": [
        "%%capture\n",
        "!apt update\n",
        "!apt install gcc python-dev libkrb5-dev\n",
        "!pip install sparkmagic\n",
        "!pip install penngrader\n"
      ]
    },
    {
      "cell_type": "code",
      "execution_count": 4,
      "metadata": {
        "id": "6WAJmQ8IAbRs"
      },
      "outputs": [],
      "source": [
        "%%capture\n",
        "%load_ext sparkmagic.magics "
      ]
    },
    {
      "cell_type": "markdown",
      "metadata": {
        "id": "CL6n768EPt9E"
      },
      "source": [
        "### Step 0.2: The Sharp Spark\n",
        "\n",
        "Now, connect your notebook to the EMR cluster you created. In the first cell, copy the link to the Master Public DNS specified in the setup document. You will need to add `http://` to the beginning of the address and the auth details to the end.\n",
        "\n",
        "For example, if my DNS (directly from the AWS EMR console) is `ec2-3-15-237-211.us-east-2.compute.amazonaws.com` my address would be,\n",
        "\n",
        "`http://ec2-3-15-237-211.us-east-2.compute.amazonaws.com -a cis545-livy -p password1 -t Basic_Access`\n",
        "\n",
        "Insert this in the `# TODO # below`. For our example, the cell would read,\n",
        "\n",
        "```\n",
        "%spark add -s spark_session -l python -u http://ec2-3-15-237-211.us-east-2.compute.amazonaws.com -a cis545-livy -p password1 -t Basic_Access\n",
        "```"
      ]
    },
    {
      "cell_type": "code",
      "execution_count": 5,
      "metadata": {
        "colab": {
          "base_uri": "https://localhost:8080/",
          "height": 96,
          "referenced_widgets": [
            "013d403bcead495f98411adc2a6e1f19",
            "dac943a64e4e49069895994f14f5fbe4",
            "3e955907ee44496e9727f45d7be20026"
          ]
        },
        "id": "G9QbylT-jqX9",
        "outputId": "93a0772d-91ff-49a3-a706-1898e73a55bf"
      },
      "outputs": [
        {
          "output_type": "stream",
          "name": "stdout",
          "text": [
            "Starting Spark application\n"
          ]
        },
        {
          "output_type": "display_data",
          "data": {
            "text/plain": [
              "<IPython.core.display.HTML object>"
            ],
            "text/html": [
              "<table>\n",
              "<tr><th>ID</th><th>YARN Application ID</th><th>Kind</th><th>State</th><th>Spark UI</th><th>Driver log</th><th>User</th><th>Current session?</th></tr><tr><td>1</td><td>application_1647728114002_0002</td><td>pyspark</td><td>idle</td><td><a target=\"_blank\" href=\"http://ip-172-31-88-229.ec2.internal:20888/proxy/application_1647728114002_0002/\">Link</a></td><td><a target=\"_blank\" href=\"http://ip-172-31-80-93.ec2.internal:8042/node/containerlogs/container_1647728114002_0002_01_000001/livy\">Link</a></td><td>None</td><td>✔</td></tr></table>"
            ]
          },
          "metadata": {}
        },
        {
          "output_type": "display_data",
          "data": {
            "text/plain": [
              "FloatProgress(value=0.0, bar_style='info', description='Progress:', layout=Layout(height='25px', width='50%'),…"
            ],
            "application/vnd.jupyter.widget-view+json": {
              "version_major": 2,
              "version_minor": 0,
              "model_id": "013d403bcead495f98411adc2a6e1f19"
            }
          },
          "metadata": {}
        },
        {
          "output_type": "stream",
          "name": "stdout",
          "text": [
            "SparkSession available as 'spark'.\n"
          ]
        }
      ],
      "source": [
        "# TODO: Copy the line above, enter your Master Public DNS with the proper formatting and host, and update the password\n",
        "%spark add -s spark_session -l python -u http://ec2-35-173-246-119.compute-1.amazonaws.com -a cis545-livy -p Clara_0625 -t Basic_Access"
      ]
    },
    {
      "cell_type": "code",
      "execution_count": 6,
      "metadata": {
        "id": "QwKAHhQL0lf7"
      },
      "outputs": [],
      "source": [
        "# If you ever need to restart, you may need to...\n",
        "# %spark delete -s my_session\n",
        "#OR just factory reset runtime under the runtime tab"
      ]
    },
    {
      "cell_type": "markdown",
      "metadata": {
        "id": "6yzJetbCfgh3"
      },
      "source": [
        "### Step 0.3: Cluster Log\n",
        "\n",
        "In order to keep track of clusters you have created and terminated as well as give us information about time spent on this assignment, please enter each date and time you created a cluster and the date and time you terminated the cluster. This will not impact your score."
      ]
    },
    {
      "cell_type": "markdown",
      "metadata": {
        "id": "powXPhtphhyy"
      },
      "source": [
        "EX: \n",
        "\n",
        "10/12 9:00am - 10/12 12:00pm\n",
        "\n",
        "10/13 7:00pm - 10/13 9:00pm\n",
        "\n",
        "...\n",
        "    "
      ]
    },
    {
      "cell_type": "markdown",
      "metadata": {
        "id": "SokSZv4vih0c"
      },
      "source": [
        "TODO: Create cluster log"
      ]
    },
    {
      "cell_type": "markdown",
      "metadata": {
        "id": "I0C7UNrzqeJ1"
      },
      "source": [
        "Cluster log: \n"
      ]
    },
    {
      "cell_type": "markdown",
      "metadata": {
        "id": "v1IQjUwNObb8"
      },
      "source": [
        "Enter your 8-digit Penn Key as an integer in the cell \n",
        "below. This will be used in the autograder.  **Please also update the cell below, with the same ID!**"
      ]
    },
    {
      "cell_type": "code",
      "execution_count": 7,
      "metadata": {
        "id": "7zM20juwqqQF"
      },
      "outputs": [],
      "source": [
        "from penngrader.grader import *\n",
        "STUDENT_ID = 86616304"
      ]
    },
    {
      "cell_type": "code",
      "execution_count": 8,
      "metadata": {
        "colab": {
          "base_uri": "https://localhost:8080/"
        },
        "id": "V8Oo_5D7qoWp",
        "outputId": "54c8af11-c492-4b01-b5d7-5f4de619b658"
      },
      "outputs": [
        {
          "output_type": "stream",
          "name": "stdout",
          "text": [
            "PennGrader initialized with Student ID: 86616304\n",
            "\n",
            "Make sure this correct or we will not be able to store your grade\n"
          ]
        }
      ],
      "source": [
        "grader = PennGrader(homework_id = 'CIS545_Spring_2022_HW3', student_id = STUDENT_ID)"
      ]
    },
    {
      "cell_type": "markdown",
      "metadata": {
        "id": "kvl5MJg6cLHr"
      },
      "source": [
        "**Please make sure you also update this one, so the grader can similarly be updated on Spark/EMR!**"
      ]
    },
    {
      "cell_type": "code",
      "execution_count": 9,
      "metadata": {
        "colab": {
          "base_uri": "https://localhost:8080/",
          "height": 69,
          "referenced_widgets": [
            "0f22e1185b9e4959b154f3777411d254",
            "d865e47fda204ec1bdcfe549adc4e334",
            "8ea85629cac14cfa803f9619fafd696a"
          ]
        },
        "id": "9NQjHLyKcL5H",
        "outputId": "5446b150-d7f0-4bc9-8cc2-1755da682a24"
      },
      "outputs": [
        {
          "output_type": "display_data",
          "data": {
            "text/plain": [
              "FloatProgress(value=0.0, bar_style='info', description='Progress:', layout=Layout(height='25px', width='50%'),…"
            ],
            "application/vnd.jupyter.widget-view+json": {
              "version_major": 2,
              "version_minor": 0,
              "model_id": "0f22e1185b9e4959b154f3777411d254"
            }
          },
          "metadata": {}
        },
        {
          "output_type": "stream",
          "name": "stdout",
          "text": [
            "PennGrader initialized with Student ID: 86616304\n",
            "\n",
            "Make sure this correct or we will not be able to store your grade"
          ]
        }
      ],
      "source": [
        "%%spark\n",
        "from penngrader.grader import *\n",
        "STUDENT_ID = 86616304\n",
        "grader = PennGrader(homework_id = 'CIS545_Spring_2022_HW3', student_id = STUDENT_ID)"
      ]
    },
    {
      "cell_type": "markdown",
      "metadata": {
        "id": "Bfs-EQZUzF4j"
      },
      "source": [
        "Run the above cells to setup the autograder in BOTH the Spark session as well as locally, make sure to have set your 8 digit Penn ID in the cell above. It will also import all the modules you need for the homework.\n",
        "\n",
        "_Note_: Since we are using an EMR cluster we will only have access to some of modules that exist for Python, meaning things like `pandas`, `numpy`, etc. may not all be available. We have written the entire homework such that the solution does not require any of these."
      ]
    },
    {
      "cell_type": "markdown",
      "metadata": {
        "id": "4nyAa0wn1XCD"
      },
      "source": [
        "## Step 1: Data Wrangling, Cleaning, and Shaping\n",
        "\n",
        "It's football fever! We very recently witnessed Super Bowl LVI, in which Los Angeles Rams trumped the Cincinnati Bengals to clinch the title at their brand new home stadium. To continue the hype, we thought it would be exciting for you to work on NFL data and that's what we will be doing today.\n",
        "\n",
        "<br>\n",
        "\n",
        "![Winners](https://imagez.tmz.com/image/d6/4by3/2022/02/14/d62fc8c540c348c0aa75730b9c9a5b8d_md.jpg)\n",
        "\n",
        "<br>\n",
        "\n",
        "The data you will use is stored in an S3 bucket, a cloud storage service. You now need to download it onto the nodes of your [EMR cluster](https://docs.aws.amazon.com/emr/latest/ManagementGuide/emr-what-is-emr.html). "
      ]
    },
    {
      "cell_type": "markdown",
      "metadata": {
        "id": "Nf_ADEXnIK0b"
      },
      "source": [
        "### Step 1.1: The Stupendous Schema\n",
        "\n",
        "When loading data, Spark will try to infer its structure on its own. This process is faulty because Spark will sometimes infer the type incorrectly. Spark's ability to determine types is not reliable, thus you will need to define a schema for `basic_stats2.json` and `defensive3.json`.\n",
        "\n",
        "A schema is a description of the structure of data. We have given you an example with `defensive3.json` and you will be defining an explicit schema for `basic_stats2.json`. \n",
        "\n",
        "\n",
        "In Spark, schemas are defined using a `StructType` object. This is a collection of data types, termed `StructField`'s, that specify the structure and variable type of each component of the dataset. For example, suppose we have the following simple JSON object,\n",
        "\n",
        "\n",
        "```\n",
        "{\n",
        " \"student_name\": \"Data Wrangler\",\n",
        " \"GPA\": 1.4,\n",
        " \"courses\": [\n",
        "    {\"department\": \"Computer and Information Science\",\n",
        "     \"course_id\": \"CIS 545\",\n",
        "     \"semester\": \"Fall 2021\"},\n",
        "    {\"department\": \"Computer and Information Science\",\n",
        "     \"course_id\": \"CIS 555\",\n",
        "     \"semester\": \"Fall 2021\"}\n",
        " ],\n",
        " \"grad_year\": 2022\n",
        " }\n",
        "```\n",
        "\n",
        "We would define its schema as follows,\n",
        "\n",
        "```       \n",
        "schema = StructType([\n",
        "           StructField(\"student_name\", StringType(), nullable=True),\n",
        "           StructField(\"GPA\", FloatType(), nullable=True),\n",
        "           StructField(\"courses\", ArrayType(\n",
        "                StructType([\n",
        "                  StructField(\"department\", StringType(), nullable=True),\n",
        "                  StructField(\"course_id\", StringType(), nullable=True),\n",
        "                  StructField(\"semester\", StringType(), nullable=True)\n",
        "                ])\n",
        "           ), nullable=True),\n",
        "           StructField(\"grad_year\", IntegerType(), nullable=True)\n",
        "         ])\n",
        "```\n",
        "\n",
        "\n",
        "Each `StructField` has the following structure: `(name, type, nullable)`. The `nullable` flag defines that the specified field may be empty. Your first task is to define the `schema` of `basic_stats2.json`. You can take a look at the schema for `defensive3.json` for reference. A smaller version of the JSON dataset can be found here. [defensive3.json](https://drive.google.com/file/d/1B75g3-GEdrXTiWn9069bDwvIia9xQIQR/view?usp=sharing), [basic_stats2.json](https://drive.google.com/file/d/1aF4fnH4JI_r8wWN27qFdyjiXWOs4mlg9/view?usp=sharing).\n",
        "\n",
        "\n",
        "\n",
        "\n",
        "There is also no grading cell for this step.  But your JSON file won't load if it's wrong, so you have a way of testing.\n",
        "\n"
      ]
    },
    {
      "cell_type": "code",
      "execution_count": 10,
      "metadata": {
        "colab": {
          "base_uri": "https://localhost:8080/",
          "height": 17,
          "referenced_widgets": [
            "79a69ee39faf485e98ef4f581d81899c",
            "f35d952e0dd54cc886e4b73850a8e9dc",
            "0dc55ccec1fc4876b1759e2175b6863d"
          ]
        },
        "id": "pL-Ps4KWIJ9e",
        "outputId": "beda5e57-6670-49fc-8abe-991158dff556"
      },
      "outputs": [
        {
          "output_type": "display_data",
          "data": {
            "text/plain": [
              "FloatProgress(value=0.0, bar_style='info', description='Progress:', layout=Layout(height='25px', width='50%'),…"
            ],
            "application/vnd.jupyter.widget-view+json": {
              "version_major": 2,
              "version_minor": 0,
              "model_id": "79a69ee39faf485e98ef4f581d81899c"
            }
          },
          "metadata": {}
        }
      ],
      "source": [
        "%%spark\n",
        "\n",
        "from pyspark.sql.types import *\n",
        "\n",
        "#schema for defensive.json\n",
        "\n",
        "schema_defensive = StructType([\n",
        "                     \n",
        "                     StructField(\"Player Id\", StringType(), nullable = True),\n",
        "                     StructField(\"Name\", StringType(), nullable = True),\n",
        "                     StructField(\"Position\", StringType(), nullable = True),\n",
        "                     StructField(\"Year\", IntegerType(), nullable = True),\n",
        "                     StructField(\"Team\", StringType(), nullable = True),\n",
        "                     StructField(\"Games Played\", StringType(), nullable = True),\n",
        "                     StructField(\"Total Tackles\", StringType(), nullable = True),\n",
        "                     StructField(\"Solo Tackles\", StringType(), nullable = True),\n",
        "                     StructField(\"Assisted Tackles\", StringType(), nullable = True),\n",
        "                     StructField(\"Sacks\", StringType(), nullable = True),\n",
        "                     StructField(\"Safties\", StringType(), nullable = True),\n",
        "                     StructField(\"Passes Defended\", StringType(), nullable = True),\n",
        "                     StructField(\"Ints\", StringType(), nullable = True),\n",
        "                     StructField(\"Ints for TDs\", StringType(), nullable = True),\n",
        "                     StructField(\"Int Yards\", StringType(), nullable = True),\n",
        "                     StructField(\"Yards Per Int\", StringType(), nullable = True),\n",
        "                     StructField(\"Longest Int Return\", StringType(), nullable = True),            \n",
        "                ])\n",
        "\n",
        "\n",
        "#TODO: Create a schema for basic_stats2.json\n",
        "Schema_basicstats = StructType([\n",
        "                     \n",
        "                     StructField(\"Age\", IntegerType(), nullable = True),\n",
        "                     StructField(\"Birth Place\", StringType(), nullable = True),\n",
        "                     StructField(\"Birthday\", StringType(), nullable = True),\n",
        "                     StructField(\"College\", StringType(), nullable = True),\n",
        "                     StructField(\"Current Status\", StringType(), nullable = True),\n",
        "                     StructField(\"Current Team\", StringType(), nullable = True),\n",
        "                     StructField(\"Experience\", StringType(), nullable = True),\n",
        "                     StructField(\"Height (inches)\", StringType(), nullable = True),\n",
        "                     StructField(\"High School\", StringType(), nullable = True),\n",
        "                     StructField(\"High School Location\", StringType(), nullable = True),\n",
        "                     StructField(\"Name\", StringType(), nullable = True),\n",
        "                     StructField(\"Number\", StringType(), nullable = True),\n",
        "                     StructField(\"Player Id\", StringType(), nullable = True),\n",
        "                     StructField(\"Position\", StringType(), nullable = True),\n",
        "                     StructField(\"Weight (lbs)\", StringType(), nullable = True),\n",
        "                     StructField(\"Years Played\", StringType(), nullable = True),          \n",
        "                ])\n",
        "\n",
        "\n",
        "                    "
      ]
    },
    {
      "cell_type": "markdown",
      "metadata": {
        "id": "2Su604X9ggc2"
      },
      "source": [
        "### Step 1.2: The Langorous Load\n",
        "\n",
        "In the following cell, load the `basic_stats2.json` dataset and the `defensive3.json` from your S3 bucket into Spark dataframes (sdf) called `basic_stats_sdf` and `defensive_sdf` respectively. If you have constructed `schema1` and `schema2` correctly, `spark.read.json()` will read in the dataset. \n",
        "\n",
        "***You do not need to edit this cell***. If this doesn't work, go back to the prior cell and update your schema."
      ]
    },
    {
      "cell_type": "code",
      "execution_count": 11,
      "metadata": {
        "colab": {
          "base_uri": "https://localhost:8080/",
          "height": 17,
          "referenced_widgets": [
            "0a43d0912b094e1e9d9b54f7f794b266",
            "49438a94185549f3bfa684a9af867557",
            "22c2c0c5f4b5463e90b897abf8fd7fd8"
          ]
        },
        "id": "ji-KW2sAiB6r",
        "outputId": "e4b3759d-66d9-4282-9922-944a6682976c"
      },
      "outputs": [
        {
          "output_type": "display_data",
          "data": {
            "text/plain": [
              "FloatProgress(value=0.0, bar_style='info', description='Progress:', layout=Layout(height='25px', width='50%'),…"
            ],
            "application/vnd.jupyter.widget-view+json": {
              "version_major": 2,
              "version_minor": 0,
              "model_id": "0a43d0912b094e1e9d9b54f7f794b266"
            }
          },
          "metadata": {}
        }
      ],
      "source": [
        "%%spark\n",
        "\n",
        "defensive_stats_sdf = spark.read.json(\"s3://penn-cis545-files/defensive3.json\", schema=schema_defensive, multiLine = True, primitivesAsString = True)\n"
      ]
    },
    {
      "cell_type": "code",
      "execution_count": 12,
      "metadata": {
        "colab": {
          "base_uri": "https://localhost:8080/",
          "height": 210,
          "referenced_widgets": [
            "a8b2600325f74595bed44fa45ceb41c5",
            "5a7e5eb234cc4295a1e884ccfe82d1ec",
            "d9c20c8a52634a58bb22c937e90af0d1"
          ]
        },
        "id": "nvurIgjLkdZL",
        "outputId": "3710c640-aa65-400a-f1a5-949e8527af22"
      },
      "outputs": [
        {
          "output_type": "display_data",
          "data": {
            "text/plain": [
              "FloatProgress(value=0.0, bar_style='info', description='Progress:', layout=Layout(height='25px', width='50%'),…"
            ],
            "application/vnd.jupyter.widget-view+json": {
              "version_major": 2,
              "version_minor": 0,
              "model_id": "a8b2600325f74595bed44fa45ceb41c5"
            }
          },
          "metadata": {}
        },
        {
          "output_type": "stream",
          "name": "stdout",
          "text": [
            "+------------------+--------------+--------+----+-----------------+------------+-------------+------------+----------------+-----+-------+---------------+----+------------+---------+-------------+------------------+\n",
            "|         Player Id|          Name|Position|Year|             Team|Games Played|Total Tackles|Solo Tackles|Assisted Tackles|Sacks|Safties|Passes Defended|Ints|Ints for TDs|Int Yards|Yards Per Int|Longest Int Return|\n",
            "+------------------+--------------+--------+----+-----------------+------------+-------------+------------+----------------+-----+-------+---------------+----+------------+---------+-------------+------------------+\n",
            "|quinnjohnson/79593|Johnson, Quinn|        |2013| Tennessee Titans|           4|            0|          --|              --|   --|     --|             --|  --|          --|       --|            0|                --|\n",
            "|quinnjohnson/79593|Johnson, Quinn|        |2012| Tennessee Titans|          16|            1|           1|               0|    0|     --|              0|  --|          --|       --|            0|                --|\n",
            "|quinnjohnson/79593|Johnson, Quinn|        |2011| Tennessee Titans|           4|            0|          --|              --|   --|     --|             --|  --|          --|       --|            0|                --|\n",
            "|quinnjohnson/79593|Johnson, Quinn|        |2011|   Denver Broncos|           0|            0|          --|              --|   --|     --|             --|  --|          --|       --|            0|                --|\n",
            "|quinnjohnson/79593|Johnson, Quinn|        |2010|Green Bay Packers|          11|            4|           4|               0|    0|     --|              0|  --|          --|       --|            0|                --|\n",
            "+------------------+--------------+--------+----+-----------------+------------+-------------+------------+----------------+-----+-------+---------------+----+------------+---------+-------------+------------------+\n",
            "only showing top 5 rows"
          ]
        }
      ],
      "source": [
        "%%spark\n",
        "# Let's print out the first few rows to see how the data looks like in tabular form\n",
        "defensive_stats_sdf.show(5)"
      ]
    },
    {
      "cell_type": "code",
      "execution_count": 13,
      "metadata": {
        "id": "8DIpp8P8NM7t",
        "colab": {
          "base_uri": "https://localhost:8080/",
          "height": 210,
          "referenced_widgets": [
            "05c11629353d4412af6eb717f61ca3e6",
            "ed2a510a682849e09c78b64d7e9c3c18",
            "76925e1ab8044e55ac58a874c7076af3"
          ]
        },
        "outputId": "d3ba6a28-47ee-4763-f22c-295091fd452c"
      },
      "outputs": [
        {
          "output_type": "display_data",
          "data": {
            "text/plain": [
              "FloatProgress(value=0.0, bar_style='info', description='Progress:', layout=Layout(height='25px', width='50%'),…"
            ],
            "application/vnd.jupyter.widget-view+json": {
              "version_major": 2,
              "version_minor": 0,
              "model_id": "05c11629353d4412af6eb717f61ca3e6"
            }
          },
          "metadata": {}
        },
        {
          "output_type": "stream",
          "name": "stdout",
          "text": [
            "+----+-----------------+----------+----------------+--------------+-------------------+----------+---------------+--------------+--------------------+--------------+------+-------------------+--------+------------+------------+\n",
            "| Age|      Birth Place|  Birthday|         College|Current Status|       Current Team|Experience|Height (inches)|   High School|High School Location|          Name|Number|          Player Id|Position|Weight (lbs)|Years Played|\n",
            "+----+-----------------+----------+----------------+--------------+-------------------+----------+---------------+--------------+--------------------+--------------+------+-------------------+--------+------------+------------+\n",
            "|null|Grand Rapids , MI| 5/23/1921|      Notre Dame|       Retired|                   | 3 Seasons|             71|              |                    |   Evans, Fred|  null|  fredevans/2513736|        |         185| 1946 - 1948|\n",
            "|null|      Dayton , OH|12/21/1930|          Dayton|       Retired|                   |  1 Season|             70|              |                    |    Raiff, Jim|  null|   jimraiff/2523700|        |         235| 1954 - 1954|\n",
            "|  56|      Temple , TX| 9/11/1960|  Louisiana Tech|       Retired|                   |  1 Season|             74|              |                    | Fowler, Bobby|  null|bobbyfowler/2514295|        |         230| 1985 - 1985|\n",
            "|  30| New Orleans , LA| 9/30/1986|             LSU|       Retired|                   | 5 Seasons|             73|              |                    |Johnson, Quinn|  null| quinnjohnson/79593|        |         255| 2009 - 2013|\n",
            "|  25|     Detroit , MI| 3/31/1992|Central Michigan|        Active|Pittsburgh Steelers|3rd season|             77|Clintondale HS|Clinton Twp.,Maco...|  Walton, L.T.|    96| l.t.walton/2552444|      DE|         305|            |\n",
            "+----+-----------------+----------+----------------+--------------+-------------------+----------+---------------+--------------+--------------------+--------------+------+-------------------+--------+------------+------------+\n",
            "only showing top 5 rows"
          ]
        }
      ],
      "source": [
        "%%spark\n",
        "\n",
        "#TODO: Create a spark dataframe for basic_stats2\n",
        "basic_stats_sdf = spark.read.json(\"s3://penn-cis545-files/basic_stats2.json\", schema=Schema_basicstats, multiLine = True, primitivesAsString = True)\n",
        "basic_stats_sdf.show(5)"
      ]
    },
    {
      "cell_type": "markdown",
      "metadata": {
        "id": "jMVCVotcE1wv"
      },
      "source": [
        "The cell below shows how to run SQL commands on Spark tables. Use this as a template for all your SQL queries in this notebook. \n",
        "\n",
        "***You do not need to edit this cell***."
      ]
    },
    {
      "cell_type": "code",
      "execution_count": 14,
      "metadata": {
        "id": "NJSVWeGiEO5c",
        "colab": {
          "base_uri": "https://localhost:8080/",
          "height": 280,
          "referenced_widgets": [
            "2e413410d4fa4895bc15e3f6e1b09499",
            "397f5cc580f54f0eb012b35ae54a513b",
            "f76e4fd9cf7348179a0922536af4d434"
          ]
        },
        "outputId": "1ffe2bed-04fc-47ae-d7d4-e0b878e1f560"
      },
      "outputs": [
        {
          "output_type": "display_data",
          "data": {
            "text/plain": [
              "FloatProgress(value=0.0, bar_style='info', description='Progress:', layout=Layout(height='25px', width='50%'),…"
            ],
            "application/vnd.jupyter.widget-view+json": {
              "version_major": 2,
              "version_minor": 0,
              "model_id": "2e413410d4fa4895bc15e3f6e1b09499"
            }
          },
          "metadata": {}
        },
        {
          "output_type": "stream",
          "name": "stdout",
          "text": [
            "+----+---------------+---------+--------------------+--------------+--------------------+----------+---------------+--------------------+--------------------+-----------------+------+--------------------+--------+------------+------------+\n",
            "| Age|    Birth Place| Birthday|             College|Current Status|        Current Team|Experience|Height (inches)|         High School|High School Location|             Name|Number|           Player Id|Position|Weight (lbs)|Years Played|\n",
            "+----+---------------+---------+--------------------+--------------+--------------------+----------+---------------+--------------------+--------------------+-----------------+------+--------------------+--------+------------+------------+\n",
            "|  45|   Griffin , GA|10/8/1971|       Florida State|       Retired|                    | 2 Seasons|             73|                    |                    |   Ellison, 'Omar|  null|'omarellison/2500540|        |         200| 1995 - 1996|\n",
            "|  22|Fort Worth , TX|3/21/1995|             Alabama|        Active|       Detroit Lions|2nd season|             75|Arlington Heights HS|      Fort Worth, TX|Robinson, A'Shawn|    91|a'shawnrobinson/2...|      DT|         320|            |\n",
            "|null|               |         |             Unknown|       Retired|                    |  1 Season|             74|                    |                    |      Bauer, A.C.|  null|   a.c.bauer/2509176|        |         210| 1923 - 1923|\n",
            "|  25|    Dallas , TX|8/16/1991|     Central Florida|        Active|Jacksonville Jaguars|5th season|             72|           Tucker HS|                  GA|      Bouye, A.J.|  null|   a.j.bouye/2541162|      CB|         191|            |\n",
            "|  25|   Bamberg , SC|10/3/1991|      South Carolina|        Active|Jacksonville Jaguars|3rd season|             75| Bamberg-Ehrhardt HS|         Bamberg, SC|       Cann, A.J.|    60|    a.j.cann/2552330|      OG|         317|            |\n",
            "|  25|               |2/17/1992|       Robert Morris|       Retired|                    |  1 Season|             76|                    |                    |     Dalton, A.J.|  null|  a.j.dalton/2550553|        |         280| 2014 - 2014|\n",
            "|  34|    Durham , NC|5/29/1983|North Carolina State|       Retired|                    | 2 Seasons|             70|                    |                    |      Davis, A.J.|  null|   a.j.davis/2507194|        |         189| 2007 - 2009|\n",
            "|  27|Birmingham , AL| 7/6/1989|  Jacksonville State|       Retired|                    | 3 Seasons|             72|                    |                    |      Davis, A.J.|  null|   a.j.davis/2534821|        |         183| 2012 - 2014|\n",
            "|  25| Iowa City , IA|9/20/1991|            Arkansas|        Active|      Denver Broncos|3rd season|             77|        Iowa City HS|                  IA|      Derby, A.J.|    83|   a.j.derby/2552580|      TE|         255|            |\n",
            "|  29|    Marion , IN|9/18/1987|                Iowa|       Retired|                    | 5 Seasons|             76|                    |                    |       Edds, A.J.|  null|     a.j.edds/496921|        |         256| 2010 - 2014|\n",
            "+----+---------------+---------+--------------------+--------------+--------------------+----------+---------------+--------------------+--------------------+-----------------+------+--------------------+--------+------------+------------+"
          ]
        }
      ],
      "source": [
        "%%spark\n",
        "\n",
        "import pandas as pd\n",
        "\n",
        "# Create SQL-accesible table\n",
        "basic_stats_sdf.createOrReplaceTempView(\"basic_stats\")\n",
        "\n",
        "# Declare SQL query to be excecuted\n",
        "query = '''SELECT * \n",
        "           FROM basic_stats ORDER BY `Player Id` LIMIT 10'''\n",
        "\n",
        "# Save the output sdf of spark.sql() as answer_sdf and convert to Pandas\n",
        "answer_basic_sdf = spark.sql(query)\n",
        "answer_basic_sdf.show()\n",
        "\n",
        "answer_basic_df = answer_basic_sdf.toPandas()\n",
        "to_submit = pd.read_json(answer_basic_df.to_json())"
      ]
    },
    {
      "cell_type": "markdown",
      "metadata": {
        "id": "MLF-swRBTuZG"
      },
      "source": [
        "We will copy the `answer_sdf` to Colab to submit to PennGrader..."
      ]
    },
    {
      "cell_type": "code",
      "execution_count": 15,
      "metadata": {
        "id": "wOyxJ6aORvs6",
        "colab": {
          "base_uri": "https://localhost:8080/",
          "height": 69,
          "referenced_widgets": [
            "1b7a88d13ee54cda9f553b40e73c9d96",
            "0c02ac1add1e426d826203e1da5082ca",
            "207426d0576a4f2199e2f021295e7cba"
          ]
        },
        "outputId": "580cd8a8-deef-4741-9cc0-da8adaaa8838"
      },
      "outputs": [
        {
          "output_type": "display_data",
          "data": {
            "text/plain": [
              "FloatProgress(value=0.0, bar_style='info', description='Progress:', layout=Layout(height='25px', width='50%'),…"
            ],
            "application/vnd.jupyter.widget-view+json": {
              "version_major": 2,
              "version_minor": 0,
              "model_id": "1b7a88d13ee54cda9f553b40e73c9d96"
            }
          },
          "metadata": {}
        },
        {
          "output_type": "stream",
          "name": "stdout",
          "text": [
            "Correct! You earned 4/4 points. You are a star!\n",
            "\n",
            "Your submission has been successfully recorded in the gradebook."
          ]
        }
      ],
      "source": [
        "%%spark\n",
        "\n",
        "## 4 points\n",
        "\n",
        "## AUTOGRADER Step 1.2:   \n",
        "\n",
        "grader.grade(test_case_id = 'first', answer = to_submit)"
      ]
    },
    {
      "cell_type": "markdown",
      "metadata": {
        "id": "-A9nzeVaG4QV"
      },
      "source": [
        "Now, you will implement the exact same thing yourself for defensive_stats_sdf."
      ]
    },
    {
      "cell_type": "code",
      "execution_count": 16,
      "metadata": {
        "colab": {
          "base_uri": "https://localhost:8080/",
          "height": 280,
          "referenced_widgets": [
            "7ebf17842cd042d5a6410a3110ac0f38",
            "d6ab0cdefbd0428aa8f56dcf12a57c7c",
            "d1ea31acaf5c4319b52ca4c288985262"
          ]
        },
        "id": "-TGpKgWrG3DC",
        "outputId": "51e2029b-d753-42e0-b54a-ecef416f35dd"
      },
      "outputs": [
        {
          "output_type": "display_data",
          "data": {
            "text/plain": [
              "FloatProgress(value=0.0, bar_style='info', description='Progress:', layout=Layout(height='25px', width='50%'),…"
            ],
            "application/vnd.jupyter.widget-view+json": {
              "version_major": 2,
              "version_minor": 0,
              "model_id": "7ebf17842cd042d5a6410a3110ac0f38"
            }
          },
          "metadata": {}
        },
        {
          "output_type": "stream",
          "name": "stdout",
          "text": [
            "+--------------------+-----------------+--------+----+--------------------+------------+-------------+------------+----------------+-----+-------+---------------+----+------------+---------+-------------+------------------+\n",
            "|           Player Id|             Name|Position|Year|                Team|Games Played|Total Tackles|Solo Tackles|Assisted Tackles|Sacks|Safties|Passes Defended|Ints|Ints for TDs|Int Yards|Yards Per Int|Longest Int Return|\n",
            "+--------------------+-----------------+--------+----+--------------------+------------+-------------+------------+----------------+-----+-------+---------------+----+------------+---------+-------------+------------------+\n",
            "|a'shawnrobinson/2...|Robinson, A'Shawn|      DT|2016|       Detroit Lions|          16|           30|          22|               8|    2|     --|              7|  --|          --|       --|            0|                --|\n",
            "|   a.j.bouye/2541162|      Bouye, A.J.|      CB|2016|      Houston Texans|          15|           63|          48|              15|    1|     --|             16|   1|           0|        0|            0|                 0|\n",
            "|   a.j.bouye/2541162|      Bouye, A.J.|      CB|2015|      Houston Texans|          15|           16|          15|               1|    0|     --|              6|   2|           0|        9|          4.5|                 9|\n",
            "|   a.j.bouye/2541162|      Bouye, A.J.|      CB|2014|      Houston Texans|          14|           59|          52|               7|    0|      0|             10|   3|           1|      120|           40|                67|\n",
            "|   a.j.bouye/2541162|      Bouye, A.J.|      CB|2013|      Houston Texans|           6|            2|           2|               0|    0|     --|              0|  --|          --|       --|            0|                --|\n",
            "|     a.j.edds/496921|       Edds, A.J.|        |2014|       New York Jets|           4|            1|           1|               0|    0|     --|              0|  --|          --|       --|            0|                --|\n",
            "|     a.j.edds/496921|       Edds, A.J.|        |2011|  Indianapolis Colts|           9|           12|           2|              10|    0|     --|              0|  --|          --|       --|            0|                --|\n",
            "|     a.j.edds/496921|       Edds, A.J.|        |2011|New England Patriots|           2|            1|           1|               0|    0|     --|              0|  --|          --|       --|            0|                --|\n",
            "|     a.j.edds/496921|       Edds, A.J.|        |2014|Jacksonville Jaguars|           2|            0|          --|              --|   --|     --|             --|  --|          --|       --|            0|                --|\n",
            "|  a.j.feeley/2504566|     Feeley, A.J.|        |2011|      St. Louis Rams|           5|            0|          --|              --|   --|     --|             --|  --|          --|       --|            0|                --|\n",
            "+--------------------+-----------------+--------+----+--------------------+------------+-------------+------------+----------------+-----+-------+---------------+----+------------+---------+-------------+------------------+"
          ]
        }
      ],
      "source": [
        "%%spark\n",
        "\n",
        "# TODO: Create SQL-accesible table\n",
        "defensive_stats_sdf.createOrReplaceTempView(\"defensive_stats\")\n",
        "\n",
        "#TODO: Declare SQL query to be excecuted\n",
        "query = '''SELECT * \n",
        "           FROM defensive_stats ORDER BY `Player Id` LIMIT 10'''\n",
        "\n",
        "\n",
        "#TODO: Save the output sdf of spark.sql() as answer_defensive_sdf and convert to Pandas\n",
        "answer_defensive_sdf = spark.sql(query)\n",
        "answer_defensive_sdf.show()\n",
        "\n",
        "answer_defensive_df = answer_defensive_sdf.toPandas()\n",
        "to_submit = pd.read_json(answer_defensive_df.to_json())\n"
      ]
    },
    {
      "cell_type": "code",
      "execution_count": 17,
      "metadata": {
        "id": "sfVITUBotr73",
        "colab": {
          "base_uri": "https://localhost:8080/",
          "height": 69,
          "referenced_widgets": [
            "8559bc65f8f44f0fbb1ea4c7eb2d70bb",
            "9ca27ee71cdb4f629204bb2b03ac9c6f",
            "9e7b2e464a2e429b9c1740887693e03f"
          ]
        },
        "outputId": "9c0a60a2-462f-40f9-f1ab-f4886983bc07"
      },
      "outputs": [
        {
          "output_type": "display_data",
          "data": {
            "text/plain": [
              "FloatProgress(value=0.0, bar_style='info', description='Progress:', layout=Layout(height='25px', width='50%'),…"
            ],
            "application/vnd.jupyter.widget-view+json": {
              "version_major": 2,
              "version_minor": 0,
              "model_id": "8559bc65f8f44f0fbb1ea4c7eb2d70bb"
            }
          },
          "metadata": {}
        },
        {
          "output_type": "stream",
          "name": "stdout",
          "text": [
            "Correct! You earned 4/4 points. You are a star!\n",
            "\n",
            "Your submission has been successfully recorded in the gradebook."
          ]
        }
      ],
      "source": [
        "%%spark\n",
        "\n",
        "## 4 points\n",
        "\n",
        "## AUTOGRADER Step 1.2:   \n",
        "\n",
        "grader.grade(test_case_id = 'second', answer = to_submit)"
      ]
    },
    {
      "cell_type": "markdown",
      "metadata": {
        "id": "705XndyQYW6f"
      },
      "source": [
        "In the next cell, create `step_1_2_sdf` to fetch the data from the above basic_stats table, returning rows with schema `(Player Id, Name)`, in **lexicographical order** of `Name`.  Limit your sdf to 10 rows. Save your final answer to Colab to submit to PennGrader, as demonstrated above."
      ]
    },
    {
      "cell_type": "code",
      "execution_count": 18,
      "metadata": {
        "id": "zOpHsWR2qQAY",
        "colab": {
          "base_uri": "https://localhost:8080/",
          "height": 260,
          "referenced_widgets": [
            "ee58d45ba7494d59bc42717a00a2afff",
            "2b5738bc7bec473884982e288066e938",
            "e770a2a864ce43f1b39d26203f74cf9f"
          ]
        },
        "outputId": "a9f3afc1-2af5-40a4-b55f-3c9a51f0b099"
      },
      "outputs": [
        {
          "output_type": "display_data",
          "data": {
            "text/plain": [
              "FloatProgress(value=0.0, bar_style='info', description='Progress:', layout=Layout(height='25px', width='50%'),…"
            ],
            "application/vnd.jupyter.widget-view+json": {
              "version_major": 2,
              "version_minor": 0,
              "model_id": "ee58d45ba7494d59bc42717a00a2afff"
            }
          },
          "metadata": {}
        },
        {
          "output_type": "stream",
          "name": "stdout",
          "text": [
            "+--------------------+-----------------+\n",
            "|           Player Id|             Name|\n",
            "+--------------------+-----------------+\n",
            "|isaakoaaitui/2531731|   Aaitui, Isaako|\n",
            "|   jonabbate/2495524|      Abbate, Jon|\n",
            "|    joeabbey/2508144|       Abbey, Joe|\n",
            "|  fayeabbott/2508147|     Abbott, Faye|\n",
            "| vinceabbott/2508148|    Abbott, Vince|\n",
            "|jaredabbrederis/2...|Abbrederis, Jared|\n",
            "|dukeabbruzzi/2508149|   Abbruzzi, Duke|\n",
            "| naderabdallah/89680|  Abdallah, Nader|\n",
            "|mehdiabdesmad/255...|  Abdesmad, Mehdi|\n",
            "|isaabdul-quddus/2...|Abdul-Quddus, Isa|\n",
            "+--------------------+-----------------+"
          ]
        }
      ],
      "source": [
        "%%spark \n",
        "\n",
        "# TODO: create step_1_2_sdf\n",
        "\n",
        "basic_stats_sdf.createOrReplaceTempView(\"step12_stats\")\n",
        "\n",
        "query = '''SELECT `Player Id`,  `Name`\n",
        "           FROM step12_stats ORDER BY `Name` ASC LIMIT 10'''\n",
        "\n",
        "step_1_2_sdf = spark.sql(query)\n",
        "step_1_2_sdf.show()\n",
        "\n",
        "step_1_2_df = step_1_2_sdf.toPandas()\n",
        "to_submit = pd.read_json(step_1_2_df.to_json())\n"
      ]
    },
    {
      "cell_type": "code",
      "execution_count": 19,
      "metadata": {
        "id": "p4hU1ihWYjL6",
        "colab": {
          "base_uri": "https://localhost:8080/",
          "height": 69,
          "referenced_widgets": [
            "aaa6f08d84ae4b9ca158bed027848efd",
            "1f8aef7ca2e14cb48ddd23498acb4e13",
            "43f0616dd8fe41eea9b2abb0c1f8a8e7"
          ]
        },
        "outputId": "e210d2ff-0572-4b88-f1e3-40de9a65f9bc"
      },
      "outputs": [
        {
          "output_type": "display_data",
          "data": {
            "text/plain": [
              "FloatProgress(value=0.0, bar_style='info', description='Progress:', layout=Layout(height='25px', width='50%'),…"
            ],
            "application/vnd.jupyter.widget-view+json": {
              "version_major": 2,
              "version_minor": 0,
              "model_id": "aaa6f08d84ae4b9ca158bed027848efd"
            }
          },
          "metadata": {}
        },
        {
          "output_type": "stream",
          "name": "stdout",
          "text": [
            "Correct! You earned 5/5 points. You are a star!\n",
            "\n",
            "Your submission has been successfully recorded in the gradebook."
          ]
        }
      ],
      "source": [
        "%%spark\n",
        "\n",
        "# 5 points\n",
        "grader.grade(test_case_id = 'lex_10_ids_last_names', answer = step_1_2_sdf.toPandas())"
      ]
    },
    {
      "cell_type": "markdown",
      "metadata": {
        "id": "-2vq-3ZfBYZD"
      },
      "source": [
        "### Step 1.3: Further Cleaning\n",
        "\n",
        "Now, we can see that our data is a little ill-formatted, so let us do some cleaning for our two dataframes. Here is what you will do:\n",
        "\n",
        "For Defensive:\n",
        "\n",
        "1. Drop all the rows that have null values in Total Tackles and Games Played.\n",
        "2. We only want to consider data post 2000 (inclusive).\n",
        "\n",
        "\n",
        "Save this in `defensive_cleaned_sdf`.\n",
        "\n",
        "Once you have done that, we want to select the basic stats only for those filtered players in `defensive_cleaned_sdf` and create a cumulated dataframe called `defensive_player_stats_sdf`."
      ]
    },
    {
      "cell_type": "code",
      "execution_count": 20,
      "metadata": {
        "id": "0G7tYJOJDp1q",
        "colab": {
          "base_uri": "https://localhost:8080/",
          "height": 471,
          "referenced_widgets": [
            "910f37d27bea4d14b5e8e7a29ad1ee93",
            "63194057c78b4031b798babff53f2df2",
            "cd3827b7da624665b783d9c2c26750c1"
          ]
        },
        "outputId": "2b8d2468-6060-4459-e8a7-6e1b2a5b80fa"
      },
      "outputs": [
        {
          "output_type": "display_data",
          "data": {
            "text/plain": [
              "FloatProgress(value=0.0, bar_style='info', description='Progress:', layout=Layout(height='25px', width='50%'),…"
            ],
            "application/vnd.jupyter.widget-view+json": {
              "version_major": 2,
              "version_minor": 0,
              "model_id": "910f37d27bea4d14b5e8e7a29ad1ee93"
            }
          },
          "metadata": {}
        },
        {
          "output_type": "stream",
          "name": "stdout",
          "text": [
            "+--------------------+--------------+--------+----+-------------------+------------+-------------+------------+----------------+-----+-------+---------------+----+------------+---------+-------------+------------------+\n",
            "|           Player Id|          Name|Position|Year|               Team|Games Played|Total Tackles|Solo Tackles|Assisted Tackles|Sacks|Safties|Passes Defended|Ints|Ints for TDs|Int Yards|Yards Per Int|Longest Int Return|\n",
            "+--------------------+--------------+--------+----+-------------------+------------+-------------+------------+----------------+-----+-------+---------------+----+------------+---------+-------------+------------------+\n",
            "|  quinnjohnson/79593|Johnson, Quinn|        |2013|   Tennessee Titans|           4|            0|          --|              --|   --|     --|             --|  --|          --|       --|            0|                --|\n",
            "|  quinnjohnson/79593|Johnson, Quinn|        |2012|   Tennessee Titans|          16|            1|           1|               0|    0|     --|              0|  --|          --|       --|            0|                --|\n",
            "|  quinnjohnson/79593|Johnson, Quinn|        |2011|   Tennessee Titans|           4|            0|          --|              --|   --|     --|             --|  --|          --|       --|            0|                --|\n",
            "|  quinnjohnson/79593|Johnson, Quinn|        |2011|     Denver Broncos|           0|            0|          --|              --|   --|     --|             --|  --|          --|       --|            0|                --|\n",
            "|  quinnjohnson/79593|Johnson, Quinn|        |2010|  Green Bay Packers|          11|            4|           4|               0|    0|     --|              0|  --|          --|       --|            0|                --|\n",
            "|  quinnjohnson/79593|Johnson, Quinn|        |2009|  Green Bay Packers|           9|            0|          --|              --|   --|     --|             --|  --|          --|       --|            0|                --|\n",
            "|  l.t.walton/2552444|  Walton, L.T.|      DE|2016|Pittsburgh Steelers|          10|            8|           6|               2|    0|     --|              1|  --|          --|       --|            0|                --|\n",
            "|  l.t.walton/2552444|  Walton, L.T.|      DE|2015|Pittsburgh Steelers|           6|            0|          --|              --|   --|     --|             --|  --|          --|       --|            0|                --|\n",
            "|montaereagor/2502600|Reagor, Montae|        |2007|Philadelphia Eagles|           7|            2|           2|               0|    1|     --|              0|  --|          --|       --|            0|                --|\n",
            "|montaereagor/2502600|Reagor, Montae|        |2006| Indianapolis Colts|           5|           10|           8|               2|    1|     --|              1|  --|          --|       --|            0|                --|\n",
            "|montaereagor/2502600|Reagor, Montae|        |2005| Indianapolis Colts|          13|           36|          27|               9|  5.5|      0|              0|  --|          --|       --|            0|                --|\n",
            "|montaereagor/2502600|Reagor, Montae|        |2004| Indianapolis Colts|          16|           41|          34|               7|    5|     --|              2|  --|          --|       --|            0|                --|\n",
            "|montaereagor/2502600|Reagor, Montae|        |2003| Indianapolis Colts|          13|           25|          17|               8|  0.5|     --|              1|  --|          --|       --|            0|                --|\n",
            "|montaereagor/2502600|Reagor, Montae|        |2002|     Denver Broncos|          15|           19|          11|               8|    1|     --|              0|   1|           0|       31|           31|                31|\n",
            "|montaereagor/2502600|Reagor, Montae|        |2001|     Denver Broncos|           8|            9|           7|               2|    1|     --|              1|  --|          --|       --|            0|                --|\n",
            "|   joetafoya/2504656|   Tafoya, Joe|        |2007|  Arizona Cardinals|          13|           20|          18|               2|    2|     --|              1|  --|          --|       --|            0|                --|\n",
            "|   joetafoya/2504656|   Tafoya, Joe|        |2006|   Seattle Seahawks|          13|           12|           8|               4|    0|     --|              1|  --|          --|       --|            0|                --|\n",
            "|   joetafoya/2504656|   Tafoya, Joe|        |2005|   Seattle Seahawks|          15|           29|          19|              10|    1|     --|              1|  --|          --|       --|            0|                --|\n",
            "|   joetafoya/2504656|   Tafoya, Joe|        |2003|      Chicago Bears|          16|           17|          13|               4|    0|     --|              0|  --|          --|       --|            0|                --|\n",
            "|   joetafoya/2504656|   Tafoya, Joe|        |2002|      Chicago Bears|          14|           14|          10|               4|  0.5|     --|              0|  --|          --|       --|            0|                --|\n",
            "+--------------------+--------------+--------+----+-------------------+------------+-------------+------------+----------------+-----+-------+---------------+----+------------+---------+-------------+------------------+\n",
            "only showing top 20 rows"
          ]
        }
      ],
      "source": [
        "%%spark\n",
        "\n",
        "#TODO: Create defensive_cleaned_sdf\n",
        "\n",
        "defensive_stats_sdf.createOrReplaceTempView(\"defensive_cleaned_stats\")\n",
        "\n",
        "query = '''SELECT *\n",
        "           FROM defensive_cleaned_stats \n",
        "           WHERE `Total Tackles` IS NOT NULL AND `Games Played` IS NOT NULL\n",
        "           AND `Year`>=2000\n",
        "           '''\n",
        "\n",
        "defensive_cleaned_sdf = spark.sql(query)\n",
        "defensive_cleaned_sdf.show()\n",
        "\n",
        "defensive_cleaned_df = defensive_cleaned_sdf.toPandas()\n",
        "to_submit = pd.read_json(defensive_cleaned_df.to_json())\n"
      ]
    },
    {
      "cell_type": "code",
      "execution_count": 21,
      "metadata": {
        "colab": {
          "base_uri": "https://localhost:8080/",
          "height": 69,
          "referenced_widgets": [
            "a80c4cd997114ad6a96759dad4babf07",
            "c5c738e129b544209fa2116ed434bfb6",
            "1cef1dc4ca9f4f57b32224a3e555c0ab"
          ]
        },
        "id": "nqflA81xVKoo",
        "outputId": "cbf3723a-847a-4aa8-c733-d1a9f0df7b4e"
      },
      "outputs": [
        {
          "output_type": "display_data",
          "data": {
            "text/plain": [
              "FloatProgress(value=0.0, bar_style='info', description='Progress:', layout=Layout(height='25px', width='50%'),…"
            ],
            "application/vnd.jupyter.widget-view+json": {
              "version_major": 2,
              "version_minor": 0,
              "model_id": "a80c4cd997114ad6a96759dad4babf07"
            }
          },
          "metadata": {}
        },
        {
          "output_type": "stream",
          "name": "stdout",
          "text": [
            "Correct! You earned 4/4 points. You are a star!\n",
            "\n",
            "Your submission has been successfully recorded in the gradebook."
          ]
        }
      ],
      "source": [
        "%%spark\n",
        "\n",
        "# 4 points\n",
        "grader.grade(test_case_id = 'defensive_cleaned', answer = defensive_cleaned_sdf.toPandas())"
      ]
    },
    {
      "cell_type": "code",
      "execution_count": 22,
      "metadata": {
        "colab": {
          "base_uri": "https://localhost:8080/",
          "height": 471,
          "referenced_widgets": [
            "f3bf6b3f451f404a9b66749cbb39d154",
            "a00343f52bd94b97a7c35ebbc5c41ba9",
            "44302e5318bf484c9496ba2366685e90"
          ]
        },
        "id": "Ot-WaWfYNO7t",
        "outputId": "db070129-1fd5-4250-e097-801930108066"
      },
      "outputs": [
        {
          "output_type": "display_data",
          "data": {
            "text/plain": [
              "FloatProgress(value=0.0, bar_style='info', description='Progress:', layout=Layout(height='25px', width='50%'),…"
            ],
            "application/vnd.jupyter.widget-view+json": {
              "version_major": 2,
              "version_minor": 0,
              "model_id": "f3bf6b3f451f404a9b66749cbb39d154"
            }
          },
          "metadata": {}
        },
        {
          "output_type": "stream",
          "name": "stdout",
          "text": [
            "+---+--------------------+---------+----------------+--------------+-------------------+----------+---------------+--------------+--------------------+--------------+------+--------------------+--------+------------+------------+--------------+---------+----+-------------------+------------+-------------+------------+----------------+-----+-------+---------------+----+------------+---------+-------------+------------------+\n",
            "|Age|         Birth Place| Birthday|         College|Current Status|       Current team|Experience|Height (inches)|   High School|High School Location|          Name|Number|           Player Id|Position|Weight (lbs)|Years Played|         Name2|Position2|Year|               Team|Games Played|Total Tackles|Solo Tackles|Assisted Tackles|Sacks|Safties|Passes Defended|Ints|Ints for TDs|Int Yards|Yards Per Int|Longest Int Return|\n",
            "+---+--------------------+---------+----------------+--------------+-------------------+----------+---------------+--------------+--------------------+--------------+------+--------------------+--------+------------+------------+--------------+---------+----+-------------------+------------+-------------+------------+----------------+-----+-------+---------------+----+------------+---------+-------------+------------------+\n",
            "| 30|    New Orleans , LA|9/30/1986|             LSU|       Retired|                   | 5 Seasons|             73|              |                    |Johnson, Quinn|  null|  quinnjohnson/79593|        |         255| 2009 - 2013|Johnson, Quinn|         |2013|   Tennessee Titans|           4|            0|          --|              --|   --|     --|             --|  --|          --|       --|            0|                --|\n",
            "| 30|    New Orleans , LA|9/30/1986|             LSU|       Retired|                   | 5 Seasons|             73|              |                    |Johnson, Quinn|  null|  quinnjohnson/79593|        |         255| 2009 - 2013|Johnson, Quinn|         |2012|   Tennessee Titans|          16|            1|           1|               0|    0|     --|              0|  --|          --|       --|            0|                --|\n",
            "| 30|    New Orleans , LA|9/30/1986|             LSU|       Retired|                   | 5 Seasons|             73|              |                    |Johnson, Quinn|  null|  quinnjohnson/79593|        |         255| 2009 - 2013|Johnson, Quinn|         |2011|   Tennessee Titans|           4|            0|          --|              --|   --|     --|             --|  --|          --|       --|            0|                --|\n",
            "| 30|    New Orleans , LA|9/30/1986|             LSU|       Retired|                   | 5 Seasons|             73|              |                    |Johnson, Quinn|  null|  quinnjohnson/79593|        |         255| 2009 - 2013|Johnson, Quinn|         |2011|     Denver Broncos|           0|            0|          --|              --|   --|     --|             --|  --|          --|       --|            0|                --|\n",
            "| 30|    New Orleans , LA|9/30/1986|             LSU|       Retired|                   | 5 Seasons|             73|              |                    |Johnson, Quinn|  null|  quinnjohnson/79593|        |         255| 2009 - 2013|Johnson, Quinn|         |2010|  Green Bay Packers|          11|            4|           4|               0|    0|     --|              0|  --|          --|       --|            0|                --|\n",
            "| 30|    New Orleans , LA|9/30/1986|             LSU|       Retired|                   | 5 Seasons|             73|              |                    |Johnson, Quinn|  null|  quinnjohnson/79593|        |         255| 2009 - 2013|Johnson, Quinn|         |2009|  Green Bay Packers|           9|            0|          --|              --|   --|     --|             --|  --|          --|       --|            0|                --|\n",
            "| 25|        Detroit , MI|3/31/1992|Central Michigan|        Active|Pittsburgh Steelers|3rd season|             77|Clintondale HS|Clinton Twp.,Maco...|  Walton, L.T.|    96|  l.t.walton/2552444|      DE|         305|            |  Walton, L.T.|       DE|2016|Pittsburgh Steelers|          10|            8|           6|               2|    0|     --|              1|  --|          --|       --|            0|                --|\n",
            "| 25|        Detroit , MI|3/31/1992|Central Michigan|        Active|Pittsburgh Steelers|3rd season|             77|Clintondale HS|Clinton Twp.,Maco...|  Walton, L.T.|    96|  l.t.walton/2552444|      DE|         305|            |  Walton, L.T.|       DE|2015|Pittsburgh Steelers|           6|            0|          --|              --|   --|     --|             --|  --|          --|       --|            0|                --|\n",
            "| 39|     Waxahachie , TX|6/29/1977|      Texas Tech|       Retired|                   |10 Seasons|             75|              |                    |Reagor, Montae|  null|montaereagor/2502600|        |         285| 1999 - 2008|Reagor, Montae|         |2007|Philadelphia Eagles|           7|            2|           2|               0|    1|     --|              0|  --|          --|       --|            0|                --|\n",
            "| 39|     Waxahachie , TX|6/29/1977|      Texas Tech|       Retired|                   |10 Seasons|             75|              |                    |Reagor, Montae|  null|montaereagor/2502600|        |         285| 1999 - 2008|Reagor, Montae|         |2006| Indianapolis Colts|           5|           10|           8|               2|    1|     --|              1|  --|          --|       --|            0|                --|\n",
            "| 39|     Waxahachie , TX|6/29/1977|      Texas Tech|       Retired|                   |10 Seasons|             75|              |                    |Reagor, Montae|  null|montaereagor/2502600|        |         285| 1999 - 2008|Reagor, Montae|         |2005| Indianapolis Colts|          13|           36|          27|               9|  5.5|      0|              0|  --|          --|       --|            0|                --|\n",
            "| 39|     Waxahachie , TX|6/29/1977|      Texas Tech|       Retired|                   |10 Seasons|             75|              |                    |Reagor, Montae|  null|montaereagor/2502600|        |         285| 1999 - 2008|Reagor, Montae|         |2004| Indianapolis Colts|          16|           41|          34|               7|    5|     --|              2|  --|          --|       --|            0|                --|\n",
            "| 39|     Waxahachie , TX|6/29/1977|      Texas Tech|       Retired|                   |10 Seasons|             75|              |                    |Reagor, Montae|  null|montaereagor/2502600|        |         285| 1999 - 2008|Reagor, Montae|         |2003| Indianapolis Colts|          13|           25|          17|               8|  0.5|     --|              1|  --|          --|       --|            0|                --|\n",
            "| 39|     Waxahachie , TX|6/29/1977|      Texas Tech|       Retired|                   |10 Seasons|             75|              |                    |Reagor, Montae|  null|montaereagor/2502600|        |         285| 1999 - 2008|Reagor, Montae|         |2002|     Denver Broncos|          15|           19|          11|               8|    1|     --|              0|   1|           0|       31|           31|                31|\n",
            "| 39|     Waxahachie , TX|6/29/1977|      Texas Tech|       Retired|                   |10 Seasons|             75|              |                    |Reagor, Montae|  null|montaereagor/2502600|        |         285| 1999 - 2008|Reagor, Montae|         |2001|     Denver Broncos|           8|            9|           7|               2|    1|     --|              1|  --|          --|       --|            0|                --|\n",
            "| 38|San Luis Obispo C...| 9/6/1978|         Arizona|       Retired|                   | 7 Seasons|             76|              |                    |   Tafoya, Joe|  null|   joetafoya/2504656|        |         258| 2001 - 2008|   Tafoya, Joe|         |2007|  Arizona Cardinals|          13|           20|          18|               2|    2|     --|              1|  --|          --|       --|            0|                --|\n",
            "| 38|San Luis Obispo C...| 9/6/1978|         Arizona|       Retired|                   | 7 Seasons|             76|              |                    |   Tafoya, Joe|  null|   joetafoya/2504656|        |         258| 2001 - 2008|   Tafoya, Joe|         |2006|   Seattle Seahawks|          13|           12|           8|               4|    0|     --|              1|  --|          --|       --|            0|                --|\n",
            "| 38|San Luis Obispo C...| 9/6/1978|         Arizona|       Retired|                   | 7 Seasons|             76|              |                    |   Tafoya, Joe|  null|   joetafoya/2504656|        |         258| 2001 - 2008|   Tafoya, Joe|         |2005|   Seattle Seahawks|          15|           29|          19|              10|    1|     --|              1|  --|          --|       --|            0|                --|\n",
            "| 38|San Luis Obispo C...| 9/6/1978|         Arizona|       Retired|                   | 7 Seasons|             76|              |                    |   Tafoya, Joe|  null|   joetafoya/2504656|        |         258| 2001 - 2008|   Tafoya, Joe|         |2003|      Chicago Bears|          16|           17|          13|               4|    0|     --|              0|  --|          --|       --|            0|                --|\n",
            "| 38|San Luis Obispo C...| 9/6/1978|         Arizona|       Retired|                   | 7 Seasons|             76|              |                    |   Tafoya, Joe|  null|   joetafoya/2504656|        |         258| 2001 - 2008|   Tafoya, Joe|         |2002|      Chicago Bears|          14|           14|          10|               4|  0.5|     --|              0|  --|          --|       --|            0|                --|\n",
            "+---+--------------------+---------+----------------+--------------+-------------------+----------+---------------+--------------+--------------------+--------------+------+--------------------+--------+------------+------------+--------------+---------+----+-------------------+------------+-------------+------------+----------------+-----+-------+---------------+----+------------+---------+-------------+------------------+\n",
            "only showing top 20 rows"
          ]
        }
      ],
      "source": [
        "%%spark\n",
        "#TODO: Create defensive_player_stats_sdf\n",
        "\n",
        "defensive_cleaned_sdf.createOrReplaceTempView(\"defensive_cleaned_stats\")\n",
        "basic_stats_sdf.createOrReplaceTempView(\"basic_stats\")\n",
        "query = ''' \n",
        "            SELECT \n",
        "             basic_stats.`Age`,  basic_stats.`Birth Place`,  basic_stats.`Birthday`,  basic_stats.`College`, \n",
        "             basic_stats.`Current Status`, basic_stats.`Current team`,\n",
        "             basic_stats.`Experience`, basic_stats.`Height (inches)`, basic_stats.`High School`, \n",
        "              basic_stats.`High School Location`,  basic_stats.`Name`,\n",
        "             basic_stats.`Number`,  basic_stats.`Player Id` ,  basic_stats. `Position`,  \n",
        "              basic_stats.`Weight (lbs)`,   basic_stats.`Years Played`, \n",
        "            defensive_cleaned_stats.`Name` AS `Name2`, defensive_cleaned_stats.`Position` AS `Position2`, defensive_cleaned_stats.`Year`, defensive_cleaned_stats.`Team`, defensive_cleaned_stats.`Games Played`, defensive_cleaned_stats.`Total Tackles`, \n",
        "            defensive_cleaned_stats.`Solo Tackles`, defensive_cleaned_stats.`Assisted Tackles`, defensive_cleaned_stats.`Sacks`, \n",
        "            defensive_cleaned_stats.`Safties`, defensive_cleaned_stats.`Passes Defended`, defensive_cleaned_stats.`Ints`, \n",
        "            defensive_cleaned_stats.`Ints for TDs`, defensive_cleaned_stats.`Int Yards`, defensive_cleaned_stats.`Yards Per Int`, \n",
        "            defensive_cleaned_stats.`Longest Int Return`\n",
        "            FROM basic_stats\n",
        "            JOIN\n",
        "            defensive_cleaned_stats\n",
        "            USING (`Player Id`)\n",
        "           '''\n",
        "\n",
        "defensive_player_stats_sdf = spark.sql(query)\n",
        "defensive_player_stats_sdf.show()\n",
        "\n",
        "defensive_player_stats_df = defensive_player_stats_sdf.toPandas()\n",
        "to_submit = pd.read_json(defensive_player_stats_df.to_json())\n"
      ]
    },
    {
      "cell_type": "code",
      "execution_count": 23,
      "metadata": {
        "colab": {
          "base_uri": "https://localhost:8080/",
          "height": 69,
          "referenced_widgets": [
            "90dcb32eaa014ece8a0d3d2c43d2b53a",
            "b74e91dc97e746239ccbcb3f58187f7d",
            "64a4a121512b44c1a3ec70d00f96ce65"
          ]
        },
        "id": "1HO4WgzDXhql",
        "outputId": "dfe6f401-a63c-4aaa-8a8f-ec889558b705"
      },
      "outputs": [
        {
          "output_type": "display_data",
          "data": {
            "text/plain": [
              "FloatProgress(value=0.0, bar_style='info', description='Progress:', layout=Layout(height='25px', width='50%'),…"
            ],
            "application/vnd.jupyter.widget-view+json": {
              "version_major": 2,
              "version_minor": 0,
              "model_id": "90dcb32eaa014ece8a0d3d2c43d2b53a"
            }
          },
          "metadata": {}
        },
        {
          "output_type": "stream",
          "name": "stdout",
          "text": [
            "Correct! You earned 4/4 points. You are a star!\n",
            "\n",
            "Your submission has been successfully recorded in the gradebook."
          ]
        }
      ],
      "source": [
        "%%spark\n",
        "\n",
        "# 4 points\n",
        "grader.grade(test_case_id = 'defensive_player_stats', answer = defensive_player_stats_sdf.toPandas())"
      ]
    },
    {
      "cell_type": "markdown",
      "metadata": {
        "id": "CsLea-1Tyu0v"
      },
      "source": [
        "## Step 2: Analysis!"
      ]
    },
    {
      "cell_type": "markdown",
      "metadata": {
        "id": "svOO4iLPist4"
      },
      "source": [
        "### Step 2.1: The Robust Ratio\n",
        "\n",
        "Now, we are interested in seeing the player with the highest total tackles / games played ratio from each team for each year and their corresponding experience. This involves derieving data from both the dataframes we created just now.\n",
        "\n",
        "Your task is to first find the player with the highest ratio for each team per year from the defensive_player_stats_df, and then join that with the basic_stats_df to find the experience of that player.\n",
        "\n",
        "Create an sdf called `best_tackles_sdf` that contains the above information. Then, make sure to only retain data pertaining to Name, player Id, Year, tackle_ratio, and experience. \n",
        "\n",
        "Remember we will sort the dataframe when grading so you can sort the elements however you wish (you don't need to if you don't want to). \n"
      ]
    },
    {
      "cell_type": "code",
      "execution_count": 129,
      "metadata": {
        "colab": {
          "base_uri": "https://localhost:8080/",
          "height": 451,
          "referenced_widgets": [
            "e616869b1fc4431fb19cb41721ce9324",
            "2e185c862b874874a9a5de703ce47603",
            "498b415c9f9e4afdb885980027538b82"
          ]
        },
        "id": "Kt16tyP0klQX",
        "outputId": "52963d23-6f49-453c-a9c9-92fc5600d99f"
      },
      "outputs": [
        {
          "output_type": "display_data",
          "data": {
            "text/plain": [
              "FloatProgress(value=0.0, bar_style='info', description='Progress:', layout=Layout(height='25px', width='50%'),…"
            ],
            "application/vnd.jupyter.widget-view+json": {
              "version_major": 2,
              "version_minor": 0,
              "model_id": "e616869b1fc4431fb19cb41721ce9324"
            }
          },
          "metadata": {}
        },
        {
          "output_type": "stream",
          "name": "stdout",
          "text": [
            "+--------------------+--------------------+----+-----------+-----------------+\n",
            "|                Team|                  ID|Year| Experience|            Ratio|\n",
            "+--------------------+--------------------+----+-----------+-----------------+\n",
            "|   Carolina Panthers|  kurtcoleman/494261|2016| 8th season|6.333333333333333|\n",
            "| Philadelphia Eagles|  kurtcoleman/494261|2012| 8th season|6.642857142857143|\n",
            "|     Atlanta Falcons|jasonwebster/2504264|2006|  9 Seasons|            6.125|\n",
            "|     Atlanta Falcons|jasonwebster/2504264|2005|  9 Seasons|5.266666666666667|\n",
            "| Washington Redskins|   perryriley/496949|2013| 8th season|           7.1875|\n",
            "| Washington Redskins|   perryriley/496949|2013| 8th season|           7.1875|\n",
            "|New England Patriots|  patrickchung/71251|2011| 9th season|             7.75|\n",
            "|    Cleveland Browns|  andradavis/2505126|2006| 10 Seasons|7.428571428571429|\n",
            "|    Cleveland Browns|  andradavis/2505126|2005| 10 Seasons|           9.3125|\n",
            "|    Cleveland Browns|  andradavis/2505126|2004| 10 Seasons|6.454545454545454|\n",
            "|    Cleveland Browns|  andradavis/2505126|2003| 10 Seasons|              8.5|\n",
            "|  Kansas City Chiefs|   coreymays/2506770|2009|  5 Seasons|           5.3125|\n",
            "|      Houston Texans|   glennearl/2506058|2006|  5 Seasons|4.933333333333334|\n",
            "|       Detroit Lions|     ronrice/2502643|2001|  7 Seasons|              5.0|\n",
            "|       Detroit Lions|     ronrice/2502643|2001|  7 Seasons|              5.0|\n",
            "|    Baltimore Ravens|  darylsmith/2506029|2015|14th season|           7.5625|\n",
            "|    Baltimore Ravens|  darylsmith/2506029|2013|14th season|           7.6875|\n",
            "|Jacksonville Jaguars|  darylsmith/2506029|2011|14th season|           6.6875|\n",
            "|Jacksonville Jaguars|  darylsmith/2506029|2011|14th season|           6.6875|\n",
            "|Jacksonville Jaguars|  darylsmith/2506029|2010|14th season|           6.0625|\n",
            "+--------------------+--------------------+----+-----------+-----------------+\n",
            "only showing top 20 rows"
          ]
        }
      ],
      "source": [
        "%%spark\n",
        "\n",
        "defensive_player_stats_sdf.createOrReplaceTempView(\"defensive_player_stats\")\n",
        "basic_stats_sdf.createOrReplaceTempView(\"basic_stats\")\n",
        "        \n",
        "query = '''\n",
        "        WITH query1 AS \n",
        "        (SELECT Team, Year, Max(`Total Tackles`/ `Games Played`) AS max_tackle_ratio\n",
        "        FROM defensive_stats\n",
        "        GROUP BY Team, Year) \n",
        "\n",
        "        , query2 AS (SELECT Team, Year, Name, `Player Id`, Year, `Total Tackles`/`Games Played` AS tackle_ratio\n",
        "        FROM defensive_stats)\n",
        "\n",
        "        SELECT query2.Team, `Player Id` AS ID, query2.Year, Experience, tackle_ratio AS Ratio \n",
        "        FROM query2\n",
        "        INNER JOIN query1 ON query2.tackle_ratio= query1.max_tackle_ratio AND query2.Year = query1.Year\n",
        "        LEFT JOIN basic_stats USING(`Player Id`)\n",
        "        '''\n",
        "\n",
        "best_tackles_sdf = spark.sql(query)\n",
        "best_tackles_sdf.show()\n",
        "\n",
        "best_tackles_df = best_tackles_sdf.toPandas()\n",
        "to_submit = pd.read_json(best_tackles_df.to_json())\n"
      ]
    },
    {
      "cell_type": "code",
      "execution_count": 130,
      "metadata": {
        "colab": {
          "base_uri": "https://localhost:8080/",
          "height": 173,
          "referenced_widgets": [
            "f1027aa114d844959cdf7159100208c8",
            "f8b3e5113c7b4a58b1d58df1d8bbb07e",
            "c9d035870bb04a1981aff05dba3124af"
          ]
        },
        "id": "-a3xLDEYCcwl",
        "outputId": "8c8e2d16-a601-42fd-9388-a5400563d216"
      },
      "outputs": [
        {
          "output_type": "display_data",
          "data": {
            "text/plain": [
              "FloatProgress(value=0.0, bar_style='info', description='Progress:', layout=Layout(height='25px', width='50%'),…"
            ],
            "application/vnd.jupyter.widget-view+json": {
              "version_major": 2,
              "version_minor": 0,
              "model_id": "f1027aa114d844959cdf7159100208c8"
            }
          },
          "metadata": {}
        },
        {
          "output_type": "stream",
          "name": "stdout",
          "text": [
            "+-------------------+--------------------+----+----------+-----------------+\n",
            "|               Team|                  ID|Year|Experience|            Ratio|\n",
            "+-------------------+--------------------+----+----------+-----------------+\n",
            "|  Carolina Panthers|  kurtcoleman/494261|2016|8th season|6.333333333333333|\n",
            "|Philadelphia Eagles|  kurtcoleman/494261|2012|8th season|6.642857142857143|\n",
            "|    Atlanta Falcons|jasonwebster/2504264|2006| 9 Seasons|            6.125|\n",
            "|    Atlanta Falcons|jasonwebster/2504264|2005| 9 Seasons|5.266666666666667|\n",
            "+-------------------+--------------------+----+----------+-----------------+\n",
            "only showing top 4 rows"
          ]
        }
      ],
      "source": [
        "%%spark\n",
        "# Print out the first few rows to see if the dataframe looks reasonable\n",
        "best_tackles_sdf.show(4)"
      ]
    },
    {
      "cell_type": "code",
      "execution_count": 131,
      "metadata": {
        "colab": {
          "base_uri": "https://localhost:8080/",
          "height": 69,
          "referenced_widgets": [
            "6a7257eec8214ca5a3bb623d225ff55a",
            "468fd7fa6b9c442580fc0549fb811414",
            "407aceb5ce0e44ab90e4873977257883"
          ]
        },
        "id": "LTukZvW9Pj04",
        "outputId": "ef12c309-460f-49a0-fa45-805c37bda9af"
      },
      "outputs": [
        {
          "output_type": "display_data",
          "data": {
            "text/plain": [
              "FloatProgress(value=0.0, bar_style='info', description='Progress:', layout=Layout(height='25px', width='50%'),…"
            ],
            "application/vnd.jupyter.widget-view+json": {
              "version_major": 2,
              "version_minor": 0,
              "model_id": "6a7257eec8214ca5a3bb623d225ff55a"
            }
          },
          "metadata": {}
        },
        {
          "output_type": "stream",
          "name": "stdout",
          "text": [
            "Correct! You earned 10/10 points. You are a star!\n",
            "\n",
            "Your submission has been successfully recorded in the gradebook."
          ]
        }
      ],
      "source": [
        "%%spark\n",
        "\n",
        "# 10 points\n",
        "grader.grade(test_case_id = 'tackle_ratio', answer = best_tackles_sdf.toPandas())"
      ]
    },
    {
      "cell_type": "markdown",
      "metadata": {
        "id": "MCcU96OwwqT1"
      },
      "source": [
        "\n",
        "### Step 2.2: The Tremendous Tackles\n",
        "\n",
        "Your task is to answer the following questions: \n",
        "\n",
        "1. Which team has the player which the best ratio? Save their ID to the variable `highest_tackle_ratio_person`.\n",
        "2. Which team has the total highest ratio? Save this to the variable `highest_tackle_ratio_team`\n",
        "3. For each player who has played for more than a year, what is the percentage change in their ratio from the first year they played to the last year they played? Save this df in `percentage_change_sdf`, and make sure to order by ID. This DF should just contain two columns- percentage change and ID, as shown below.\n",
        "\n",
        "```\n",
        "+-------------------+--------------------+\n",
        "|  Percentage Change|                  ID|\n",
        "+-------------------+--------------------+\n",
        "|                   |                    |\n",
        "+-------------------+--------------------+\n",
        "```"
      ]
    },
    {
      "cell_type": "code",
      "execution_count": 132,
      "metadata": {
        "colab": {
          "base_uri": "https://localhost:8080/",
          "height": 34,
          "referenced_widgets": [
            "6d59e801c4e841fa99c075d79dab1fcf",
            "df04e4dc1eb6466cba3c0f6d22a160c2",
            "200814eb13e941f6acd1a2d016957d39"
          ]
        },
        "id": "vLTmvD9WNQH3",
        "outputId": "5d2584db-671d-4a92-f81f-e6e6ed0ab8bc"
      },
      "outputs": [
        {
          "output_type": "display_data",
          "data": {
            "text/plain": [
              "FloatProgress(value=0.0, bar_style='info', description='Progress:', layout=Layout(height='25px', width='50%'),…"
            ],
            "application/vnd.jupyter.widget-view+json": {
              "version_major": 2,
              "version_minor": 0,
              "model_id": "6d59e801c4e841fa99c075d79dab1fcf"
            }
          },
          "metadata": {}
        },
        {
          "output_type": "stream",
          "name": "stdout",
          "text": [
            "'raylewis/2501750'"
          ]
        }
      ],
      "source": [
        "%%spark\n",
        "\n",
        "#TODO: highest_tackle_ratio_person\n",
        "highest_tackle_ratio = best_tackles_df.agg({'Ratio':'max'})\n",
        "# highest_tackle_ratio\n",
        "\n",
        "best_tackles_sdf.createOrReplaceTempView(\"best_tackles\")\n",
        "        \n",
        "query = '''SELECT `Team`, `ID`\n",
        "            FROM best_tackles\n",
        "            WHERE `Ratio` = 11.4 \n",
        "\n",
        "           '''\n",
        "\n",
        "best_tackles2_sdf = spark.sql(query)\n",
        "highest_tackle_ratio_team = best_tackles2_sdf.first()[\"Team\"]\n",
        "highest_tackle_ratio_team\n",
        "highest_tackle_ratio_person = best_tackles2_sdf.first()[\"ID\"]\n",
        "highest_tackle_ratio_person\n"
      ]
    },
    {
      "cell_type": "code",
      "execution_count": 133,
      "metadata": {
        "colab": {
          "base_uri": "https://localhost:8080/",
          "height": 69,
          "referenced_widgets": [
            "afa0324f5e6d4a03ad859e561b209ea1",
            "0f9c19fa77e148baaa135ff377e781da",
            "5b4f60c1e7a9489292f6d664c6a88a8c"
          ]
        },
        "id": "a6Ot6rFKUrH3",
        "outputId": "35263d64-8eef-4275-f287-c57381c4a480"
      },
      "outputs": [
        {
          "output_type": "display_data",
          "data": {
            "text/plain": [
              "FloatProgress(value=0.0, bar_style='info', description='Progress:', layout=Layout(height='25px', width='50%'),…"
            ],
            "application/vnd.jupyter.widget-view+json": {
              "version_major": 2,
              "version_minor": 0,
              "model_id": "afa0324f5e6d4a03ad859e561b209ea1"
            }
          },
          "metadata": {}
        },
        {
          "output_type": "stream",
          "name": "stdout",
          "text": [
            "Correct! You earned 2/2 points. You are a star!\n",
            "\n",
            "Your submission has been successfully recorded in the gradebook."
          ]
        }
      ],
      "source": [
        "%%spark\n",
        "\n",
        "# 2 points\n",
        "grader.grade(test_case_id = 'best_player', answer = highest_tackle_ratio_person)"
      ]
    },
    {
      "cell_type": "code",
      "execution_count": 134,
      "metadata": {
        "colab": {
          "base_uri": "https://localhost:8080/",
          "height": 69,
          "referenced_widgets": [
            "48fe8ff2a0ad4994b67c56109b989246",
            "08e9601d3f504236a53bbbade7fb7621",
            "c26f51ab283542cc97fd7ad86a399412"
          ]
        },
        "id": "YZa4prSwQUJQ",
        "outputId": "1efe4edf-333f-46f1-80cc-9c01fb4cfec6"
      },
      "outputs": [
        {
          "output_type": "display_data",
          "data": {
            "text/plain": [
              "FloatProgress(value=0.0, bar_style='info', description='Progress:', layout=Layout(height='25px', width='50%'),…"
            ],
            "application/vnd.jupyter.widget-view+json": {
              "version_major": 2,
              "version_minor": 0,
              "model_id": "48fe8ff2a0ad4994b67c56109b989246"
            }
          },
          "metadata": {}
        },
        {
          "output_type": "stream",
          "name": "stdout",
          "text": [
            "Correct! You earned 2/2 points. You are a star!\n",
            "\n",
            "Your submission has been successfully recorded in the gradebook."
          ]
        }
      ],
      "source": [
        "%%spark\n",
        "\n",
        "# 2 points\n",
        "grader.grade(test_case_id = 'best_team', answer = highest_tackle_ratio_team)"
      ]
    },
    {
      "cell_type": "code",
      "execution_count": 135,
      "metadata": {
        "id": "NyVBZzE9Zg-G",
        "colab": {
          "base_uri": "https://localhost:8080/",
          "height": 451,
          "referenced_widgets": [
            "a703b8b19a2c489585cdbd26676106d2",
            "1e60c62c527841708556ab3bee26d7f4",
            "950b505b1849453a97760c0b3175eb23"
          ]
        },
        "outputId": "1b7db0ea-223a-4e16-d677-8f5013c8ee77"
      },
      "outputs": [
        {
          "output_type": "display_data",
          "data": {
            "text/plain": [
              "FloatProgress(value=0.0, bar_style='info', description='Progress:', layout=Layout(height='25px', width='50%'),…"
            ],
            "application/vnd.jupyter.widget-view+json": {
              "version_major": 2,
              "version_minor": 0,
              "model_id": "a703b8b19a2c489585cdbd26676106d2"
            }
          },
          "metadata": {}
        },
        {
          "output_type": "stream",
          "name": "stdout",
          "text": [
            "+------------------+--------------------+\n",
            "| Percentage Change|                  ID|\n",
            "+------------------+--------------------+\n",
            "|               0.0|a'shawnrobinson/2...|\n",
            "|1160.0000000000002|   a.j.bouye/2541162|\n",
            "|            -81.25|     a.j.edds/496921|\n",
            "|            -100.0|     a.j.edds/496921|\n",
            "|             -50.0|     a.j.edds/496921|\n",
            "|            -100.0|     a.j.edds/496921|\n",
            "|              null|  a.j.feeley/2504566|\n",
            "|              null| a.j.francis/2541707|\n",
            "|            -100.0|   a.j.green/2495450|\n",
            "|               0.0|a.j.jefferson/494275|\n",
            "|57.460317460317476|   a.j.klein/2539982|\n",
            "|               0.0| a.j.schable/2506734|\n",
            "|               0.0| a.j.tarpley/2553605|\n",
            "|-51.64835164835166|aaronbeasley/2499587|\n",
            "|               0.0|aaronburbridge/25...|\n",
            "|-51.11111111111111| aaroncolvin/2543501|\n",
            "|              null| aarondobson/2539256|\n",
            "|-2.083333333333333| aarondonald/2543485|\n",
            "|-55.55555555555556| aaronelling/2504975|\n",
            "| 672.6190476190476|aaronfrancisco/25...|\n",
            "+------------------+--------------------+\n",
            "only showing top 20 rows"
          ]
        }
      ],
      "source": [
        "%%spark\n",
        "\n",
        "#TODO Create % change table\n",
        "# For each player who has played for more than a year, what is the percentage \n",
        "# change in their ratio from the first year they played to the last year they \n",
        "# played? Save this df in percentage_change_sdf, and make sure to order by ID. \n",
        "# This DF should just contain two columns- percentage change and ID\n",
        "\n",
        "best_tackles_sdf.createOrReplaceTempView(\"best_tackles\")\n",
        "# best_tackles_sdf.createOrReplaceTempView(\"basic_stats\")\n",
        "defensive_cleaned_sdf.createOrReplaceTempView(\"defensive_cleaned\")\n",
        "        \n",
        "\n",
        "query = '''WITH query1 AS(\n",
        "          SELECT `Player Id`, Min(`Year`) AS `first year`, Max(`Year`) AS `last year`\n",
        "          FROM defensive_cleaned\n",
        "           GROUP BY `Player Id`\n",
        "          )\n",
        "          SELECT defensive_cleaned.`Player Id`, defensive_cleaned.Year, `Total Tackles`/`Games Played` AS Percentage, `first year`, `last year`\n",
        "          FROM defensive_cleaned\n",
        "          JOIN query1\n",
        "          USING(`Player Id`)\n",
        "           '''\n",
        "percentage_change_sdf1 = spark.sql(query)\n",
        "# percentage_change_sdf1.show()\n",
        "percentage_change_sdf1.createOrReplaceTempView(\"sdf1\")\n",
        "query2 = '''WITH first AS(SELECT `Player Id`, Year, Percentage AS `first percentage`, `last year`\n",
        "          FROM sdf1\n",
        "          WHERE Year = `first year`)\n",
        "          SELECT  (sdf1.Percentage-first.`first percentage`)/first.`first percentage`*100 AS `Percentage Change`, `Player Id` AS ID\n",
        "          FROM sdf1\n",
        "          JOIN first\n",
        "          USING(`Player Id`)\n",
        "          WHERE sdf1.Year = sdf1.`last year` \n",
        "          ORDER BY ID\n",
        "           '''\n",
        "\n",
        "percentage_change_sdf = spark.sql(query2)\n",
        "percentage_change_sdf.show()\n",
        "\n",
        "percentage_change_df = percentage_change_sdf.toPandas()\n",
        "to_submit = pd.read_json(percentage_change_df.to_json())"
      ]
    },
    {
      "cell_type": "code",
      "execution_count": 136,
      "metadata": {
        "id": "SzCb93YH7BcB",
        "colab": {
          "base_uri": "https://localhost:8080/",
          "height": 451,
          "referenced_widgets": [
            "2befb9431a9c4302b4036f1bbbbd6a68",
            "e45665c0e7044049b3306cb5418385e2",
            "8e7dd2d8e76d4fa8b4d2123f2175a129"
          ]
        },
        "outputId": "d787b449-dd60-4db2-a49e-8839ffe1e2ff"
      },
      "outputs": [
        {
          "output_type": "display_data",
          "data": {
            "text/plain": [
              "FloatProgress(value=0.0, bar_style='info', description='Progress:', layout=Layout(height='25px', width='50%'),…"
            ],
            "application/vnd.jupyter.widget-view+json": {
              "version_major": 2,
              "version_minor": 0,
              "model_id": "2befb9431a9c4302b4036f1bbbbd6a68"
            }
          },
          "metadata": {}
        },
        {
          "output_type": "stream",
          "name": "stdout",
          "text": [
            "+------------------+--------------------+\n",
            "| Percentage Change|                  ID|\n",
            "+------------------+--------------------+\n",
            "|               0.0|a'shawnrobinson/2...|\n",
            "|1160.0000000000002|   a.j.bouye/2541162|\n",
            "|            -100.0|     a.j.edds/496921|\n",
            "|            -81.25|     a.j.edds/496921|\n",
            "|            -100.0|     a.j.edds/496921|\n",
            "|             -50.0|     a.j.edds/496921|\n",
            "|              null|  a.j.feeley/2504566|\n",
            "|              null| a.j.francis/2541707|\n",
            "|            -100.0|   a.j.green/2495450|\n",
            "|               0.0|a.j.jefferson/494275|\n",
            "|57.460317460317476|   a.j.klein/2539982|\n",
            "|               0.0| a.j.schable/2506734|\n",
            "|               0.0| a.j.tarpley/2553605|\n",
            "|-51.64835164835166|aaronbeasley/2499587|\n",
            "|               0.0|aaronburbridge/25...|\n",
            "|-51.11111111111111| aaroncolvin/2543501|\n",
            "|              null| aarondobson/2539256|\n",
            "|-2.083333333333333| aarondonald/2543485|\n",
            "|-55.55555555555556| aaronelling/2504975|\n",
            "| 672.6190476190476|aaronfrancisco/25...|\n",
            "+------------------+--------------------+\n",
            "only showing top 20 rows"
          ]
        }
      ],
      "source": [
        "%%spark\n",
        "\n",
        "# Let's visualize the results\n",
        "percentage_change_sdf.show(20)"
      ]
    },
    {
      "cell_type": "code",
      "execution_count": 137,
      "metadata": {
        "id": "W3MZT21Qp5Fk",
        "colab": {
          "base_uri": "https://localhost:8080/",
          "height": 17,
          "referenced_widgets": [
            "cb40ae11e40744ee9b47f5d1e769035f",
            "a34758cc06294685b62445be1b5584e6",
            "c27ea201f5f04554a54792783873b04f"
          ]
        },
        "outputId": "d7179d82-c7de-463e-9e1a-c3675ce33ac0"
      },
      "outputs": [
        {
          "output_type": "display_data",
          "data": {
            "text/plain": [
              "FloatProgress(value=0.0, bar_style='info', description='Progress:', layout=Layout(height='25px', width='50%'),…"
            ],
            "application/vnd.jupyter.widget-view+json": {
              "version_major": 2,
              "version_minor": 0,
              "model_id": "cb40ae11e40744ee9b47f5d1e769035f"
            }
          },
          "metadata": {}
        }
      ],
      "source": [
        "%%spark\n",
        "\n",
        "## AUTOGRADER Step 2.2: ##\n",
        "percentage_change_sdf.createOrReplaceTempView(\"test_2_2\")\n",
        "test_2_2_sdf = spark.sql(\"SELECT * FROM test_2_2 ORDER BY ID\")"
      ]
    },
    {
      "cell_type": "code",
      "execution_count": 138,
      "metadata": {
        "id": "S8i_bc6bU93w",
        "colab": {
          "base_uri": "https://localhost:8080/",
          "height": 69,
          "referenced_widgets": [
            "287175bb05ff4431bfb7e69088d148f2",
            "8c86708f80d646609e20b5437e6b3f5e",
            "7b6ebb35195940839f22218c4385f7c0"
          ]
        },
        "outputId": "c133fd0e-de48-4798-a67d-bf13b9f15e02"
      },
      "outputs": [
        {
          "output_type": "display_data",
          "data": {
            "text/plain": [
              "FloatProgress(value=0.0, bar_style='info', description='Progress:', layout=Layout(height='25px', width='50%'),…"
            ],
            "application/vnd.jupyter.widget-view+json": {
              "version_major": 2,
              "version_minor": 0,
              "model_id": "287175bb05ff4431bfb7e69088d148f2"
            }
          },
          "metadata": {}
        },
        {
          "output_type": "stream",
          "name": "stdout",
          "text": [
            "Correct! You earned 12/12 points. You are a star!\n",
            "\n",
            "Your submission has been successfully recorded in the gradebook."
          ]
        }
      ],
      "source": [
        "%%spark\n",
        "\n",
        "# 12 points\n",
        "grader.grade(test_case_id = 'percentage_change', answer = test_2_2_sdf.toPandas())"
      ]
    },
    {
      "cell_type": "markdown",
      "metadata": {
        "id": "VZIfJGqDqKzX"
      },
      "source": [
        "## 2.3 The Blessed Break\n",
        "\n",
        "That last section was hard. And it's gonna get harder. Take a break. Sit back and relax for a minute. Listen to some music. Here's a [suggestion](https://www.youtube.com/watch?v=A3yCcXgbKrE).\n",
        "\n",
        "In the cell below fill out the boolean variable `whatd_you_think` with `True` if you liked it or `False` if you didn't. You will be graded on your response."
      ]
    },
    {
      "cell_type": "code",
      "execution_count": 139,
      "metadata": {
        "id": "WkA0_E2485jy"
      },
      "outputs": [],
      "source": [
        "whatd_you_think = True # TODO"
      ]
    },
    {
      "cell_type": "code",
      "execution_count": 140,
      "metadata": {
        "id": "4lS-XkWl2deZ",
        "colab": {
          "base_uri": "https://localhost:8080/"
        },
        "outputId": "9c824f7c-48cb-4f11-8cbd-a316281db3a1"
      },
      "outputs": [
        {
          "output_type": "stream",
          "name": "stdout",
          "text": [
            "Correct! You earned 1/1 points. You are a star!\n",
            "\n",
            "Your submission has been successfully recorded in the gradebook.\n"
          ]
        }
      ],
      "source": [
        "# 1 point\n",
        "grader.grade(test_case_id = 'tunes', answer = whatd_you_think)"
      ]
    },
    {
      "cell_type": "markdown",
      "metadata": {
        "id": "QkF2RfLSXO0u"
      },
      "source": [
        "## Step 3: Formatting the Time Series Data\n",
        "\n",
        "\n",
        "Our overarching goal is to create an annual time series model that will use the highest tackle ratio per year for each team to predict the highest tackle ratio for that team over the next season. The model is trained on a set of observations. Each observation contains the team name, and the highest tackle ratios for each year from 2001 to 2016. \n",
        "\n",
        "```\n",
        "+----+-----+----------+---------+----------+---\n",
        "|Team |2001 |...  |2008 |2009 |   ...   |2016 |\n",
        "+----+-----+----------+---------+----------+---\n",
        "|TEN  |...  |...  |...  |...  |   ...   |...  |\n",
        "|SF   |...  |...  |...  |...  |   ...   |...  |\n",
        "|...  |...  |...  |...  |...  |   ...   |...  |\n",
        "+----+-----+----------+---------+----------+---\n",
        "```\n"
      ]
    },
    {
      "cell_type": "markdown",
      "metadata": {
        "id": "KzEa-C36_x45"
      },
      "source": [
        "\n",
        "### Step 3.1: The Annual Arrangement\n",
        "\n",
        "Your first task is to create the time series table, i.e. the `2001` through `2016` columns. This will involve reshaping `best_tackles_sdf`. Currently, `best_tackles_sdf` has columns `ID`, `Name`, `Team`, `Ratio` and `Year`. We want to group the rows together based on common `Team` and create new columns for the Ratio corresponding to each year.\n",
        "\n",
        "Create an sdf called `raw_tackles_time_series_sdf` that has for a single team, the highest tackle ratio in 2001 through 2016. It is ok if for a given team you don't have a given year. However, ensure that for a given team, each year column has an entry, i.e. if no Ratio value is present for the year, the entry for that year column should be `0`. The format of the sdf is shown below: \n",
        "```\n",
        "+----+-----+----------+---------+----------+----------+-------\n",
        "|Team                |2001 |...  |2008 |2009 |   ...   |2016 |\n",
        "+----+-----+----------+---------+----------+----------+-------\n",
        "|Tennessee Titans    |...  |...  |...  |...  |   ...   |...  |\n",
        "|San Francisco 49ers |...  |...  |...  |...  |   ...   |...  |\n",
        "|...                 |...  |...  |...  |...  |   ...   |...  |\n",
        "+----+-----+----------+---------+----------+----------+-------\n",
        "```\n",
        "_Hint_: This is a **fiddly and somewhat difficult** question. The tricky part is creating the additional columns of annual ratios, specifically when there are missing years. \n",
        "\n",
        "We suggest you look into `CASE` and `WHEN` statements in the [function list](https://spark.apache.org/docs/2.3.0/api/sql/index.html), and use these to **either** fill in a number for column (if appropriate) or put in a 0."
      ]
    },
    {
      "cell_type": "code",
      "execution_count": 141,
      "metadata": {
        "id": "btp2wboHqg2J",
        "colab": {
          "base_uri": "https://localhost:8080/",
          "height": 471,
          "referenced_widgets": [
            "d97c5a2387b3483d8bcd0cb5c5100bf5",
            "3f4965a8868843eebbabcb2f9241db46",
            "2fb6bd31e7244f2984ac390effbf8479"
          ]
        },
        "outputId": "e8bdd0d2-53f8-4b62-fbbf-a6e4f73d6b4d"
      },
      "outputs": [
        {
          "output_type": "display_data",
          "data": {
            "text/plain": [
              "FloatProgress(value=0.0, bar_style='info', description='Progress:', layout=Layout(height='25px', width='50%'),…"
            ],
            "application/vnd.jupyter.widget-view+json": {
              "version_major": 2,
              "version_minor": 0,
              "model_id": "d97c5a2387b3483d8bcd0cb5c5100bf5"
            }
          },
          "metadata": {}
        },
        {
          "output_type": "stream",
          "name": "stdout",
          "text": [
            "+--------------------+------------------+------------------+------------------+------------------+------------------+------------------+-----------------+------------------+------------------+------------------+-----------------+------------------+-----------------+------------------+-----------------+-----------------+\n",
            "|                Team|              2001|              2002|              2003|              2004|              2005|              2006|             2007|              2008|              2009|              2010|             2011|              2012|             2013|              2014|             2015|             2016|\n",
            "+--------------------+------------------+------------------+------------------+------------------+------------------+------------------+-----------------+------------------+------------------+------------------+-----------------+------------------+-----------------+------------------+-----------------+-----------------+\n",
            "|New England Patriots|            5.6875| 7.642857142857143|             7.875|             8.625|              6.75|6.2727272727272725|5.666666666666667|               8.0| 7.923076923076923|           10.9375|             7.75|            9.1875|9.166666666666666| 8.833333333333334|7.416666666666667|6.142857142857143|\n",
            "|      Miami Dolphins|10.266666666666667|              9.75|10.133333333333333|11.153846153846153|11.285714285714286|           10.3125|             10.4|               7.5|             7.125| 6.785714285714286|           6.6875|             8.375|            7.375| 7.333333333333333|           8.4375|              8.5|\n",
            "|       Chicago Bears|              7.25|            9.4375|              7.25| 7.777777777777778|            7.5625|            8.8125|           7.6875|               6.2| 6.133333333333334|            7.8125|            6.375| 5.666666666666667|            6.375| 6.461538461538462|             6.75|9.166666666666666|\n",
            "|     Atlanta Falcons|               4.2|3.6666666666666665| 4.333333333333333|               6.0| 5.266666666666667|             6.125|              6.0|2.8333333333333335|            6.8125|            5.4375|           7.1875|7.3076923076923075|           7.9375|             8.875|6.333333333333333|7.571428571428571|\n",
            "|   Carolina Panthers| 5.888888888888889| 6.733333333333333|            4.6875|             4.625|               5.0| 6.285714285714286|             8.75|             8.625|            8.8125|             8.125|           9.0625|             10.25|             9.75|            9.5625|9.076923076923077|             10.2|\n",
            "|  San Diego Chargers| 7.642857142857143|               8.0|           10.0625|             9.375|               9.5|            8.8125|           5.3125|            7.9375|6.3076923076923075|               6.0|              6.0| 6.416666666666667|           7.1875|             7.125|6.916666666666667|6.583333333333333|\n",
            "|   Minnesota Vikings|            4.9375|            5.1875|             5.375|               5.0|            4.4375| 4.214285714285714|           6.5625|            7.1875|            6.1875|               9.0|            9.625|              9.25|            8.375|              7.75|6.571428571428571|7.266666666666667|\n",
            "|    Tennessee Titans| 6.833333333333333|               6.0|            5.3125| 6.733333333333333|               5.0|            6.6875|            7.625| 5.461538461538462|            7.5625|              10.0|6.866666666666666|               6.5|              6.5|               7.0|              6.8|              6.5|\n",
            "|       Buffalo Bills|            6.3125|            9.1875|            8.3125|             8.875|            9.8125|             9.125|8.666666666666666|             6.875|              9.25|10.785714285714286|            8.125|               7.0|           9.9375| 7.428571428571429|           7.9375|           9.3125|\n",
            "|  Indianapolis Colts| 7.222222222222222|            8.5625|            9.0625|              5.75|               6.5|              6.75|7.363636363636363|               7.5| 7.357142857142857|               7.6|             9.25|            9.0625|            7.875|             8.625|            9.375|              7.5|\n",
            "|    Cleveland Browns| 5.857142857142857| 4.846153846153846|               8.5| 6.454545454545454|            9.3125| 7.428571428571429|7.214285714285714|             9.625| 9.833333333333334|            7.6875|            9.875|             7.375|           8.8125|              7.75|             6.75|             9.25|\n",
            "|      Denver Broncos|            4.5625|              6.25| 4.933333333333334|            5.4375|               5.5|               6.0|              5.6| 6.666666666666667|              7.25|               6.0|6.466666666666667|               7.8|           8.0625| 8.071428571428571|7.266666666666667|6.214285714285714|\n",
            "|      Dallas Cowboys|               7.0|               6.5|            7.4375|            6.6875|            5.8125|            6.3125|           6.3125|              7.25|            7.0625|             7.375|              7.0| 9.666666666666666|              9.0| 8.166666666666666|9.142857142857142|9.666666666666666|\n",
            "| Washington Redskins| 7.071428571428571|            6.1875| 6.866666666666666|               7.0|             6.125|            6.9375|              8.0|            8.3125|             8.875| 9.444444444444445|           10.375|            8.6875|           7.1875| 8.384615384615385|7.333333333333333|             7.75|\n",
            "| Pittsburgh Steelers| 5.333333333333333| 5.857142857142857|            8.8125|             5.875|               8.5|             7.875|            6.125|            8.3125|             6.375|            8.4375|           5.8125|            7.0625|              8.0|              8.25|           7.4375|            7.125|\n",
            "|  Cincinnati Bengals|            3.6875| 4.357142857142857|            5.6875| 6.666666666666667|             6.125|               7.0|           6.8125|               7.0|            5.5625| 5.133333333333334|6.769230769230769|            7.9375|          10.6875|            7.5625|              7.4|9.181818181818182|\n",
            "|     New York Giants|            8.3125| 7.266666666666667|              9.25| 6.466666666666667| 7.615384615384615|            8.5625|           6.4375| 6.333333333333333|               6.5|            6.3125|5.466666666666667|             4.125|             7.75|              5.75|              7.0|           7.8125|\n",
            "| San Francisco 49ers| 6.214285714285714|             5.875|             5.875|              5.75|               8.2|              4.75|              6.5|               6.0|             5.875|               5.0|           8.9375|              9.25|           9.0625|            5.4375|            9.625|             8.75|\n",
            "|Tampa Bay Buccaneers|               5.0|            7.0625|7.2727272727272725| 6.933333333333334|            8.0625| 8.666666666666666|5.533333333333333| 5.363636363636363|               5.5|             5.125|             5.25|            8.6875|           9.0625|10.428571428571429|           9.1875|           9.0625|\n",
            "|       New York Jets|             8.875|               5.0|             6.125|            6.6875|           10.5625|            7.0625|           7.9375|            7.4375|            7.9375|            6.1875|            5.375|            7.6875|             7.75|            7.6875|             6.75|6.333333333333333|\n",
            "+--------------------+------------------+------------------+------------------+------------------+------------------+------------------+-----------------+------------------+------------------+------------------+-----------------+------------------+-----------------+------------------+-----------------+-----------------+\n",
            "only showing top 20 rows"
          ]
        }
      ],
      "source": [
        "%%spark\n",
        "\n",
        "# TODO: Create [raw_tackles_time_series_sdf]\n",
        "\n",
        "# CASE() statements are SQL's equivalent of if else statements. WHEN a CASE is\n",
        "# true THEN we define a function. ELSE we do another function and then END the\n",
        "# statement.\n",
        "\n",
        "# The query is a GROUP BY. We group data based on the same team, as in the\n",
        "# previous step. We then do a CASE statement. This will seperate out the sets of\n",
        "# data corresponding to the same year using the 'Year' volumn in the WHEN clause.\n",
        "# If we have a piece of data, it will be the Ratio value for a given team in \n",
        "# a given year and we will save it with a corresponding column name. If there is\n",
        "# no piece of data here, as per the question, we need to add a 0. This is the\n",
        "# ELSE clause. Lastly, we do a SUM() to find the final Ratio.\n",
        "\n",
        "best_tackles_sdf.createOrReplaceTempView(\"best_tackles\")\n",
        "  \n",
        "query = '''WITH query1 AS\n",
        "           (SELECT best_tackles.Team, best_tackles.Year,\n",
        "                  CASE WHEN best_tackles.Year = 2001\n",
        "                  THEN best_tackles.Ratio \n",
        "                  ELSE 0 END AS `2001`,\n",
        "                  CASE WHEN best_tackles.Year = 2002\n",
        "                  THEN best_tackles.Ratio \n",
        "                  ELSE 0 END AS `2002`,\n",
        "                  CASE WHEN best_tackles.Year = 2003\n",
        "                  THEN best_tackles.Ratio \n",
        "                  ELSE 0 END AS `2003`,\n",
        "                  CASE WHEN best_tackles.Year = 2004\n",
        "                  THEN best_tackles.Ratio \n",
        "                  ELSE 0 END AS `2004`,\n",
        "                  CASE WHEN best_tackles.Year = 2005\n",
        "                  THEN best_tackles.Ratio \n",
        "                  ELSE 0 END AS `2005`,\n",
        "                  CASE WHEN best_tackles.Year = 2006\n",
        "                  THEN best_tackles.Ratio \n",
        "                  ELSE 0 END AS `2006`,\n",
        "                  CASE WHEN best_tackles.Year = 2007\n",
        "                  THEN best_tackles.Ratio \n",
        "                  ELSE 0 END AS `2007`,\n",
        "                  CASE WHEN best_tackles.Year = 2008\n",
        "                  THEN best_tackles.Ratio \n",
        "                  ELSE 0 END AS `2008`,\n",
        "                  CASE WHEN best_tackles.Year = 2009\n",
        "                  THEN best_tackles.Ratio \n",
        "                  ELSE 0 END AS `2009`,\n",
        "                  CASE WHEN best_tackles.Year = 2010\n",
        "                  THEN best_tackles.Ratio \n",
        "                  ELSE 0 END AS `2010`,\n",
        "                  CASE WHEN best_tackles.Year = 2011\n",
        "                  THEN best_tackles.Ratio \n",
        "                  ELSE 0 END AS `2011`,\n",
        "                  CASE WHEN best_tackles.Year = 2012\n",
        "                  THEN best_tackles.Ratio \n",
        "                  ELSE 0 END AS `2012`,\n",
        "                  CASE WHEN best_tackles.Year = 2013\n",
        "                  THEN best_tackles.Ratio \n",
        "                  ELSE 0 END AS `2013`,\n",
        "                  CASE WHEN best_tackles.Year = 2014\n",
        "                  THEN best_tackles.Ratio \n",
        "                  ELSE 0 END AS `2014`,\n",
        "                  CASE WHEN best_tackles.Year = 2015\n",
        "                  THEN best_tackles.Ratio \n",
        "                  ELSE 0 END AS `2015`,\n",
        "                  CASE WHEN best_tackles.Year = 2016\n",
        "                  THEN best_tackles.Ratio \n",
        "                  ELSE 0 END AS `2016`\n",
        "            FROM best_tackles\n",
        "           )\n",
        "            SELECT Team, Max(`2001`) AS `2001`,  Max(`2002`) AS `2002` ,  Max(`2003`) AS `2003`,  Max(`2004`) AS `2004`,  Max(`2005`) AS `2005` , \n",
        "             Max(`2006`) AS `2006`,  Max(`2007`) AS `2007`,  Max(`2008`) AS `2008`,  Max(`2009`) AS `2009`,  Max(`2010`) AS `2010` ,  Max(`2011`) AS `2011`, \n",
        "              Max(`2012`) AS `2012`,  Max(`2013`) AS `2013`,  Max(`2014`) AS `2014`,  Max(`2015`) AS `2015`,  Max(`2016`) AS `2016` \n",
        "            FROM query1\n",
        "            GROUP BY Team\n",
        "            '''\n",
        "\n",
        "\n",
        "\n",
        "raw_tackles_time_series_sdf = spark.sql(query)\n",
        "raw_tackles_time_series_sdf.show()\n",
        "\n",
        "raw_tackles_time_series_df = raw_tackles_time_series_sdf.toPandas()\n",
        "to_submit = pd.read_json(raw_tackles_time_series_df .to_json())\n",
        "\n",
        "# Define and save raw_tackles_time_series_sdf\n"
      ]
    },
    {
      "cell_type": "code",
      "execution_count": 142,
      "metadata": {
        "id": "WRMSunHVq296",
        "colab": {
          "base_uri": "https://localhost:8080/",
          "height": 17,
          "referenced_widgets": [
            "96ca4ddb54904684a8c5cbf69d87fb13",
            "11a86208dcfd46feb6317574b1faf3e1",
            "806bc9bb9fc14e0d832553b1c42a8b4a"
          ]
        },
        "outputId": "a77c1d27-b402-41e6-ed33-0b7b3d8dc978"
      },
      "outputs": [
        {
          "output_type": "display_data",
          "data": {
            "text/plain": [
              "FloatProgress(value=0.0, bar_style='info', description='Progress:', layout=Layout(height='25px', width='50%'),…"
            ],
            "application/vnd.jupyter.widget-view+json": {
              "version_major": 2,
              "version_minor": 0,
              "model_id": "96ca4ddb54904684a8c5cbf69d87fb13"
            }
          },
          "metadata": {}
        }
      ],
      "source": [
        "%%spark\n",
        "\n",
        "## AUTOGRADER Step 3.1: ##\n",
        "\n",
        "raw_tackles_time_series_sdf.createOrReplaceTempView(\"test_3_1\")\n",
        "test_3_1_sdf = spark.sql(\"SELECT * FROM test_3_1 ORDER BY Team DESC LIMIT 10\")"
      ]
    },
    {
      "cell_type": "code",
      "execution_count": 143,
      "metadata": {
        "id": "NluLbb4HX5AS",
        "colab": {
          "base_uri": "https://localhost:8080/",
          "height": 69,
          "referenced_widgets": [
            "b476804756b441828dbb916a51e91eab",
            "09f24967060042cb80cb24a96ae012e6",
            "981fa25b9dcb45968592fbdba5055989"
          ]
        },
        "outputId": "04c4d65d-2c92-4917-a77d-612ad971cd06"
      },
      "outputs": [
        {
          "output_type": "display_data",
          "data": {
            "text/plain": [
              "FloatProgress(value=0.0, bar_style='info', description='Progress:', layout=Layout(height='25px', width='50%'),…"
            ],
            "application/vnd.jupyter.widget-view+json": {
              "version_major": 2,
              "version_minor": 0,
              "model_id": "b476804756b441828dbb916a51e91eab"
            }
          },
          "metadata": {}
        },
        {
          "output_type": "stream",
          "name": "stdout",
          "text": [
            "Correct! You earned 14/14 points. You are a star!\n",
            "\n",
            "Your submission has been successfully recorded in the gradebook."
          ]
        }
      ],
      "source": [
        "%%spark\n",
        "\n",
        "# 14 points\n",
        "grader.grade(test_case_id = 'arrangement', answer = test_3_1_sdf.toPandas())"
      ]
    },
    {
      "cell_type": "markdown",
      "metadata": {
        "id": "KZRuAU0XI84l"
      },
      "source": [
        "### Step 3.2 The Clairvoyant Cleaning\n",
        "\n",
        "We now want to format the `Team` names to an appropriate abbreviation. The formatting will consist of 2 steps."
      ]
    },
    {
      "cell_type": "markdown",
      "metadata": {
        "id": "0DdnoFkP7mxz"
      },
      "source": [
        "#### Step 3.2.1 The Ubiquitous UDF\n",
        "\n",
        "The teams in our dataset are defined by their full names. We think that it would be *cleaner* to have names represented by using abbreviations. Often times when using Spark, there may not be a built-in SQL function that can do the operation we desired. Instead, we can create one on our own with a user-defined function (udf).\n",
        "\n",
        "A udf is defined as a normal Python function and then registered to be used as a Spark SQL function. Your task is to create a udf, `NAME_TO_ABBV()` that will convert the `Team` field in `raw_tackles_time_series_sdf` to their appropriate abbreviations. This will be done using the provided `name_to_abbv_dict` dictionary. We are only interested in the teams in that dictionary.\n",
        "\n",
        "Fill out the function `name_to_abbv()` below. Then use `spark.udf.register()` to register it as a SQL function. The command is provided. ***You do not need to edit it***. Note, we have defined the udf as returning `StringType()`. Ensure that your function returns this. You must also deal with any potential `null` cases."
      ]
    },
    {
      "cell_type": "code",
      "execution_count": 44,
      "metadata": {
        "id": "P4cJWZsr8iNC",
        "colab": {
          "base_uri": "https://localhost:8080/",
          "height": 34,
          "referenced_widgets": [
            "cf686104d003466ab70c110c03bf38f3",
            "dcb59b18d8ff460f8e90c4162107968d",
            "33b227bb867444ddb3fa62cb6394a88a"
          ]
        },
        "outputId": "b2a40e65-f681-4bd9-a9a3-257a08111d69"
      },
      "outputs": [
        {
          "output_type": "display_data",
          "data": {
            "text/plain": [
              "FloatProgress(value=0.0, bar_style='info', description='Progress:', layout=Layout(height='25px', width='50%'),…"
            ],
            "application/vnd.jupyter.widget-view+json": {
              "version_major": 2,
              "version_minor": 0,
              "model_id": "cf686104d003466ab70c110c03bf38f3"
            }
          },
          "metadata": {}
        },
        {
          "output_type": "stream",
          "name": "stdout",
          "text": [
            "<function name_to_abbv at 0x7fc4b4d8a950>"
          ]
        }
      ],
      "source": [
        "%%spark\n",
        "\n",
        "# Dictionary linking stock ticker symbols to their names\n",
        "name_to_abbv_dict = {'Tennessee Titans': 'TEN',\n",
        "                     'Denver Broncos': 'DEN',\n",
        "                     'Green Bay Packers': 'GBP',\n",
        "                     'Pittsburgh Steelers': 'PIT',\n",
        "                     'Chicago Bears': 'CHI',\n",
        "                     'Philadelphia Eagles': 'PHI',\n",
        "                     'Indianapolis Colts': 'IND',\n",
        "                     'Arizona Cardinals': 'ARI',\n",
        "                     'Seattle Seahawks': 'SEA',\n",
        "                     'Baltimore Ravens': 'BAR',\n",
        "                     'Carolina Panthers': 'CAR',\n",
        "                     'Kansas City Chiefs': 'KAN',\n",
        "                     'Oakland Raiders': 'OAK',\n",
        "                     'St. Louis Rams': 'SLR',\n",
        "                     'Atlanta Falcons': 'ATL',\n",
        "                     'New Orleans Saints': 'NOS',\n",
        "                     'San Francisco 49ers': 'SFF',\n",
        "                     'New England Patriots': 'NEP',\n",
        "                     'Buffalo Bills': 'BUF',\n",
        "                     'Los Angeles Rams': 'LAR',\n",
        "                     'Dallas Cowboys': 'DAL',\n",
        "                     'Minnesota Vikings': 'MIN',\n",
        "                     'Detroit Lions': 'DET',\n",
        "                     'Washington Redskins': 'WAS',\n",
        "                     'Jacksonville Jaguars': 'JAC',\n",
        "                     'New York Giants': 'NYG',\n",
        "                     'Tampa Bay Buccaneers': 'TBB',\n",
        "                     'Cleveland Browns': 'CLE',\n",
        "                     'Houston Texans': 'HOT',\n",
        "                     'Los Angeles Raiders': 'LOS',\n",
        "                     'Miami Dolphins': 'MIA',\n",
        "                     'Houston Oilers': 'HOU',\n",
        "                     'Cincinnati Bengals': 'CIN',\n",
        "                     'San Diego Chargers': 'SDC',\n",
        "                     'Tennessee Oilers': 'TEO',\n",
        "                     'New York Jets': 'NYJ',\n",
        "                     'Phoenix Cardinals': 'PHO',\n",
        "                     'St. Louis Cardinals': 'SLC',\n",
        "                     'Baltimore Colts': 'BAC'}\n",
        "\n",
        "# TODO: Fill out [name_to_abbv()] and register it as a udf.\n",
        "# Fill out name_to_abbv()\n",
        "\n",
        "# In UDFs we have to cover all possible output cases, or else the function will\n",
        "# crash. Specifically, this means we need to handle the case when \"name\" is\n",
        "# not in \"name_to_abbv_dict\". We use a try and except statement to return null\n",
        "# for this case.\n",
        "\n",
        "def name_to_abbv(name):\n",
        "  if name in name_to_abbv_dict:\n",
        "    name = name_to_abbv_dict.get(name)\n",
        "    return name\n",
        "  else:\n",
        "    return None\n",
        "\n",
        "# Register udf as a SQL function. DO NOT EDIT\n",
        "spark.udf.register(\"NAME_TO_ABBV\", name_to_abbv, StringType())\n"
      ]
    },
    {
      "cell_type": "markdown",
      "metadata": {
        "id": "LSM0mzPRaKKr"
      },
      "source": [
        "Submit a tuple to the autograder for the ticker value of San Franscisco 49ers and Washington Commanders. If the name value in the table, set it to a string equal to \"None\""
      ]
    },
    {
      "cell_type": "code",
      "execution_count": 45,
      "metadata": {
        "id": "NkdrFilOtKqx",
        "colab": {
          "base_uri": "https://localhost:8080/",
          "height": 34,
          "referenced_widgets": [
            "aab33361e323481898ef47ba4de21f45",
            "a77d349048df476eb40a829084a241f8",
            "67616a24af354de58354f2b16572ecd8"
          ]
        },
        "outputId": "c299bcdf-505f-49f0-ab27-17ddf98703e9"
      },
      "outputs": [
        {
          "output_type": "display_data",
          "data": {
            "text/plain": [
              "FloatProgress(value=0.0, bar_style='info', description='Progress:', layout=Layout(height='25px', width='50%'),…"
            ],
            "application/vnd.jupyter.widget-view+json": {
              "version_major": 2,
              "version_minor": 0,
              "model_id": "aab33361e323481898ef47ba4de21f45"
            }
          },
          "metadata": {}
        },
        {
          "output_type": "stream",
          "name": "stdout",
          "text": [
            "('SFF', 'None')"
          ]
        }
      ],
      "source": [
        "%%spark\n",
        "\n",
        "## AUTOGRADER Step 3.2.1: ##\n",
        "\n",
        "print((str(name_to_abbv(\"San Francisco 49ers\")),str(name_to_abbv(\"Washington Commanders\"))))\n",
        "to_submit = ((str(name_to_abbv(\"San Francisco 49ers\")),str(name_to_abbv(\"Washington Commanders\"))))"
      ]
    },
    {
      "cell_type": "code",
      "execution_count": 46,
      "metadata": {
        "id": "BA95n1lpZ4yy",
        "colab": {
          "base_uri": "https://localhost:8080/",
          "height": 69,
          "referenced_widgets": [
            "3cbb2fe682ad461b843511f4e075c664",
            "a2e7f86d900140ae873f81337c0a5957",
            "c23e3f771f024814a982c579e81aeccb"
          ]
        },
        "outputId": "8074a0b3-906f-4281-893c-1342ca3d0f5d"
      },
      "outputs": [
        {
          "output_type": "display_data",
          "data": {
            "text/plain": [
              "FloatProgress(value=0.0, bar_style='info', description='Progress:', layout=Layout(height='25px', width='50%'),…"
            ],
            "application/vnd.jupyter.widget-view+json": {
              "version_major": 2,
              "version_minor": 0,
              "model_id": "3cbb2fe682ad461b843511f4e075c664"
            }
          },
          "metadata": {}
        },
        {
          "output_type": "stream",
          "name": "stdout",
          "text": [
            "Correct! You earned 2/2 points. You are a star!\n",
            "\n",
            "Your submission has been successfully recorded in the gradebook."
          ]
        }
      ],
      "source": [
        "%%spark\n",
        "\n",
        "# 2 points\n",
        "grader.grade(test_case_id = 'clairvoyant', answer = to_submit)"
      ]
    },
    {
      "cell_type": "markdown",
      "metadata": {
        "id": "u9YOYO9L-_GS"
      },
      "source": [
        "#### Step 3.2.2: The Clean Conversion\n",
        "\n",
        "With our new `NAME_TO_ABBV()` function we will begin to wrangle `raw_tackles_time_series_sdf`.\n",
        "\n",
        "Create an sdf called `tackles_time_series_sdf` as follows. Convert all the team names in `raw_tackles_time_series_sdf` to the appropriate abbreviations and save it as `Team`. Drop any team abbreviations that do not appear in `name_to_abbv_dict`. Using .dropna() is acceptable instead of IS NOT NULL. The final df should be in the format shown below:\n",
        "\n",
        "```\n",
        "+----+-----+----------+---------+----------+----------+--\n",
        "|Team |2000 |2001 |   ...   |2008 |2009 |   ...   |2016 |\n",
        "+----+-----+----------+---------+----------+----------+--\n",
        "|TEN  |...  |...  |   ...   |...  |...  |   ...   |...  |\n",
        "|SFF  |...  |...  |   ...   |...  |...  |   ...   |...  |\n",
        "|...  |...  |...  |   ...   |...  |...  |   ...   |...  |\n",
        "+----+-----+----------+---------+----------+----------+--\n",
        "```"
      ]
    },
    {
      "cell_type": "code",
      "execution_count": 47,
      "metadata": {
        "id": "RuiitnWlBYJ7",
        "colab": {
          "base_uri": "https://localhost:8080/",
          "height": 471,
          "referenced_widgets": [
            "c4e615b0523040aea71c64c7ae5c8023",
            "e7a008ab2e4942f5977a38f892ec08dd",
            "4ca622678c7e4025bec3df88e3fbee72"
          ]
        },
        "outputId": "42c3cbcd-b417-496e-b96d-e4c5ff6443ff"
      },
      "outputs": [
        {
          "output_type": "display_data",
          "data": {
            "text/plain": [
              "FloatProgress(value=0.0, bar_style='info', description='Progress:', layout=Layout(height='25px', width='50%'),…"
            ],
            "application/vnd.jupyter.widget-view+json": {
              "version_major": 2,
              "version_minor": 0,
              "model_id": "c4e615b0523040aea71c64c7ae5c8023"
            }
          },
          "metadata": {}
        },
        {
          "output_type": "stream",
          "name": "stdout",
          "text": [
            "+----+------------------+------------------+------------------+------------------+------------------+------------------+-----------------+------------------+------------------+------------------+-----------------+------------------+-----------------+------------------+-----------------+-----------------+\n",
            "|Team|              2001|              2002|              2003|              2004|              2005|              2006|             2007|              2008|              2009|              2010|             2011|              2012|             2013|              2014|             2015|             2016|\n",
            "+----+------------------+------------------+------------------+------------------+------------------+------------------+-----------------+------------------+------------------+------------------+-----------------+------------------+-----------------+------------------+-----------------+-----------------+\n",
            "| NEP|            5.6875| 7.642857142857143|             7.875|             8.625|              6.75|6.2727272727272725|5.666666666666667|               8.0| 7.923076923076923|           10.9375|             7.75|            9.1875|9.166666666666666| 8.833333333333334|7.416666666666667|6.142857142857143|\n",
            "| MIA|10.266666666666667|              9.75|10.133333333333333|11.153846153846153|11.285714285714286|           10.3125|             10.4|               7.5|             7.125| 6.785714285714286|           6.6875|             8.375|            7.375| 7.333333333333333|           8.4375|              8.5|\n",
            "| CHI|              7.25|            9.4375|              7.25| 7.777777777777778|            7.5625|            8.8125|           7.6875|               6.2| 6.133333333333334|            7.8125|            6.375| 5.666666666666667|            6.375| 6.461538461538462|             6.75|9.166666666666666|\n",
            "| ATL|               4.2|3.6666666666666665| 4.333333333333333|               6.0| 5.266666666666667|             6.125|              6.0|2.8333333333333335|            6.8125|            5.4375|           7.1875|7.3076923076923075|           7.9375|             8.875|6.333333333333333|7.571428571428571|\n",
            "| CAR| 5.888888888888889| 6.733333333333333|            4.6875|             4.625|               5.0| 6.285714285714286|             8.75|             8.625|            8.8125|             8.125|           9.0625|             10.25|             9.75|            9.5625|9.076923076923077|             10.2|\n",
            "| SDC| 7.642857142857143|               8.0|           10.0625|             9.375|               9.5|            8.8125|           5.3125|            7.9375|6.3076923076923075|               6.0|              6.0| 6.416666666666667|           7.1875|             7.125|6.916666666666667|6.583333333333333|\n",
            "| MIN|            4.9375|            5.1875|             5.375|               5.0|            4.4375| 4.214285714285714|           6.5625|            7.1875|            6.1875|               9.0|            9.625|              9.25|            8.375|              7.75|6.571428571428571|7.266666666666667|\n",
            "| TEN| 6.833333333333333|               6.0|            5.3125| 6.733333333333333|               5.0|            6.6875|            7.625| 5.461538461538462|            7.5625|              10.0|6.866666666666666|               6.5|              6.5|               7.0|              6.8|              6.5|\n",
            "| BUF|            6.3125|            9.1875|            8.3125|             8.875|            9.8125|             9.125|8.666666666666666|             6.875|              9.25|10.785714285714286|            8.125|               7.0|           9.9375| 7.428571428571429|           7.9375|           9.3125|\n",
            "| IND| 7.222222222222222|            8.5625|            9.0625|              5.75|               6.5|              6.75|7.363636363636363|               7.5| 7.357142857142857|               7.6|             9.25|            9.0625|            7.875|             8.625|            9.375|              7.5|\n",
            "| CLE| 5.857142857142857| 4.846153846153846|               8.5| 6.454545454545454|            9.3125| 7.428571428571429|7.214285714285714|             9.625| 9.833333333333334|            7.6875|            9.875|             7.375|           8.8125|              7.75|             6.75|             9.25|\n",
            "| DEN|            4.5625|              6.25| 4.933333333333334|            5.4375|               5.5|               6.0|              5.6| 6.666666666666667|              7.25|               6.0|6.466666666666667|               7.8|           8.0625| 8.071428571428571|7.266666666666667|6.214285714285714|\n",
            "| DAL|               7.0|               6.5|            7.4375|            6.6875|            5.8125|            6.3125|           6.3125|              7.25|            7.0625|             7.375|              7.0| 9.666666666666666|              9.0| 8.166666666666666|9.142857142857142|9.666666666666666|\n",
            "| WAS| 7.071428571428571|            6.1875| 6.866666666666666|               7.0|             6.125|            6.9375|              8.0|            8.3125|             8.875| 9.444444444444445|           10.375|            8.6875|           7.1875| 8.384615384615385|7.333333333333333|             7.75|\n",
            "| PIT| 5.333333333333333| 5.857142857142857|            8.8125|             5.875|               8.5|             7.875|            6.125|            8.3125|             6.375|            8.4375|           5.8125|            7.0625|              8.0|              8.25|           7.4375|            7.125|\n",
            "| CIN|            3.6875| 4.357142857142857|            5.6875| 6.666666666666667|             6.125|               7.0|           6.8125|               7.0|            5.5625| 5.133333333333334|6.769230769230769|            7.9375|          10.6875|            7.5625|              7.4|9.181818181818182|\n",
            "| NYG|            8.3125| 7.266666666666667|              9.25| 6.466666666666667| 7.615384615384615|            8.5625|           6.4375| 6.333333333333333|               6.5|            6.3125|5.466666666666667|             4.125|             7.75|              5.75|              7.0|           7.8125|\n",
            "| SFF| 6.214285714285714|             5.875|             5.875|              5.75|               8.2|              4.75|              6.5|               6.0|             5.875|               5.0|           8.9375|              9.25|           9.0625|            5.4375|            9.625|             8.75|\n",
            "| TBB|               5.0|            7.0625|7.2727272727272725| 6.933333333333334|            8.0625| 8.666666666666666|5.533333333333333| 5.363636363636363|               5.5|             5.125|             5.25|            8.6875|           9.0625|10.428571428571429|           9.1875|           9.0625|\n",
            "| NYJ|             8.875|               5.0|             6.125|            6.6875|           10.5625|            7.0625|           7.9375|            7.4375|            7.9375|            6.1875|            5.375|            7.6875|             7.75|            7.6875|             6.75|6.333333333333333|\n",
            "+----+------------------+------------------+------------------+------------------+------------------+------------------+-----------------+------------------+------------------+------------------+-----------------+------------------+-----------------+------------------+-----------------+-----------------+\n",
            "only showing top 20 rows"
          ]
        }
      ],
      "source": [
        "%%spark\n",
        "\n",
        "# Format the \"Team\" column using our UDF, NAME_TO_ABBV.\n",
        "# TODO: Create [tackles_time_series_sdf]\n",
        "\n",
        "\n",
        "# raw_tackles_time_series_df.withColumn(\"Team\", name_to_abbv(\"Team\")).show(10)\n",
        "\n",
        "\n",
        "raw_tackles_time_series_sdf.createOrReplaceTempView(\"time_series\")\n",
        "\n",
        "query = '''\n",
        "        SELECT NAME_TO_ABBV(Team) AS Team, `2001`, `2002`, `2003`, `2004`, `2005`, `2006`, `2007`, `2008`, `2009`, `2010`, `2011`, `2012`, `2013`,`2014`,`2015`,`2016`\n",
        "        FROM time_series\n",
        "         '''\n",
        "\n",
        "tackles_time_series_sdf = spark.sql(query)\n",
        "tackles_time_series_sdf.show()\n",
        "\n",
        "tackles_time_series_df = tackles_time_series_sdf.toPandas()\n",
        "to_submit = pd.read_json(tackles_time_series_df.to_json())\n",
        "\n",
        "# Define and save tackles_time_series_sdf\n",
        "\n"
      ]
    },
    {
      "cell_type": "code",
      "execution_count": 48,
      "metadata": {
        "id": "qBm-D6FXtdv6",
        "colab": {
          "base_uri": "https://localhost:8080/",
          "height": 17,
          "referenced_widgets": [
            "084eb29b6ba24db39a3f91ad33743f3f",
            "d8837c50497e45a7abb204d923903ef8",
            "b3ca16706ed842f9a6147880a7cf28a8"
          ]
        },
        "outputId": "c756245c-9f0f-4975-ac93-775d1042001f"
      },
      "outputs": [
        {
          "output_type": "display_data",
          "data": {
            "text/plain": [
              "FloatProgress(value=0.0, bar_style='info', description='Progress:', layout=Layout(height='25px', width='50%'),…"
            ],
            "application/vnd.jupyter.widget-view+json": {
              "version_major": 2,
              "version_minor": 0,
              "model_id": "084eb29b6ba24db39a3f91ad33743f3f"
            }
          },
          "metadata": {}
        }
      ],
      "source": [
        "%%spark\n",
        "\n",
        "## AUTOGRADER Step 3.2.2: ##\n",
        "\n",
        "tackles_time_series_sdf.createOrReplaceTempView(\"test_3_2_2\")\n",
        "test_3_2_2_sdf = spark.sql(\"SELECT * FROM test_3_2_2 ORDER BY Team LIMIT 10\")"
      ]
    },
    {
      "cell_type": "code",
      "execution_count": 49,
      "metadata": {
        "id": "ghKZ3HHOaXIq",
        "colab": {
          "base_uri": "https://localhost:8080/",
          "height": 69,
          "referenced_widgets": [
            "1324854676ac42a0b4f35685458de825",
            "b21b1385f6384e958993ff5a6931145b",
            "a5810efb8ac64f6d8cf57efecfce156c"
          ]
        },
        "outputId": "8d0a34db-e594-4463-e08d-d552cbe49527"
      },
      "outputs": [
        {
          "output_type": "display_data",
          "data": {
            "text/plain": [
              "FloatProgress(value=0.0, bar_style='info', description='Progress:', layout=Layout(height='25px', width='50%'),…"
            ],
            "application/vnd.jupyter.widget-view+json": {
              "version_major": 2,
              "version_minor": 0,
              "model_id": "1324854676ac42a0b4f35685458de825"
            }
          },
          "metadata": {}
        },
        {
          "output_type": "stream",
          "name": "stdout",
          "text": [
            "Correct! You earned 10/10 points. You are a star!\n",
            "\n",
            "Your submission has been successfully recorded in the gradebook."
          ]
        }
      ],
      "source": [
        "%%spark\n",
        "\n",
        "# 10 points\n",
        "grader.grade(test_case_id = 'conversion', answer = test_3_2_2_sdf.toPandas())"
      ]
    },
    {
      "cell_type": "markdown",
      "metadata": {
        "id": "VvDlOG74JPl7"
      },
      "source": [
        "And there you go! Now we have formatted a simple time series dataset for the highest tackle ratios of all teams."
      ]
    },
    {
      "cell_type": "markdown",
      "metadata": {
        "id": "ZnwHS5-kPtVl"
      },
      "source": [
        "## Step 4: The Super... Bacon?\n",
        "\n",
        "Let's introduce a fun little concept called the Bacon Number! The Bacon number of an actor or actress is the number of degrees of separation they have from actor Kevin Bacon, as defined by the game known as Six Degrees of Kevin Bacon. For example, Kevin Bacon's Bacon number is 0. If an actor works in a movie with Kevin Bacon, the actor's Bacon number is 1. If an actor works with an actor who worked with Kevin Bacon in a movie, the first actor's Bacon number is 2, and so forth.\n",
        "\n",
        "How do we implement this for NFL though? Let's use a dataset specifically based on the history of the Super Bowl, and find a number we're calling \"The Super Bacon.\" We define this number as follows: if team A has beaten team B, and team B has beaten team C, then the super bacon of C with respect to A will be 2.\n",
        "\n",
        "Now to calculate this number, we'll use the concepts of graphs and BFS!\n"
      ]
    },
    {
      "cell_type": "markdown",
      "metadata": {
        "id": "VPOLIiHpYr86"
      },
      "source": [
        "*For this section, we will be using Pyspark instead of Spark on the EMR cluster. The syntax remains the same, except you don't need to use the `%%spark` call at the top of each code cell.\n",
        "Run the setup cells for Pyspark below.*"
      ]
    },
    {
      "cell_type": "code",
      "execution_count": 50,
      "metadata": {
        "id": "nlrk--6d_6p7",
        "colab": {
          "base_uri": "https://localhost:8080/"
        },
        "outputId": "d18f43e5-5602-41af-f8b1-be7bdc2003ec"
      },
      "outputs": [
        {
          "output_type": "stream",
          "name": "stdout",
          "text": [
            "Collecting pyspark\n",
            "  Downloading pyspark-3.2.1.tar.gz (281.4 MB)\n",
            "\u001b[K     |████████████████████████████████| 281.4 MB 32 kB/s \n",
            "\u001b[?25hCollecting py4j==0.10.9.3\n",
            "  Downloading py4j-0.10.9.3-py2.py3-none-any.whl (198 kB)\n",
            "\u001b[K     |████████████████████████████████| 198 kB 50.8 MB/s \n",
            "\u001b[?25hBuilding wheels for collected packages: pyspark\n",
            "  Building wheel for pyspark (setup.py) ... \u001b[?25l\u001b[?25hdone\n",
            "  Created wheel for pyspark: filename=pyspark-3.2.1-py2.py3-none-any.whl size=281853642 sha256=b6ed74ed30aad1c0af28b0f3dea4220f773298183d30305fdda460a871540d38\n",
            "  Stored in directory: /root/.cache/pip/wheels/9f/f5/07/7cd8017084dce4e93e84e92efd1e1d5334db05f2e83bcef74f\n",
            "Successfully built pyspark\n",
            "Installing collected packages: py4j, pyspark\n",
            "Successfully installed py4j-0.10.9.3 pyspark-3.2.1\n"
          ]
        }
      ],
      "source": [
        "!pip install pyspark"
      ]
    },
    {
      "cell_type": "code",
      "execution_count": 51,
      "metadata": {
        "id": "VGEag3L-3cp8"
      },
      "outputs": [],
      "source": [
        "from pyspark.sql import SparkSession\n",
        "\n",
        "appName = \"PySpark\"\n",
        "\n",
        "# Create Spark session\n",
        "spark = SparkSession.builder.appName(appName).getOrCreate()\n"
      ]
    },
    {
      "cell_type": "markdown",
      "metadata": {
        "id": "LK-JxKe0xBvS"
      },
      "source": [
        "### 4.1 “Traversing” a Graph\n",
        "\n",
        "Before we jump to finding the Super Bacons for the teams, let's review how BFS works."
      ]
    },
    {
      "cell_type": "code",
      "execution_count": 52,
      "metadata": {
        "id": "GT6WJwy5vK_G"
      },
      "outputs": [],
      "source": [
        "import pandas as pd\n",
        "from IPython.display import Image as I\n",
        "\n",
        "bfsgif =\\\n",
        "'https://upload.wikimedia.org/wikipedia/commons/5/5d/Breadth-First-S'+\\\n",
        "'earch-Algorithm.gif'\n",
        "dfsgif=\\\n",
        "'https://upload.wikimedia.org/wikipedia/commons/7/7f/Depth-First-Search.gif'\n"
      ]
    },
    {
      "cell_type": "markdown",
      "metadata": {
        "id": "wpanImv_x2l9"
      },
      "source": [
        "\n",
        "#### 4.1.1 Intro to Distributed Breadth-First Search\n",
        "\n",
        "\n",
        "To start off, we will be implementing a graph traversal algorithm known as Breadth First Search. It works in a way that's equivalent to how a stain spreads on a white t-shirt. Take a look at the graph below:\n",
        "\n",
        "<p align = \"center\">\n",
        "<img src = \"https://imgur.com/WU3AUwg.png\" width= \"600\" align =\"center\"/>\n",
        "\n",
        "* Consider starting BFS from point A (green). This is considered the starting frontier/singular origin node.\n",
        "* The first round of BFS would involve finding all the nodes directly reachable from A, namely B-F (blue circles). These blue nodes make up the next frontier at depth 1 away from our starting node A.\n",
        "* The second round would then be identifying the red nodes which are the neighbors of the blue nodes. Now, the red nodes all belong to a frontier 2 depth away from A. Note that node A is also a neighbor of a blue node. However, since it has already been visited, it does not get added to this frontier.\n",
        "\n",
        "This process continues until all the nodes in the graph have been visited.\n",
        "If you would like to learn more about BFS, we highly suggest looking [here](https://www.tutorialspoint.com/data_structures_algorithms/breadth_first_traversal.html).\n",
        "\n",
        "\n",
        "We will now be implementing **spark_bfs(G, N, d)**, our spark flavor of BFS that takes a graph **G**, a set of origin nodes **N**, and a max depth **d**.\n",
        "\n",
        "In order to write a successful BFS function, you are going to need to figure out \n",
        "1. how to keep track of nodes that we have visited\n",
        "2. how to properly find all the nodes at the next depth\n",
        "3. how to avoid cycles and ensure that we do not constantly loop through the same edges (take a look at J-K in the graph)\n"
      ]
    },
    {
      "cell_type": "markdown",
      "metadata": {
        "id": "I9QtEcHJyFTK"
      },
      "source": [
        "#### [OPTIONAL/ADDITIONAL] BFS vs. DFS Animation \n",
        "Run the code cells below to understand the difference between depth and breadth first search! (Source: Wikimedia Commons)"
      ]
    },
    {
      "cell_type": "code",
      "execution_count": 53,
      "metadata": {
        "id": "KOOmbVszx2gu",
        "colab": {
          "base_uri": "https://localhost:8080/",
          "height": 538
        },
        "outputId": "d19d1d49-500f-41fe-c2b1-a66bf49441ba"
      },
      "outputs": [
        {
          "output_type": "stream",
          "name": "stdout",
          "text": [
            "BFS:\n"
          ]
        },
        {
          "output_type": "execute_result",
          "data": {
            "text/plain": [
              "<IPython.core.display.Image object>"
            ],
            "text/html": [
              "<img src=\"https://upload.wikimedia.org/wikipedia/commons/5/5d/Breadth-First-Search-Algorithm.gif\"/>"
            ]
          },
          "metadata": {},
          "execution_count": 53
        }
      ],
      "source": [
        "# NOT GRADED\n",
        "print('BFS:')\n",
        "I(url=bfsgif)"
      ]
    },
    {
      "cell_type": "code",
      "execution_count": 54,
      "metadata": {
        "id": "Aq2JPO0iyN4g",
        "colab": {
          "base_uri": "https://localhost:8080/",
          "height": 538
        },
        "outputId": "cd592cad-7300-420a-ce06-12b7d2866ded"
      },
      "outputs": [
        {
          "output_type": "stream",
          "name": "stdout",
          "text": [
            "DFS:\n"
          ]
        },
        {
          "output_type": "execute_result",
          "data": {
            "text/plain": [
              "<IPython.core.display.Image object>"
            ],
            "text/html": [
              "<img src=\"https://upload.wikimedia.org/wikipedia/commons/7/7f/Depth-First-Search.gif\"/>"
            ]
          },
          "metadata": {},
          "execution_count": 54
        }
      ],
      "source": [
        "#NOT GRADED\n",
        "print('DFS:')\n",
        "I(url=dfsgif)"
      ]
    },
    {
      "cell_type": "markdown",
      "metadata": {
        "id": "wp6kU4RWyQw4"
      },
      "source": [
        "#### 4.1.2 Implement One Traversal\n",
        "\n",
        "To break down this process, let's think about how we would implement a single traversal of the graph. That is given the green node in the graph above, how are we going to get the blue nodes?\n",
        "\n",
        "\n",
        "Consider the simple graph below **which is different from the graph in the image above**:"
      ]
    },
    {
      "cell_type": "code",
      "execution_count": 55,
      "metadata": {
        "id": "VZV6fQIxyaww",
        "colab": {
          "base_uri": "https://localhost:8080/"
        },
        "outputId": "9edf3ae7-8220-4cb6-ec05-ee122f641ea3"
      },
      "outputs": [
        {
          "output_type": "stream",
          "name": "stdout",
          "text": [
            "+---------+-------+\n",
            "|from_node|to_node|\n",
            "+---------+-------+\n",
            "|        A|      B|\n",
            "|        A|      C|\n",
            "|        A|      D|\n",
            "|        C|      F|\n",
            "|        F|      A|\n",
            "|        B|      G|\n",
            "|        G|      H|\n",
            "|        D|      E|\n",
            "+---------+-------+\n",
            "\n"
          ]
        }
      ],
      "source": [
        "spark.conf.set(\"spark.sql.execution.arrow.enabled\", \"true\")\n",
        "\n",
        "simple = [('A', 'B'),\n",
        "         ('A', 'C'),\n",
        "         ('A', 'D'),\n",
        "         ('C', 'F'),\n",
        "         ('F', 'A'),\n",
        "         ('B', 'G'),\n",
        "         ('G', 'H'),\n",
        "         ('D', 'E')]\n",
        "\n",
        "simple_dict = {'from_node': ['A', 'A', 'A', 'C', 'F', 'B', 'G', 'D'],\n",
        "       'to_node': ['B', 'C', 'D', 'F', 'A', 'G', 'H', 'E']}\n",
        "\n",
        "simple_graph_df = pd.DataFrame.from_dict(simple_dict)\n",
        "simple_graph_sdf = spark.createDataFrame(simple_graph_df)\n",
        "simple_graph_sdf.show()"
      ]
    },
    {
      "cell_type": "markdown",
      "metadata": {
        "id": "MQuo6wH-yr9D"
      },
      "source": [
        "As you can see, each row of this dataframe represents an edge between two nodes Here, we are looking at a **directed graph**, which means that A-->B  does not represent the same edge as B-->A.\n",
        "\n",
        "Let's define our starting node as follows:"
      ]
    },
    {
      "cell_type": "code",
      "execution_count": 56,
      "metadata": {
        "id": "jmaJlqRuzEEv"
      },
      "outputs": [],
      "source": [
        "smallOrig = [{'node': 'A'}]"
      ]
    },
    {
      "cell_type": "markdown",
      "metadata": {
        "id": "g6hLLqHdzHmy"
      },
      "source": [
        "Then, bfs with graph G, starting from smallOrig to depth 1, or  **spark_bfs(G, smallOrig, 1)** would output as follows:"
      ]
    },
    {
      "cell_type": "code",
      "execution_count": 57,
      "metadata": {
        "id": "MSWF2e-YzIud",
        "colab": {
          "base_uri": "https://localhost:8080/"
        },
        "outputId": "09019125-df1d-4c85-daf9-6a555cdc2f8b"
      },
      "outputs": [
        {
          "output_type": "stream",
          "name": "stdout",
          "text": [
            "+----+--------+\n",
            "|node|distance|\n",
            "+----+--------+\n",
            "|   B|       1|\n",
            "|   D|       1|\n",
            "|   C|       1|\n",
            "|   A|       0|\n",
            "+----+--------+\n",
            "\n"
          ]
        }
      ],
      "source": [
        "simple_1_round_dict = {'node': ['B', 'D', 'C', 'A'],\n",
        "       'distance': [1, 1, 1, 0]}\n",
        "simple_1_round_bfs_df = pd.DataFrame.from_dict(simple_1_round_dict)\n",
        "simple_1_round_bfs_sdf = spark.createDataFrame(simple_1_round_bfs_df)\n",
        "# spark1\n",
        "simple_1_round_bfs_sdf.show()"
      ]
    },
    {
      "cell_type": "markdown",
      "metadata": {
        "id": "eL9Jx1BLzZME"
      },
      "source": [
        "As you can see, this dataframe logs each node with its corresponding distance away from A. Moreover, we also know that these nodes are **visited**. \n",
        "\n",
        "Hopefully, you can see how we can use our original graph and this new information to find the nodes at depth two. \n",
        "\n",
        "This is exactly what we will try to accomplish with **spark_bfs_1_round(visited_nodes)** which will ultimately be the inner function of **spark_bfs** that we use to perform exactly one traversal of a graph.\n",
        "\n",
        "**TODO**: Write **spark_bfs_1_round(visted_nodes)** that takes the currently dataframe of visited_nodes, performs one round of BFS, and returns an updated visited nodes dataframe. You should assume that a temporary sdf G already exists."
      ]
    },
    {
      "cell_type": "code",
      "execution_count": 60,
      "metadata": {
        "id": "vZcC22Bfzi6F"
      },
      "outputs": [],
      "source": [
        "simple_graph_sdf.createOrReplaceTempView(\"G\")\n",
        "def spark_bfs_1_round(visited_nodes):\n",
        "  \"\"\"\n",
        "  :param visited_nodes: dataframe with columns node and distance\n",
        "  :return: dataframe of updated visuted nodes, with columns node and distance\n",
        "  \"\"\"\n",
        "  # TODO: Complete this function to implement 1 round of BFS\n",
        "  # simple_graph_sdf.show()\n",
        "  # visited_nodes.show()\n",
        "\n",
        "  visited_nodes.createOrReplaceTempView(\"visited_nodes\")\n",
        "  \n",
        "  querytest = '''\n",
        "  SELECT * FROM G\n",
        "  '''\n",
        "\n",
        "\n",
        "  query = '''\n",
        "SELECT to_node AS node, distance + 1 AS distance FROM visited_nodes vn\n",
        "LEFT JOIN G g ON vn.node = g.from_node\n",
        "WHERE to_node IS NOT NULL\n",
        "UNION SELECT * FROM visited_nodes\n",
        "WHERE distance = 0 \n",
        "  '''\n",
        "  visited_nodes = spark.sql(query)\n",
        "  # visited_nodes.show()\n",
        "  spark.catalog.dropTempView(\"visited_nodes\")\n",
        "\n",
        "  testtable = spark.sql(querytest)\n",
        "  testtable.show()\n",
        "\n",
        "  return visited_nodes"
      ]
    },
    {
      "cell_type": "markdown",
      "metadata": {
        "id": "VDY1lkNtz3zX"
      },
      "source": [
        "Now, run the inner function on **simple_1_round_bfs_sdf** (i.e. result of 1 round of BFS on the simple graph) and store the results in **simple_bfs_result**. This is ultimately what the output of BFS to depth 2 should look like."
      ]
    },
    {
      "cell_type": "code",
      "execution_count": 61,
      "metadata": {
        "id": "TxNEr82Z0EYY",
        "colab": {
          "base_uri": "https://localhost:8080/"
        },
        "outputId": "b42ab061-29dd-4ac2-d0f3-05a2004e2781"
      },
      "outputs": [
        {
          "output_type": "stream",
          "name": "stdout",
          "text": [
            "+---------+-------+\n",
            "|from_node|to_node|\n",
            "+---------+-------+\n",
            "|        A|      B|\n",
            "|        A|      C|\n",
            "|        A|      D|\n",
            "|        C|      F|\n",
            "|        F|      A|\n",
            "|        B|      G|\n",
            "|        G|      H|\n",
            "|        D|      E|\n",
            "+---------+-------+\n",
            "\n",
            "+----+--------+\n",
            "|node|distance|\n",
            "+----+--------+\n",
            "|   G|       2|\n",
            "|   E|       2|\n",
            "|   F|       2|\n",
            "|   B|       1|\n",
            "|   C|       1|\n",
            "|   D|       1|\n",
            "|   A|       0|\n",
            "+----+--------+\n",
            "\n"
          ]
        }
      ],
      "source": [
        "# TODO: Run spark_bfs_1_round on simple_1_round_bfs_sdf\n",
        "simple_bfs_result = spark_bfs_1_round(simple_1_round_bfs_sdf)\n",
        "simple_bfs_result.show()\n"
      ]
    },
    {
      "cell_type": "markdown",
      "metadata": {
        "id": "IJMBU6I50Ls6"
      },
      "source": [
        "Convert this result to Pandas, sorted by the node (ascending), and submit it to the autograder.\n",
        "\n",
        "**HINT:** Make sure distance is formatted as a number!"
      ]
    },
    {
      "cell_type": "code",
      "execution_count": 62,
      "metadata": {
        "id": "DltsLEUz0PUg",
        "colab": {
          "base_uri": "https://localhost:8080/",
          "height": 269
        },
        "outputId": "73151471-7850-4b53-ca26-01601444a2b6"
      },
      "outputs": [
        {
          "output_type": "execute_result",
          "data": {
            "text/plain": [
              "  node  distance\n",
              "6    A         0\n",
              "3    B         1\n",
              "4    C         1\n",
              "5    D         1\n",
              "1    E         2\n",
              "2    F         2\n",
              "0    G         2"
            ],
            "text/html": [
              "\n",
              "  <div id=\"df-aafedb20-6354-4207-afc1-273742eb4131\">\n",
              "    <div class=\"colab-df-container\">\n",
              "      <div>\n",
              "<style scoped>\n",
              "    .dataframe tbody tr th:only-of-type {\n",
              "        vertical-align: middle;\n",
              "    }\n",
              "\n",
              "    .dataframe tbody tr th {\n",
              "        vertical-align: top;\n",
              "    }\n",
              "\n",
              "    .dataframe thead th {\n",
              "        text-align: right;\n",
              "    }\n",
              "</style>\n",
              "<table border=\"1\" class=\"dataframe\">\n",
              "  <thead>\n",
              "    <tr style=\"text-align: right;\">\n",
              "      <th></th>\n",
              "      <th>node</th>\n",
              "      <th>distance</th>\n",
              "    </tr>\n",
              "  </thead>\n",
              "  <tbody>\n",
              "    <tr>\n",
              "      <th>6</th>\n",
              "      <td>A</td>\n",
              "      <td>0</td>\n",
              "    </tr>\n",
              "    <tr>\n",
              "      <th>3</th>\n",
              "      <td>B</td>\n",
              "      <td>1</td>\n",
              "    </tr>\n",
              "    <tr>\n",
              "      <th>4</th>\n",
              "      <td>C</td>\n",
              "      <td>1</td>\n",
              "    </tr>\n",
              "    <tr>\n",
              "      <th>5</th>\n",
              "      <td>D</td>\n",
              "      <td>1</td>\n",
              "    </tr>\n",
              "    <tr>\n",
              "      <th>1</th>\n",
              "      <td>E</td>\n",
              "      <td>2</td>\n",
              "    </tr>\n",
              "    <tr>\n",
              "      <th>2</th>\n",
              "      <td>F</td>\n",
              "      <td>2</td>\n",
              "    </tr>\n",
              "    <tr>\n",
              "      <th>0</th>\n",
              "      <td>G</td>\n",
              "      <td>2</td>\n",
              "    </tr>\n",
              "  </tbody>\n",
              "</table>\n",
              "</div>\n",
              "      <button class=\"colab-df-convert\" onclick=\"convertToInteractive('df-aafedb20-6354-4207-afc1-273742eb4131')\"\n",
              "              title=\"Convert this dataframe to an interactive table.\"\n",
              "              style=\"display:none;\">\n",
              "        \n",
              "  <svg xmlns=\"http://www.w3.org/2000/svg\" height=\"24px\"viewBox=\"0 0 24 24\"\n",
              "       width=\"24px\">\n",
              "    <path d=\"M0 0h24v24H0V0z\" fill=\"none\"/>\n",
              "    <path d=\"M18.56 5.44l.94 2.06.94-2.06 2.06-.94-2.06-.94-.94-2.06-.94 2.06-2.06.94zm-11 1L8.5 8.5l.94-2.06 2.06-.94-2.06-.94L8.5 2.5l-.94 2.06-2.06.94zm10 10l.94 2.06.94-2.06 2.06-.94-2.06-.94-.94-2.06-.94 2.06-2.06.94z\"/><path d=\"M17.41 7.96l-1.37-1.37c-.4-.4-.92-.59-1.43-.59-.52 0-1.04.2-1.43.59L10.3 9.45l-7.72 7.72c-.78.78-.78 2.05 0 2.83L4 21.41c.39.39.9.59 1.41.59.51 0 1.02-.2 1.41-.59l7.78-7.78 2.81-2.81c.8-.78.8-2.07 0-2.86zM5.41 20L4 18.59l7.72-7.72 1.47 1.35L5.41 20z\"/>\n",
              "  </svg>\n",
              "      </button>\n",
              "      \n",
              "  <style>\n",
              "    .colab-df-container {\n",
              "      display:flex;\n",
              "      flex-wrap:wrap;\n",
              "      gap: 12px;\n",
              "    }\n",
              "\n",
              "    .colab-df-convert {\n",
              "      background-color: #E8F0FE;\n",
              "      border: none;\n",
              "      border-radius: 50%;\n",
              "      cursor: pointer;\n",
              "      display: none;\n",
              "      fill: #1967D2;\n",
              "      height: 32px;\n",
              "      padding: 0 0 0 0;\n",
              "      width: 32px;\n",
              "    }\n",
              "\n",
              "    .colab-df-convert:hover {\n",
              "      background-color: #E2EBFA;\n",
              "      box-shadow: 0px 1px 2px rgba(60, 64, 67, 0.3), 0px 1px 3px 1px rgba(60, 64, 67, 0.15);\n",
              "      fill: #174EA6;\n",
              "    }\n",
              "\n",
              "    [theme=dark] .colab-df-convert {\n",
              "      background-color: #3B4455;\n",
              "      fill: #D2E3FC;\n",
              "    }\n",
              "\n",
              "    [theme=dark] .colab-df-convert:hover {\n",
              "      background-color: #434B5C;\n",
              "      box-shadow: 0px 1px 3px 1px rgba(0, 0, 0, 0.15);\n",
              "      filter: drop-shadow(0px 1px 2px rgba(0, 0, 0, 0.3));\n",
              "      fill: #FFFFFF;\n",
              "    }\n",
              "  </style>\n",
              "\n",
              "      <script>\n",
              "        const buttonEl =\n",
              "          document.querySelector('#df-aafedb20-6354-4207-afc1-273742eb4131 button.colab-df-convert');\n",
              "        buttonEl.style.display =\n",
              "          google.colab.kernel.accessAllowed ? 'block' : 'none';\n",
              "\n",
              "        async function convertToInteractive(key) {\n",
              "          const element = document.querySelector('#df-aafedb20-6354-4207-afc1-273742eb4131');\n",
              "          const dataTable =\n",
              "            await google.colab.kernel.invokeFunction('convertToInteractive',\n",
              "                                                     [key], {});\n",
              "          if (!dataTable) return;\n",
              "\n",
              "          const docLinkHtml = 'Like what you see? Visit the ' +\n",
              "            '<a target=\"_blank\" href=https://colab.research.google.com/notebooks/data_table.ipynb>data table notebook</a>'\n",
              "            + ' to learn more about interactive tables.';\n",
              "          element.innerHTML = '';\n",
              "          dataTable['output_type'] = 'display_data';\n",
              "          await google.colab.output.renderOutput(dataTable, element);\n",
              "          const docLink = document.createElement('div');\n",
              "          docLink.innerHTML = docLinkHtml;\n",
              "          element.appendChild(docLink);\n",
              "        }\n",
              "      </script>\n",
              "    </div>\n",
              "  </div>\n",
              "  "
            ]
          },
          "metadata": {},
          "execution_count": 62
        }
      ],
      "source": [
        "# TODO: Convert simple_bfs_result to Pandas sorted by node\n",
        "simple_bfs_test = simple_bfs_result.toPandas()\n",
        "simple_bfs_test = simple_bfs_test.sort_values(by=['node'])\n",
        "simple_bfs_test"
      ]
    },
    {
      "cell_type": "code",
      "execution_count": 63,
      "metadata": {
        "id": "rKpFy0tU0R8t",
        "colab": {
          "base_uri": "https://localhost:8080/"
        },
        "outputId": "842496a5-4449-439d-e54b-2b14c51bcbe7"
      },
      "outputs": [
        {
          "output_type": "stream",
          "name": "stdout",
          "text": [
            "Correct! You earned 6/6 points. You are a star!\n",
            "\n",
            "Your submission has been successfully recorded in the gradebook.\n"
          ]
        }
      ],
      "source": [
        "# 6 points\n",
        "grader.grade(test_case_id = 'checksimpleBFS', answer = simple_bfs_test)"
      ]
    },
    {
      "cell_type": "markdown",
      "metadata": {
        "id": "wUZugRR20T4F"
      },
      "source": [
        "#### 4.1.3 Full BFS Implementation\n",
        "\n",
        "Now, we will fully implement **spark_bfs**. This function should iteratively call your implemented version of **spark_bfs_1_round** and ultimately return the output of this function at **max_depth**.\n",
        "\n",
        "You are also responsible for initializing the starting dataframe, that is converting the list of origin nodes into a spark dataframe with the nodes logged at distance 0.\n",
        "\n",
        "Consider the following: \n",
        "\n",
        "```\n",
        "schema = StructType([\n",
        "            StructField(\"node\", StringType(), True)\n",
        "        ])\n",
        "\n",
        "    my_sdf = spark.createDataFrame(origins, schema)\n",
        "```\n",
        "\n",
        "The schema ultimately specifies the structure of the Spark DataFrame with a string `node` column. It then calls **spark.createDataFrame** to map this schema to the **origins** nodes. Also, you are responsible for ensuring that a view of your graph is available within this function. (Note: you will also need to add in a distance column)\n",
        "\n",
        "**TODO:** implement **spark_bfs(G,origins,max_depth)** and run on **teams_graph_sdf** initalized in 4.3. Note: you may want to run tests on the **simple_graph** example as the `teams_graph_sdf` will take quite some time to run.\n",
        "\n",
        "These imports might be useful: \n",
        "`from pyspark.sql.types import StructType, StructField, StringType, IntegerType`"
      ]
    },
    {
      "cell_type": "code",
      "execution_count": 64,
      "metadata": {
        "id": "TPaMfg6g2isS"
      },
      "outputs": [],
      "source": [
        "from pyspark.sql.types import StructType, StructField, StringType, IntegerType"
      ]
    },
    {
      "cell_type": "code",
      "execution_count": 115,
      "metadata": {
        "id": "2OpEOcsT1Vwu"
      },
      "outputs": [],
      "source": [
        "# TODO: iterative search over directed graph\n",
        "# Worth 5 points directly, but will be needed later\n",
        "# runs distributed BFS to a specified max depth\n",
        "# :param G: graph dataframe from 4.3\n",
        "# :param origins: list of origin nodes stored as {\"node\": nodeValue}\n",
        "# :param max_depth: integer value of max depth to run BFS to\n",
        "# :return: dataframe with columns node, distance of all visited nodes\n",
        "\n",
        "def spark_bfs(G, origins, max_depth):\n",
        "  \"\"\" runs distributed BFS to a specified max depth\n",
        "\n",
        "  :param G: graph dataframe from 4.3\n",
        "  :param origins: list of origin nodes stored as {\"node\": nodeValue}\n",
        "  :param max_depth: integer value of max depth to run BFS to\n",
        "  :return: dataframe with columns node, distance of all visited nodes\n",
        "  \"\"\"\n",
        "  origins_dictionary = {'node': [origins[0].get('node')],\"distance\":[0]}\n",
        "  schema = StructType([\n",
        "            StructField(\"node\", StringType(), False),\n",
        "            StructField(\"distance\", IntegerType(), False)\n",
        "        ])\n",
        "  origins_df = pd.DataFrame.from_dict(origins_dictionary)\n",
        "  origin_sdf = spark.createDataFrame(origins_df, schema)\n",
        "\n",
        "  G.createOrReplaceTempView(\"G\")\n",
        "  \n",
        "  for count in range(max_depth):\n",
        "    origin_sdf = spark_bfs_1_round(origin_sdf)\n",
        "    # origin_sdf.show()\n",
        "    count += 1\n",
        " \n",
        "  origin_word = origins[0].get('node')\n",
        "  sdf1 = origin_sdf.filter(((origin_sdf.node == origin_word ) & (origin_sdf.distance == 0)) | (origin_sdf.node != origin_word))\n",
        "  sdf1.createOrReplaceTempView(\"sdf\")\n",
        "  query = '''\n",
        "          SELECT node, min(distance) AS distance\n",
        "          FROM sdf\n",
        "          GROUP BY node\n",
        "          '''\n",
        "  final_sdf = spark.sql(query)\n",
        "\n",
        "  return  final_sdf"
      ]
    },
    {
      "cell_type": "markdown",
      "metadata": {
        "id": "7ZsmVVlE1r_v"
      },
      "source": [
        "Test that this function works on the simple example. "
      ]
    },
    {
      "cell_type": "code",
      "execution_count": 116,
      "metadata": {
        "id": "Ideb3M_c1t4N",
        "colab": {
          "base_uri": "https://localhost:8080/"
        },
        "outputId": "94bac502-e22d-4a03-dd36-75725281613f"
      },
      "outputs": [
        {
          "output_type": "stream",
          "name": "stdout",
          "text": [
            "+---------+-------+\n",
            "|from_node|to_node|\n",
            "+---------+-------+\n",
            "|        A|      B|\n",
            "|        A|      C|\n",
            "|        A|      D|\n",
            "|        C|      F|\n",
            "|        F|      A|\n",
            "|        B|      G|\n",
            "|        G|      H|\n",
            "|        D|      E|\n",
            "+---------+-------+\n",
            "\n",
            "+---------+-------+\n",
            "|from_node|to_node|\n",
            "+---------+-------+\n",
            "|        A|      B|\n",
            "|        A|      C|\n",
            "|        A|      D|\n",
            "|        C|      F|\n",
            "|        F|      A|\n",
            "|        B|      G|\n",
            "|        G|      H|\n",
            "|        D|      E|\n",
            "+---------+-------+\n",
            "\n",
            "+---------+-------+\n",
            "|from_node|to_node|\n",
            "+---------+-------+\n",
            "|        A|      B|\n",
            "|        A|      C|\n",
            "|        A|      D|\n",
            "|        C|      F|\n",
            "|        F|      A|\n",
            "|        B|      G|\n",
            "|        G|      H|\n",
            "|        D|      E|\n",
            "+---------+-------+\n",
            "\n",
            "+----+--------+\n",
            "|node|distance|\n",
            "+----+--------+\n",
            "|   F|       2|\n",
            "|   E|       2|\n",
            "|   B|       1|\n",
            "|   D|       1|\n",
            "|   C|       1|\n",
            "|   G|       2|\n",
            "|   H|       3|\n",
            "|   A|       0|\n",
            "+----+--------+\n",
            "\n"
          ]
        }
      ],
      "source": [
        "simple_bfs_iterative_result = spark_bfs(simple_graph_sdf, smallOrig, 3)\n",
        "simple_bfs_iterative_result.show()"
      ]
    },
    {
      "cell_type": "markdown",
      "metadata": {
        "id": "V6mLUZvAuwDK"
      },
      "source": [
        "### Step 4.2: History of the Super Bowl"
      ]
    },
    {
      "cell_type": "markdown",
      "metadata": {
        "id": "HUJ49VklGB92"
      },
      "source": [
        "Time to look at the Super Bowl history dataset. Here we have data for all Super Bowls from 1967 to 2020. Let's load the data to **superbowl_sdf** and see how it looks."
      ]
    },
    {
      "cell_type": "markdown",
      "metadata": {
        "id": "OFT-guWHa4iU"
      },
      "source": [
        "Download the `superbowl.csv` dataset from [here](https://drive.google.com/file/d/1QFLg2hvrjOi_QpDnKb0rWiszvP-g6txo/view?usp=sharing), and upload it to the content folder of this Colab notebook."
      ]
    },
    {
      "cell_type": "code",
      "execution_count": 117,
      "metadata": {
        "id": "ih_KUCTAvvWo"
      },
      "outputs": [],
      "source": [
        "superbowl_sdf = spark.read.csv(\"superbowl.csv\", header=True)"
      ]
    },
    {
      "cell_type": "code",
      "execution_count": 118,
      "metadata": {
        "id": "FMy3cSNTvvnF",
        "colab": {
          "base_uri": "https://localhost:8080/"
        },
        "outputId": "12708e0a-2eef-48b1-a879-bac5fb4e52dc"
      },
      "outputs": [
        {
          "output_type": "stream",
          "name": "stdout",
          "text": [
            "+-----------+------------+--------------------+----------+--------------------+---------+---------------+--------------------+---------------+----------+\n",
            "|       Date|          SB|              Winner|Winner Pts|               Loser|Loser Pts|            MVP|             Stadium|           City|     State|\n",
            "+-----------+------------+--------------------+----------+--------------------+---------+---------------+--------------------+---------------+----------+\n",
            "| Feb 2 2020|    LIV (54)|  Kansas City Chiefs|        31| San Francisco 49ers|       20|Patrick Mahomes|   Hard Rock Stadium|  Miami Gardens|   Florida|\n",
            "| Feb 3 2019|   LIII (53)|New England Patriots|        13|    Los Angeles Rams|        3| Julian Edelman|Mercedes-Benz Sta...|        Atlanta|   Georgia|\n",
            "| Feb 4 2018|    LII (52)| Philadelphia Eagles|        41|New England Patriots|       33|     Nick Foles|   U.S. Bank Stadium|    Minneapolis| Minnesota|\n",
            "| Feb 5 2017|     LI (51)|New England Patriots|        34|     Atlanta Falcons|       28|      Tom Brady|         NRG Stadium|        Houston|     Texas|\n",
            "| Feb 7 2016|          50|      Denver Broncos|        24|   Carolina Panthers|       10|     Von Miller|      Levi's Stadium|    Santa Clara|California|\n",
            "| Feb 1 2015|   XLIX (49)|New England Patriots|        28|    Seattle Seahawks|       24|      Tom Brady|University of Pho...|       Glendale|   Arizona|\n",
            "| Feb 2 2014| XLVIII (48)|    Seattle Seahawks|        43|      Denver Broncos|        8|  Malcolm Smith|     MetLife Stadium|East Rutherford|New Jersey|\n",
            "| Feb 3 2013|  XLVII (47)|    Baltimore Ravens|        34| San Francisco 49ers|       31|     Joe Flacco|Mercedes-Benz Sup...|    New Orleans| Louisiana|\n",
            "| Feb 5 2012|   XLVI (46)|     New York Giants|        21|New England Patriots|       17|    Eli Manning|   Lucas Oil Stadium|   Indianapolis|   Indiana|\n",
            "| Feb 6 2011|    XLV (45)|   Green Bay Packers|        31| Pittsburgh Steelers|       25|  Aaron Rodgers|     Cowboys Stadium|      Arlington|     Texas|\n",
            "| Feb 7 2010|   XLIV (44)|  New Orleans Saints|        31|  Indianapolis Colts|       17|     Drew Brees|    Sun Life Stadium|  Miami Gardens|   Florida|\n",
            "| Feb 1 2009|  XLIII (43)| Pittsburgh Steelers|        27|   Arizona Cardinals|       23|Santonio Holmes|Raymond James Sta...|          Tampa|   Florida|\n",
            "| Feb 3 2008|   XLII (42)|     New York Giants|        17|New England Patriots|       14|    Eli Manning|University of Pho...|       Glendale|   Arizona|\n",
            "| Feb 4 2007|    XLI (41)|  Indianapolis Colts|        29|       Chicago Bears|       17| Peyton Manning|     Dolphin Stadium|  Miami Gardens|   Florida|\n",
            "| Feb 5 2006|     XL (40)| Pittsburgh Steelers|        21|    Seattle Seahawks|       10|     Hines Ward|          Ford Field|        Detroit|  Michigan|\n",
            "| Feb 6 2005|  XXXIX (39)|New England Patriots|        24| Philadelphia Eagles|       21|   Deion Branch|      Alltel Stadium|   Jacksonville|   Florida|\n",
            "| Feb 1 2004|XXXVIII (38)|New England Patriots|        32|   Carolina Panthers|       29|      Tom Brady|     Reliant Stadium|        Houston|     Texas|\n",
            "|Jan 26 2003| XXXVII (37)|Tampa Bay Buccaneers|        48|     Oakland Raiders|       21| Dexter Jackson|    Qualcomm Stadium|      San Diego|California|\n",
            "| Feb 3 2002|  XXXVI (36)|New England Patriots|        20|      St. Louis Rams|       17|      Tom Brady| Louisiana Superdome|    New Orleans| Louisiana|\n",
            "|Jan 28 2001|   XXXV (35)|    Baltimore Ravens|        34|     New York Giants|        7|     Ray Lewis+|Raymond James Sta...|          Tampa|   Florida|\n",
            "+-----------+------------+--------------------+----------+--------------------+---------+---------------+--------------------+---------------+----------+\n",
            "only showing top 20 rows\n",
            "\n"
          ]
        }
      ],
      "source": [
        "superbowl_sdf.show()"
      ]
    },
    {
      "cell_type": "markdown",
      "metadata": {
        "id": "RUxD2OD0GeYE"
      },
      "source": [
        "Do you know which teams have been the most successful during this period? Let's find out!\n",
        "\n",
        "**TODO:** Calculate the number of times each team appears in the *Winner* column, and store this **count_sdf**. This should have two columns: *Winner* and *win_count*."
      ]
    },
    {
      "cell_type": "code",
      "execution_count": 119,
      "metadata": {
        "id": "LwDGFymQv66L",
        "colab": {
          "base_uri": "https://localhost:8080/"
        },
        "outputId": "9ddcabbc-65bc-474c-e733-c04658739abb"
      },
      "outputs": [
        {
          "output_type": "stream",
          "name": "stdout",
          "text": [
            "+--------------------+---------+\n",
            "|              Winner|win_count|\n",
            "+--------------------+---------+\n",
            "| San Francisco 49ers|        5|\n",
            "|     Baltimore Colts|        1|\n",
            "|Tampa Bay Buccaneers|        1|\n",
            "|New England Patriots|        6|\n",
            "|  Kansas City Chiefs|        2|\n",
            "| Philadelphia Eagles|        1|\n",
            "|  Indianapolis Colts|        1|\n",
            "|       New York Jets|        1|\n",
            "|       Chicago Bears|        1|\n",
            "|      Miami Dolphins|        2|\n",
            "|     Oakland Raiders|        2|\n",
            "|   Green Bay Packers|        4|\n",
            "|      Denver Broncos|        3|\n",
            "|      Dallas Cowboys|        5|\n",
            "|  New Orleans Saints|        1|\n",
            "| Washington Redskins|        3|\n",
            "|    Seattle Seahawks|        1|\n",
            "|    Baltimore Ravens|        2|\n",
            "| Pittsburgh Steelers|        6|\n",
            "| Los Angeles Raiders|        1|\n",
            "+--------------------+---------+\n",
            "only showing top 20 rows\n",
            "\n"
          ]
        }
      ],
      "source": [
        "# TODO\n",
        "superbowl_sdf.createOrReplaceTempView(\"superbowl\")\n",
        "\n",
        "query = '''\n",
        "        SELECT Winner, count(Winner) AS win_count\n",
        "        FROM superbowl\n",
        "        GROUP BY Winner\n",
        "         '''\n",
        "count_sdf = spark.sql(query)\n",
        "count_sdf.show()\n",
        "\n"
      ]
    },
    {
      "cell_type": "markdown",
      "metadata": {
        "id": "Qpjvw2j3I9Nt"
      },
      "source": [
        "Convert the dataframe to pandas and pass it to the grader."
      ]
    },
    {
      "cell_type": "code",
      "execution_count": 120,
      "metadata": {
        "id": "FJ_GNxFeIvH6"
      },
      "outputs": [],
      "source": [
        "count_df= count_sdf.toPandas()\n",
        "to_submit = pd.read_json(count_df.to_json())"
      ]
    },
    {
      "cell_type": "code",
      "execution_count": 121,
      "metadata": {
        "id": "0y-AIOxyH3s-",
        "colab": {
          "base_uri": "https://localhost:8080/"
        },
        "outputId": "474ac8d1-4a46-4c7d-d5cc-bed3be16dc02"
      },
      "outputs": [
        {
          "output_type": "stream",
          "name": "stdout",
          "text": [
            "Correct! You earned 3/3 points. You are a star!\n",
            "\n",
            "Your submission has been successfully recorded in the gradebook.\n"
          ]
        }
      ],
      "source": [
        "# 3 points\n",
        "grader.grade(test_case_id = 'checkSuperBowlCount', answer = count_df)"
      ]
    },
    {
      "cell_type": "markdown",
      "metadata": {
        "id": "NDQHXODMI35m"
      },
      "source": [
        "Now that we have the Super Bowl dataset, let's convert it to a graph sdf just like the one we had in section 4.1 (P.S. it's not as hard as it sounds).\n",
        "\n",
        "**TODO:** Create **teams_graph_sdf** that has the columns *from_node* and *to_node*. from_node has all the entries from the *Winner* column and to_node has all the entries from the *Loser* column."
      ]
    },
    {
      "cell_type": "code",
      "execution_count": 122,
      "metadata": {
        "id": "N85KxevSv4ei",
        "colab": {
          "base_uri": "https://localhost:8080/"
        },
        "outputId": "04415dee-16b5-44f5-9f8a-33c75712b074"
      },
      "outputs": [
        {
          "output_type": "stream",
          "name": "stdout",
          "text": [
            "+--------------------+--------------------+\n",
            "|           from_node|             to_node|\n",
            "+--------------------+--------------------+\n",
            "|  Kansas City Chiefs| San Francisco 49ers|\n",
            "|New England Patriots|    Los Angeles Rams|\n",
            "| Philadelphia Eagles|New England Patriots|\n",
            "|New England Patriots|     Atlanta Falcons|\n",
            "|      Denver Broncos|   Carolina Panthers|\n",
            "|New England Patriots|    Seattle Seahawks|\n",
            "|    Seattle Seahawks|      Denver Broncos|\n",
            "|    Baltimore Ravens| San Francisco 49ers|\n",
            "|     New York Giants|New England Patriots|\n",
            "|   Green Bay Packers| Pittsburgh Steelers|\n",
            "|  New Orleans Saints|  Indianapolis Colts|\n",
            "| Pittsburgh Steelers|   Arizona Cardinals|\n",
            "|     New York Giants|New England Patriots|\n",
            "|  Indianapolis Colts|       Chicago Bears|\n",
            "| Pittsburgh Steelers|    Seattle Seahawks|\n",
            "|New England Patriots| Philadelphia Eagles|\n",
            "|New England Patriots|   Carolina Panthers|\n",
            "|Tampa Bay Buccaneers|     Oakland Raiders|\n",
            "|New England Patriots|      St. Louis Rams|\n",
            "|    Baltimore Ravens|     New York Giants|\n",
            "+--------------------+--------------------+\n",
            "only showing top 20 rows\n",
            "\n"
          ]
        }
      ],
      "source": [
        "# teams_graph_sdf = ...\n",
        "\n",
        "superbowl_sdf.createOrReplaceTempView(\"superbowl\")\n",
        "\n",
        "query = '''\n",
        "        SELECT Winner AS `from_node`, Loser AS `to_node`\n",
        "        FROM superbowl\n",
        "\n",
        "         '''\n",
        "\n",
        "teams_graph_sdf = spark.sql(query)\n",
        "teams_graph_sdf.show()\n",
        "teams_graph_df= teams_graph_sdf.toPandas()\n",
        "to_submit = pd.read_json(teams_graph_df.to_json())"
      ]
    },
    {
      "cell_type": "code",
      "execution_count": 123,
      "metadata": {
        "id": "sQrBW1FcMNEP",
        "colab": {
          "base_uri": "https://localhost:8080/"
        },
        "outputId": "d390c404-3f6a-428c-c502-83880db651bb"
      },
      "outputs": [
        {
          "output_type": "stream",
          "name": "stdout",
          "text": [
            "Correct! You earned 2/2 points. You are a star!\n",
            "\n",
            "Your submission has been successfully recorded in the gradebook.\n"
          ]
        }
      ],
      "source": [
        "# 2 points\n",
        "grader.grade(test_case_id = 'checkSuperBowlGraph', answer = teams_graph_sdf.toPandas())"
      ]
    },
    {
      "cell_type": "markdown",
      "metadata": {
        "id": "C5hCeztRMe2D"
      },
      "source": [
        "We have our graph ready! All that's left is running full BFS on it find the Super Bacons."
      ]
    },
    {
      "cell_type": "markdown",
      "metadata": {
        "id": "HYMybeI82fgC"
      },
      "source": [
        "### Step 4.3: The Super Bacon Search"
      ]
    },
    {
      "cell_type": "markdown",
      "metadata": {
        "id": "oQyp_EjeM_16"
      },
      "source": [
        "In the previous section, we found out that the New England Patriots and the Pittsburgh Steelers have been the most successful teams in the 54 years. So let's find out the Super Bacons of teams with respect to the New England Patriots."
      ]
    },
    {
      "cell_type": "markdown",
      "metadata": {
        "id": "W4iQD5nJOrJy"
      },
      "source": [
        "First, we'll create an origin node using the New England Patriots."
      ]
    },
    {
      "cell_type": "code",
      "execution_count": 124,
      "metadata": {
        "id": "YolRMKEl2xJG"
      },
      "outputs": [],
      "source": [
        "orig = [{'node': 'New England Patriots'}]"
      ]
    },
    {
      "cell_type": "markdown",
      "metadata": {
        "id": "rw_lX0nPPoYT"
      },
      "source": [
        "Now, run the **spark_bfs()** function on **teams_graph_sdf** using this origin node and a max depth of 5. Store the result in **bfs_5**."
      ]
    },
    {
      "cell_type": "code",
      "execution_count": 125,
      "metadata": {
        "id": "rGG2g_dWPmG-",
        "colab": {
          "base_uri": "https://localhost:8080/"
        },
        "outputId": "62ac8dc7-4b10-41ac-e62e-a2d643b7f7f4"
      },
      "outputs": [
        {
          "output_type": "stream",
          "name": "stdout",
          "text": [
            "+--------------------+--------------------+\n",
            "|           from_node|             to_node|\n",
            "+--------------------+--------------------+\n",
            "|  Kansas City Chiefs| San Francisco 49ers|\n",
            "|New England Patriots|    Los Angeles Rams|\n",
            "| Philadelphia Eagles|New England Patriots|\n",
            "|New England Patriots|     Atlanta Falcons|\n",
            "|      Denver Broncos|   Carolina Panthers|\n",
            "|New England Patriots|    Seattle Seahawks|\n",
            "|    Seattle Seahawks|      Denver Broncos|\n",
            "|    Baltimore Ravens| San Francisco 49ers|\n",
            "|     New York Giants|New England Patriots|\n",
            "|   Green Bay Packers| Pittsburgh Steelers|\n",
            "|  New Orleans Saints|  Indianapolis Colts|\n",
            "| Pittsburgh Steelers|   Arizona Cardinals|\n",
            "|     New York Giants|New England Patriots|\n",
            "|  Indianapolis Colts|       Chicago Bears|\n",
            "| Pittsburgh Steelers|    Seattle Seahawks|\n",
            "|New England Patriots| Philadelphia Eagles|\n",
            "|New England Patriots|   Carolina Panthers|\n",
            "|Tampa Bay Buccaneers|     Oakland Raiders|\n",
            "|New England Patriots|      St. Louis Rams|\n",
            "|    Baltimore Ravens|     New York Giants|\n",
            "+--------------------+--------------------+\n",
            "only showing top 20 rows\n",
            "\n",
            "+--------------------+--------------------+\n",
            "|           from_node|             to_node|\n",
            "+--------------------+--------------------+\n",
            "|  Kansas City Chiefs| San Francisco 49ers|\n",
            "|New England Patriots|    Los Angeles Rams|\n",
            "| Philadelphia Eagles|New England Patriots|\n",
            "|New England Patriots|     Atlanta Falcons|\n",
            "|      Denver Broncos|   Carolina Panthers|\n",
            "|New England Patriots|    Seattle Seahawks|\n",
            "|    Seattle Seahawks|      Denver Broncos|\n",
            "|    Baltimore Ravens| San Francisco 49ers|\n",
            "|     New York Giants|New England Patriots|\n",
            "|   Green Bay Packers| Pittsburgh Steelers|\n",
            "|  New Orleans Saints|  Indianapolis Colts|\n",
            "| Pittsburgh Steelers|   Arizona Cardinals|\n",
            "|     New York Giants|New England Patriots|\n",
            "|  Indianapolis Colts|       Chicago Bears|\n",
            "| Pittsburgh Steelers|    Seattle Seahawks|\n",
            "|New England Patriots| Philadelphia Eagles|\n",
            "|New England Patriots|   Carolina Panthers|\n",
            "|Tampa Bay Buccaneers|     Oakland Raiders|\n",
            "|New England Patriots|      St. Louis Rams|\n",
            "|    Baltimore Ravens|     New York Giants|\n",
            "+--------------------+--------------------+\n",
            "only showing top 20 rows\n",
            "\n",
            "+--------------------+--------------------+\n",
            "|           from_node|             to_node|\n",
            "+--------------------+--------------------+\n",
            "|  Kansas City Chiefs| San Francisco 49ers|\n",
            "|New England Patriots|    Los Angeles Rams|\n",
            "| Philadelphia Eagles|New England Patriots|\n",
            "|New England Patriots|     Atlanta Falcons|\n",
            "|      Denver Broncos|   Carolina Panthers|\n",
            "|New England Patriots|    Seattle Seahawks|\n",
            "|    Seattle Seahawks|      Denver Broncos|\n",
            "|    Baltimore Ravens| San Francisco 49ers|\n",
            "|     New York Giants|New England Patriots|\n",
            "|   Green Bay Packers| Pittsburgh Steelers|\n",
            "|  New Orleans Saints|  Indianapolis Colts|\n",
            "| Pittsburgh Steelers|   Arizona Cardinals|\n",
            "|     New York Giants|New England Patriots|\n",
            "|  Indianapolis Colts|       Chicago Bears|\n",
            "| Pittsburgh Steelers|    Seattle Seahawks|\n",
            "|New England Patriots| Philadelphia Eagles|\n",
            "|New England Patriots|   Carolina Panthers|\n",
            "|Tampa Bay Buccaneers|     Oakland Raiders|\n",
            "|New England Patriots|      St. Louis Rams|\n",
            "|    Baltimore Ravens|     New York Giants|\n",
            "+--------------------+--------------------+\n",
            "only showing top 20 rows\n",
            "\n",
            "+--------------------+--------------------+\n",
            "|           from_node|             to_node|\n",
            "+--------------------+--------------------+\n",
            "|  Kansas City Chiefs| San Francisco 49ers|\n",
            "|New England Patriots|    Los Angeles Rams|\n",
            "| Philadelphia Eagles|New England Patriots|\n",
            "|New England Patriots|     Atlanta Falcons|\n",
            "|      Denver Broncos|   Carolina Panthers|\n",
            "|New England Patriots|    Seattle Seahawks|\n",
            "|    Seattle Seahawks|      Denver Broncos|\n",
            "|    Baltimore Ravens| San Francisco 49ers|\n",
            "|     New York Giants|New England Patriots|\n",
            "|   Green Bay Packers| Pittsburgh Steelers|\n",
            "|  New Orleans Saints|  Indianapolis Colts|\n",
            "| Pittsburgh Steelers|   Arizona Cardinals|\n",
            "|     New York Giants|New England Patriots|\n",
            "|  Indianapolis Colts|       Chicago Bears|\n",
            "| Pittsburgh Steelers|    Seattle Seahawks|\n",
            "|New England Patriots| Philadelphia Eagles|\n",
            "|New England Patriots|   Carolina Panthers|\n",
            "|Tampa Bay Buccaneers|     Oakland Raiders|\n",
            "|New England Patriots|      St. Louis Rams|\n",
            "|    Baltimore Ravens|     New York Giants|\n",
            "+--------------------+--------------------+\n",
            "only showing top 20 rows\n",
            "\n",
            "+--------------------+--------------------+\n",
            "|           from_node|             to_node|\n",
            "+--------------------+--------------------+\n",
            "|  Kansas City Chiefs| San Francisco 49ers|\n",
            "|New England Patriots|    Los Angeles Rams|\n",
            "| Philadelphia Eagles|New England Patriots|\n",
            "|New England Patriots|     Atlanta Falcons|\n",
            "|      Denver Broncos|   Carolina Panthers|\n",
            "|New England Patriots|    Seattle Seahawks|\n",
            "|    Seattle Seahawks|      Denver Broncos|\n",
            "|    Baltimore Ravens| San Francisco 49ers|\n",
            "|     New York Giants|New England Patriots|\n",
            "|   Green Bay Packers| Pittsburgh Steelers|\n",
            "|  New Orleans Saints|  Indianapolis Colts|\n",
            "| Pittsburgh Steelers|   Arizona Cardinals|\n",
            "|     New York Giants|New England Patriots|\n",
            "|  Indianapolis Colts|       Chicago Bears|\n",
            "| Pittsburgh Steelers|    Seattle Seahawks|\n",
            "|New England Patriots| Philadelphia Eagles|\n",
            "|New England Patriots|   Carolina Panthers|\n",
            "|Tampa Bay Buccaneers|     Oakland Raiders|\n",
            "|New England Patriots|      St. Louis Rams|\n",
            "|    Baltimore Ravens|     New York Giants|\n",
            "+--------------------+--------------------+\n",
            "only showing top 20 rows\n",
            "\n"
          ]
        }
      ],
      "source": [
        "bfs_5 = spark_bfs(teams_graph_sdf, orig, 5)"
      ]
    },
    {
      "cell_type": "code",
      "execution_count": 126,
      "metadata": {
        "id": "L3nwp0ly20oD",
        "colab": {
          "base_uri": "https://localhost:8080/"
        },
        "outputId": "7c25f5c9-971c-4d70-e02b-d268cb1c35b2"
      },
      "outputs": [
        {
          "output_type": "stream",
          "name": "stdout",
          "text": [
            "+--------------------+--------+\n",
            "|                node|distance|\n",
            "+--------------------+--------+\n",
            "| San Francisco 49ers|       5|\n",
            "|    Tennessee Titans|       2|\n",
            "|   Arizona Cardinals|       5|\n",
            "|  Kansas City Chiefs|       4|\n",
            "| Philadelphia Eagles|       1|\n",
            "|     Oakland Raiders|       4|\n",
            "|     Atlanta Falcons|       1|\n",
            "|   Green Bay Packers|       3|\n",
            "|   Carolina Panthers|       1|\n",
            "|      Denver Broncos|       2|\n",
            "|      Dallas Cowboys|       5|\n",
            "|    Los Angeles Rams|       1|\n",
            "|    Seattle Seahawks|       1|\n",
            "| Pittsburgh Steelers|       4|\n",
            "|   Minnesota Vikings|       5|\n",
            "|      St. Louis Rams|       1|\n",
            "|New England Patriots|       0|\n",
            "+--------------------+--------+\n",
            "\n"
          ]
        }
      ],
      "source": [
        "bfs_5.show()"
      ]
    },
    {
      "cell_type": "markdown",
      "metadata": {
        "id": "gkmBQnFJQJjz"
      },
      "source": [
        "Converty the result to pandas, store it to answer_df and pass this to the grader."
      ]
    },
    {
      "cell_type": "code",
      "execution_count": 127,
      "metadata": {
        "id": "8VmoiLtK21Ru"
      },
      "outputs": [],
      "source": [
        "# TODO\n",
        "answer_df= bfs_5.toPandas()\n",
        "to_submit = pd.read_json(answer_df.to_json())"
      ]
    },
    {
      "cell_type": "code",
      "execution_count": 128,
      "metadata": {
        "id": "oCCXO6Wv4KNR",
        "colab": {
          "base_uri": "https://localhost:8080/"
        },
        "outputId": "7e7a31c7-8998-4cbd-a6d4-722345e0c46f"
      },
      "outputs": [
        {
          "output_type": "stream",
          "name": "stdout",
          "text": [
            "Correct! You earned 15/15 points. You are a star!\n",
            "\n",
            "Your submission has been successfully recorded in the gradebook.\n"
          ]
        }
      ],
      "source": [
        "# 15 points\n",
        "grader.grade(test_case_id = 'checkBFS', answer = answer_df)"
      ]
    },
    {
      "cell_type": "markdown",
      "metadata": {
        "id": "3dePHd9CQW-C"
      },
      "source": [
        "Voila! We're all done. Just like this NFL season, you've completed the homework."
      ]
    },
    {
      "cell_type": "markdown",
      "metadata": {
        "id": "4FJDDdPButTi"
      },
      "source": [
        "One last thing, as we predicted before, you're a star."
      ]
    },
    {
      "cell_type": "markdown",
      "metadata": {
        "id": "EHVFHPVIrvu1"
      },
      "source": [
        "# HW Submission\n",
        "\n",
        "Before you submit on Gradescope (you must submit your notebook to receive credit):\n",
        "\n",
        "\n",
        "1.   Restart and Run-All to make sure there's nothing wrong with your notebook\n",
        "2.   **Double check that you have the correct PennID (all numbers) in the autograder**. \n",
        "3. Make sure you've run all the PennGrader cells\n",
        "4. Go to the \"File\" tab at the top left, and click \"Download .ipynb\" and then \"Download .py\".  **Rename** the files to \"homework3.ipynb\" and \"homework3.py\" respectively and upload them to Gradescope \n",
        "\n",
        "**Let the course staff know ASAP if you have any issues submitting, but otherwise best of luck!**"
      ]
    }
  ],
  "metadata": {
    "colab": {
      "collapsed_sections": [],
      "name": "Copy of Spring 2022 Homework 3.ipynb",
      "provenance": []
    },
    "kernelspec": {
      "display_name": "Python 3",
      "name": "python3"
    },
    "widgets": {
      "application/vnd.jupyter.widget-state+json": {
        "013d403bcead495f98411adc2a6e1f19": {
          "model_module": "@jupyter-widgets/controls",
          "model_name": "FloatProgressModel",
          "model_module_version": "1.5.0",
          "state": {
            "_dom_classes": [],
            "_model_module": "@jupyter-widgets/controls",
            "_model_module_version": "1.5.0",
            "_model_name": "FloatProgressModel",
            "_view_count": null,
            "_view_module": "@jupyter-widgets/controls",
            "_view_module_version": "1.5.0",
            "_view_name": "ProgressView",
            "bar_style": "info",
            "description": "Progress:",
            "description_tooltip": null,
            "layout": "IPY_MODEL_dac943a64e4e49069895994f14f5fbe4",
            "max": 1,
            "min": 0,
            "orientation": "horizontal",
            "style": "IPY_MODEL_3e955907ee44496e9727f45d7be20026",
            "value": 0
          }
        },
        "dac943a64e4e49069895994f14f5fbe4": {
          "model_module": "@jupyter-widgets/base",
          "model_name": "LayoutModel",
          "model_module_version": "1.2.0",
          "state": {
            "_model_module": "@jupyter-widgets/base",
            "_model_module_version": "1.2.0",
            "_model_name": "LayoutModel",
            "_view_count": null,
            "_view_module": "@jupyter-widgets/base",
            "_view_module_version": "1.2.0",
            "_view_name": "LayoutView",
            "align_content": null,
            "align_items": null,
            "align_self": null,
            "border": null,
            "bottom": null,
            "display": null,
            "flex": null,
            "flex_flow": null,
            "grid_area": null,
            "grid_auto_columns": null,
            "grid_auto_flow": null,
            "grid_auto_rows": null,
            "grid_column": null,
            "grid_gap": null,
            "grid_row": null,
            "grid_template_areas": null,
            "grid_template_columns": null,
            "grid_template_rows": null,
            "height": "25px",
            "justify_content": null,
            "justify_items": null,
            "left": null,
            "margin": null,
            "max_height": null,
            "max_width": null,
            "min_height": null,
            "min_width": null,
            "object_fit": null,
            "object_position": null,
            "order": null,
            "overflow": null,
            "overflow_x": null,
            "overflow_y": null,
            "padding": null,
            "right": null,
            "top": null,
            "visibility": null,
            "width": "50%"
          }
        },
        "3e955907ee44496e9727f45d7be20026": {
          "model_module": "@jupyter-widgets/controls",
          "model_name": "ProgressStyleModel",
          "model_module_version": "1.5.0",
          "state": {
            "_model_module": "@jupyter-widgets/controls",
            "_model_module_version": "1.5.0",
            "_model_name": "ProgressStyleModel",
            "_view_count": null,
            "_view_module": "@jupyter-widgets/base",
            "_view_module_version": "1.2.0",
            "_view_name": "StyleView",
            "bar_color": null,
            "description_width": ""
          }
        },
        "0f22e1185b9e4959b154f3777411d254": {
          "model_module": "@jupyter-widgets/controls",
          "model_name": "FloatProgressModel",
          "model_module_version": "1.5.0",
          "state": {
            "_dom_classes": [],
            "_model_module": "@jupyter-widgets/controls",
            "_model_module_version": "1.5.0",
            "_model_name": "FloatProgressModel",
            "_view_count": null,
            "_view_module": "@jupyter-widgets/controls",
            "_view_module_version": "1.5.0",
            "_view_name": "ProgressView",
            "bar_style": "info",
            "description": "Progress:",
            "description_tooltip": null,
            "layout": "IPY_MODEL_d865e47fda204ec1bdcfe549adc4e334",
            "max": 1,
            "min": 0,
            "orientation": "horizontal",
            "style": "IPY_MODEL_8ea85629cac14cfa803f9619fafd696a",
            "value": 0
          }
        },
        "d865e47fda204ec1bdcfe549adc4e334": {
          "model_module": "@jupyter-widgets/base",
          "model_name": "LayoutModel",
          "model_module_version": "1.2.0",
          "state": {
            "_model_module": "@jupyter-widgets/base",
            "_model_module_version": "1.2.0",
            "_model_name": "LayoutModel",
            "_view_count": null,
            "_view_module": "@jupyter-widgets/base",
            "_view_module_version": "1.2.0",
            "_view_name": "LayoutView",
            "align_content": null,
            "align_items": null,
            "align_self": null,
            "border": null,
            "bottom": null,
            "display": null,
            "flex": null,
            "flex_flow": null,
            "grid_area": null,
            "grid_auto_columns": null,
            "grid_auto_flow": null,
            "grid_auto_rows": null,
            "grid_column": null,
            "grid_gap": null,
            "grid_row": null,
            "grid_template_areas": null,
            "grid_template_columns": null,
            "grid_template_rows": null,
            "height": "25px",
            "justify_content": null,
            "justify_items": null,
            "left": null,
            "margin": null,
            "max_height": null,
            "max_width": null,
            "min_height": null,
            "min_width": null,
            "object_fit": null,
            "object_position": null,
            "order": null,
            "overflow": null,
            "overflow_x": null,
            "overflow_y": null,
            "padding": null,
            "right": null,
            "top": null,
            "visibility": null,
            "width": "50%"
          }
        },
        "8ea85629cac14cfa803f9619fafd696a": {
          "model_module": "@jupyter-widgets/controls",
          "model_name": "ProgressStyleModel",
          "model_module_version": "1.5.0",
          "state": {
            "_model_module": "@jupyter-widgets/controls",
            "_model_module_version": "1.5.0",
            "_model_name": "ProgressStyleModel",
            "_view_count": null,
            "_view_module": "@jupyter-widgets/base",
            "_view_module_version": "1.2.0",
            "_view_name": "StyleView",
            "bar_color": null,
            "description_width": ""
          }
        },
        "79a69ee39faf485e98ef4f581d81899c": {
          "model_module": "@jupyter-widgets/controls",
          "model_name": "FloatProgressModel",
          "model_module_version": "1.5.0",
          "state": {
            "_dom_classes": [],
            "_model_module": "@jupyter-widgets/controls",
            "_model_module_version": "1.5.0",
            "_model_name": "FloatProgressModel",
            "_view_count": null,
            "_view_module": "@jupyter-widgets/controls",
            "_view_module_version": "1.5.0",
            "_view_name": "ProgressView",
            "bar_style": "info",
            "description": "Progress:",
            "description_tooltip": null,
            "layout": "IPY_MODEL_f35d952e0dd54cc886e4b73850a8e9dc",
            "max": 1,
            "min": 0,
            "orientation": "horizontal",
            "style": "IPY_MODEL_0dc55ccec1fc4876b1759e2175b6863d",
            "value": 0
          }
        },
        "f35d952e0dd54cc886e4b73850a8e9dc": {
          "model_module": "@jupyter-widgets/base",
          "model_name": "LayoutModel",
          "model_module_version": "1.2.0",
          "state": {
            "_model_module": "@jupyter-widgets/base",
            "_model_module_version": "1.2.0",
            "_model_name": "LayoutModel",
            "_view_count": null,
            "_view_module": "@jupyter-widgets/base",
            "_view_module_version": "1.2.0",
            "_view_name": "LayoutView",
            "align_content": null,
            "align_items": null,
            "align_self": null,
            "border": null,
            "bottom": null,
            "display": null,
            "flex": null,
            "flex_flow": null,
            "grid_area": null,
            "grid_auto_columns": null,
            "grid_auto_flow": null,
            "grid_auto_rows": null,
            "grid_column": null,
            "grid_gap": null,
            "grid_row": null,
            "grid_template_areas": null,
            "grid_template_columns": null,
            "grid_template_rows": null,
            "height": "25px",
            "justify_content": null,
            "justify_items": null,
            "left": null,
            "margin": null,
            "max_height": null,
            "max_width": null,
            "min_height": null,
            "min_width": null,
            "object_fit": null,
            "object_position": null,
            "order": null,
            "overflow": null,
            "overflow_x": null,
            "overflow_y": null,
            "padding": null,
            "right": null,
            "top": null,
            "visibility": null,
            "width": "50%"
          }
        },
        "0dc55ccec1fc4876b1759e2175b6863d": {
          "model_module": "@jupyter-widgets/controls",
          "model_name": "ProgressStyleModel",
          "model_module_version": "1.5.0",
          "state": {
            "_model_module": "@jupyter-widgets/controls",
            "_model_module_version": "1.5.0",
            "_model_name": "ProgressStyleModel",
            "_view_count": null,
            "_view_module": "@jupyter-widgets/base",
            "_view_module_version": "1.2.0",
            "_view_name": "StyleView",
            "bar_color": null,
            "description_width": ""
          }
        },
        "0a43d0912b094e1e9d9b54f7f794b266": {
          "model_module": "@jupyter-widgets/controls",
          "model_name": "FloatProgressModel",
          "model_module_version": "1.5.0",
          "state": {
            "_dom_classes": [],
            "_model_module": "@jupyter-widgets/controls",
            "_model_module_version": "1.5.0",
            "_model_name": "FloatProgressModel",
            "_view_count": null,
            "_view_module": "@jupyter-widgets/controls",
            "_view_module_version": "1.5.0",
            "_view_name": "ProgressView",
            "bar_style": "info",
            "description": "Progress:",
            "description_tooltip": null,
            "layout": "IPY_MODEL_49438a94185549f3bfa684a9af867557",
            "max": 1,
            "min": 0,
            "orientation": "horizontal",
            "style": "IPY_MODEL_22c2c0c5f4b5463e90b897abf8fd7fd8",
            "value": 0
          }
        },
        "49438a94185549f3bfa684a9af867557": {
          "model_module": "@jupyter-widgets/base",
          "model_name": "LayoutModel",
          "model_module_version": "1.2.0",
          "state": {
            "_model_module": "@jupyter-widgets/base",
            "_model_module_version": "1.2.0",
            "_model_name": "LayoutModel",
            "_view_count": null,
            "_view_module": "@jupyter-widgets/base",
            "_view_module_version": "1.2.0",
            "_view_name": "LayoutView",
            "align_content": null,
            "align_items": null,
            "align_self": null,
            "border": null,
            "bottom": null,
            "display": null,
            "flex": null,
            "flex_flow": null,
            "grid_area": null,
            "grid_auto_columns": null,
            "grid_auto_flow": null,
            "grid_auto_rows": null,
            "grid_column": null,
            "grid_gap": null,
            "grid_row": null,
            "grid_template_areas": null,
            "grid_template_columns": null,
            "grid_template_rows": null,
            "height": "25px",
            "justify_content": null,
            "justify_items": null,
            "left": null,
            "margin": null,
            "max_height": null,
            "max_width": null,
            "min_height": null,
            "min_width": null,
            "object_fit": null,
            "object_position": null,
            "order": null,
            "overflow": null,
            "overflow_x": null,
            "overflow_y": null,
            "padding": null,
            "right": null,
            "top": null,
            "visibility": null,
            "width": "50%"
          }
        },
        "22c2c0c5f4b5463e90b897abf8fd7fd8": {
          "model_module": "@jupyter-widgets/controls",
          "model_name": "ProgressStyleModel",
          "model_module_version": "1.5.0",
          "state": {
            "_model_module": "@jupyter-widgets/controls",
            "_model_module_version": "1.5.0",
            "_model_name": "ProgressStyleModel",
            "_view_count": null,
            "_view_module": "@jupyter-widgets/base",
            "_view_module_version": "1.2.0",
            "_view_name": "StyleView",
            "bar_color": null,
            "description_width": ""
          }
        },
        "a8b2600325f74595bed44fa45ceb41c5": {
          "model_module": "@jupyter-widgets/controls",
          "model_name": "FloatProgressModel",
          "model_module_version": "1.5.0",
          "state": {
            "_dom_classes": [],
            "_model_module": "@jupyter-widgets/controls",
            "_model_module_version": "1.5.0",
            "_model_name": "FloatProgressModel",
            "_view_count": null,
            "_view_module": "@jupyter-widgets/controls",
            "_view_module_version": "1.5.0",
            "_view_name": "ProgressView",
            "bar_style": "info",
            "description": "Progress:",
            "description_tooltip": null,
            "layout": "IPY_MODEL_5a7e5eb234cc4295a1e884ccfe82d1ec",
            "max": 1,
            "min": 0,
            "orientation": "horizontal",
            "style": "IPY_MODEL_d9c20c8a52634a58bb22c937e90af0d1",
            "value": 0
          }
        },
        "5a7e5eb234cc4295a1e884ccfe82d1ec": {
          "model_module": "@jupyter-widgets/base",
          "model_name": "LayoutModel",
          "model_module_version": "1.2.0",
          "state": {
            "_model_module": "@jupyter-widgets/base",
            "_model_module_version": "1.2.0",
            "_model_name": "LayoutModel",
            "_view_count": null,
            "_view_module": "@jupyter-widgets/base",
            "_view_module_version": "1.2.0",
            "_view_name": "LayoutView",
            "align_content": null,
            "align_items": null,
            "align_self": null,
            "border": null,
            "bottom": null,
            "display": null,
            "flex": null,
            "flex_flow": null,
            "grid_area": null,
            "grid_auto_columns": null,
            "grid_auto_flow": null,
            "grid_auto_rows": null,
            "grid_column": null,
            "grid_gap": null,
            "grid_row": null,
            "grid_template_areas": null,
            "grid_template_columns": null,
            "grid_template_rows": null,
            "height": "25px",
            "justify_content": null,
            "justify_items": null,
            "left": null,
            "margin": null,
            "max_height": null,
            "max_width": null,
            "min_height": null,
            "min_width": null,
            "object_fit": null,
            "object_position": null,
            "order": null,
            "overflow": null,
            "overflow_x": null,
            "overflow_y": null,
            "padding": null,
            "right": null,
            "top": null,
            "visibility": null,
            "width": "50%"
          }
        },
        "d9c20c8a52634a58bb22c937e90af0d1": {
          "model_module": "@jupyter-widgets/controls",
          "model_name": "ProgressStyleModel",
          "model_module_version": "1.5.0",
          "state": {
            "_model_module": "@jupyter-widgets/controls",
            "_model_module_version": "1.5.0",
            "_model_name": "ProgressStyleModel",
            "_view_count": null,
            "_view_module": "@jupyter-widgets/base",
            "_view_module_version": "1.2.0",
            "_view_name": "StyleView",
            "bar_color": null,
            "description_width": ""
          }
        },
        "05c11629353d4412af6eb717f61ca3e6": {
          "model_module": "@jupyter-widgets/controls",
          "model_name": "FloatProgressModel",
          "model_module_version": "1.5.0",
          "state": {
            "_dom_classes": [],
            "_model_module": "@jupyter-widgets/controls",
            "_model_module_version": "1.5.0",
            "_model_name": "FloatProgressModel",
            "_view_count": null,
            "_view_module": "@jupyter-widgets/controls",
            "_view_module_version": "1.5.0",
            "_view_name": "ProgressView",
            "bar_style": "info",
            "description": "Progress:",
            "description_tooltip": null,
            "layout": "IPY_MODEL_ed2a510a682849e09c78b64d7e9c3c18",
            "max": 1,
            "min": 0,
            "orientation": "horizontal",
            "style": "IPY_MODEL_76925e1ab8044e55ac58a874c7076af3",
            "value": 0
          }
        },
        "ed2a510a682849e09c78b64d7e9c3c18": {
          "model_module": "@jupyter-widgets/base",
          "model_name": "LayoutModel",
          "model_module_version": "1.2.0",
          "state": {
            "_model_module": "@jupyter-widgets/base",
            "_model_module_version": "1.2.0",
            "_model_name": "LayoutModel",
            "_view_count": null,
            "_view_module": "@jupyter-widgets/base",
            "_view_module_version": "1.2.0",
            "_view_name": "LayoutView",
            "align_content": null,
            "align_items": null,
            "align_self": null,
            "border": null,
            "bottom": null,
            "display": null,
            "flex": null,
            "flex_flow": null,
            "grid_area": null,
            "grid_auto_columns": null,
            "grid_auto_flow": null,
            "grid_auto_rows": null,
            "grid_column": null,
            "grid_gap": null,
            "grid_row": null,
            "grid_template_areas": null,
            "grid_template_columns": null,
            "grid_template_rows": null,
            "height": "25px",
            "justify_content": null,
            "justify_items": null,
            "left": null,
            "margin": null,
            "max_height": null,
            "max_width": null,
            "min_height": null,
            "min_width": null,
            "object_fit": null,
            "object_position": null,
            "order": null,
            "overflow": null,
            "overflow_x": null,
            "overflow_y": null,
            "padding": null,
            "right": null,
            "top": null,
            "visibility": null,
            "width": "50%"
          }
        },
        "76925e1ab8044e55ac58a874c7076af3": {
          "model_module": "@jupyter-widgets/controls",
          "model_name": "ProgressStyleModel",
          "model_module_version": "1.5.0",
          "state": {
            "_model_module": "@jupyter-widgets/controls",
            "_model_module_version": "1.5.0",
            "_model_name": "ProgressStyleModel",
            "_view_count": null,
            "_view_module": "@jupyter-widgets/base",
            "_view_module_version": "1.2.0",
            "_view_name": "StyleView",
            "bar_color": null,
            "description_width": ""
          }
        },
        "2e413410d4fa4895bc15e3f6e1b09499": {
          "model_module": "@jupyter-widgets/controls",
          "model_name": "FloatProgressModel",
          "model_module_version": "1.5.0",
          "state": {
            "_dom_classes": [],
            "_model_module": "@jupyter-widgets/controls",
            "_model_module_version": "1.5.0",
            "_model_name": "FloatProgressModel",
            "_view_count": null,
            "_view_module": "@jupyter-widgets/controls",
            "_view_module_version": "1.5.0",
            "_view_name": "ProgressView",
            "bar_style": "info",
            "description": "Progress:",
            "description_tooltip": null,
            "layout": "IPY_MODEL_397f5cc580f54f0eb012b35ae54a513b",
            "max": 1,
            "min": 0,
            "orientation": "horizontal",
            "style": "IPY_MODEL_f76e4fd9cf7348179a0922536af4d434",
            "value": 0.6666666666666666
          }
        },
        "397f5cc580f54f0eb012b35ae54a513b": {
          "model_module": "@jupyter-widgets/base",
          "model_name": "LayoutModel",
          "model_module_version": "1.2.0",
          "state": {
            "_model_module": "@jupyter-widgets/base",
            "_model_module_version": "1.2.0",
            "_model_name": "LayoutModel",
            "_view_count": null,
            "_view_module": "@jupyter-widgets/base",
            "_view_module_version": "1.2.0",
            "_view_name": "LayoutView",
            "align_content": null,
            "align_items": null,
            "align_self": null,
            "border": null,
            "bottom": null,
            "display": null,
            "flex": null,
            "flex_flow": null,
            "grid_area": null,
            "grid_auto_columns": null,
            "grid_auto_flow": null,
            "grid_auto_rows": null,
            "grid_column": null,
            "grid_gap": null,
            "grid_row": null,
            "grid_template_areas": null,
            "grid_template_columns": null,
            "grid_template_rows": null,
            "height": "25px",
            "justify_content": null,
            "justify_items": null,
            "left": null,
            "margin": null,
            "max_height": null,
            "max_width": null,
            "min_height": null,
            "min_width": null,
            "object_fit": null,
            "object_position": null,
            "order": null,
            "overflow": null,
            "overflow_x": null,
            "overflow_y": null,
            "padding": null,
            "right": null,
            "top": null,
            "visibility": null,
            "width": "50%"
          }
        },
        "f76e4fd9cf7348179a0922536af4d434": {
          "model_module": "@jupyter-widgets/controls",
          "model_name": "ProgressStyleModel",
          "model_module_version": "1.5.0",
          "state": {
            "_model_module": "@jupyter-widgets/controls",
            "_model_module_version": "1.5.0",
            "_model_name": "ProgressStyleModel",
            "_view_count": null,
            "_view_module": "@jupyter-widgets/base",
            "_view_module_version": "1.2.0",
            "_view_name": "StyleView",
            "bar_color": null,
            "description_width": ""
          }
        },
        "1b7a88d13ee54cda9f553b40e73c9d96": {
          "model_module": "@jupyter-widgets/controls",
          "model_name": "FloatProgressModel",
          "model_module_version": "1.5.0",
          "state": {
            "_dom_classes": [],
            "_model_module": "@jupyter-widgets/controls",
            "_model_module_version": "1.5.0",
            "_model_name": "FloatProgressModel",
            "_view_count": null,
            "_view_module": "@jupyter-widgets/controls",
            "_view_module_version": "1.5.0",
            "_view_name": "ProgressView",
            "bar_style": "info",
            "description": "Progress:",
            "description_tooltip": null,
            "layout": "IPY_MODEL_0c02ac1add1e426d826203e1da5082ca",
            "max": 1,
            "min": 0,
            "orientation": "horizontal",
            "style": "IPY_MODEL_207426d0576a4f2199e2f021295e7cba",
            "value": 0
          }
        },
        "0c02ac1add1e426d826203e1da5082ca": {
          "model_module": "@jupyter-widgets/base",
          "model_name": "LayoutModel",
          "model_module_version": "1.2.0",
          "state": {
            "_model_module": "@jupyter-widgets/base",
            "_model_module_version": "1.2.0",
            "_model_name": "LayoutModel",
            "_view_count": null,
            "_view_module": "@jupyter-widgets/base",
            "_view_module_version": "1.2.0",
            "_view_name": "LayoutView",
            "align_content": null,
            "align_items": null,
            "align_self": null,
            "border": null,
            "bottom": null,
            "display": null,
            "flex": null,
            "flex_flow": null,
            "grid_area": null,
            "grid_auto_columns": null,
            "grid_auto_flow": null,
            "grid_auto_rows": null,
            "grid_column": null,
            "grid_gap": null,
            "grid_row": null,
            "grid_template_areas": null,
            "grid_template_columns": null,
            "grid_template_rows": null,
            "height": "25px",
            "justify_content": null,
            "justify_items": null,
            "left": null,
            "margin": null,
            "max_height": null,
            "max_width": null,
            "min_height": null,
            "min_width": null,
            "object_fit": null,
            "object_position": null,
            "order": null,
            "overflow": null,
            "overflow_x": null,
            "overflow_y": null,
            "padding": null,
            "right": null,
            "top": null,
            "visibility": null,
            "width": "50%"
          }
        },
        "207426d0576a4f2199e2f021295e7cba": {
          "model_module": "@jupyter-widgets/controls",
          "model_name": "ProgressStyleModel",
          "model_module_version": "1.5.0",
          "state": {
            "_model_module": "@jupyter-widgets/controls",
            "_model_module_version": "1.5.0",
            "_model_name": "ProgressStyleModel",
            "_view_count": null,
            "_view_module": "@jupyter-widgets/base",
            "_view_module_version": "1.2.0",
            "_view_name": "StyleView",
            "bar_color": null,
            "description_width": ""
          }
        },
        "7ebf17842cd042d5a6410a3110ac0f38": {
          "model_module": "@jupyter-widgets/controls",
          "model_name": "FloatProgressModel",
          "model_module_version": "1.5.0",
          "state": {
            "_dom_classes": [],
            "_model_module": "@jupyter-widgets/controls",
            "_model_module_version": "1.5.0",
            "_model_name": "FloatProgressModel",
            "_view_count": null,
            "_view_module": "@jupyter-widgets/controls",
            "_view_module_version": "1.5.0",
            "_view_name": "ProgressView",
            "bar_style": "info",
            "description": "Progress:",
            "description_tooltip": null,
            "layout": "IPY_MODEL_d6ab0cdefbd0428aa8f56dcf12a57c7c",
            "max": 1,
            "min": 0,
            "orientation": "horizontal",
            "style": "IPY_MODEL_d1ea31acaf5c4319b52ca4c288985262",
            "value": 0.6666666666666666
          }
        },
        "d6ab0cdefbd0428aa8f56dcf12a57c7c": {
          "model_module": "@jupyter-widgets/base",
          "model_name": "LayoutModel",
          "model_module_version": "1.2.0",
          "state": {
            "_model_module": "@jupyter-widgets/base",
            "_model_module_version": "1.2.0",
            "_model_name": "LayoutModel",
            "_view_count": null,
            "_view_module": "@jupyter-widgets/base",
            "_view_module_version": "1.2.0",
            "_view_name": "LayoutView",
            "align_content": null,
            "align_items": null,
            "align_self": null,
            "border": null,
            "bottom": null,
            "display": null,
            "flex": null,
            "flex_flow": null,
            "grid_area": null,
            "grid_auto_columns": null,
            "grid_auto_flow": null,
            "grid_auto_rows": null,
            "grid_column": null,
            "grid_gap": null,
            "grid_row": null,
            "grid_template_areas": null,
            "grid_template_columns": null,
            "grid_template_rows": null,
            "height": "25px",
            "justify_content": null,
            "justify_items": null,
            "left": null,
            "margin": null,
            "max_height": null,
            "max_width": null,
            "min_height": null,
            "min_width": null,
            "object_fit": null,
            "object_position": null,
            "order": null,
            "overflow": null,
            "overflow_x": null,
            "overflow_y": null,
            "padding": null,
            "right": null,
            "top": null,
            "visibility": null,
            "width": "50%"
          }
        },
        "d1ea31acaf5c4319b52ca4c288985262": {
          "model_module": "@jupyter-widgets/controls",
          "model_name": "ProgressStyleModel",
          "model_module_version": "1.5.0",
          "state": {
            "_model_module": "@jupyter-widgets/controls",
            "_model_module_version": "1.5.0",
            "_model_name": "ProgressStyleModel",
            "_view_count": null,
            "_view_module": "@jupyter-widgets/base",
            "_view_module_version": "1.2.0",
            "_view_name": "StyleView",
            "bar_color": null,
            "description_width": ""
          }
        },
        "8559bc65f8f44f0fbb1ea4c7eb2d70bb": {
          "model_module": "@jupyter-widgets/controls",
          "model_name": "FloatProgressModel",
          "model_module_version": "1.5.0",
          "state": {
            "_dom_classes": [],
            "_model_module": "@jupyter-widgets/controls",
            "_model_module_version": "1.5.0",
            "_model_name": "FloatProgressModel",
            "_view_count": null,
            "_view_module": "@jupyter-widgets/controls",
            "_view_module_version": "1.5.0",
            "_view_name": "ProgressView",
            "bar_style": "info",
            "description": "Progress:",
            "description_tooltip": null,
            "layout": "IPY_MODEL_9ca27ee71cdb4f629204bb2b03ac9c6f",
            "max": 1,
            "min": 0,
            "orientation": "horizontal",
            "style": "IPY_MODEL_9e7b2e464a2e429b9c1740887693e03f",
            "value": 0
          }
        },
        "9ca27ee71cdb4f629204bb2b03ac9c6f": {
          "model_module": "@jupyter-widgets/base",
          "model_name": "LayoutModel",
          "model_module_version": "1.2.0",
          "state": {
            "_model_module": "@jupyter-widgets/base",
            "_model_module_version": "1.2.0",
            "_model_name": "LayoutModel",
            "_view_count": null,
            "_view_module": "@jupyter-widgets/base",
            "_view_module_version": "1.2.0",
            "_view_name": "LayoutView",
            "align_content": null,
            "align_items": null,
            "align_self": null,
            "border": null,
            "bottom": null,
            "display": null,
            "flex": null,
            "flex_flow": null,
            "grid_area": null,
            "grid_auto_columns": null,
            "grid_auto_flow": null,
            "grid_auto_rows": null,
            "grid_column": null,
            "grid_gap": null,
            "grid_row": null,
            "grid_template_areas": null,
            "grid_template_columns": null,
            "grid_template_rows": null,
            "height": "25px",
            "justify_content": null,
            "justify_items": null,
            "left": null,
            "margin": null,
            "max_height": null,
            "max_width": null,
            "min_height": null,
            "min_width": null,
            "object_fit": null,
            "object_position": null,
            "order": null,
            "overflow": null,
            "overflow_x": null,
            "overflow_y": null,
            "padding": null,
            "right": null,
            "top": null,
            "visibility": null,
            "width": "50%"
          }
        },
        "9e7b2e464a2e429b9c1740887693e03f": {
          "model_module": "@jupyter-widgets/controls",
          "model_name": "ProgressStyleModel",
          "model_module_version": "1.5.0",
          "state": {
            "_model_module": "@jupyter-widgets/controls",
            "_model_module_version": "1.5.0",
            "_model_name": "ProgressStyleModel",
            "_view_count": null,
            "_view_module": "@jupyter-widgets/base",
            "_view_module_version": "1.2.0",
            "_view_name": "StyleView",
            "bar_color": null,
            "description_width": ""
          }
        },
        "ee58d45ba7494d59bc42717a00a2afff": {
          "model_module": "@jupyter-widgets/controls",
          "model_name": "FloatProgressModel",
          "model_module_version": "1.5.0",
          "state": {
            "_dom_classes": [],
            "_model_module": "@jupyter-widgets/controls",
            "_model_module_version": "1.5.0",
            "_model_name": "FloatProgressModel",
            "_view_count": null,
            "_view_module": "@jupyter-widgets/controls",
            "_view_module_version": "1.5.0",
            "_view_name": "ProgressView",
            "bar_style": "info",
            "description": "Progress:",
            "description_tooltip": null,
            "layout": "IPY_MODEL_2b5738bc7bec473884982e288066e938",
            "max": 1,
            "min": 0,
            "orientation": "horizontal",
            "style": "IPY_MODEL_e770a2a864ce43f1b39d26203f74cf9f",
            "value": 0.5
          }
        },
        "2b5738bc7bec473884982e288066e938": {
          "model_module": "@jupyter-widgets/base",
          "model_name": "LayoutModel",
          "model_module_version": "1.2.0",
          "state": {
            "_model_module": "@jupyter-widgets/base",
            "_model_module_version": "1.2.0",
            "_model_name": "LayoutModel",
            "_view_count": null,
            "_view_module": "@jupyter-widgets/base",
            "_view_module_version": "1.2.0",
            "_view_name": "LayoutView",
            "align_content": null,
            "align_items": null,
            "align_self": null,
            "border": null,
            "bottom": null,
            "display": null,
            "flex": null,
            "flex_flow": null,
            "grid_area": null,
            "grid_auto_columns": null,
            "grid_auto_flow": null,
            "grid_auto_rows": null,
            "grid_column": null,
            "grid_gap": null,
            "grid_row": null,
            "grid_template_areas": null,
            "grid_template_columns": null,
            "grid_template_rows": null,
            "height": "25px",
            "justify_content": null,
            "justify_items": null,
            "left": null,
            "margin": null,
            "max_height": null,
            "max_width": null,
            "min_height": null,
            "min_width": null,
            "object_fit": null,
            "object_position": null,
            "order": null,
            "overflow": null,
            "overflow_x": null,
            "overflow_y": null,
            "padding": null,
            "right": null,
            "top": null,
            "visibility": null,
            "width": "50%"
          }
        },
        "e770a2a864ce43f1b39d26203f74cf9f": {
          "model_module": "@jupyter-widgets/controls",
          "model_name": "ProgressStyleModel",
          "model_module_version": "1.5.0",
          "state": {
            "_model_module": "@jupyter-widgets/controls",
            "_model_module_version": "1.5.0",
            "_model_name": "ProgressStyleModel",
            "_view_count": null,
            "_view_module": "@jupyter-widgets/base",
            "_view_module_version": "1.2.0",
            "_view_name": "StyleView",
            "bar_color": null,
            "description_width": ""
          }
        },
        "aaa6f08d84ae4b9ca158bed027848efd": {
          "model_module": "@jupyter-widgets/controls",
          "model_name": "FloatProgressModel",
          "model_module_version": "1.5.0",
          "state": {
            "_dom_classes": [],
            "_model_module": "@jupyter-widgets/controls",
            "_model_module_version": "1.5.0",
            "_model_name": "FloatProgressModel",
            "_view_count": null,
            "_view_module": "@jupyter-widgets/controls",
            "_view_module_version": "1.5.0",
            "_view_name": "ProgressView",
            "bar_style": "info",
            "description": "Progress:",
            "description_tooltip": null,
            "layout": "IPY_MODEL_1f8aef7ca2e14cb48ddd23498acb4e13",
            "max": 1,
            "min": 0,
            "orientation": "horizontal",
            "style": "IPY_MODEL_43f0616dd8fe41eea9b2abb0c1f8a8e7",
            "value": 0
          }
        },
        "1f8aef7ca2e14cb48ddd23498acb4e13": {
          "model_module": "@jupyter-widgets/base",
          "model_name": "LayoutModel",
          "model_module_version": "1.2.0",
          "state": {
            "_model_module": "@jupyter-widgets/base",
            "_model_module_version": "1.2.0",
            "_model_name": "LayoutModel",
            "_view_count": null,
            "_view_module": "@jupyter-widgets/base",
            "_view_module_version": "1.2.0",
            "_view_name": "LayoutView",
            "align_content": null,
            "align_items": null,
            "align_self": null,
            "border": null,
            "bottom": null,
            "display": null,
            "flex": null,
            "flex_flow": null,
            "grid_area": null,
            "grid_auto_columns": null,
            "grid_auto_flow": null,
            "grid_auto_rows": null,
            "grid_column": null,
            "grid_gap": null,
            "grid_row": null,
            "grid_template_areas": null,
            "grid_template_columns": null,
            "grid_template_rows": null,
            "height": "25px",
            "justify_content": null,
            "justify_items": null,
            "left": null,
            "margin": null,
            "max_height": null,
            "max_width": null,
            "min_height": null,
            "min_width": null,
            "object_fit": null,
            "object_position": null,
            "order": null,
            "overflow": null,
            "overflow_x": null,
            "overflow_y": null,
            "padding": null,
            "right": null,
            "top": null,
            "visibility": null,
            "width": "50%"
          }
        },
        "43f0616dd8fe41eea9b2abb0c1f8a8e7": {
          "model_module": "@jupyter-widgets/controls",
          "model_name": "ProgressStyleModel",
          "model_module_version": "1.5.0",
          "state": {
            "_model_module": "@jupyter-widgets/controls",
            "_model_module_version": "1.5.0",
            "_model_name": "ProgressStyleModel",
            "_view_count": null,
            "_view_module": "@jupyter-widgets/base",
            "_view_module_version": "1.2.0",
            "_view_name": "StyleView",
            "bar_color": null,
            "description_width": ""
          }
        },
        "910f37d27bea4d14b5e8e7a29ad1ee93": {
          "model_module": "@jupyter-widgets/controls",
          "model_name": "FloatProgressModel",
          "model_module_version": "1.5.0",
          "state": {
            "_dom_classes": [],
            "_model_module": "@jupyter-widgets/controls",
            "_model_module_version": "1.5.0",
            "_model_name": "FloatProgressModel",
            "_view_count": null,
            "_view_module": "@jupyter-widgets/controls",
            "_view_module_version": "1.5.0",
            "_view_name": "ProgressView",
            "bar_style": "info",
            "description": "Progress:",
            "description_tooltip": null,
            "layout": "IPY_MODEL_63194057c78b4031b798babff53f2df2",
            "max": 1,
            "min": 0,
            "orientation": "horizontal",
            "style": "IPY_MODEL_cd3827b7da624665b783d9c2c26750c1",
            "value": 1
          }
        },
        "63194057c78b4031b798babff53f2df2": {
          "model_module": "@jupyter-widgets/base",
          "model_name": "LayoutModel",
          "model_module_version": "1.2.0",
          "state": {
            "_model_module": "@jupyter-widgets/base",
            "_model_module_version": "1.2.0",
            "_model_name": "LayoutModel",
            "_view_count": null,
            "_view_module": "@jupyter-widgets/base",
            "_view_module_version": "1.2.0",
            "_view_name": "LayoutView",
            "align_content": null,
            "align_items": null,
            "align_self": null,
            "border": null,
            "bottom": null,
            "display": null,
            "flex": null,
            "flex_flow": null,
            "grid_area": null,
            "grid_auto_columns": null,
            "grid_auto_flow": null,
            "grid_auto_rows": null,
            "grid_column": null,
            "grid_gap": null,
            "grid_row": null,
            "grid_template_areas": null,
            "grid_template_columns": null,
            "grid_template_rows": null,
            "height": "25px",
            "justify_content": null,
            "justify_items": null,
            "left": null,
            "margin": null,
            "max_height": null,
            "max_width": null,
            "min_height": null,
            "min_width": null,
            "object_fit": null,
            "object_position": null,
            "order": null,
            "overflow": null,
            "overflow_x": null,
            "overflow_y": null,
            "padding": null,
            "right": null,
            "top": null,
            "visibility": null,
            "width": "50%"
          }
        },
        "cd3827b7da624665b783d9c2c26750c1": {
          "model_module": "@jupyter-widgets/controls",
          "model_name": "ProgressStyleModel",
          "model_module_version": "1.5.0",
          "state": {
            "_model_module": "@jupyter-widgets/controls",
            "_model_module_version": "1.5.0",
            "_model_name": "ProgressStyleModel",
            "_view_count": null,
            "_view_module": "@jupyter-widgets/base",
            "_view_module_version": "1.2.0",
            "_view_name": "StyleView",
            "bar_color": null,
            "description_width": ""
          }
        },
        "a80c4cd997114ad6a96759dad4babf07": {
          "model_module": "@jupyter-widgets/controls",
          "model_name": "FloatProgressModel",
          "model_module_version": "1.5.0",
          "state": {
            "_dom_classes": [],
            "_model_module": "@jupyter-widgets/controls",
            "_model_module_version": "1.5.0",
            "_model_name": "FloatProgressModel",
            "_view_count": null,
            "_view_module": "@jupyter-widgets/controls",
            "_view_module_version": "1.5.0",
            "_view_name": "ProgressView",
            "bar_style": "info",
            "description": "Progress:",
            "description_tooltip": null,
            "layout": "IPY_MODEL_c5c738e129b544209fa2116ed434bfb6",
            "max": 1,
            "min": 0,
            "orientation": "horizontal",
            "style": "IPY_MODEL_1cef1dc4ca9f4f57b32224a3e555c0ab",
            "value": 1
          }
        },
        "c5c738e129b544209fa2116ed434bfb6": {
          "model_module": "@jupyter-widgets/base",
          "model_name": "LayoutModel",
          "model_module_version": "1.2.0",
          "state": {
            "_model_module": "@jupyter-widgets/base",
            "_model_module_version": "1.2.0",
            "_model_name": "LayoutModel",
            "_view_count": null,
            "_view_module": "@jupyter-widgets/base",
            "_view_module_version": "1.2.0",
            "_view_name": "LayoutView",
            "align_content": null,
            "align_items": null,
            "align_self": null,
            "border": null,
            "bottom": null,
            "display": null,
            "flex": null,
            "flex_flow": null,
            "grid_area": null,
            "grid_auto_columns": null,
            "grid_auto_flow": null,
            "grid_auto_rows": null,
            "grid_column": null,
            "grid_gap": null,
            "grid_row": null,
            "grid_template_areas": null,
            "grid_template_columns": null,
            "grid_template_rows": null,
            "height": "25px",
            "justify_content": null,
            "justify_items": null,
            "left": null,
            "margin": null,
            "max_height": null,
            "max_width": null,
            "min_height": null,
            "min_width": null,
            "object_fit": null,
            "object_position": null,
            "order": null,
            "overflow": null,
            "overflow_x": null,
            "overflow_y": null,
            "padding": null,
            "right": null,
            "top": null,
            "visibility": null,
            "width": "50%"
          }
        },
        "1cef1dc4ca9f4f57b32224a3e555c0ab": {
          "model_module": "@jupyter-widgets/controls",
          "model_name": "ProgressStyleModel",
          "model_module_version": "1.5.0",
          "state": {
            "_model_module": "@jupyter-widgets/controls",
            "_model_module_version": "1.5.0",
            "_model_name": "ProgressStyleModel",
            "_view_count": null,
            "_view_module": "@jupyter-widgets/base",
            "_view_module_version": "1.2.0",
            "_view_name": "StyleView",
            "bar_color": null,
            "description_width": ""
          }
        },
        "f3bf6b3f451f404a9b66749cbb39d154": {
          "model_module": "@jupyter-widgets/controls",
          "model_name": "FloatProgressModel",
          "model_module_version": "1.5.0",
          "state": {
            "_dom_classes": [],
            "_model_module": "@jupyter-widgets/controls",
            "_model_module_version": "1.5.0",
            "_model_name": "FloatProgressModel",
            "_view_count": null,
            "_view_module": "@jupyter-widgets/controls",
            "_view_module_version": "1.5.0",
            "_view_name": "ProgressView",
            "bar_style": "info",
            "description": "Progress:",
            "description_tooltip": null,
            "layout": "IPY_MODEL_a00343f52bd94b97a7c35ebbc5c41ba9",
            "max": 1,
            "min": 0,
            "orientation": "horizontal",
            "style": "IPY_MODEL_44302e5318bf484c9496ba2366685e90",
            "value": 1
          }
        },
        "a00343f52bd94b97a7c35ebbc5c41ba9": {
          "model_module": "@jupyter-widgets/base",
          "model_name": "LayoutModel",
          "model_module_version": "1.2.0",
          "state": {
            "_model_module": "@jupyter-widgets/base",
            "_model_module_version": "1.2.0",
            "_model_name": "LayoutModel",
            "_view_count": null,
            "_view_module": "@jupyter-widgets/base",
            "_view_module_version": "1.2.0",
            "_view_name": "LayoutView",
            "align_content": null,
            "align_items": null,
            "align_self": null,
            "border": null,
            "bottom": null,
            "display": null,
            "flex": null,
            "flex_flow": null,
            "grid_area": null,
            "grid_auto_columns": null,
            "grid_auto_flow": null,
            "grid_auto_rows": null,
            "grid_column": null,
            "grid_gap": null,
            "grid_row": null,
            "grid_template_areas": null,
            "grid_template_columns": null,
            "grid_template_rows": null,
            "height": "25px",
            "justify_content": null,
            "justify_items": null,
            "left": null,
            "margin": null,
            "max_height": null,
            "max_width": null,
            "min_height": null,
            "min_width": null,
            "object_fit": null,
            "object_position": null,
            "order": null,
            "overflow": null,
            "overflow_x": null,
            "overflow_y": null,
            "padding": null,
            "right": null,
            "top": null,
            "visibility": null,
            "width": "50%"
          }
        },
        "44302e5318bf484c9496ba2366685e90": {
          "model_module": "@jupyter-widgets/controls",
          "model_name": "ProgressStyleModel",
          "model_module_version": "1.5.0",
          "state": {
            "_model_module": "@jupyter-widgets/controls",
            "_model_module_version": "1.5.0",
            "_model_name": "ProgressStyleModel",
            "_view_count": null,
            "_view_module": "@jupyter-widgets/base",
            "_view_module_version": "1.2.0",
            "_view_name": "StyleView",
            "bar_color": null,
            "description_width": ""
          }
        },
        "90dcb32eaa014ece8a0d3d2c43d2b53a": {
          "model_module": "@jupyter-widgets/controls",
          "model_name": "FloatProgressModel",
          "model_module_version": "1.5.0",
          "state": {
            "_dom_classes": [],
            "_model_module": "@jupyter-widgets/controls",
            "_model_module_version": "1.5.0",
            "_model_name": "FloatProgressModel",
            "_view_count": null,
            "_view_module": "@jupyter-widgets/controls",
            "_view_module_version": "1.5.0",
            "_view_name": "ProgressView",
            "bar_style": "info",
            "description": "Progress:",
            "description_tooltip": null,
            "layout": "IPY_MODEL_b74e91dc97e746239ccbcb3f58187f7d",
            "max": 1,
            "min": 0,
            "orientation": "horizontal",
            "style": "IPY_MODEL_64a4a121512b44c1a3ec70d00f96ce65",
            "value": 1
          }
        },
        "b74e91dc97e746239ccbcb3f58187f7d": {
          "model_module": "@jupyter-widgets/base",
          "model_name": "LayoutModel",
          "model_module_version": "1.2.0",
          "state": {
            "_model_module": "@jupyter-widgets/base",
            "_model_module_version": "1.2.0",
            "_model_name": "LayoutModel",
            "_view_count": null,
            "_view_module": "@jupyter-widgets/base",
            "_view_module_version": "1.2.0",
            "_view_name": "LayoutView",
            "align_content": null,
            "align_items": null,
            "align_self": null,
            "border": null,
            "bottom": null,
            "display": null,
            "flex": null,
            "flex_flow": null,
            "grid_area": null,
            "grid_auto_columns": null,
            "grid_auto_flow": null,
            "grid_auto_rows": null,
            "grid_column": null,
            "grid_gap": null,
            "grid_row": null,
            "grid_template_areas": null,
            "grid_template_columns": null,
            "grid_template_rows": null,
            "height": "25px",
            "justify_content": null,
            "justify_items": null,
            "left": null,
            "margin": null,
            "max_height": null,
            "max_width": null,
            "min_height": null,
            "min_width": null,
            "object_fit": null,
            "object_position": null,
            "order": null,
            "overflow": null,
            "overflow_x": null,
            "overflow_y": null,
            "padding": null,
            "right": null,
            "top": null,
            "visibility": null,
            "width": "50%"
          }
        },
        "64a4a121512b44c1a3ec70d00f96ce65": {
          "model_module": "@jupyter-widgets/controls",
          "model_name": "ProgressStyleModel",
          "model_module_version": "1.5.0",
          "state": {
            "_model_module": "@jupyter-widgets/controls",
            "_model_module_version": "1.5.0",
            "_model_name": "ProgressStyleModel",
            "_view_count": null,
            "_view_module": "@jupyter-widgets/base",
            "_view_module_version": "1.2.0",
            "_view_name": "StyleView",
            "bar_color": null,
            "description_width": ""
          }
        },
        "e616869b1fc4431fb19cb41721ce9324": {
          "model_module": "@jupyter-widgets/controls",
          "model_name": "FloatProgressModel",
          "model_module_version": "1.5.0",
          "state": {
            "_dom_classes": [],
            "_model_module": "@jupyter-widgets/controls",
            "_model_module_version": "1.5.0",
            "_model_name": "FloatProgressModel",
            "_view_count": null,
            "_view_module": "@jupyter-widgets/controls",
            "_view_module_version": "1.5.0",
            "_view_name": "ProgressView",
            "bar_style": "info",
            "description": "Progress:",
            "description_tooltip": null,
            "layout": "IPY_MODEL_2e185c862b874874a9a5de703ce47603",
            "max": 1,
            "min": 0,
            "orientation": "horizontal",
            "style": "IPY_MODEL_498b415c9f9e4afdb885980027538b82",
            "value": 0.6666666666666666
          }
        },
        "2e185c862b874874a9a5de703ce47603": {
          "model_module": "@jupyter-widgets/base",
          "model_name": "LayoutModel",
          "model_module_version": "1.2.0",
          "state": {
            "_model_module": "@jupyter-widgets/base",
            "_model_module_version": "1.2.0",
            "_model_name": "LayoutModel",
            "_view_count": null,
            "_view_module": "@jupyter-widgets/base",
            "_view_module_version": "1.2.0",
            "_view_name": "LayoutView",
            "align_content": null,
            "align_items": null,
            "align_self": null,
            "border": null,
            "bottom": null,
            "display": null,
            "flex": null,
            "flex_flow": null,
            "grid_area": null,
            "grid_auto_columns": null,
            "grid_auto_flow": null,
            "grid_auto_rows": null,
            "grid_column": null,
            "grid_gap": null,
            "grid_row": null,
            "grid_template_areas": null,
            "grid_template_columns": null,
            "grid_template_rows": null,
            "height": "25px",
            "justify_content": null,
            "justify_items": null,
            "left": null,
            "margin": null,
            "max_height": null,
            "max_width": null,
            "min_height": null,
            "min_width": null,
            "object_fit": null,
            "object_position": null,
            "order": null,
            "overflow": null,
            "overflow_x": null,
            "overflow_y": null,
            "padding": null,
            "right": null,
            "top": null,
            "visibility": null,
            "width": "50%"
          }
        },
        "498b415c9f9e4afdb885980027538b82": {
          "model_module": "@jupyter-widgets/controls",
          "model_name": "ProgressStyleModel",
          "model_module_version": "1.5.0",
          "state": {
            "_model_module": "@jupyter-widgets/controls",
            "_model_module_version": "1.5.0",
            "_model_name": "ProgressStyleModel",
            "_view_count": null,
            "_view_module": "@jupyter-widgets/base",
            "_view_module_version": "1.2.0",
            "_view_name": "StyleView",
            "bar_color": null,
            "description_width": ""
          }
        },
        "f1027aa114d844959cdf7159100208c8": {
          "model_module": "@jupyter-widgets/controls",
          "model_name": "FloatProgressModel",
          "model_module_version": "1.5.0",
          "state": {
            "_dom_classes": [],
            "_model_module": "@jupyter-widgets/controls",
            "_model_module_version": "1.5.0",
            "_model_name": "FloatProgressModel",
            "_view_count": null,
            "_view_module": "@jupyter-widgets/controls",
            "_view_module_version": "1.5.0",
            "_view_name": "ProgressView",
            "bar_style": "info",
            "description": "Progress:",
            "description_tooltip": null,
            "layout": "IPY_MODEL_f8b3e5113c7b4a58b1d58df1d8bbb07e",
            "max": 1,
            "min": 0,
            "orientation": "horizontal",
            "style": "IPY_MODEL_c9d035870bb04a1981aff05dba3124af",
            "value": 0.5
          }
        },
        "f8b3e5113c7b4a58b1d58df1d8bbb07e": {
          "model_module": "@jupyter-widgets/base",
          "model_name": "LayoutModel",
          "model_module_version": "1.2.0",
          "state": {
            "_model_module": "@jupyter-widgets/base",
            "_model_module_version": "1.2.0",
            "_model_name": "LayoutModel",
            "_view_count": null,
            "_view_module": "@jupyter-widgets/base",
            "_view_module_version": "1.2.0",
            "_view_name": "LayoutView",
            "align_content": null,
            "align_items": null,
            "align_self": null,
            "border": null,
            "bottom": null,
            "display": null,
            "flex": null,
            "flex_flow": null,
            "grid_area": null,
            "grid_auto_columns": null,
            "grid_auto_flow": null,
            "grid_auto_rows": null,
            "grid_column": null,
            "grid_gap": null,
            "grid_row": null,
            "grid_template_areas": null,
            "grid_template_columns": null,
            "grid_template_rows": null,
            "height": "25px",
            "justify_content": null,
            "justify_items": null,
            "left": null,
            "margin": null,
            "max_height": null,
            "max_width": null,
            "min_height": null,
            "min_width": null,
            "object_fit": null,
            "object_position": null,
            "order": null,
            "overflow": null,
            "overflow_x": null,
            "overflow_y": null,
            "padding": null,
            "right": null,
            "top": null,
            "visibility": null,
            "width": "50%"
          }
        },
        "c9d035870bb04a1981aff05dba3124af": {
          "model_module": "@jupyter-widgets/controls",
          "model_name": "ProgressStyleModel",
          "model_module_version": "1.5.0",
          "state": {
            "_model_module": "@jupyter-widgets/controls",
            "_model_module_version": "1.5.0",
            "_model_name": "ProgressStyleModel",
            "_view_count": null,
            "_view_module": "@jupyter-widgets/base",
            "_view_module_version": "1.2.0",
            "_view_name": "StyleView",
            "bar_color": null,
            "description_width": ""
          }
        },
        "6a7257eec8214ca5a3bb623d225ff55a": {
          "model_module": "@jupyter-widgets/controls",
          "model_name": "FloatProgressModel",
          "model_module_version": "1.5.0",
          "state": {
            "_dom_classes": [],
            "_model_module": "@jupyter-widgets/controls",
            "_model_module_version": "1.5.0",
            "_model_name": "FloatProgressModel",
            "_view_count": null,
            "_view_module": "@jupyter-widgets/controls",
            "_view_module_version": "1.5.0",
            "_view_name": "ProgressView",
            "bar_style": "info",
            "description": "Progress:",
            "description_tooltip": null,
            "layout": "IPY_MODEL_468fd7fa6b9c442580fc0549fb811414",
            "max": 1,
            "min": 0,
            "orientation": "horizontal",
            "style": "IPY_MODEL_407aceb5ce0e44ab90e4873977257883",
            "value": 0
          }
        },
        "468fd7fa6b9c442580fc0549fb811414": {
          "model_module": "@jupyter-widgets/base",
          "model_name": "LayoutModel",
          "model_module_version": "1.2.0",
          "state": {
            "_model_module": "@jupyter-widgets/base",
            "_model_module_version": "1.2.0",
            "_model_name": "LayoutModel",
            "_view_count": null,
            "_view_module": "@jupyter-widgets/base",
            "_view_module_version": "1.2.0",
            "_view_name": "LayoutView",
            "align_content": null,
            "align_items": null,
            "align_self": null,
            "border": null,
            "bottom": null,
            "display": null,
            "flex": null,
            "flex_flow": null,
            "grid_area": null,
            "grid_auto_columns": null,
            "grid_auto_flow": null,
            "grid_auto_rows": null,
            "grid_column": null,
            "grid_gap": null,
            "grid_row": null,
            "grid_template_areas": null,
            "grid_template_columns": null,
            "grid_template_rows": null,
            "height": "25px",
            "justify_content": null,
            "justify_items": null,
            "left": null,
            "margin": null,
            "max_height": null,
            "max_width": null,
            "min_height": null,
            "min_width": null,
            "object_fit": null,
            "object_position": null,
            "order": null,
            "overflow": null,
            "overflow_x": null,
            "overflow_y": null,
            "padding": null,
            "right": null,
            "top": null,
            "visibility": null,
            "width": "50%"
          }
        },
        "407aceb5ce0e44ab90e4873977257883": {
          "model_module": "@jupyter-widgets/controls",
          "model_name": "ProgressStyleModel",
          "model_module_version": "1.5.0",
          "state": {
            "_model_module": "@jupyter-widgets/controls",
            "_model_module_version": "1.5.0",
            "_model_name": "ProgressStyleModel",
            "_view_count": null,
            "_view_module": "@jupyter-widgets/base",
            "_view_module_version": "1.2.0",
            "_view_name": "StyleView",
            "bar_color": null,
            "description_width": ""
          }
        },
        "6d59e801c4e841fa99c075d79dab1fcf": {
          "model_module": "@jupyter-widgets/controls",
          "model_name": "FloatProgressModel",
          "model_module_version": "1.5.0",
          "state": {
            "_dom_classes": [],
            "_model_module": "@jupyter-widgets/controls",
            "_model_module_version": "1.5.0",
            "_model_name": "FloatProgressModel",
            "_view_count": null,
            "_view_module": "@jupyter-widgets/controls",
            "_view_module_version": "1.5.0",
            "_view_name": "ProgressView",
            "bar_style": "info",
            "description": "Progress:",
            "description_tooltip": null,
            "layout": "IPY_MODEL_df04e4dc1eb6466cba3c0f6d22a160c2",
            "max": 1,
            "min": 0,
            "orientation": "horizontal",
            "style": "IPY_MODEL_200814eb13e941f6acd1a2d016957d39",
            "value": 0.6666666666666666
          }
        },
        "df04e4dc1eb6466cba3c0f6d22a160c2": {
          "model_module": "@jupyter-widgets/base",
          "model_name": "LayoutModel",
          "model_module_version": "1.2.0",
          "state": {
            "_model_module": "@jupyter-widgets/base",
            "_model_module_version": "1.2.0",
            "_model_name": "LayoutModel",
            "_view_count": null,
            "_view_module": "@jupyter-widgets/base",
            "_view_module_version": "1.2.0",
            "_view_name": "LayoutView",
            "align_content": null,
            "align_items": null,
            "align_self": null,
            "border": null,
            "bottom": null,
            "display": null,
            "flex": null,
            "flex_flow": null,
            "grid_area": null,
            "grid_auto_columns": null,
            "grid_auto_flow": null,
            "grid_auto_rows": null,
            "grid_column": null,
            "grid_gap": null,
            "grid_row": null,
            "grid_template_areas": null,
            "grid_template_columns": null,
            "grid_template_rows": null,
            "height": "25px",
            "justify_content": null,
            "justify_items": null,
            "left": null,
            "margin": null,
            "max_height": null,
            "max_width": null,
            "min_height": null,
            "min_width": null,
            "object_fit": null,
            "object_position": null,
            "order": null,
            "overflow": null,
            "overflow_x": null,
            "overflow_y": null,
            "padding": null,
            "right": null,
            "top": null,
            "visibility": null,
            "width": "50%"
          }
        },
        "200814eb13e941f6acd1a2d016957d39": {
          "model_module": "@jupyter-widgets/controls",
          "model_name": "ProgressStyleModel",
          "model_module_version": "1.5.0",
          "state": {
            "_model_module": "@jupyter-widgets/controls",
            "_model_module_version": "1.5.0",
            "_model_name": "ProgressStyleModel",
            "_view_count": null,
            "_view_module": "@jupyter-widgets/base",
            "_view_module_version": "1.2.0",
            "_view_name": "StyleView",
            "bar_color": null,
            "description_width": ""
          }
        },
        "afa0324f5e6d4a03ad859e561b209ea1": {
          "model_module": "@jupyter-widgets/controls",
          "model_name": "FloatProgressModel",
          "model_module_version": "1.5.0",
          "state": {
            "_dom_classes": [],
            "_model_module": "@jupyter-widgets/controls",
            "_model_module_version": "1.5.0",
            "_model_name": "FloatProgressModel",
            "_view_count": null,
            "_view_module": "@jupyter-widgets/controls",
            "_view_module_version": "1.5.0",
            "_view_name": "ProgressView",
            "bar_style": "info",
            "description": "Progress:",
            "description_tooltip": null,
            "layout": "IPY_MODEL_0f9c19fa77e148baaa135ff377e781da",
            "max": 1,
            "min": 0,
            "orientation": "horizontal",
            "style": "IPY_MODEL_5b4f60c1e7a9489292f6d664c6a88a8c",
            "value": 0
          }
        },
        "0f9c19fa77e148baaa135ff377e781da": {
          "model_module": "@jupyter-widgets/base",
          "model_name": "LayoutModel",
          "model_module_version": "1.2.0",
          "state": {
            "_model_module": "@jupyter-widgets/base",
            "_model_module_version": "1.2.0",
            "_model_name": "LayoutModel",
            "_view_count": null,
            "_view_module": "@jupyter-widgets/base",
            "_view_module_version": "1.2.0",
            "_view_name": "LayoutView",
            "align_content": null,
            "align_items": null,
            "align_self": null,
            "border": null,
            "bottom": null,
            "display": null,
            "flex": null,
            "flex_flow": null,
            "grid_area": null,
            "grid_auto_columns": null,
            "grid_auto_flow": null,
            "grid_auto_rows": null,
            "grid_column": null,
            "grid_gap": null,
            "grid_row": null,
            "grid_template_areas": null,
            "grid_template_columns": null,
            "grid_template_rows": null,
            "height": "25px",
            "justify_content": null,
            "justify_items": null,
            "left": null,
            "margin": null,
            "max_height": null,
            "max_width": null,
            "min_height": null,
            "min_width": null,
            "object_fit": null,
            "object_position": null,
            "order": null,
            "overflow": null,
            "overflow_x": null,
            "overflow_y": null,
            "padding": null,
            "right": null,
            "top": null,
            "visibility": null,
            "width": "50%"
          }
        },
        "5b4f60c1e7a9489292f6d664c6a88a8c": {
          "model_module": "@jupyter-widgets/controls",
          "model_name": "ProgressStyleModel",
          "model_module_version": "1.5.0",
          "state": {
            "_model_module": "@jupyter-widgets/controls",
            "_model_module_version": "1.5.0",
            "_model_name": "ProgressStyleModel",
            "_view_count": null,
            "_view_module": "@jupyter-widgets/base",
            "_view_module_version": "1.2.0",
            "_view_name": "StyleView",
            "bar_color": null,
            "description_width": ""
          }
        },
        "48fe8ff2a0ad4994b67c56109b989246": {
          "model_module": "@jupyter-widgets/controls",
          "model_name": "FloatProgressModel",
          "model_module_version": "1.5.0",
          "state": {
            "_dom_classes": [],
            "_model_module": "@jupyter-widgets/controls",
            "_model_module_version": "1.5.0",
            "_model_name": "FloatProgressModel",
            "_view_count": null,
            "_view_module": "@jupyter-widgets/controls",
            "_view_module_version": "1.5.0",
            "_view_name": "ProgressView",
            "bar_style": "info",
            "description": "Progress:",
            "description_tooltip": null,
            "layout": "IPY_MODEL_08e9601d3f504236a53bbbade7fb7621",
            "max": 1,
            "min": 0,
            "orientation": "horizontal",
            "style": "IPY_MODEL_c26f51ab283542cc97fd7ad86a399412",
            "value": 0
          }
        },
        "08e9601d3f504236a53bbbade7fb7621": {
          "model_module": "@jupyter-widgets/base",
          "model_name": "LayoutModel",
          "model_module_version": "1.2.0",
          "state": {
            "_model_module": "@jupyter-widgets/base",
            "_model_module_version": "1.2.0",
            "_model_name": "LayoutModel",
            "_view_count": null,
            "_view_module": "@jupyter-widgets/base",
            "_view_module_version": "1.2.0",
            "_view_name": "LayoutView",
            "align_content": null,
            "align_items": null,
            "align_self": null,
            "border": null,
            "bottom": null,
            "display": null,
            "flex": null,
            "flex_flow": null,
            "grid_area": null,
            "grid_auto_columns": null,
            "grid_auto_flow": null,
            "grid_auto_rows": null,
            "grid_column": null,
            "grid_gap": null,
            "grid_row": null,
            "grid_template_areas": null,
            "grid_template_columns": null,
            "grid_template_rows": null,
            "height": "25px",
            "justify_content": null,
            "justify_items": null,
            "left": null,
            "margin": null,
            "max_height": null,
            "max_width": null,
            "min_height": null,
            "min_width": null,
            "object_fit": null,
            "object_position": null,
            "order": null,
            "overflow": null,
            "overflow_x": null,
            "overflow_y": null,
            "padding": null,
            "right": null,
            "top": null,
            "visibility": null,
            "width": "50%"
          }
        },
        "c26f51ab283542cc97fd7ad86a399412": {
          "model_module": "@jupyter-widgets/controls",
          "model_name": "ProgressStyleModel",
          "model_module_version": "1.5.0",
          "state": {
            "_model_module": "@jupyter-widgets/controls",
            "_model_module_version": "1.5.0",
            "_model_name": "ProgressStyleModel",
            "_view_count": null,
            "_view_module": "@jupyter-widgets/base",
            "_view_module_version": "1.2.0",
            "_view_name": "StyleView",
            "bar_color": null,
            "description_width": ""
          }
        },
        "a703b8b19a2c489585cdbd26676106d2": {
          "model_module": "@jupyter-widgets/controls",
          "model_name": "FloatProgressModel",
          "model_module_version": "1.5.0",
          "state": {
            "_dom_classes": [],
            "_model_module": "@jupyter-widgets/controls",
            "_model_module_version": "1.5.0",
            "_model_name": "FloatProgressModel",
            "_view_count": null,
            "_view_module": "@jupyter-widgets/controls",
            "_view_module_version": "1.5.0",
            "_view_name": "ProgressView",
            "bar_style": "info",
            "description": "Progress:",
            "description_tooltip": null,
            "layout": "IPY_MODEL_1e60c62c527841708556ab3bee26d7f4",
            "max": 1,
            "min": 0,
            "orientation": "horizontal",
            "style": "IPY_MODEL_950b505b1849453a97760c0b3175eb23",
            "value": 0.9696969696969697
          }
        },
        "1e60c62c527841708556ab3bee26d7f4": {
          "model_module": "@jupyter-widgets/base",
          "model_name": "LayoutModel",
          "model_module_version": "1.2.0",
          "state": {
            "_model_module": "@jupyter-widgets/base",
            "_model_module_version": "1.2.0",
            "_model_name": "LayoutModel",
            "_view_count": null,
            "_view_module": "@jupyter-widgets/base",
            "_view_module_version": "1.2.0",
            "_view_name": "LayoutView",
            "align_content": null,
            "align_items": null,
            "align_self": null,
            "border": null,
            "bottom": null,
            "display": null,
            "flex": null,
            "flex_flow": null,
            "grid_area": null,
            "grid_auto_columns": null,
            "grid_auto_flow": null,
            "grid_auto_rows": null,
            "grid_column": null,
            "grid_gap": null,
            "grid_row": null,
            "grid_template_areas": null,
            "grid_template_columns": null,
            "grid_template_rows": null,
            "height": "25px",
            "justify_content": null,
            "justify_items": null,
            "left": null,
            "margin": null,
            "max_height": null,
            "max_width": null,
            "min_height": null,
            "min_width": null,
            "object_fit": null,
            "object_position": null,
            "order": null,
            "overflow": null,
            "overflow_x": null,
            "overflow_y": null,
            "padding": null,
            "right": null,
            "top": null,
            "visibility": null,
            "width": "50%"
          }
        },
        "950b505b1849453a97760c0b3175eb23": {
          "model_module": "@jupyter-widgets/controls",
          "model_name": "ProgressStyleModel",
          "model_module_version": "1.5.0",
          "state": {
            "_model_module": "@jupyter-widgets/controls",
            "_model_module_version": "1.5.0",
            "_model_name": "ProgressStyleModel",
            "_view_count": null,
            "_view_module": "@jupyter-widgets/base",
            "_view_module_version": "1.2.0",
            "_view_name": "StyleView",
            "bar_color": null,
            "description_width": ""
          }
        },
        "2befb9431a9c4302b4036f1bbbbd6a68": {
          "model_module": "@jupyter-widgets/controls",
          "model_name": "FloatProgressModel",
          "model_module_version": "1.5.0",
          "state": {
            "_dom_classes": [],
            "_model_module": "@jupyter-widgets/controls",
            "_model_module_version": "1.5.0",
            "_model_name": "FloatProgressModel",
            "_view_count": null,
            "_view_module": "@jupyter-widgets/controls",
            "_view_module_version": "1.5.0",
            "_view_name": "ProgressView",
            "bar_style": "info",
            "description": "Progress:",
            "description_tooltip": null,
            "layout": "IPY_MODEL_e45665c0e7044049b3306cb5418385e2",
            "max": 1,
            "min": 0,
            "orientation": "horizontal",
            "style": "IPY_MODEL_8e7dd2d8e76d4fa8b4d2123f2175a129",
            "value": 0.5
          }
        },
        "e45665c0e7044049b3306cb5418385e2": {
          "model_module": "@jupyter-widgets/base",
          "model_name": "LayoutModel",
          "model_module_version": "1.2.0",
          "state": {
            "_model_module": "@jupyter-widgets/base",
            "_model_module_version": "1.2.0",
            "_model_name": "LayoutModel",
            "_view_count": null,
            "_view_module": "@jupyter-widgets/base",
            "_view_module_version": "1.2.0",
            "_view_name": "LayoutView",
            "align_content": null,
            "align_items": null,
            "align_self": null,
            "border": null,
            "bottom": null,
            "display": null,
            "flex": null,
            "flex_flow": null,
            "grid_area": null,
            "grid_auto_columns": null,
            "grid_auto_flow": null,
            "grid_auto_rows": null,
            "grid_column": null,
            "grid_gap": null,
            "grid_row": null,
            "grid_template_areas": null,
            "grid_template_columns": null,
            "grid_template_rows": null,
            "height": "25px",
            "justify_content": null,
            "justify_items": null,
            "left": null,
            "margin": null,
            "max_height": null,
            "max_width": null,
            "min_height": null,
            "min_width": null,
            "object_fit": null,
            "object_position": null,
            "order": null,
            "overflow": null,
            "overflow_x": null,
            "overflow_y": null,
            "padding": null,
            "right": null,
            "top": null,
            "visibility": null,
            "width": "50%"
          }
        },
        "8e7dd2d8e76d4fa8b4d2123f2175a129": {
          "model_module": "@jupyter-widgets/controls",
          "model_name": "ProgressStyleModel",
          "model_module_version": "1.5.0",
          "state": {
            "_model_module": "@jupyter-widgets/controls",
            "_model_module_version": "1.5.0",
            "_model_name": "ProgressStyleModel",
            "_view_count": null,
            "_view_module": "@jupyter-widgets/base",
            "_view_module_version": "1.2.0",
            "_view_name": "StyleView",
            "bar_color": null,
            "description_width": ""
          }
        },
        "cb40ae11e40744ee9b47f5d1e769035f": {
          "model_module": "@jupyter-widgets/controls",
          "model_name": "FloatProgressModel",
          "model_module_version": "1.5.0",
          "state": {
            "_dom_classes": [],
            "_model_module": "@jupyter-widgets/controls",
            "_model_module_version": "1.5.0",
            "_model_name": "FloatProgressModel",
            "_view_count": null,
            "_view_module": "@jupyter-widgets/controls",
            "_view_module_version": "1.5.0",
            "_view_name": "ProgressView",
            "bar_style": "info",
            "description": "Progress:",
            "description_tooltip": null,
            "layout": "IPY_MODEL_a34758cc06294685b62445be1b5584e6",
            "max": 1,
            "min": 0,
            "orientation": "horizontal",
            "style": "IPY_MODEL_c27ea201f5f04554a54792783873b04f",
            "value": 0
          }
        },
        "a34758cc06294685b62445be1b5584e6": {
          "model_module": "@jupyter-widgets/base",
          "model_name": "LayoutModel",
          "model_module_version": "1.2.0",
          "state": {
            "_model_module": "@jupyter-widgets/base",
            "_model_module_version": "1.2.0",
            "_model_name": "LayoutModel",
            "_view_count": null,
            "_view_module": "@jupyter-widgets/base",
            "_view_module_version": "1.2.0",
            "_view_name": "LayoutView",
            "align_content": null,
            "align_items": null,
            "align_self": null,
            "border": null,
            "bottom": null,
            "display": null,
            "flex": null,
            "flex_flow": null,
            "grid_area": null,
            "grid_auto_columns": null,
            "grid_auto_flow": null,
            "grid_auto_rows": null,
            "grid_column": null,
            "grid_gap": null,
            "grid_row": null,
            "grid_template_areas": null,
            "grid_template_columns": null,
            "grid_template_rows": null,
            "height": "25px",
            "justify_content": null,
            "justify_items": null,
            "left": null,
            "margin": null,
            "max_height": null,
            "max_width": null,
            "min_height": null,
            "min_width": null,
            "object_fit": null,
            "object_position": null,
            "order": null,
            "overflow": null,
            "overflow_x": null,
            "overflow_y": null,
            "padding": null,
            "right": null,
            "top": null,
            "visibility": null,
            "width": "50%"
          }
        },
        "c27ea201f5f04554a54792783873b04f": {
          "model_module": "@jupyter-widgets/controls",
          "model_name": "ProgressStyleModel",
          "model_module_version": "1.5.0",
          "state": {
            "_model_module": "@jupyter-widgets/controls",
            "_model_module_version": "1.5.0",
            "_model_name": "ProgressStyleModel",
            "_view_count": null,
            "_view_module": "@jupyter-widgets/base",
            "_view_module_version": "1.2.0",
            "_view_name": "StyleView",
            "bar_color": null,
            "description_width": ""
          }
        },
        "287175bb05ff4431bfb7e69088d148f2": {
          "model_module": "@jupyter-widgets/controls",
          "model_name": "FloatProgressModel",
          "model_module_version": "1.5.0",
          "state": {
            "_dom_classes": [],
            "_model_module": "@jupyter-widgets/controls",
            "_model_module_version": "1.5.0",
            "_model_name": "FloatProgressModel",
            "_view_count": null,
            "_view_module": "@jupyter-widgets/controls",
            "_view_module_version": "1.5.0",
            "_view_name": "ProgressView",
            "bar_style": "info",
            "description": "Progress:",
            "description_tooltip": null,
            "layout": "IPY_MODEL_8c86708f80d646609e20b5437e6b3f5e",
            "max": 1,
            "min": 0,
            "orientation": "horizontal",
            "style": "IPY_MODEL_7b6ebb35195940839f22218c4385f7c0",
            "value": 0.7387387387387387
          }
        },
        "8c86708f80d646609e20b5437e6b3f5e": {
          "model_module": "@jupyter-widgets/base",
          "model_name": "LayoutModel",
          "model_module_version": "1.2.0",
          "state": {
            "_model_module": "@jupyter-widgets/base",
            "_model_module_version": "1.2.0",
            "_model_name": "LayoutModel",
            "_view_count": null,
            "_view_module": "@jupyter-widgets/base",
            "_view_module_version": "1.2.0",
            "_view_name": "LayoutView",
            "align_content": null,
            "align_items": null,
            "align_self": null,
            "border": null,
            "bottom": null,
            "display": null,
            "flex": null,
            "flex_flow": null,
            "grid_area": null,
            "grid_auto_columns": null,
            "grid_auto_flow": null,
            "grid_auto_rows": null,
            "grid_column": null,
            "grid_gap": null,
            "grid_row": null,
            "grid_template_areas": null,
            "grid_template_columns": null,
            "grid_template_rows": null,
            "height": "25px",
            "justify_content": null,
            "justify_items": null,
            "left": null,
            "margin": null,
            "max_height": null,
            "max_width": null,
            "min_height": null,
            "min_width": null,
            "object_fit": null,
            "object_position": null,
            "order": null,
            "overflow": null,
            "overflow_x": null,
            "overflow_y": null,
            "padding": null,
            "right": null,
            "top": null,
            "visibility": null,
            "width": "50%"
          }
        },
        "7b6ebb35195940839f22218c4385f7c0": {
          "model_module": "@jupyter-widgets/controls",
          "model_name": "ProgressStyleModel",
          "model_module_version": "1.5.0",
          "state": {
            "_model_module": "@jupyter-widgets/controls",
            "_model_module_version": "1.5.0",
            "_model_name": "ProgressStyleModel",
            "_view_count": null,
            "_view_module": "@jupyter-widgets/base",
            "_view_module_version": "1.2.0",
            "_view_name": "StyleView",
            "bar_color": null,
            "description_width": ""
          }
        },
        "d97c5a2387b3483d8bcd0cb5c5100bf5": {
          "model_module": "@jupyter-widgets/controls",
          "model_name": "FloatProgressModel",
          "model_module_version": "1.5.0",
          "state": {
            "_dom_classes": [],
            "_model_module": "@jupyter-widgets/controls",
            "_model_module_version": "1.5.0",
            "_model_name": "FloatProgressModel",
            "_view_count": null,
            "_view_module": "@jupyter-widgets/controls",
            "_view_module_version": "1.5.0",
            "_view_name": "ProgressView",
            "bar_style": "info",
            "description": "Progress:",
            "description_tooltip": null,
            "layout": "IPY_MODEL_3f4965a8868843eebbabcb2f9241db46",
            "max": 1,
            "min": 0,
            "orientation": "horizontal",
            "style": "IPY_MODEL_2fb6bd31e7244f2984ac390effbf8479",
            "value": 0.8666666666666667
          }
        },
        "3f4965a8868843eebbabcb2f9241db46": {
          "model_module": "@jupyter-widgets/base",
          "model_name": "LayoutModel",
          "model_module_version": "1.2.0",
          "state": {
            "_model_module": "@jupyter-widgets/base",
            "_model_module_version": "1.2.0",
            "_model_name": "LayoutModel",
            "_view_count": null,
            "_view_module": "@jupyter-widgets/base",
            "_view_module_version": "1.2.0",
            "_view_name": "LayoutView",
            "align_content": null,
            "align_items": null,
            "align_self": null,
            "border": null,
            "bottom": null,
            "display": null,
            "flex": null,
            "flex_flow": null,
            "grid_area": null,
            "grid_auto_columns": null,
            "grid_auto_flow": null,
            "grid_auto_rows": null,
            "grid_column": null,
            "grid_gap": null,
            "grid_row": null,
            "grid_template_areas": null,
            "grid_template_columns": null,
            "grid_template_rows": null,
            "height": "25px",
            "justify_content": null,
            "justify_items": null,
            "left": null,
            "margin": null,
            "max_height": null,
            "max_width": null,
            "min_height": null,
            "min_width": null,
            "object_fit": null,
            "object_position": null,
            "order": null,
            "overflow": null,
            "overflow_x": null,
            "overflow_y": null,
            "padding": null,
            "right": null,
            "top": null,
            "visibility": null,
            "width": "50%"
          }
        },
        "2fb6bd31e7244f2984ac390effbf8479": {
          "model_module": "@jupyter-widgets/controls",
          "model_name": "ProgressStyleModel",
          "model_module_version": "1.5.0",
          "state": {
            "_model_module": "@jupyter-widgets/controls",
            "_model_module_version": "1.5.0",
            "_model_name": "ProgressStyleModel",
            "_view_count": null,
            "_view_module": "@jupyter-widgets/base",
            "_view_module_version": "1.2.0",
            "_view_name": "StyleView",
            "bar_color": null,
            "description_width": ""
          }
        },
        "96ca4ddb54904684a8c5cbf69d87fb13": {
          "model_module": "@jupyter-widgets/controls",
          "model_name": "FloatProgressModel",
          "model_module_version": "1.5.0",
          "state": {
            "_dom_classes": [],
            "_model_module": "@jupyter-widgets/controls",
            "_model_module_version": "1.5.0",
            "_model_name": "FloatProgressModel",
            "_view_count": null,
            "_view_module": "@jupyter-widgets/controls",
            "_view_module_version": "1.5.0",
            "_view_name": "ProgressView",
            "bar_style": "info",
            "description": "Progress:",
            "description_tooltip": null,
            "layout": "IPY_MODEL_11a86208dcfd46feb6317574b1faf3e1",
            "max": 1,
            "min": 0,
            "orientation": "horizontal",
            "style": "IPY_MODEL_806bc9bb9fc14e0d832553b1c42a8b4a",
            "value": 0
          }
        },
        "11a86208dcfd46feb6317574b1faf3e1": {
          "model_module": "@jupyter-widgets/base",
          "model_name": "LayoutModel",
          "model_module_version": "1.2.0",
          "state": {
            "_model_module": "@jupyter-widgets/base",
            "_model_module_version": "1.2.0",
            "_model_name": "LayoutModel",
            "_view_count": null,
            "_view_module": "@jupyter-widgets/base",
            "_view_module_version": "1.2.0",
            "_view_name": "LayoutView",
            "align_content": null,
            "align_items": null,
            "align_self": null,
            "border": null,
            "bottom": null,
            "display": null,
            "flex": null,
            "flex_flow": null,
            "grid_area": null,
            "grid_auto_columns": null,
            "grid_auto_flow": null,
            "grid_auto_rows": null,
            "grid_column": null,
            "grid_gap": null,
            "grid_row": null,
            "grid_template_areas": null,
            "grid_template_columns": null,
            "grid_template_rows": null,
            "height": "25px",
            "justify_content": null,
            "justify_items": null,
            "left": null,
            "margin": null,
            "max_height": null,
            "max_width": null,
            "min_height": null,
            "min_width": null,
            "object_fit": null,
            "object_position": null,
            "order": null,
            "overflow": null,
            "overflow_x": null,
            "overflow_y": null,
            "padding": null,
            "right": null,
            "top": null,
            "visibility": null,
            "width": "50%"
          }
        },
        "806bc9bb9fc14e0d832553b1c42a8b4a": {
          "model_module": "@jupyter-widgets/controls",
          "model_name": "ProgressStyleModel",
          "model_module_version": "1.5.0",
          "state": {
            "_model_module": "@jupyter-widgets/controls",
            "_model_module_version": "1.5.0",
            "_model_name": "ProgressStyleModel",
            "_view_count": null,
            "_view_module": "@jupyter-widgets/base",
            "_view_module_version": "1.2.0",
            "_view_name": "StyleView",
            "bar_color": null,
            "description_width": ""
          }
        },
        "b476804756b441828dbb916a51e91eab": {
          "model_module": "@jupyter-widgets/controls",
          "model_name": "FloatProgressModel",
          "model_module_version": "1.5.0",
          "state": {
            "_dom_classes": [],
            "_model_module": "@jupyter-widgets/controls",
            "_model_module_version": "1.5.0",
            "_model_name": "FloatProgressModel",
            "_view_count": null,
            "_view_module": "@jupyter-widgets/controls",
            "_view_module_version": "1.5.0",
            "_view_name": "ProgressView",
            "bar_style": "info",
            "description": "Progress:",
            "description_tooltip": null,
            "layout": "IPY_MODEL_09f24967060042cb80cb24a96ae012e6",
            "max": 1,
            "min": 0,
            "orientation": "horizontal",
            "style": "IPY_MODEL_981fa25b9dcb45968592fbdba5055989",
            "value": 0.05714285714285714
          }
        },
        "09f24967060042cb80cb24a96ae012e6": {
          "model_module": "@jupyter-widgets/base",
          "model_name": "LayoutModel",
          "model_module_version": "1.2.0",
          "state": {
            "_model_module": "@jupyter-widgets/base",
            "_model_module_version": "1.2.0",
            "_model_name": "LayoutModel",
            "_view_count": null,
            "_view_module": "@jupyter-widgets/base",
            "_view_module_version": "1.2.0",
            "_view_name": "LayoutView",
            "align_content": null,
            "align_items": null,
            "align_self": null,
            "border": null,
            "bottom": null,
            "display": null,
            "flex": null,
            "flex_flow": null,
            "grid_area": null,
            "grid_auto_columns": null,
            "grid_auto_flow": null,
            "grid_auto_rows": null,
            "grid_column": null,
            "grid_gap": null,
            "grid_row": null,
            "grid_template_areas": null,
            "grid_template_columns": null,
            "grid_template_rows": null,
            "height": "25px",
            "justify_content": null,
            "justify_items": null,
            "left": null,
            "margin": null,
            "max_height": null,
            "max_width": null,
            "min_height": null,
            "min_width": null,
            "object_fit": null,
            "object_position": null,
            "order": null,
            "overflow": null,
            "overflow_x": null,
            "overflow_y": null,
            "padding": null,
            "right": null,
            "top": null,
            "visibility": null,
            "width": "50%"
          }
        },
        "981fa25b9dcb45968592fbdba5055989": {
          "model_module": "@jupyter-widgets/controls",
          "model_name": "ProgressStyleModel",
          "model_module_version": "1.5.0",
          "state": {
            "_model_module": "@jupyter-widgets/controls",
            "_model_module_version": "1.5.0",
            "_model_name": "ProgressStyleModel",
            "_view_count": null,
            "_view_module": "@jupyter-widgets/base",
            "_view_module_version": "1.2.0",
            "_view_name": "StyleView",
            "bar_color": null,
            "description_width": ""
          }
        },
        "cf686104d003466ab70c110c03bf38f3": {
          "model_module": "@jupyter-widgets/controls",
          "model_name": "FloatProgressModel",
          "model_module_version": "1.5.0",
          "state": {
            "_dom_classes": [],
            "_model_module": "@jupyter-widgets/controls",
            "_model_module_version": "1.5.0",
            "_model_name": "FloatProgressModel",
            "_view_count": null,
            "_view_module": "@jupyter-widgets/controls",
            "_view_module_version": "1.5.0",
            "_view_name": "ProgressView",
            "bar_style": "info",
            "description": "Progress:",
            "description_tooltip": null,
            "layout": "IPY_MODEL_dcb59b18d8ff460f8e90c4162107968d",
            "max": 1,
            "min": 0,
            "orientation": "horizontal",
            "style": "IPY_MODEL_33b227bb867444ddb3fa62cb6394a88a",
            "value": 0
          }
        },
        "dcb59b18d8ff460f8e90c4162107968d": {
          "model_module": "@jupyter-widgets/base",
          "model_name": "LayoutModel",
          "model_module_version": "1.2.0",
          "state": {
            "_model_module": "@jupyter-widgets/base",
            "_model_module_version": "1.2.0",
            "_model_name": "LayoutModel",
            "_view_count": null,
            "_view_module": "@jupyter-widgets/base",
            "_view_module_version": "1.2.0",
            "_view_name": "LayoutView",
            "align_content": null,
            "align_items": null,
            "align_self": null,
            "border": null,
            "bottom": null,
            "display": null,
            "flex": null,
            "flex_flow": null,
            "grid_area": null,
            "grid_auto_columns": null,
            "grid_auto_flow": null,
            "grid_auto_rows": null,
            "grid_column": null,
            "grid_gap": null,
            "grid_row": null,
            "grid_template_areas": null,
            "grid_template_columns": null,
            "grid_template_rows": null,
            "height": "25px",
            "justify_content": null,
            "justify_items": null,
            "left": null,
            "margin": null,
            "max_height": null,
            "max_width": null,
            "min_height": null,
            "min_width": null,
            "object_fit": null,
            "object_position": null,
            "order": null,
            "overflow": null,
            "overflow_x": null,
            "overflow_y": null,
            "padding": null,
            "right": null,
            "top": null,
            "visibility": null,
            "width": "50%"
          }
        },
        "33b227bb867444ddb3fa62cb6394a88a": {
          "model_module": "@jupyter-widgets/controls",
          "model_name": "ProgressStyleModel",
          "model_module_version": "1.5.0",
          "state": {
            "_model_module": "@jupyter-widgets/controls",
            "_model_module_version": "1.5.0",
            "_model_name": "ProgressStyleModel",
            "_view_count": null,
            "_view_module": "@jupyter-widgets/base",
            "_view_module_version": "1.2.0",
            "_view_name": "StyleView",
            "bar_color": null,
            "description_width": ""
          }
        },
        "aab33361e323481898ef47ba4de21f45": {
          "model_module": "@jupyter-widgets/controls",
          "model_name": "FloatProgressModel",
          "model_module_version": "1.5.0",
          "state": {
            "_dom_classes": [],
            "_model_module": "@jupyter-widgets/controls",
            "_model_module_version": "1.5.0",
            "_model_name": "FloatProgressModel",
            "_view_count": null,
            "_view_module": "@jupyter-widgets/controls",
            "_view_module_version": "1.5.0",
            "_view_name": "ProgressView",
            "bar_style": "info",
            "description": "Progress:",
            "description_tooltip": null,
            "layout": "IPY_MODEL_a77d349048df476eb40a829084a241f8",
            "max": 1,
            "min": 0,
            "orientation": "horizontal",
            "style": "IPY_MODEL_67616a24af354de58354f2b16572ecd8",
            "value": 0
          }
        },
        "a77d349048df476eb40a829084a241f8": {
          "model_module": "@jupyter-widgets/base",
          "model_name": "LayoutModel",
          "model_module_version": "1.2.0",
          "state": {
            "_model_module": "@jupyter-widgets/base",
            "_model_module_version": "1.2.0",
            "_model_name": "LayoutModel",
            "_view_count": null,
            "_view_module": "@jupyter-widgets/base",
            "_view_module_version": "1.2.0",
            "_view_name": "LayoutView",
            "align_content": null,
            "align_items": null,
            "align_self": null,
            "border": null,
            "bottom": null,
            "display": null,
            "flex": null,
            "flex_flow": null,
            "grid_area": null,
            "grid_auto_columns": null,
            "grid_auto_flow": null,
            "grid_auto_rows": null,
            "grid_column": null,
            "grid_gap": null,
            "grid_row": null,
            "grid_template_areas": null,
            "grid_template_columns": null,
            "grid_template_rows": null,
            "height": "25px",
            "justify_content": null,
            "justify_items": null,
            "left": null,
            "margin": null,
            "max_height": null,
            "max_width": null,
            "min_height": null,
            "min_width": null,
            "object_fit": null,
            "object_position": null,
            "order": null,
            "overflow": null,
            "overflow_x": null,
            "overflow_y": null,
            "padding": null,
            "right": null,
            "top": null,
            "visibility": null,
            "width": "50%"
          }
        },
        "67616a24af354de58354f2b16572ecd8": {
          "model_module": "@jupyter-widgets/controls",
          "model_name": "ProgressStyleModel",
          "model_module_version": "1.5.0",
          "state": {
            "_model_module": "@jupyter-widgets/controls",
            "_model_module_version": "1.5.0",
            "_model_name": "ProgressStyleModel",
            "_view_count": null,
            "_view_module": "@jupyter-widgets/base",
            "_view_module_version": "1.2.0",
            "_view_name": "StyleView",
            "bar_color": null,
            "description_width": ""
          }
        },
        "3cbb2fe682ad461b843511f4e075c664": {
          "model_module": "@jupyter-widgets/controls",
          "model_name": "FloatProgressModel",
          "model_module_version": "1.5.0",
          "state": {
            "_dom_classes": [],
            "_model_module": "@jupyter-widgets/controls",
            "_model_module_version": "1.5.0",
            "_model_name": "FloatProgressModel",
            "_view_count": null,
            "_view_module": "@jupyter-widgets/controls",
            "_view_module_version": "1.5.0",
            "_view_name": "ProgressView",
            "bar_style": "info",
            "description": "Progress:",
            "description_tooltip": null,
            "layout": "IPY_MODEL_a2e7f86d900140ae873f81337c0a5957",
            "max": 1,
            "min": 0,
            "orientation": "horizontal",
            "style": "IPY_MODEL_c23e3f771f024814a982c579e81aeccb",
            "value": 0
          }
        },
        "a2e7f86d900140ae873f81337c0a5957": {
          "model_module": "@jupyter-widgets/base",
          "model_name": "LayoutModel",
          "model_module_version": "1.2.0",
          "state": {
            "_model_module": "@jupyter-widgets/base",
            "_model_module_version": "1.2.0",
            "_model_name": "LayoutModel",
            "_view_count": null,
            "_view_module": "@jupyter-widgets/base",
            "_view_module_version": "1.2.0",
            "_view_name": "LayoutView",
            "align_content": null,
            "align_items": null,
            "align_self": null,
            "border": null,
            "bottom": null,
            "display": null,
            "flex": null,
            "flex_flow": null,
            "grid_area": null,
            "grid_auto_columns": null,
            "grid_auto_flow": null,
            "grid_auto_rows": null,
            "grid_column": null,
            "grid_gap": null,
            "grid_row": null,
            "grid_template_areas": null,
            "grid_template_columns": null,
            "grid_template_rows": null,
            "height": "25px",
            "justify_content": null,
            "justify_items": null,
            "left": null,
            "margin": null,
            "max_height": null,
            "max_width": null,
            "min_height": null,
            "min_width": null,
            "object_fit": null,
            "object_position": null,
            "order": null,
            "overflow": null,
            "overflow_x": null,
            "overflow_y": null,
            "padding": null,
            "right": null,
            "top": null,
            "visibility": null,
            "width": "50%"
          }
        },
        "c23e3f771f024814a982c579e81aeccb": {
          "model_module": "@jupyter-widgets/controls",
          "model_name": "ProgressStyleModel",
          "model_module_version": "1.5.0",
          "state": {
            "_model_module": "@jupyter-widgets/controls",
            "_model_module_version": "1.5.0",
            "_model_name": "ProgressStyleModel",
            "_view_count": null,
            "_view_module": "@jupyter-widgets/base",
            "_view_module_version": "1.2.0",
            "_view_name": "StyleView",
            "bar_color": null,
            "description_width": ""
          }
        },
        "c4e615b0523040aea71c64c7ae5c8023": {
          "model_module": "@jupyter-widgets/controls",
          "model_name": "FloatProgressModel",
          "model_module_version": "1.5.0",
          "state": {
            "_dom_classes": [],
            "_model_module": "@jupyter-widgets/controls",
            "_model_module_version": "1.5.0",
            "_model_name": "FloatProgressModel",
            "_view_count": null,
            "_view_module": "@jupyter-widgets/controls",
            "_view_module_version": "1.5.0",
            "_view_name": "ProgressView",
            "bar_style": "info",
            "description": "Progress:",
            "description_tooltip": null,
            "layout": "IPY_MODEL_e7a008ab2e4942f5977a38f892ec08dd",
            "max": 1,
            "min": 0,
            "orientation": "horizontal",
            "style": "IPY_MODEL_4ca622678c7e4025bec3df88e3fbee72",
            "value": 0.8666666666666667
          }
        },
        "e7a008ab2e4942f5977a38f892ec08dd": {
          "model_module": "@jupyter-widgets/base",
          "model_name": "LayoutModel",
          "model_module_version": "1.2.0",
          "state": {
            "_model_module": "@jupyter-widgets/base",
            "_model_module_version": "1.2.0",
            "_model_name": "LayoutModel",
            "_view_count": null,
            "_view_module": "@jupyter-widgets/base",
            "_view_module_version": "1.2.0",
            "_view_name": "LayoutView",
            "align_content": null,
            "align_items": null,
            "align_self": null,
            "border": null,
            "bottom": null,
            "display": null,
            "flex": null,
            "flex_flow": null,
            "grid_area": null,
            "grid_auto_columns": null,
            "grid_auto_flow": null,
            "grid_auto_rows": null,
            "grid_column": null,
            "grid_gap": null,
            "grid_row": null,
            "grid_template_areas": null,
            "grid_template_columns": null,
            "grid_template_rows": null,
            "height": "25px",
            "justify_content": null,
            "justify_items": null,
            "left": null,
            "margin": null,
            "max_height": null,
            "max_width": null,
            "min_height": null,
            "min_width": null,
            "object_fit": null,
            "object_position": null,
            "order": null,
            "overflow": null,
            "overflow_x": null,
            "overflow_y": null,
            "padding": null,
            "right": null,
            "top": null,
            "visibility": null,
            "width": "50%"
          }
        },
        "4ca622678c7e4025bec3df88e3fbee72": {
          "model_module": "@jupyter-widgets/controls",
          "model_name": "ProgressStyleModel",
          "model_module_version": "1.5.0",
          "state": {
            "_model_module": "@jupyter-widgets/controls",
            "_model_module_version": "1.5.0",
            "_model_name": "ProgressStyleModel",
            "_view_count": null,
            "_view_module": "@jupyter-widgets/base",
            "_view_module_version": "1.2.0",
            "_view_name": "StyleView",
            "bar_color": null,
            "description_width": ""
          }
        },
        "084eb29b6ba24db39a3f91ad33743f3f": {
          "model_module": "@jupyter-widgets/controls",
          "model_name": "FloatProgressModel",
          "model_module_version": "1.5.0",
          "state": {
            "_dom_classes": [],
            "_model_module": "@jupyter-widgets/controls",
            "_model_module_version": "1.5.0",
            "_model_name": "FloatProgressModel",
            "_view_count": null,
            "_view_module": "@jupyter-widgets/controls",
            "_view_module_version": "1.5.0",
            "_view_name": "ProgressView",
            "bar_style": "info",
            "description": "Progress:",
            "description_tooltip": null,
            "layout": "IPY_MODEL_d8837c50497e45a7abb204d923903ef8",
            "max": 1,
            "min": 0,
            "orientation": "horizontal",
            "style": "IPY_MODEL_b3ca16706ed842f9a6147880a7cf28a8",
            "value": 0
          }
        },
        "d8837c50497e45a7abb204d923903ef8": {
          "model_module": "@jupyter-widgets/base",
          "model_name": "LayoutModel",
          "model_module_version": "1.2.0",
          "state": {
            "_model_module": "@jupyter-widgets/base",
            "_model_module_version": "1.2.0",
            "_model_name": "LayoutModel",
            "_view_count": null,
            "_view_module": "@jupyter-widgets/base",
            "_view_module_version": "1.2.0",
            "_view_name": "LayoutView",
            "align_content": null,
            "align_items": null,
            "align_self": null,
            "border": null,
            "bottom": null,
            "display": null,
            "flex": null,
            "flex_flow": null,
            "grid_area": null,
            "grid_auto_columns": null,
            "grid_auto_flow": null,
            "grid_auto_rows": null,
            "grid_column": null,
            "grid_gap": null,
            "grid_row": null,
            "grid_template_areas": null,
            "grid_template_columns": null,
            "grid_template_rows": null,
            "height": "25px",
            "justify_content": null,
            "justify_items": null,
            "left": null,
            "margin": null,
            "max_height": null,
            "max_width": null,
            "min_height": null,
            "min_width": null,
            "object_fit": null,
            "object_position": null,
            "order": null,
            "overflow": null,
            "overflow_x": null,
            "overflow_y": null,
            "padding": null,
            "right": null,
            "top": null,
            "visibility": null,
            "width": "50%"
          }
        },
        "b3ca16706ed842f9a6147880a7cf28a8": {
          "model_module": "@jupyter-widgets/controls",
          "model_name": "ProgressStyleModel",
          "model_module_version": "1.5.0",
          "state": {
            "_model_module": "@jupyter-widgets/controls",
            "_model_module_version": "1.5.0",
            "_model_name": "ProgressStyleModel",
            "_view_count": null,
            "_view_module": "@jupyter-widgets/base",
            "_view_module_version": "1.2.0",
            "_view_name": "StyleView",
            "bar_color": null,
            "description_width": ""
          }
        },
        "1324854676ac42a0b4f35685458de825": {
          "model_module": "@jupyter-widgets/controls",
          "model_name": "FloatProgressModel",
          "model_module_version": "1.5.0",
          "state": {
            "_dom_classes": [],
            "_model_module": "@jupyter-widgets/controls",
            "_model_module_version": "1.5.0",
            "_model_name": "FloatProgressModel",
            "_view_count": null,
            "_view_module": "@jupyter-widgets/controls",
            "_view_module_version": "1.5.0",
            "_view_name": "ProgressView",
            "bar_style": "info",
            "description": "Progress:",
            "description_tooltip": null,
            "layout": "IPY_MODEL_b21b1385f6384e958993ff5a6931145b",
            "max": 1,
            "min": 0,
            "orientation": "horizontal",
            "style": "IPY_MODEL_a5810efb8ac64f6d8cf57efecfce156c",
            "value": 0.5
          }
        },
        "b21b1385f6384e958993ff5a6931145b": {
          "model_module": "@jupyter-widgets/base",
          "model_name": "LayoutModel",
          "model_module_version": "1.2.0",
          "state": {
            "_model_module": "@jupyter-widgets/base",
            "_model_module_version": "1.2.0",
            "_model_name": "LayoutModel",
            "_view_count": null,
            "_view_module": "@jupyter-widgets/base",
            "_view_module_version": "1.2.0",
            "_view_name": "LayoutView",
            "align_content": null,
            "align_items": null,
            "align_self": null,
            "border": null,
            "bottom": null,
            "display": null,
            "flex": null,
            "flex_flow": null,
            "grid_area": null,
            "grid_auto_columns": null,
            "grid_auto_flow": null,
            "grid_auto_rows": null,
            "grid_column": null,
            "grid_gap": null,
            "grid_row": null,
            "grid_template_areas": null,
            "grid_template_columns": null,
            "grid_template_rows": null,
            "height": "25px",
            "justify_content": null,
            "justify_items": null,
            "left": null,
            "margin": null,
            "max_height": null,
            "max_width": null,
            "min_height": null,
            "min_width": null,
            "object_fit": null,
            "object_position": null,
            "order": null,
            "overflow": null,
            "overflow_x": null,
            "overflow_y": null,
            "padding": null,
            "right": null,
            "top": null,
            "visibility": null,
            "width": "50%"
          }
        },
        "a5810efb8ac64f6d8cf57efecfce156c": {
          "model_module": "@jupyter-widgets/controls",
          "model_name": "ProgressStyleModel",
          "model_module_version": "1.5.0",
          "state": {
            "_model_module": "@jupyter-widgets/controls",
            "_model_module_version": "1.5.0",
            "_model_name": "ProgressStyleModel",
            "_view_count": null,
            "_view_module": "@jupyter-widgets/base",
            "_view_module_version": "1.2.0",
            "_view_name": "StyleView",
            "bar_color": null,
            "description_width": ""
          }
        }
      }
    }
  },
  "nbformat": 4,
  "nbformat_minor": 0
}