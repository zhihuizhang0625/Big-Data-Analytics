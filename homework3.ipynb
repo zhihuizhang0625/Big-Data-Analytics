{
  "cells": [
    {
      "cell_type": "markdown",
      "metadata": {
        "id": "qVMCjEV1IEC7"
      },
      "source": [
        "# CIS 545 Homework 3: Spark SQL\n",
        "\n",
        "#### **Worth 100 points**\n",
        "\n",
        "Welcome to CIS 545 Homework 3! In this homework you will gain a mastery of using Spark SQL. By the end, you'll be a star (not that you aren't already one). Over the next few days you will be using an EMR cluster to use Spark to manipulate the  `basic_stats2.json` and `defensive.json` datasets, as well as `superbowl3.csv`.\n",
        "\n",
        "The goal of the homework will be to create a dataset for a Time Series model.  Yes, we are training you for the portions of the class coming up in the not-so-distant future!!\n",
        "\n",
        "## The Necessary Notes and Nags\n",
        "Before we begin here are some important notes to keep in mind,\n",
        "\n",
        "\n",
        "1.   **IMPORTANT!** I said it twice, it's really important. In this homework, we will be using AWS resources. You are given a quota ($100) to use for the entirety of the homework. There is a small chance you will use all this money, however it is important that at the end of every session, you **shut down your EMR cluster**.\n",
        "2.   **Be sure you use Google Colab for this Homework** since we must connect to the EMR cluster and local Jupyter will have issues doing that. Using a Google Colab Notebook with an EMR cluster has two important abnormalities:\n",
        "    * The first line of any cell in which you will use the spark session must be `%%spark`. Notice that all cells below have this.\n",
        "    * You will, unfortunately, not be able to stop a cell while it is running. If you wish to do so, you will need to restart your cluster. See the Setup EMR Document for reference.\n",
        "3.   You are **required** to use Spark SQL queries to handle the data in the assignment. Mastering SQL is more beneficial than being able to use Spark commands (functions) as it will show up in more areas of programming and data science/analytics than just Spark. Use the following [function list](https://spark.apache.org/docs/latest/api/sql/index.html#) to see all the SQL functions avaliable in Spark.\n",
        "4.   Throughout the homework you will be manipulating Spark dataframes (sdfs). We do not specify any ordering on the final output. You are welcome to order your final tables in whatever way you deem fit. We will conduct our own ordering when we grade.\n",
        "5. Based on the challenges you've faced in the previous homework, we are including information on the expected schema of your results.  Apache Spark is very fiddly but we hope this will help.\n",
        "6. There are portions of this homework that are _very_ hard. We urge you start early to come to office hours and get help if you get stuck. But don't worry, I can see the future, and you all got this.\n",
        "\n",
        "With that said, let's dive in.\n",
        "\n",
        "\n"
      ]
    },
    {
      "cell_type": "code",
      "execution_count": 1,
      "metadata": {
        "id": "PpCsXltQ9xId",
        "colab": {
          "base_uri": "https://localhost:8080/"
        },
        "outputId": "77c9c5f7-385a-4da4-c6c4-9cc7e43b0af6"
      },
      "outputs": [
        {
          "output_type": "stream",
          "name": "stdout",
          "text": [
            "Requirement already satisfied: pandas==1.1.5 in /usr/local/lib/python3.7/dist-packages (1.1.5)\n",
            "Requirement already satisfied: numpy>=1.15.4 in /usr/local/lib/python3.7/dist-packages (from pandas==1.1.5) (1.21.5)\n",
            "Requirement already satisfied: pytz>=2017.2 in /usr/local/lib/python3.7/dist-packages (from pandas==1.1.5) (2018.9)\n",
            "Requirement already satisfied: python-dateutil>=2.7.3 in /usr/local/lib/python3.7/dist-packages (from pandas==1.1.5) (2.8.2)\n",
            "Requirement already satisfied: six>=1.5 in /usr/local/lib/python3.7/dist-packages (from python-dateutil>=2.7.3->pandas==1.1.5) (1.15.0)\n"
          ]
        }
      ],
      "source": [
        "# As always, run this, restart, rerun\n",
        "!pip install pandas==1.1.5"
      ]
    },
    {
      "cell_type": "markdown",
      "metadata": {
        "id": "7XEqGpEGBWs5"
      },
      "source": [
        "## Step 0: Set up EMR\n",
        "\n",
        "Follow the [AWS Academy Getting Started](https://docs.google.com/document/d/1JPitLGaorjTbXjGsaoIHcLTu2cj8rjm5UNr9bSpZ72k/edit?usp=sharing) instructions.\n",
        "\n",
        "Move on to Step 0.1 after you have completed all the steps in the document.\n",
        "\n",
        "![ACME GIANT RUBBER BAND](https://pbs.twimg.com/media/DRqbJh7UMAE2z4o?format=jpg&name=4096x4096)\n"
      ]
    },
    {
      "cell_type": "markdown",
      "metadata": {
        "id": "5iBPXxgAdXkv"
      },
      "source": [
        "### Step 0.1: The Superfluous Setup\n",
        "\n",
        "Run the following two cells. These will allow your colab notebook to connect to an use your EMR."
      ]
    },
    {
      "cell_type": "code",
      "execution_count": 2,
      "metadata": {
        "id": "pvkEbVaaAQ1e"
      },
      "outputs": [],
      "source": [
        "%%capture\n",
        "!apt update\n",
        "!apt install gcc python-dev libkrb5-dev\n",
        "!pip install sparkmagic\n",
        "!pip install penngrader\n"
      ]
    },
    {
      "cell_type": "code",
      "execution_count": 3,
      "metadata": {
        "id": "6WAJmQ8IAbRs"
      },
      "outputs": [],
      "source": [
        "%%capture\n",
        "%load_ext sparkmagic.magics "
      ]
    },
    {
      "cell_type": "markdown",
      "metadata": {
        "id": "CL6n768EPt9E"
      },
      "source": [
        "### Step 0.2: The Sharp Spark\n",
        "\n",
        "Now, connect your notebook to the EMR cluster you created. In the first cell, copy the link to the Master Public DNS specified in the setup document. You will need to add `http://` to the beginning of the address and the auth details to the end.\n",
        "\n",
        "For example, if my DNS (directly from the AWS EMR console) is `ec2-3-15-237-211.us-east-2.compute.amazonaws.com` my address would be,\n",
        "\n",
        "`http://ec2-3-15-237-211.us-east-2.compute.amazonaws.com -a cis545-livy -p password1 -t Basic_Access`\n",
        "\n",
        "Insert this in the `# TODO # below`. For our example, the cell would read,\n",
        "\n",
        "```\n",
        "%spark add -s spark_session -l python -u http://ec2-3-15-237-211.us-east-2.compute.amazonaws.com -a cis545-livy -p password1 -t Basic_Access\n",
        "```"
      ]
    },
    {
      "cell_type": "code",
      "execution_count": 4,
      "metadata": {
        "colab": {
          "base_uri": "https://localhost:8080/",
          "height": 96,
          "referenced_widgets": [
            "a3acc7fa88a148e48c17ed47088aec89",
            "8a307f4a2f3443c6a596199591c3db13",
            "4424212841dc45b88a989bf006624686"
          ]
        },
        "id": "G9QbylT-jqX9",
        "outputId": "2aff5dbd-d786-4a58-c395-bde8d5306bda"
      },
      "outputs": [
        {
          "output_type": "stream",
          "name": "stdout",
          "text": [
            "Starting Spark application\n"
          ]
        },
        {
          "output_type": "display_data",
          "data": {
            "text/plain": [
              "<IPython.core.display.HTML object>"
            ],
            "text/html": [
              "<table>\n",
              "<tr><th>ID</th><th>YARN Application ID</th><th>Kind</th><th>State</th><th>Spark UI</th><th>Driver log</th><th>User</th><th>Current session?</th></tr><tr><td>1</td><td>application_1647741208500_0002</td><td>pyspark</td><td>idle</td><td><a target=\"_blank\" href=\"http://ip-172-31-90-232.ec2.internal:20888/proxy/application_1647741208500_0002/\">Link</a></td><td><a target=\"_blank\" href=\"http://ip-172-31-83-173.ec2.internal:8042/node/containerlogs/container_1647741208500_0002_01_000001/livy\">Link</a></td><td>None</td><td>✔</td></tr></table>"
            ]
          },
          "metadata": {}
        },
        {
          "output_type": "display_data",
          "data": {
            "text/plain": [
              "FloatProgress(value=0.0, bar_style='info', description='Progress:', layout=Layout(height='25px', width='50%'),…"
            ],
            "application/vnd.jupyter.widget-view+json": {
              "version_major": 2,
              "version_minor": 0,
              "model_id": "a3acc7fa88a148e48c17ed47088aec89"
            }
          },
          "metadata": {}
        },
        {
          "output_type": "stream",
          "name": "stdout",
          "text": [
            "SparkSession available as 'spark'.\n"
          ]
        }
      ],
      "source": [
        "# TODO: Copy the line above, enter your Master Public DNS with the proper formatting and host, and update the password\n",
        "%spark add -s spark_session -l python -u http://ec2-3-82-171-122.compute-1.amazonaws.com -a cis545-livy -p Clara_0625 -t Basic_Access"
      ]
    },
    {
      "cell_type": "code",
      "execution_count": 5,
      "metadata": {
        "id": "QwKAHhQL0lf7"
      },
      "outputs": [],
      "source": [
        "# If you ever need to restart, you may need to...\n",
        "# %spark delete -s my_session\n",
        "#OR just factory reset runtime under the runtime tab"
      ]
    },
    {
      "cell_type": "markdown",
      "metadata": {
        "id": "6yzJetbCfgh3"
      },
      "source": [
        "### Step 0.3: Cluster Log\n",
        "\n",
        "In order to keep track of clusters you have created and terminated as well as give us information about time spent on this assignment, please enter each date and time you created a cluster and the date and time you terminated the cluster. This will not impact your score."
      ]
    },
    {
      "cell_type": "markdown",
      "metadata": {
        "id": "powXPhtphhyy"
      },
      "source": [
        "EX: \n",
        "\n",
        "10/12 9:00am - 10/12 12:00pm\n",
        "\n",
        "10/13 7:00pm - 10/13 9:00pm\n",
        "\n",
        "...\n",
        "    "
      ]
    },
    {
      "cell_type": "markdown",
      "metadata": {
        "id": "SokSZv4vih0c"
      },
      "source": [
        "TODO: Create cluster log"
      ]
    },
    {
      "cell_type": "markdown",
      "metadata": {
        "id": "I0C7UNrzqeJ1"
      },
      "source": [
        "Cluster log: \n"
      ]
    },
    {
      "cell_type": "markdown",
      "metadata": {
        "id": "v1IQjUwNObb8"
      },
      "source": [
        "Enter your 8-digit Penn Key as an integer in the cell \n",
        "below. This will be used in the autograder.  **Please also update the cell below, with the same ID!**"
      ]
    },
    {
      "cell_type": "code",
      "execution_count": 6,
      "metadata": {
        "id": "7zM20juwqqQF"
      },
      "outputs": [],
      "source": [
        "from penngrader.grader import *\n",
        "STUDENT_ID = 86616304"
      ]
    },
    {
      "cell_type": "code",
      "execution_count": 7,
      "metadata": {
        "colab": {
          "base_uri": "https://localhost:8080/"
        },
        "id": "V8Oo_5D7qoWp",
        "outputId": "ab654a2f-66a2-46ec-ff21-bfa64ea7b11e"
      },
      "outputs": [
        {
          "output_type": "stream",
          "name": "stdout",
          "text": [
            "PennGrader initialized with Student ID: 86616304\n",
            "\n",
            "Make sure this correct or we will not be able to store your grade\n"
          ]
        }
      ],
      "source": [
        "grader = PennGrader(homework_id = 'CIS545_Spring_2022_HW3', student_id = STUDENT_ID)"
      ]
    },
    {
      "cell_type": "markdown",
      "metadata": {
        "id": "kvl5MJg6cLHr"
      },
      "source": [
        "**Please make sure you also update this one, so the grader can similarly be updated on Spark/EMR!**"
      ]
    },
    {
      "cell_type": "code",
      "execution_count": 8,
      "metadata": {
        "colab": {
          "base_uri": "https://localhost:8080/",
          "height": 69,
          "referenced_widgets": [
            "4eaf4b5f773c4f00b1e3d4a114ab34d7",
            "8615c3b2ae97402593b8e08671dd0f06",
            "f260a4eb87464d5ca34f53235c7049cf"
          ]
        },
        "id": "9NQjHLyKcL5H",
        "outputId": "b210add9-98b0-4d6f-e4c9-0885692e462e"
      },
      "outputs": [
        {
          "output_type": "display_data",
          "data": {
            "text/plain": [
              "FloatProgress(value=0.0, bar_style='info', description='Progress:', layout=Layout(height='25px', width='50%'),…"
            ],
            "application/vnd.jupyter.widget-view+json": {
              "version_major": 2,
              "version_minor": 0,
              "model_id": "4eaf4b5f773c4f00b1e3d4a114ab34d7"
            }
          },
          "metadata": {}
        },
        {
          "output_type": "stream",
          "name": "stdout",
          "text": [
            "PennGrader initialized with Student ID: 86616304\n",
            "\n",
            "Make sure this correct or we will not be able to store your grade"
          ]
        }
      ],
      "source": [
        "%%spark\n",
        "from penngrader.grader import *\n",
        "STUDENT_ID = 86616304\n",
        "grader = PennGrader(homework_id = 'CIS545_Spring_2022_HW3', student_id = STUDENT_ID)"
      ]
    },
    {
      "cell_type": "markdown",
      "metadata": {
        "id": "Bfs-EQZUzF4j"
      },
      "source": [
        "Run the above cells to setup the autograder in BOTH the Spark session as well as locally, make sure to have set your 8 digit Penn ID in the cell above. It will also import all the modules you need for the homework.\n",
        "\n",
        "_Note_: Since we are using an EMR cluster we will only have access to some of modules that exist for Python, meaning things like `pandas`, `numpy`, etc. may not all be available. We have written the entire homework such that the solution does not require any of these."
      ]
    },
    {
      "cell_type": "markdown",
      "metadata": {
        "id": "4nyAa0wn1XCD"
      },
      "source": [
        "## Step 1: Data Wrangling, Cleaning, and Shaping\n",
        "\n",
        "It's football fever! We very recently witnessed Super Bowl LVI, in which Los Angeles Rams trumped the Cincinnati Bengals to clinch the title at their brand new home stadium. To continue the hype, we thought it would be exciting for you to work on NFL data and that's what we will be doing today.\n",
        "\n",
        "<br>\n",
        "\n",
        "![Winners](https://imagez.tmz.com/image/d6/4by3/2022/02/14/d62fc8c540c348c0aa75730b9c9a5b8d_md.jpg)\n",
        "\n",
        "<br>\n",
        "\n",
        "The data you will use is stored in an S3 bucket, a cloud storage service. You now need to download it onto the nodes of your [EMR cluster](https://docs.aws.amazon.com/emr/latest/ManagementGuide/emr-what-is-emr.html). "
      ]
    },
    {
      "cell_type": "markdown",
      "metadata": {
        "id": "Nf_ADEXnIK0b"
      },
      "source": [
        "### Step 1.1: The Stupendous Schema\n",
        "\n",
        "When loading data, Spark will try to infer its structure on its own. This process is faulty because Spark will sometimes infer the type incorrectly. Spark's ability to determine types is not reliable, thus you will need to define a schema for `basic_stats2.json` and `defensive3.json`.\n",
        "\n",
        "A schema is a description of the structure of data. We have given you an example with `defensive3.json` and you will be defining an explicit schema for `basic_stats2.json`. \n",
        "\n",
        "\n",
        "In Spark, schemas are defined using a `StructType` object. This is a collection of data types, termed `StructField`'s, that specify the structure and variable type of each component of the dataset. For example, suppose we have the following simple JSON object,\n",
        "\n",
        "\n",
        "```\n",
        "{\n",
        " \"student_name\": \"Data Wrangler\",\n",
        " \"GPA\": 1.4,\n",
        " \"courses\": [\n",
        "    {\"department\": \"Computer and Information Science\",\n",
        "     \"course_id\": \"CIS 545\",\n",
        "     \"semester\": \"Fall 2021\"},\n",
        "    {\"department\": \"Computer and Information Science\",\n",
        "     \"course_id\": \"CIS 555\",\n",
        "     \"semester\": \"Fall 2021\"}\n",
        " ],\n",
        " \"grad_year\": 2022\n",
        " }\n",
        "```\n",
        "\n",
        "We would define its schema as follows,\n",
        "\n",
        "```       \n",
        "schema = StructType([\n",
        "           StructField(\"student_name\", StringType(), nullable=True),\n",
        "           StructField(\"GPA\", FloatType(), nullable=True),\n",
        "           StructField(\"courses\", ArrayType(\n",
        "                StructType([\n",
        "                  StructField(\"department\", StringType(), nullable=True),\n",
        "                  StructField(\"course_id\", StringType(), nullable=True),\n",
        "                  StructField(\"semester\", StringType(), nullable=True)\n",
        "                ])\n",
        "           ), nullable=True),\n",
        "           StructField(\"grad_year\", IntegerType(), nullable=True)\n",
        "         ])\n",
        "```\n",
        "\n",
        "\n",
        "Each `StructField` has the following structure: `(name, type, nullable)`. The `nullable` flag defines that the specified field may be empty. Your first task is to define the `schema` of `basic_stats2.json`. You can take a look at the schema for `defensive3.json` for reference. A smaller version of the JSON dataset can be found here. [defensive3.json](https://drive.google.com/file/d/1B75g3-GEdrXTiWn9069bDwvIia9xQIQR/view?usp=sharing), [basic_stats2.json](https://drive.google.com/file/d/1aF4fnH4JI_r8wWN27qFdyjiXWOs4mlg9/view?usp=sharing).\n",
        "\n",
        "\n",
        "\n",
        "\n",
        "There is also no grading cell for this step.  But your JSON file won't load if it's wrong, so you have a way of testing.\n",
        "\n"
      ]
    },
    {
      "cell_type": "code",
      "execution_count": 9,
      "metadata": {
        "colab": {
          "base_uri": "https://localhost:8080/",
          "height": 17,
          "referenced_widgets": [
            "62aadc9076194e10a2348d1919fcaaff",
            "e45afe6de0dc4463962963d2219827a8",
            "1ca3d3ac7cc84c7fafb42ef43668f929"
          ]
        },
        "id": "pL-Ps4KWIJ9e",
        "outputId": "eefa0ea3-53e9-4ed8-ddbf-6b63ade28b15"
      },
      "outputs": [
        {
          "output_type": "display_data",
          "data": {
            "text/plain": [
              "FloatProgress(value=0.0, bar_style='info', description='Progress:', layout=Layout(height='25px', width='50%'),…"
            ],
            "application/vnd.jupyter.widget-view+json": {
              "version_major": 2,
              "version_minor": 0,
              "model_id": "62aadc9076194e10a2348d1919fcaaff"
            }
          },
          "metadata": {}
        }
      ],
      "source": [
        "%%spark\n",
        "\n",
        "from pyspark.sql.types import *\n",
        "\n",
        "#schema for defensive.json\n",
        "\n",
        "schema_defensive = StructType([\n",
        "                     \n",
        "                     StructField(\"Player Id\", StringType(), nullable = True),\n",
        "                     StructField(\"Name\", StringType(), nullable = True),\n",
        "                     StructField(\"Position\", StringType(), nullable = True),\n",
        "                     StructField(\"Year\", IntegerType(), nullable = True),\n",
        "                     StructField(\"Team\", StringType(), nullable = True),\n",
        "                     StructField(\"Games Played\", StringType(), nullable = True),\n",
        "                     StructField(\"Total Tackles\", StringType(), nullable = True),\n",
        "                     StructField(\"Solo Tackles\", StringType(), nullable = True),\n",
        "                     StructField(\"Assisted Tackles\", StringType(), nullable = True),\n",
        "                     StructField(\"Sacks\", StringType(), nullable = True),\n",
        "                     StructField(\"Safties\", StringType(), nullable = True),\n",
        "                     StructField(\"Passes Defended\", StringType(), nullable = True),\n",
        "                     StructField(\"Ints\", StringType(), nullable = True),\n",
        "                     StructField(\"Ints for TDs\", StringType(), nullable = True),\n",
        "                     StructField(\"Int Yards\", StringType(), nullable = True),\n",
        "                     StructField(\"Yards Per Int\", StringType(), nullable = True),\n",
        "                     StructField(\"Longest Int Return\", StringType(), nullable = True),            \n",
        "                ])\n",
        "\n",
        "\n",
        "#TODO: Create a schema for basic_stats2.json\n",
        "Schema_basicstats = StructType([\n",
        "                     \n",
        "                     StructField(\"Age\", IntegerType(), nullable = True),\n",
        "                     StructField(\"Birth Place\", StringType(), nullable = True),\n",
        "                     StructField(\"Birthday\", StringType(), nullable = True),\n",
        "                     StructField(\"College\", StringType(), nullable = True),\n",
        "                     StructField(\"Current Status\", StringType(), nullable = True),\n",
        "                     StructField(\"Current Team\", StringType(), nullable = True),\n",
        "                     StructField(\"Experience\", StringType(), nullable = True),\n",
        "                     StructField(\"Height (inches)\", StringType(), nullable = True),\n",
        "                     StructField(\"High School\", StringType(), nullable = True),\n",
        "                     StructField(\"High School Location\", StringType(), nullable = True),\n",
        "                     StructField(\"Name\", StringType(), nullable = True),\n",
        "                     StructField(\"Number\", StringType(), nullable = True),\n",
        "                     StructField(\"Player Id\", StringType(), nullable = True),\n",
        "                     StructField(\"Position\", StringType(), nullable = True),\n",
        "                     StructField(\"Weight (lbs)\", StringType(), nullable = True),\n",
        "                     StructField(\"Years Played\", StringType(), nullable = True),          \n",
        "                ])\n",
        "\n",
        "\n",
        "                    "
      ]
    },
    {
      "cell_type": "markdown",
      "metadata": {
        "id": "2Su604X9ggc2"
      },
      "source": [
        "### Step 1.2: The Langorous Load\n",
        "\n",
        "In the following cell, load the `basic_stats2.json` dataset and the `defensive3.json` from your S3 bucket into Spark dataframes (sdf) called `basic_stats_sdf` and `defensive_sdf` respectively. If you have constructed `schema1` and `schema2` correctly, `spark.read.json()` will read in the dataset. \n",
        "\n",
        "***You do not need to edit this cell***. If this doesn't work, go back to the prior cell and update your schema."
      ]
    },
    {
      "cell_type": "code",
      "execution_count": 10,
      "metadata": {
        "colab": {
          "base_uri": "https://localhost:8080/",
          "height": 17,
          "referenced_widgets": [
            "5115ac9a781445a5870a2ec916184f35",
            "6e23a7907011412bbbc9c3a04001702d",
            "40ff4e73391b4b5fb5e8a33da11ee7a2"
          ]
        },
        "id": "ji-KW2sAiB6r",
        "outputId": "3983a8ae-bb15-4dec-aae3-f9c9b6eb04ca"
      },
      "outputs": [
        {
          "output_type": "display_data",
          "data": {
            "text/plain": [
              "FloatProgress(value=0.0, bar_style='info', description='Progress:', layout=Layout(height='25px', width='50%'),…"
            ],
            "application/vnd.jupyter.widget-view+json": {
              "version_major": 2,
              "version_minor": 0,
              "model_id": "5115ac9a781445a5870a2ec916184f35"
            }
          },
          "metadata": {}
        }
      ],
      "source": [
        "%%spark\n",
        "\n",
        "defensive_stats_sdf = spark.read.json(\"s3://penn-cis545-files/defensive3.json\", schema=schema_defensive, multiLine = True, primitivesAsString = True)\n"
      ]
    },
    {
      "cell_type": "code",
      "execution_count": 11,
      "metadata": {
        "colab": {
          "base_uri": "https://localhost:8080/",
          "height": 210,
          "referenced_widgets": [
            "4aaad07e9dbe41079a9ddf8e4a1a3b2c",
            "6d84160af3a34393ab7c7863395c2238",
            "ea07a6dc754444148973fdc31c65843c"
          ]
        },
        "id": "nvurIgjLkdZL",
        "outputId": "5f88f03f-1cdf-45d5-cc42-a8b1a6107dc9"
      },
      "outputs": [
        {
          "output_type": "display_data",
          "data": {
            "text/plain": [
              "FloatProgress(value=0.0, bar_style='info', description='Progress:', layout=Layout(height='25px', width='50%'),…"
            ],
            "application/vnd.jupyter.widget-view+json": {
              "version_major": 2,
              "version_minor": 0,
              "model_id": "4aaad07e9dbe41079a9ddf8e4a1a3b2c"
            }
          },
          "metadata": {}
        },
        {
          "output_type": "stream",
          "name": "stdout",
          "text": [
            "+------------------+--------------+--------+----+-----------------+------------+-------------+------------+----------------+-----+-------+---------------+----+------------+---------+-------------+------------------+\n",
            "|         Player Id|          Name|Position|Year|             Team|Games Played|Total Tackles|Solo Tackles|Assisted Tackles|Sacks|Safties|Passes Defended|Ints|Ints for TDs|Int Yards|Yards Per Int|Longest Int Return|\n",
            "+------------------+--------------+--------+----+-----------------+------------+-------------+------------+----------------+-----+-------+---------------+----+------------+---------+-------------+------------------+\n",
            "|quinnjohnson/79593|Johnson, Quinn|        |2013| Tennessee Titans|           4|            0|          --|              --|   --|     --|             --|  --|          --|       --|            0|                --|\n",
            "|quinnjohnson/79593|Johnson, Quinn|        |2012| Tennessee Titans|          16|            1|           1|               0|    0|     --|              0|  --|          --|       --|            0|                --|\n",
            "|quinnjohnson/79593|Johnson, Quinn|        |2011| Tennessee Titans|           4|            0|          --|              --|   --|     --|             --|  --|          --|       --|            0|                --|\n",
            "|quinnjohnson/79593|Johnson, Quinn|        |2011|   Denver Broncos|           0|            0|          --|              --|   --|     --|             --|  --|          --|       --|            0|                --|\n",
            "|quinnjohnson/79593|Johnson, Quinn|        |2010|Green Bay Packers|          11|            4|           4|               0|    0|     --|              0|  --|          --|       --|            0|                --|\n",
            "+------------------+--------------+--------+----+-----------------+------------+-------------+------------+----------------+-----+-------+---------------+----+------------+---------+-------------+------------------+\n",
            "only showing top 5 rows"
          ]
        }
      ],
      "source": [
        "%%spark\n",
        "# Let's print out the first few rows to see how the data looks like in tabular form\n",
        "defensive_stats_sdf.show(5)"
      ]
    },
    {
      "cell_type": "code",
      "execution_count": 12,
      "metadata": {
        "id": "8DIpp8P8NM7t",
        "colab": {
          "base_uri": "https://localhost:8080/",
          "height": 210,
          "referenced_widgets": [
            "609b4dd380234afd943c4aac8177ec85",
            "a522987fc29344dabfac4a05eeb4053a",
            "09eb001845e04fbfb88289c5291b130e"
          ]
        },
        "outputId": "7654f2ca-4d8b-45d5-d4c4-765092c59606"
      },
      "outputs": [
        {
          "output_type": "display_data",
          "data": {
            "text/plain": [
              "FloatProgress(value=0.0, bar_style='info', description='Progress:', layout=Layout(height='25px', width='50%'),…"
            ],
            "application/vnd.jupyter.widget-view+json": {
              "version_major": 2,
              "version_minor": 0,
              "model_id": "609b4dd380234afd943c4aac8177ec85"
            }
          },
          "metadata": {}
        },
        {
          "output_type": "stream",
          "name": "stdout",
          "text": [
            "+----+-----------------+----------+----------------+--------------+-------------------+----------+---------------+--------------+--------------------+--------------+------+-------------------+--------+------------+------------+\n",
            "| Age|      Birth Place|  Birthday|         College|Current Status|       Current Team|Experience|Height (inches)|   High School|High School Location|          Name|Number|          Player Id|Position|Weight (lbs)|Years Played|\n",
            "+----+-----------------+----------+----------------+--------------+-------------------+----------+---------------+--------------+--------------------+--------------+------+-------------------+--------+------------+------------+\n",
            "|null|Grand Rapids , MI| 5/23/1921|      Notre Dame|       Retired|                   | 3 Seasons|             71|              |                    |   Evans, Fred|  null|  fredevans/2513736|        |         185| 1946 - 1948|\n",
            "|null|      Dayton , OH|12/21/1930|          Dayton|       Retired|                   |  1 Season|             70|              |                    |    Raiff, Jim|  null|   jimraiff/2523700|        |         235| 1954 - 1954|\n",
            "|  56|      Temple , TX| 9/11/1960|  Louisiana Tech|       Retired|                   |  1 Season|             74|              |                    | Fowler, Bobby|  null|bobbyfowler/2514295|        |         230| 1985 - 1985|\n",
            "|  30| New Orleans , LA| 9/30/1986|             LSU|       Retired|                   | 5 Seasons|             73|              |                    |Johnson, Quinn|  null| quinnjohnson/79593|        |         255| 2009 - 2013|\n",
            "|  25|     Detroit , MI| 3/31/1992|Central Michigan|        Active|Pittsburgh Steelers|3rd season|             77|Clintondale HS|Clinton Twp.,Maco...|  Walton, L.T.|    96| l.t.walton/2552444|      DE|         305|            |\n",
            "+----+-----------------+----------+----------------+--------------+-------------------+----------+---------------+--------------+--------------------+--------------+------+-------------------+--------+------------+------------+\n",
            "only showing top 5 rows"
          ]
        }
      ],
      "source": [
        "%%spark\n",
        "\n",
        "#TODO: Create a spark dataframe for basic_stats2\n",
        "basic_stats_sdf = spark.read.json(\"s3://penn-cis545-files/basic_stats2.json\", schema=Schema_basicstats, multiLine = True, primitivesAsString = True)\n",
        "basic_stats_sdf.show(5)"
      ]
    },
    {
      "cell_type": "markdown",
      "metadata": {
        "id": "jMVCVotcE1wv"
      },
      "source": [
        "The cell below shows how to run SQL commands on Spark tables. Use this as a template for all your SQL queries in this notebook. \n",
        "\n",
        "***You do not need to edit this cell***."
      ]
    },
    {
      "cell_type": "code",
      "execution_count": 13,
      "metadata": {
        "id": "NJSVWeGiEO5c",
        "colab": {
          "base_uri": "https://localhost:8080/",
          "height": 280,
          "referenced_widgets": [
            "e56749ef83d940b6bf3238aa89430806",
            "f110c22b4ffd463d8dcf01d436e9eab0",
            "dbaace18202e465fa1643d08613c7d49"
          ]
        },
        "outputId": "cbed3223-0516-4c44-bde6-fbc5e11175cf"
      },
      "outputs": [
        {
          "output_type": "display_data",
          "data": {
            "text/plain": [
              "FloatProgress(value=0.0, bar_style='info', description='Progress:', layout=Layout(height='25px', width='50%'),…"
            ],
            "application/vnd.jupyter.widget-view+json": {
              "version_major": 2,
              "version_minor": 0,
              "model_id": "e56749ef83d940b6bf3238aa89430806"
            }
          },
          "metadata": {}
        },
        {
          "output_type": "stream",
          "name": "stdout",
          "text": [
            "+----+---------------+---------+--------------------+--------------+--------------------+----------+---------------+--------------------+--------------------+-----------------+------+--------------------+--------+------------+------------+\n",
            "| Age|    Birth Place| Birthday|             College|Current Status|        Current Team|Experience|Height (inches)|         High School|High School Location|             Name|Number|           Player Id|Position|Weight (lbs)|Years Played|\n",
            "+----+---------------+---------+--------------------+--------------+--------------------+----------+---------------+--------------------+--------------------+-----------------+------+--------------------+--------+------------+------------+\n",
            "|  45|   Griffin , GA|10/8/1971|       Florida State|       Retired|                    | 2 Seasons|             73|                    |                    |   Ellison, 'Omar|  null|'omarellison/2500540|        |         200| 1995 - 1996|\n",
            "|  22|Fort Worth , TX|3/21/1995|             Alabama|        Active|       Detroit Lions|2nd season|             75|Arlington Heights HS|      Fort Worth, TX|Robinson, A'Shawn|    91|a'shawnrobinson/2...|      DT|         320|            |\n",
            "|null|               |         |             Unknown|       Retired|                    |  1 Season|             74|                    |                    |      Bauer, A.C.|  null|   a.c.bauer/2509176|        |         210| 1923 - 1923|\n",
            "|  25|    Dallas , TX|8/16/1991|     Central Florida|        Active|Jacksonville Jaguars|5th season|             72|           Tucker HS|                  GA|      Bouye, A.J.|  null|   a.j.bouye/2541162|      CB|         191|            |\n",
            "|  25|   Bamberg , SC|10/3/1991|      South Carolina|        Active|Jacksonville Jaguars|3rd season|             75| Bamberg-Ehrhardt HS|         Bamberg, SC|       Cann, A.J.|    60|    a.j.cann/2552330|      OG|         317|            |\n",
            "|  25|               |2/17/1992|       Robert Morris|       Retired|                    |  1 Season|             76|                    |                    |     Dalton, A.J.|  null|  a.j.dalton/2550553|        |         280| 2014 - 2014|\n",
            "|  34|    Durham , NC|5/29/1983|North Carolina State|       Retired|                    | 2 Seasons|             70|                    |                    |      Davis, A.J.|  null|   a.j.davis/2507194|        |         189| 2007 - 2009|\n",
            "|  27|Birmingham , AL| 7/6/1989|  Jacksonville State|       Retired|                    | 3 Seasons|             72|                    |                    |      Davis, A.J.|  null|   a.j.davis/2534821|        |         183| 2012 - 2014|\n",
            "|  25| Iowa City , IA|9/20/1991|            Arkansas|        Active|      Denver Broncos|3rd season|             77|        Iowa City HS|                  IA|      Derby, A.J.|    83|   a.j.derby/2552580|      TE|         255|            |\n",
            "|  29|    Marion , IN|9/18/1987|                Iowa|       Retired|                    | 5 Seasons|             76|                    |                    |       Edds, A.J.|  null|     a.j.edds/496921|        |         256| 2010 - 2014|\n",
            "+----+---------------+---------+--------------------+--------------+--------------------+----------+---------------+--------------------+--------------------+-----------------+------+--------------------+--------+------------+------------+"
          ]
        }
      ],
      "source": [
        "%%spark\n",
        "\n",
        "import pandas as pd\n",
        "\n",
        "# Create SQL-accesible table\n",
        "basic_stats_sdf.createOrReplaceTempView(\"basic_stats\")\n",
        "\n",
        "# Declare SQL query to be excecuted\n",
        "query = '''SELECT * \n",
        "           FROM basic_stats ORDER BY `Player Id` LIMIT 10'''\n",
        "\n",
        "# Save the output sdf of spark.sql() as answer_sdf and convert to Pandas\n",
        "answer_basic_sdf = spark.sql(query)\n",
        "answer_basic_sdf.show()\n",
        "\n",
        "answer_basic_df = answer_basic_sdf.toPandas()\n",
        "to_submit = pd.read_json(answer_basic_df.to_json())"
      ]
    },
    {
      "cell_type": "markdown",
      "metadata": {
        "id": "MLF-swRBTuZG"
      },
      "source": [
        "We will copy the `answer_sdf` to Colab to submit to PennGrader..."
      ]
    },
    {
      "cell_type": "code",
      "execution_count": 14,
      "metadata": {
        "id": "wOyxJ6aORvs6",
        "colab": {
          "base_uri": "https://localhost:8080/",
          "height": 69,
          "referenced_widgets": [
            "8b68b3797ae3403b86dc90c5a31392f5",
            "0e82db17dc444c4e899cc7ce6b8e019a",
            "0c9297198b604d80955a035c7ca8e8d8"
          ]
        },
        "outputId": "fea5d516-8c3c-4e89-8e41-f14dada64b82"
      },
      "outputs": [
        {
          "output_type": "display_data",
          "data": {
            "text/plain": [
              "FloatProgress(value=0.0, bar_style='info', description='Progress:', layout=Layout(height='25px', width='50%'),…"
            ],
            "application/vnd.jupyter.widget-view+json": {
              "version_major": 2,
              "version_minor": 0,
              "model_id": "8b68b3797ae3403b86dc90c5a31392f5"
            }
          },
          "metadata": {}
        },
        {
          "output_type": "stream",
          "name": "stdout",
          "text": [
            "Correct! You earned 4/4 points. You are a star!\n",
            "\n",
            "Your submission has been successfully recorded in the gradebook."
          ]
        }
      ],
      "source": [
        "%%spark\n",
        "\n",
        "## 4 points\n",
        "\n",
        "## AUTOGRADER Step 1.2:   \n",
        "\n",
        "grader.grade(test_case_id = 'first', answer = to_submit)"
      ]
    },
    {
      "cell_type": "markdown",
      "metadata": {
        "id": "-A9nzeVaG4QV"
      },
      "source": [
        "Now, you will implement the exact same thing yourself for defensive_stats_sdf."
      ]
    },
    {
      "cell_type": "code",
      "execution_count": 15,
      "metadata": {
        "colab": {
          "base_uri": "https://localhost:8080/",
          "height": 280,
          "referenced_widgets": [
            "62891430cea8435eb0a1b4e65d47b861",
            "e1bb86c501e04e91976177a073635185",
            "c94444bdaf86446282b98ad892b4286f"
          ]
        },
        "id": "-TGpKgWrG3DC",
        "outputId": "d58f0ffc-26f0-4bfd-c7a0-2007bceba48e"
      },
      "outputs": [
        {
          "output_type": "display_data",
          "data": {
            "text/plain": [
              "FloatProgress(value=0.0, bar_style='info', description='Progress:', layout=Layout(height='25px', width='50%'),…"
            ],
            "application/vnd.jupyter.widget-view+json": {
              "version_major": 2,
              "version_minor": 0,
              "model_id": "62891430cea8435eb0a1b4e65d47b861"
            }
          },
          "metadata": {}
        },
        {
          "output_type": "stream",
          "name": "stdout",
          "text": [
            "+--------------------+-----------------+--------+----+--------------------+------------+-------------+------------+----------------+-----+-------+---------------+----+------------+---------+-------------+------------------+\n",
            "|           Player Id|             Name|Position|Year|                Team|Games Played|Total Tackles|Solo Tackles|Assisted Tackles|Sacks|Safties|Passes Defended|Ints|Ints for TDs|Int Yards|Yards Per Int|Longest Int Return|\n",
            "+--------------------+-----------------+--------+----+--------------------+------------+-------------+------------+----------------+-----+-------+---------------+----+------------+---------+-------------+------------------+\n",
            "|a'shawnrobinson/2...|Robinson, A'Shawn|      DT|2016|       Detroit Lions|          16|           30|          22|               8|    2|     --|              7|  --|          --|       --|            0|                --|\n",
            "|   a.j.bouye/2541162|      Bouye, A.J.|      CB|2016|      Houston Texans|          15|           63|          48|              15|    1|     --|             16|   1|           0|        0|            0|                 0|\n",
            "|   a.j.bouye/2541162|      Bouye, A.J.|      CB|2015|      Houston Texans|          15|           16|          15|               1|    0|     --|              6|   2|           0|        9|          4.5|                 9|\n",
            "|   a.j.bouye/2541162|      Bouye, A.J.|      CB|2014|      Houston Texans|          14|           59|          52|               7|    0|      0|             10|   3|           1|      120|           40|                67|\n",
            "|   a.j.bouye/2541162|      Bouye, A.J.|      CB|2013|      Houston Texans|           6|            2|           2|               0|    0|     --|              0|  --|          --|       --|            0|                --|\n",
            "|     a.j.edds/496921|       Edds, A.J.|        |2014|       New York Jets|           4|            1|           1|               0|    0|     --|              0|  --|          --|       --|            0|                --|\n",
            "|     a.j.edds/496921|       Edds, A.J.|        |2011|  Indianapolis Colts|           9|           12|           2|              10|    0|     --|              0|  --|          --|       --|            0|                --|\n",
            "|     a.j.edds/496921|       Edds, A.J.|        |2011|New England Patriots|           2|            1|           1|               0|    0|     --|              0|  --|          --|       --|            0|                --|\n",
            "|     a.j.edds/496921|       Edds, A.J.|        |2014|Jacksonville Jaguars|           2|            0|          --|              --|   --|     --|             --|  --|          --|       --|            0|                --|\n",
            "|  a.j.feeley/2504566|     Feeley, A.J.|        |2011|      St. Louis Rams|           5|            0|          --|              --|   --|     --|             --|  --|          --|       --|            0|                --|\n",
            "+--------------------+-----------------+--------+----+--------------------+------------+-------------+------------+----------------+-----+-------+---------------+----+------------+---------+-------------+------------------+"
          ]
        }
      ],
      "source": [
        "%%spark\n",
        "\n",
        "# TODO: Create SQL-accesible table\n",
        "defensive_stats_sdf.createOrReplaceTempView(\"defensive_stats\")\n",
        "\n",
        "#TODO: Declare SQL query to be excecuted\n",
        "query = '''SELECT * \n",
        "           FROM defensive_stats ORDER BY `Player Id` LIMIT 10'''\n",
        "\n",
        "\n",
        "#TODO: Save the output sdf of spark.sql() as answer_defensive_sdf and convert to Pandas\n",
        "answer_defensive_sdf = spark.sql(query)\n",
        "answer_defensive_sdf.show()\n",
        "\n",
        "answer_defensive_df = answer_defensive_sdf.toPandas()\n",
        "to_submit = pd.read_json(answer_defensive_df.to_json())\n"
      ]
    },
    {
      "cell_type": "code",
      "execution_count": 16,
      "metadata": {
        "id": "sfVITUBotr73",
        "colab": {
          "base_uri": "https://localhost:8080/",
          "height": 69,
          "referenced_widgets": [
            "86000c9940634ef4a53841b100f008b3",
            "da7bd7fcc24247f1a9278765fb79175b",
            "a603aec90fbf46abbb39b7d91a5766bf"
          ]
        },
        "outputId": "c9d6f1fd-b9d9-4697-fa1d-f60b595fbb3b"
      },
      "outputs": [
        {
          "output_type": "display_data",
          "data": {
            "text/plain": [
              "FloatProgress(value=0.0, bar_style='info', description='Progress:', layout=Layout(height='25px', width='50%'),…"
            ],
            "application/vnd.jupyter.widget-view+json": {
              "version_major": 2,
              "version_minor": 0,
              "model_id": "86000c9940634ef4a53841b100f008b3"
            }
          },
          "metadata": {}
        },
        {
          "output_type": "stream",
          "name": "stdout",
          "text": [
            "Correct! You earned 4/4 points. You are a star!\n",
            "\n",
            "Your submission has been successfully recorded in the gradebook."
          ]
        }
      ],
      "source": [
        "%%spark\n",
        "\n",
        "## 4 points\n",
        "\n",
        "## AUTOGRADER Step 1.2:   \n",
        "\n",
        "grader.grade(test_case_id = 'second', answer = to_submit)"
      ]
    },
    {
      "cell_type": "markdown",
      "metadata": {
        "id": "705XndyQYW6f"
      },
      "source": [
        "In the next cell, create `step_1_2_sdf` to fetch the data from the above basic_stats table, returning rows with schema `(Player Id, Name)`, in **lexicographical order** of `Name`.  Limit your sdf to 10 rows. Save your final answer to Colab to submit to PennGrader, as demonstrated above."
      ]
    },
    {
      "cell_type": "code",
      "execution_count": 17,
      "metadata": {
        "id": "zOpHsWR2qQAY",
        "colab": {
          "base_uri": "https://localhost:8080/",
          "height": 260,
          "referenced_widgets": [
            "81e1e9c19c7b42038095ffd09c5e552b",
            "2b65973827c74ffa9cf3de4f0e389549",
            "850ec2afcb1a4e5dba32c930cebe4e7b"
          ]
        },
        "outputId": "52f855c9-ed6c-4d80-9e41-76eb4fa940d4"
      },
      "outputs": [
        {
          "output_type": "display_data",
          "data": {
            "text/plain": [
              "FloatProgress(value=0.0, bar_style='info', description='Progress:', layout=Layout(height='25px', width='50%'),…"
            ],
            "application/vnd.jupyter.widget-view+json": {
              "version_major": 2,
              "version_minor": 0,
              "model_id": "81e1e9c19c7b42038095ffd09c5e552b"
            }
          },
          "metadata": {}
        },
        {
          "output_type": "stream",
          "name": "stdout",
          "text": [
            "+--------------------+-----------------+\n",
            "|           Player Id|             Name|\n",
            "+--------------------+-----------------+\n",
            "|isaakoaaitui/2531731|   Aaitui, Isaako|\n",
            "|   jonabbate/2495524|      Abbate, Jon|\n",
            "|    joeabbey/2508144|       Abbey, Joe|\n",
            "|  fayeabbott/2508147|     Abbott, Faye|\n",
            "| vinceabbott/2508148|    Abbott, Vince|\n",
            "|jaredabbrederis/2...|Abbrederis, Jared|\n",
            "|dukeabbruzzi/2508149|   Abbruzzi, Duke|\n",
            "| naderabdallah/89680|  Abdallah, Nader|\n",
            "|mehdiabdesmad/255...|  Abdesmad, Mehdi|\n",
            "|isaabdul-quddus/2...|Abdul-Quddus, Isa|\n",
            "+--------------------+-----------------+"
          ]
        }
      ],
      "source": [
        "%%spark \n",
        "\n",
        "# TODO: create step_1_2_sdf\n",
        "\n",
        "basic_stats_sdf.createOrReplaceTempView(\"step12_stats\")\n",
        "\n",
        "query = '''SELECT `Player Id`,  `Name`\n",
        "           FROM step12_stats ORDER BY `Name` ASC LIMIT 10'''\n",
        "\n",
        "step_1_2_sdf = spark.sql(query)\n",
        "step_1_2_sdf.show()\n",
        "\n",
        "step_1_2_df = step_1_2_sdf.toPandas()\n",
        "to_submit = pd.read_json(step_1_2_df.to_json())\n"
      ]
    },
    {
      "cell_type": "code",
      "execution_count": 18,
      "metadata": {
        "id": "p4hU1ihWYjL6",
        "colab": {
          "base_uri": "https://localhost:8080/",
          "height": 69,
          "referenced_widgets": [
            "195f312738514b6ca3ebc1e5e7a71af1",
            "67269fe2e5254be2ae3a3a2fc9acd164",
            "465f09b8d5354d3b92afccdbe30152f8"
          ]
        },
        "outputId": "c2757264-db2d-4b86-eb4f-db54c76eeba4"
      },
      "outputs": [
        {
          "output_type": "display_data",
          "data": {
            "text/plain": [
              "FloatProgress(value=0.0, bar_style='info', description='Progress:', layout=Layout(height='25px', width='50%'),…"
            ],
            "application/vnd.jupyter.widget-view+json": {
              "version_major": 2,
              "version_minor": 0,
              "model_id": "195f312738514b6ca3ebc1e5e7a71af1"
            }
          },
          "metadata": {}
        },
        {
          "output_type": "stream",
          "name": "stdout",
          "text": [
            "Correct! You earned 5/5 points. You are a star!\n",
            "\n",
            "Your submission has been successfully recorded in the gradebook."
          ]
        }
      ],
      "source": [
        "%%spark\n",
        "\n",
        "# 5 points\n",
        "grader.grade(test_case_id = 'lex_10_ids_last_names', answer = step_1_2_sdf.toPandas())"
      ]
    },
    {
      "cell_type": "markdown",
      "metadata": {
        "id": "-2vq-3ZfBYZD"
      },
      "source": [
        "### Step 1.3: Further Cleaning\n",
        "\n",
        "Now, we can see that our data is a little ill-formatted, so let us do some cleaning for our two dataframes. Here is what you will do:\n",
        "\n",
        "For Defensive:\n",
        "\n",
        "1. Drop all the rows that have null values in Total Tackles and Games Played.\n",
        "2. We only want to consider data post 2000 (inclusive).\n",
        "\n",
        "\n",
        "Save this in `defensive_cleaned_sdf`.\n",
        "\n",
        "Once you have done that, we want to select the basic stats only for those filtered players in `defensive_cleaned_sdf` and create a cumulated dataframe called `defensive_player_stats_sdf`."
      ]
    },
    {
      "cell_type": "code",
      "execution_count": 19,
      "metadata": {
        "id": "0G7tYJOJDp1q",
        "colab": {
          "base_uri": "https://localhost:8080/",
          "height": 471,
          "referenced_widgets": [
            "73c1266198ff4c44b07d58fb22d98682",
            "dc1b85bb6c264b97818b46cae70a68a3",
            "1ab6cbe7eb68454b976fcd85cd24b5e9"
          ]
        },
        "outputId": "a5f3c046-39eb-4d1c-b40a-7569ec52b6bd"
      },
      "outputs": [
        {
          "output_type": "display_data",
          "data": {
            "text/plain": [
              "FloatProgress(value=0.0, bar_style='info', description='Progress:', layout=Layout(height='25px', width='50%'),…"
            ],
            "application/vnd.jupyter.widget-view+json": {
              "version_major": 2,
              "version_minor": 0,
              "model_id": "73c1266198ff4c44b07d58fb22d98682"
            }
          },
          "metadata": {}
        },
        {
          "output_type": "stream",
          "name": "stdout",
          "text": [
            "+--------------------+--------------+--------+----+-------------------+------------+-------------+------------+----------------+-----+-------+---------------+----+------------+---------+-------------+------------------+\n",
            "|           Player Id|          Name|Position|Year|               Team|Games Played|Total Tackles|Solo Tackles|Assisted Tackles|Sacks|Safties|Passes Defended|Ints|Ints for TDs|Int Yards|Yards Per Int|Longest Int Return|\n",
            "+--------------------+--------------+--------+----+-------------------+------------+-------------+------------+----------------+-----+-------+---------------+----+------------+---------+-------------+------------------+\n",
            "|  quinnjohnson/79593|Johnson, Quinn|        |2013|   Tennessee Titans|           4|            0|          --|              --|   --|     --|             --|  --|          --|       --|            0|                --|\n",
            "|  quinnjohnson/79593|Johnson, Quinn|        |2012|   Tennessee Titans|          16|            1|           1|               0|    0|     --|              0|  --|          --|       --|            0|                --|\n",
            "|  quinnjohnson/79593|Johnson, Quinn|        |2011|   Tennessee Titans|           4|            0|          --|              --|   --|     --|             --|  --|          --|       --|            0|                --|\n",
            "|  quinnjohnson/79593|Johnson, Quinn|        |2011|     Denver Broncos|           0|            0|          --|              --|   --|     --|             --|  --|          --|       --|            0|                --|\n",
            "|  quinnjohnson/79593|Johnson, Quinn|        |2010|  Green Bay Packers|          11|            4|           4|               0|    0|     --|              0|  --|          --|       --|            0|                --|\n",
            "|  quinnjohnson/79593|Johnson, Quinn|        |2009|  Green Bay Packers|           9|            0|          --|              --|   --|     --|             --|  --|          --|       --|            0|                --|\n",
            "|  l.t.walton/2552444|  Walton, L.T.|      DE|2016|Pittsburgh Steelers|          10|            8|           6|               2|    0|     --|              1|  --|          --|       --|            0|                --|\n",
            "|  l.t.walton/2552444|  Walton, L.T.|      DE|2015|Pittsburgh Steelers|           6|            0|          --|              --|   --|     --|             --|  --|          --|       --|            0|                --|\n",
            "|montaereagor/2502600|Reagor, Montae|        |2007|Philadelphia Eagles|           7|            2|           2|               0|    1|     --|              0|  --|          --|       --|            0|                --|\n",
            "|montaereagor/2502600|Reagor, Montae|        |2006| Indianapolis Colts|           5|           10|           8|               2|    1|     --|              1|  --|          --|       --|            0|                --|\n",
            "|montaereagor/2502600|Reagor, Montae|        |2005| Indianapolis Colts|          13|           36|          27|               9|  5.5|      0|              0|  --|          --|       --|            0|                --|\n",
            "|montaereagor/2502600|Reagor, Montae|        |2004| Indianapolis Colts|          16|           41|          34|               7|    5|     --|              2|  --|          --|       --|            0|                --|\n",
            "|montaereagor/2502600|Reagor, Montae|        |2003| Indianapolis Colts|          13|           25|          17|               8|  0.5|     --|              1|  --|          --|       --|            0|                --|\n",
            "|montaereagor/2502600|Reagor, Montae|        |2002|     Denver Broncos|          15|           19|          11|               8|    1|     --|              0|   1|           0|       31|           31|                31|\n",
            "|montaereagor/2502600|Reagor, Montae|        |2001|     Denver Broncos|           8|            9|           7|               2|    1|     --|              1|  --|          --|       --|            0|                --|\n",
            "|   joetafoya/2504656|   Tafoya, Joe|        |2007|  Arizona Cardinals|          13|           20|          18|               2|    2|     --|              1|  --|          --|       --|            0|                --|\n",
            "|   joetafoya/2504656|   Tafoya, Joe|        |2006|   Seattle Seahawks|          13|           12|           8|               4|    0|     --|              1|  --|          --|       --|            0|                --|\n",
            "|   joetafoya/2504656|   Tafoya, Joe|        |2005|   Seattle Seahawks|          15|           29|          19|              10|    1|     --|              1|  --|          --|       --|            0|                --|\n",
            "|   joetafoya/2504656|   Tafoya, Joe|        |2003|      Chicago Bears|          16|           17|          13|               4|    0|     --|              0|  --|          --|       --|            0|                --|\n",
            "|   joetafoya/2504656|   Tafoya, Joe|        |2002|      Chicago Bears|          14|           14|          10|               4|  0.5|     --|              0|  --|          --|       --|            0|                --|\n",
            "+--------------------+--------------+--------+----+-------------------+------------+-------------+------------+----------------+-----+-------+---------------+----+------------+---------+-------------+------------------+\n",
            "only showing top 20 rows"
          ]
        }
      ],
      "source": [
        "%%spark\n",
        "\n",
        "#TODO: Create defensive_cleaned_sdf\n",
        "\n",
        "defensive_stats_sdf.createOrReplaceTempView(\"defensive_cleaned_stats\")\n",
        "\n",
        "query = '''SELECT *\n",
        "           FROM defensive_cleaned_stats \n",
        "           WHERE `Total Tackles` IS NOT NULL AND `Games Played` IS NOT NULL\n",
        "           AND `Year`>=2000\n",
        "           '''\n",
        "\n",
        "defensive_cleaned_sdf = spark.sql(query)\n",
        "defensive_cleaned_sdf.show()\n",
        "\n",
        "defensive_cleaned_df = defensive_cleaned_sdf.toPandas()\n",
        "to_submit = pd.read_json(defensive_cleaned_df.to_json())\n"
      ]
    },
    {
      "cell_type": "code",
      "execution_count": 20,
      "metadata": {
        "colab": {
          "base_uri": "https://localhost:8080/",
          "height": 69,
          "referenced_widgets": [
            "bddecb3272b940f89e78803a6a5e3fb8",
            "8e6ca785947d4c22b78d378687f9c14a",
            "e721b990463a4d01af2b72aae9b0ca31"
          ]
        },
        "id": "nqflA81xVKoo",
        "outputId": "c6451ce8-388b-4110-ef3a-499292cad059"
      },
      "outputs": [
        {
          "output_type": "display_data",
          "data": {
            "text/plain": [
              "FloatProgress(value=0.0, bar_style='info', description='Progress:', layout=Layout(height='25px', width='50%'),…"
            ],
            "application/vnd.jupyter.widget-view+json": {
              "version_major": 2,
              "version_minor": 0,
              "model_id": "bddecb3272b940f89e78803a6a5e3fb8"
            }
          },
          "metadata": {}
        },
        {
          "output_type": "stream",
          "name": "stdout",
          "text": [
            "Correct! You earned 4/4 points. You are a star!\n",
            "\n",
            "Your submission has been successfully recorded in the gradebook."
          ]
        }
      ],
      "source": [
        "%%spark\n",
        "\n",
        "# 4 points\n",
        "grader.grade(test_case_id = 'defensive_cleaned', answer = defensive_cleaned_sdf.toPandas())"
      ]
    },
    {
      "cell_type": "code",
      "execution_count": 21,
      "metadata": {
        "colab": {
          "base_uri": "https://localhost:8080/",
          "height": 471,
          "referenced_widgets": [
            "f9c80a1310894846ba48d5330e8f77c7",
            "431073f6de304e70bbc7a0c844a694d0",
            "7be5e6295b504ba0883ab96117e7a401"
          ]
        },
        "id": "Ot-WaWfYNO7t",
        "outputId": "9589770b-fc1b-4fd6-b790-ee81885c658a"
      },
      "outputs": [
        {
          "output_type": "display_data",
          "data": {
            "text/plain": [
              "FloatProgress(value=0.0, bar_style='info', description='Progress:', layout=Layout(height='25px', width='50%'),…"
            ],
            "application/vnd.jupyter.widget-view+json": {
              "version_major": 2,
              "version_minor": 0,
              "model_id": "f9c80a1310894846ba48d5330e8f77c7"
            }
          },
          "metadata": {}
        },
        {
          "output_type": "stream",
          "name": "stdout",
          "text": [
            "+---+--------------------+---------+----------------+--------------+-------------------+----------+---------------+--------------+--------------------+--------------+------+--------------------+--------+------------+------------+--------------+---------+----+-------------------+------------+-------------+------------+----------------+-----+-------+---------------+----+------------+---------+-------------+------------------+\n",
            "|Age|         Birth Place| Birthday|         College|Current Status|       Current team|Experience|Height (inches)|   High School|High School Location|          Name|Number|           Player Id|Position|Weight (lbs)|Years Played|         Name2|Position2|Year|               Team|Games Played|Total Tackles|Solo Tackles|Assisted Tackles|Sacks|Safties|Passes Defended|Ints|Ints for TDs|Int Yards|Yards Per Int|Longest Int Return|\n",
            "+---+--------------------+---------+----------------+--------------+-------------------+----------+---------------+--------------+--------------------+--------------+------+--------------------+--------+------------+------------+--------------+---------+----+-------------------+------------+-------------+------------+----------------+-----+-------+---------------+----+------------+---------+-------------+------------------+\n",
            "| 30|    New Orleans , LA|9/30/1986|             LSU|       Retired|                   | 5 Seasons|             73|              |                    |Johnson, Quinn|  null|  quinnjohnson/79593|        |         255| 2009 - 2013|Johnson, Quinn|         |2013|   Tennessee Titans|           4|            0|          --|              --|   --|     --|             --|  --|          --|       --|            0|                --|\n",
            "| 30|    New Orleans , LA|9/30/1986|             LSU|       Retired|                   | 5 Seasons|             73|              |                    |Johnson, Quinn|  null|  quinnjohnson/79593|        |         255| 2009 - 2013|Johnson, Quinn|         |2012|   Tennessee Titans|          16|            1|           1|               0|    0|     --|              0|  --|          --|       --|            0|                --|\n",
            "| 30|    New Orleans , LA|9/30/1986|             LSU|       Retired|                   | 5 Seasons|             73|              |                    |Johnson, Quinn|  null|  quinnjohnson/79593|        |         255| 2009 - 2013|Johnson, Quinn|         |2011|   Tennessee Titans|           4|            0|          --|              --|   --|     --|             --|  --|          --|       --|            0|                --|\n",
            "| 30|    New Orleans , LA|9/30/1986|             LSU|       Retired|                   | 5 Seasons|             73|              |                    |Johnson, Quinn|  null|  quinnjohnson/79593|        |         255| 2009 - 2013|Johnson, Quinn|         |2011|     Denver Broncos|           0|            0|          --|              --|   --|     --|             --|  --|          --|       --|            0|                --|\n",
            "| 30|    New Orleans , LA|9/30/1986|             LSU|       Retired|                   | 5 Seasons|             73|              |                    |Johnson, Quinn|  null|  quinnjohnson/79593|        |         255| 2009 - 2013|Johnson, Quinn|         |2010|  Green Bay Packers|          11|            4|           4|               0|    0|     --|              0|  --|          --|       --|            0|                --|\n",
            "| 30|    New Orleans , LA|9/30/1986|             LSU|       Retired|                   | 5 Seasons|             73|              |                    |Johnson, Quinn|  null|  quinnjohnson/79593|        |         255| 2009 - 2013|Johnson, Quinn|         |2009|  Green Bay Packers|           9|            0|          --|              --|   --|     --|             --|  --|          --|       --|            0|                --|\n",
            "| 25|        Detroit , MI|3/31/1992|Central Michigan|        Active|Pittsburgh Steelers|3rd season|             77|Clintondale HS|Clinton Twp.,Maco...|  Walton, L.T.|    96|  l.t.walton/2552444|      DE|         305|            |  Walton, L.T.|       DE|2016|Pittsburgh Steelers|          10|            8|           6|               2|    0|     --|              1|  --|          --|       --|            0|                --|\n",
            "| 25|        Detroit , MI|3/31/1992|Central Michigan|        Active|Pittsburgh Steelers|3rd season|             77|Clintondale HS|Clinton Twp.,Maco...|  Walton, L.T.|    96|  l.t.walton/2552444|      DE|         305|            |  Walton, L.T.|       DE|2015|Pittsburgh Steelers|           6|            0|          --|              --|   --|     --|             --|  --|          --|       --|            0|                --|\n",
            "| 39|     Waxahachie , TX|6/29/1977|      Texas Tech|       Retired|                   |10 Seasons|             75|              |                    |Reagor, Montae|  null|montaereagor/2502600|        |         285| 1999 - 2008|Reagor, Montae|         |2007|Philadelphia Eagles|           7|            2|           2|               0|    1|     --|              0|  --|          --|       --|            0|                --|\n",
            "| 39|     Waxahachie , TX|6/29/1977|      Texas Tech|       Retired|                   |10 Seasons|             75|              |                    |Reagor, Montae|  null|montaereagor/2502600|        |         285| 1999 - 2008|Reagor, Montae|         |2006| Indianapolis Colts|           5|           10|           8|               2|    1|     --|              1|  --|          --|       --|            0|                --|\n",
            "| 39|     Waxahachie , TX|6/29/1977|      Texas Tech|       Retired|                   |10 Seasons|             75|              |                    |Reagor, Montae|  null|montaereagor/2502600|        |         285| 1999 - 2008|Reagor, Montae|         |2005| Indianapolis Colts|          13|           36|          27|               9|  5.5|      0|              0|  --|          --|       --|            0|                --|\n",
            "| 39|     Waxahachie , TX|6/29/1977|      Texas Tech|       Retired|                   |10 Seasons|             75|              |                    |Reagor, Montae|  null|montaereagor/2502600|        |         285| 1999 - 2008|Reagor, Montae|         |2004| Indianapolis Colts|          16|           41|          34|               7|    5|     --|              2|  --|          --|       --|            0|                --|\n",
            "| 39|     Waxahachie , TX|6/29/1977|      Texas Tech|       Retired|                   |10 Seasons|             75|              |                    |Reagor, Montae|  null|montaereagor/2502600|        |         285| 1999 - 2008|Reagor, Montae|         |2003| Indianapolis Colts|          13|           25|          17|               8|  0.5|     --|              1|  --|          --|       --|            0|                --|\n",
            "| 39|     Waxahachie , TX|6/29/1977|      Texas Tech|       Retired|                   |10 Seasons|             75|              |                    |Reagor, Montae|  null|montaereagor/2502600|        |         285| 1999 - 2008|Reagor, Montae|         |2002|     Denver Broncos|          15|           19|          11|               8|    1|     --|              0|   1|           0|       31|           31|                31|\n",
            "| 39|     Waxahachie , TX|6/29/1977|      Texas Tech|       Retired|                   |10 Seasons|             75|              |                    |Reagor, Montae|  null|montaereagor/2502600|        |         285| 1999 - 2008|Reagor, Montae|         |2001|     Denver Broncos|           8|            9|           7|               2|    1|     --|              1|  --|          --|       --|            0|                --|\n",
            "| 38|San Luis Obispo C...| 9/6/1978|         Arizona|       Retired|                   | 7 Seasons|             76|              |                    |   Tafoya, Joe|  null|   joetafoya/2504656|        |         258| 2001 - 2008|   Tafoya, Joe|         |2007|  Arizona Cardinals|          13|           20|          18|               2|    2|     --|              1|  --|          --|       --|            0|                --|\n",
            "| 38|San Luis Obispo C...| 9/6/1978|         Arizona|       Retired|                   | 7 Seasons|             76|              |                    |   Tafoya, Joe|  null|   joetafoya/2504656|        |         258| 2001 - 2008|   Tafoya, Joe|         |2006|   Seattle Seahawks|          13|           12|           8|               4|    0|     --|              1|  --|          --|       --|            0|                --|\n",
            "| 38|San Luis Obispo C...| 9/6/1978|         Arizona|       Retired|                   | 7 Seasons|             76|              |                    |   Tafoya, Joe|  null|   joetafoya/2504656|        |         258| 2001 - 2008|   Tafoya, Joe|         |2005|   Seattle Seahawks|          15|           29|          19|              10|    1|     --|              1|  --|          --|       --|            0|                --|\n",
            "| 38|San Luis Obispo C...| 9/6/1978|         Arizona|       Retired|                   | 7 Seasons|             76|              |                    |   Tafoya, Joe|  null|   joetafoya/2504656|        |         258| 2001 - 2008|   Tafoya, Joe|         |2003|      Chicago Bears|          16|           17|          13|               4|    0|     --|              0|  --|          --|       --|            0|                --|\n",
            "| 38|San Luis Obispo C...| 9/6/1978|         Arizona|       Retired|                   | 7 Seasons|             76|              |                    |   Tafoya, Joe|  null|   joetafoya/2504656|        |         258| 2001 - 2008|   Tafoya, Joe|         |2002|      Chicago Bears|          14|           14|          10|               4|  0.5|     --|              0|  --|          --|       --|            0|                --|\n",
            "+---+--------------------+---------+----------------+--------------+-------------------+----------+---------------+--------------+--------------------+--------------+------+--------------------+--------+------------+------------+--------------+---------+----+-------------------+------------+-------------+------------+----------------+-----+-------+---------------+----+------------+---------+-------------+------------------+\n",
            "only showing top 20 rows"
          ]
        }
      ],
      "source": [
        "%%spark\n",
        "#TODO: Create defensive_player_stats_sdf\n",
        "\n",
        "defensive_cleaned_sdf.createOrReplaceTempView(\"defensive_cleaned_stats\")\n",
        "basic_stats_sdf.createOrReplaceTempView(\"basic_stats\")\n",
        "query = ''' \n",
        "            SELECT \n",
        "             basic_stats.`Age`,  basic_stats.`Birth Place`,  basic_stats.`Birthday`,  basic_stats.`College`, \n",
        "             basic_stats.`Current Status`, basic_stats.`Current team`,\n",
        "             basic_stats.`Experience`, basic_stats.`Height (inches)`, basic_stats.`High School`, \n",
        "              basic_stats.`High School Location`,  basic_stats.`Name`,\n",
        "             basic_stats.`Number`,  basic_stats.`Player Id` ,  basic_stats. `Position`,  \n",
        "              basic_stats.`Weight (lbs)`,   basic_stats.`Years Played`, \n",
        "            defensive_cleaned_stats.`Name` AS `Name2`, defensive_cleaned_stats.`Position` AS `Position2`, defensive_cleaned_stats.`Year`, defensive_cleaned_stats.`Team`, defensive_cleaned_stats.`Games Played`, defensive_cleaned_stats.`Total Tackles`, \n",
        "            defensive_cleaned_stats.`Solo Tackles`, defensive_cleaned_stats.`Assisted Tackles`, defensive_cleaned_stats.`Sacks`, \n",
        "            defensive_cleaned_stats.`Safties`, defensive_cleaned_stats.`Passes Defended`, defensive_cleaned_stats.`Ints`, \n",
        "            defensive_cleaned_stats.`Ints for TDs`, defensive_cleaned_stats.`Int Yards`, defensive_cleaned_stats.`Yards Per Int`, \n",
        "            defensive_cleaned_stats.`Longest Int Return`\n",
        "            FROM basic_stats\n",
        "            JOIN\n",
        "            defensive_cleaned_stats\n",
        "            USING (`Player Id`)\n",
        "           '''\n",
        "\n",
        "defensive_player_stats_sdf = spark.sql(query)\n",
        "defensive_player_stats_sdf.show()\n",
        "\n",
        "defensive_player_stats_df = defensive_player_stats_sdf.toPandas()\n",
        "to_submit = pd.read_json(defensive_player_stats_df.to_json())\n"
      ]
    },
    {
      "cell_type": "code",
      "execution_count": 22,
      "metadata": {
        "colab": {
          "base_uri": "https://localhost:8080/",
          "height": 69,
          "referenced_widgets": [
            "7d7d826fa0e040d1b930a758dbf2fd51",
            "63ab9902a440482494bf0711f1ca559c",
            "493d232291fb4765a80a62ef285a5250"
          ]
        },
        "id": "1HO4WgzDXhql",
        "outputId": "1b6d87e9-aae6-4be5-f1ac-1259b05d9356"
      },
      "outputs": [
        {
          "output_type": "display_data",
          "data": {
            "text/plain": [
              "FloatProgress(value=0.0, bar_style='info', description='Progress:', layout=Layout(height='25px', width='50%'),…"
            ],
            "application/vnd.jupyter.widget-view+json": {
              "version_major": 2,
              "version_minor": 0,
              "model_id": "7d7d826fa0e040d1b930a758dbf2fd51"
            }
          },
          "metadata": {}
        },
        {
          "output_type": "stream",
          "name": "stdout",
          "text": [
            "Correct! You earned 4/4 points. You are a star!\n",
            "\n",
            "Your submission has been successfully recorded in the gradebook."
          ]
        }
      ],
      "source": [
        "%%spark\n",
        "\n",
        "# 4 points\n",
        "grader.grade(test_case_id = 'defensive_player_stats', answer = defensive_player_stats_sdf.toPandas())"
      ]
    },
    {
      "cell_type": "markdown",
      "metadata": {
        "id": "CsLea-1Tyu0v"
      },
      "source": [
        "## Step 2: Analysis!"
      ]
    },
    {
      "cell_type": "markdown",
      "metadata": {
        "id": "svOO4iLPist4"
      },
      "source": [
        "### Step 2.1: The Robust Ratio\n",
        "\n",
        "Now, we are interested in seeing the player with the highest total tackles / games played ratio from each team for each year and their corresponding experience. This involves derieving data from both the dataframes we created just now.\n",
        "\n",
        "Your task is to first find the player with the highest ratio for each team per year from the defensive_player_stats_df, and then join that with the basic_stats_df to find the experience of that player.\n",
        "\n",
        "Create an sdf called `best_tackles_sdf` that contains the above information. Then, make sure to only retain data pertaining to Name, player Id, Year, tackle_ratio, and experience. \n",
        "\n",
        "Remember we will sort the dataframe when grading so you can sort the elements however you wish (you don't need to if you don't want to). \n"
      ]
    },
    {
      "cell_type": "code",
      "execution_count": 23,
      "metadata": {
        "colab": {
          "base_uri": "https://localhost:8080/",
          "height": 451,
          "referenced_widgets": [
            "c2b38becc51941ff801de44db7b8270f",
            "d0d1cf4eec1c496e9199d4c778fa8e38",
            "3fc31150308d48aaa132d6fc1207512e"
          ]
        },
        "id": "Kt16tyP0klQX",
        "outputId": "38074866-8dbd-4128-f923-7c8d3effad70"
      },
      "outputs": [
        {
          "output_type": "display_data",
          "data": {
            "text/plain": [
              "FloatProgress(value=0.0, bar_style='info', description='Progress:', layout=Layout(height='25px', width='50%'),…"
            ],
            "application/vnd.jupyter.widget-view+json": {
              "version_major": 2,
              "version_minor": 0,
              "model_id": "c2b38becc51941ff801de44db7b8270f"
            }
          },
          "metadata": {}
        },
        {
          "output_type": "stream",
          "name": "stdout",
          "text": [
            "+--------------------+--------------------+----+-----------+-----------------+\n",
            "|                Team|                  ID|Year| Experience|            Ratio|\n",
            "+--------------------+--------------------+----+-----------+-----------------+\n",
            "|   Carolina Panthers|  kurtcoleman/494261|2016| 8th season|6.333333333333333|\n",
            "| Philadelphia Eagles|  kurtcoleman/494261|2012| 8th season|6.642857142857143|\n",
            "|     Atlanta Falcons|jasonwebster/2504264|2006|  9 Seasons|            6.125|\n",
            "|     Atlanta Falcons|jasonwebster/2504264|2005|  9 Seasons|5.266666666666667|\n",
            "| Washington Redskins|   perryriley/496949|2013| 8th season|           7.1875|\n",
            "| Washington Redskins|   perryriley/496949|2013| 8th season|           7.1875|\n",
            "|New England Patriots|  patrickchung/71251|2011| 9th season|             7.75|\n",
            "|    Cleveland Browns|  andradavis/2505126|2006| 10 Seasons|7.428571428571429|\n",
            "|    Cleveland Browns|  andradavis/2505126|2005| 10 Seasons|           9.3125|\n",
            "|    Cleveland Browns|  andradavis/2505126|2004| 10 Seasons|6.454545454545454|\n",
            "|    Cleveland Browns|  andradavis/2505126|2003| 10 Seasons|              8.5|\n",
            "|  Kansas City Chiefs|   coreymays/2506770|2009|  5 Seasons|           5.3125|\n",
            "|      Houston Texans|   glennearl/2506058|2006|  5 Seasons|4.933333333333334|\n",
            "|       Detroit Lions|     ronrice/2502643|2001|  7 Seasons|              5.0|\n",
            "|       Detroit Lions|     ronrice/2502643|2001|  7 Seasons|              5.0|\n",
            "|    Baltimore Ravens|  darylsmith/2506029|2015|14th season|           7.5625|\n",
            "|    Baltimore Ravens|  darylsmith/2506029|2013|14th season|           7.6875|\n",
            "|Jacksonville Jaguars|  darylsmith/2506029|2011|14th season|           6.6875|\n",
            "|Jacksonville Jaguars|  darylsmith/2506029|2011|14th season|           6.6875|\n",
            "|Jacksonville Jaguars|  darylsmith/2506029|2010|14th season|           6.0625|\n",
            "+--------------------+--------------------+----+-----------+-----------------+\n",
            "only showing top 20 rows"
          ]
        }
      ],
      "source": [
        "%%spark\n",
        "\n",
        "defensive_player_stats_sdf.createOrReplaceTempView(\"defensive_player_stats\")\n",
        "basic_stats_sdf.createOrReplaceTempView(\"basic_stats\")\n",
        "        \n",
        "query = '''\n",
        "        WITH query1 AS \n",
        "        (SELECT Team, Year, Max(`Total Tackles`/ `Games Played`) AS max_tackle_ratio\n",
        "        FROM defensive_stats\n",
        "        GROUP BY Team, Year) \n",
        "\n",
        "        , query2 AS (SELECT Team, Year, Name, `Player Id`, Year, `Total Tackles`/`Games Played` AS tackle_ratio\n",
        "        FROM defensive_stats)\n",
        "\n",
        "        SELECT query2.Team, `Player Id` AS ID, query2.Year, Experience, tackle_ratio AS Ratio \n",
        "        FROM query2\n",
        "        INNER JOIN query1 ON query2.tackle_ratio= query1.max_tackle_ratio AND query2.Year = query1.Year\n",
        "        LEFT JOIN basic_stats USING(`Player Id`)\n",
        "        '''\n",
        "\n",
        "best_tackles_sdf = spark.sql(query)\n",
        "best_tackles_sdf.show()\n",
        "\n",
        "best_tackles_df = best_tackles_sdf.toPandas()\n",
        "to_submit = pd.read_json(best_tackles_df.to_json())\n"
      ]
    },
    {
      "cell_type": "code",
      "execution_count": 24,
      "metadata": {
        "colab": {
          "base_uri": "https://localhost:8080/",
          "height": 173,
          "referenced_widgets": [
            "afb0472ff8aa4a73ab0e6f2c2bd38d30",
            "0d6fe3ef9bd34bf79a77e072caa6a577",
            "466cd8954ab14cd0a4432179b33f8f70"
          ]
        },
        "id": "-a3xLDEYCcwl",
        "outputId": "a8077d9b-68ff-4a72-ef63-5069fddd1c6c"
      },
      "outputs": [
        {
          "output_type": "display_data",
          "data": {
            "text/plain": [
              "FloatProgress(value=0.0, bar_style='info', description='Progress:', layout=Layout(height='25px', width='50%'),…"
            ],
            "application/vnd.jupyter.widget-view+json": {
              "version_major": 2,
              "version_minor": 0,
              "model_id": "afb0472ff8aa4a73ab0e6f2c2bd38d30"
            }
          },
          "metadata": {}
        },
        {
          "output_type": "stream",
          "name": "stdout",
          "text": [
            "+-------------------+--------------------+----+----------+-----------------+\n",
            "|               Team|                  ID|Year|Experience|            Ratio|\n",
            "+-------------------+--------------------+----+----------+-----------------+\n",
            "|  Carolina Panthers|  kurtcoleman/494261|2016|8th season|6.333333333333333|\n",
            "|Philadelphia Eagles|  kurtcoleman/494261|2012|8th season|6.642857142857143|\n",
            "|    Atlanta Falcons|jasonwebster/2504264|2006| 9 Seasons|            6.125|\n",
            "|    Atlanta Falcons|jasonwebster/2504264|2005| 9 Seasons|5.266666666666667|\n",
            "+-------------------+--------------------+----+----------+-----------------+\n",
            "only showing top 4 rows"
          ]
        }
      ],
      "source": [
        "%%spark\n",
        "# Print out the first few rows to see if the dataframe looks reasonable\n",
        "best_tackles_sdf.show(4)"
      ]
    },
    {
      "cell_type": "code",
      "execution_count": 25,
      "metadata": {
        "colab": {
          "base_uri": "https://localhost:8080/",
          "height": 69,
          "referenced_widgets": [
            "dee60c89a6574948940ebd979789abca",
            "e876422e1616450ba351a82348d8c0d4",
            "fb2779bc15b14eb1ad3d16576482ed86"
          ]
        },
        "id": "LTukZvW9Pj04",
        "outputId": "4d196518-6fd7-4489-b739-79b8d8b6bea6"
      },
      "outputs": [
        {
          "output_type": "display_data",
          "data": {
            "text/plain": [
              "FloatProgress(value=0.0, bar_style='info', description='Progress:', layout=Layout(height='25px', width='50%'),…"
            ],
            "application/vnd.jupyter.widget-view+json": {
              "version_major": 2,
              "version_minor": 0,
              "model_id": "dee60c89a6574948940ebd979789abca"
            }
          },
          "metadata": {}
        },
        {
          "output_type": "stream",
          "name": "stdout",
          "text": [
            "Correct! You earned 10/10 points. You are a star!\n",
            "\n",
            "Your submission has been successfully recorded in the gradebook."
          ]
        }
      ],
      "source": [
        "%%spark\n",
        "\n",
        "# 10 points\n",
        "grader.grade(test_case_id = 'tackle_ratio', answer = best_tackles_sdf.toPandas())"
      ]
    },
    {
      "cell_type": "markdown",
      "metadata": {
        "id": "MCcU96OwwqT1"
      },
      "source": [
        "\n",
        "### Step 2.2: The Tremendous Tackles\n",
        "\n",
        "Your task is to answer the following questions: \n",
        "\n",
        "1. Which team has the player which the best ratio? Save their ID to the variable `highest_tackle_ratio_person`.\n",
        "2. Which team has the total highest ratio? Save this to the variable `highest_tackle_ratio_team`\n",
        "3. For each player who has played for more than a year, what is the percentage change in their ratio from the first year they played to the last year they played? Save this df in `percentage_change_sdf`, and make sure to order by ID. This DF should just contain two columns- percentage change and ID, as shown below.\n",
        "\n",
        "```\n",
        "+-------------------+--------------------+\n",
        "|  Percentage Change|                  ID|\n",
        "+-------------------+--------------------+\n",
        "|                   |                    |\n",
        "+-------------------+--------------------+\n",
        "```"
      ]
    },
    {
      "cell_type": "code",
      "execution_count": 26,
      "metadata": {
        "colab": {
          "base_uri": "https://localhost:8080/",
          "height": 34,
          "referenced_widgets": [
            "fac3d3a09c974a5ea898e32f0763ae36",
            "acbc4f09141144a7a174a2534226feaf",
            "47ab7d3a9650471fafd5c39d1cbb8340"
          ]
        },
        "id": "vLTmvD9WNQH3",
        "outputId": "fddab565-5db9-4d26-ad1c-c6415e5565ac"
      },
      "outputs": [
        {
          "output_type": "display_data",
          "data": {
            "text/plain": [
              "FloatProgress(value=0.0, bar_style='info', description='Progress:', layout=Layout(height='25px', width='50%'),…"
            ],
            "application/vnd.jupyter.widget-view+json": {
              "version_major": 2,
              "version_minor": 0,
              "model_id": "fac3d3a09c974a5ea898e32f0763ae36"
            }
          },
          "metadata": {}
        },
        {
          "output_type": "stream",
          "name": "stdout",
          "text": [
            "'raylewis/2501750'"
          ]
        }
      ],
      "source": [
        "%%spark\n",
        "\n",
        "#TODO: highest_tackle_ratio_person\n",
        "highest_tackle_ratio = best_tackles_df.agg({'Ratio':'max'})\n",
        "# highest_tackle_ratio\n",
        "\n",
        "best_tackles_sdf.createOrReplaceTempView(\"best_tackles\")\n",
        "        \n",
        "query = '''SELECT `Team`, `ID`\n",
        "            FROM best_tackles\n",
        "            WHERE `Ratio` = 11.4 \n",
        "\n",
        "           '''\n",
        "\n",
        "best_tackles2_sdf = spark.sql(query)\n",
        "highest_tackle_ratio_team = best_tackles2_sdf.first()[\"Team\"]\n",
        "highest_tackle_ratio_team\n",
        "highest_tackle_ratio_person = best_tackles2_sdf.first()[\"ID\"]\n",
        "highest_tackle_ratio_person\n"
      ]
    },
    {
      "cell_type": "code",
      "execution_count": 27,
      "metadata": {
        "colab": {
          "base_uri": "https://localhost:8080/",
          "height": 69,
          "referenced_widgets": [
            "a2dfedff05e348d99a1d2ed44c2e7e67",
            "fa5c1d472d5842c18ef1004dfc9df991",
            "764dab3348b54a4bba81b0b6eb6d72d7"
          ]
        },
        "id": "a6Ot6rFKUrH3",
        "outputId": "1fa75485-b376-4f94-87e6-9c378b598050"
      },
      "outputs": [
        {
          "output_type": "display_data",
          "data": {
            "text/plain": [
              "FloatProgress(value=0.0, bar_style='info', description='Progress:', layout=Layout(height='25px', width='50%'),…"
            ],
            "application/vnd.jupyter.widget-view+json": {
              "version_major": 2,
              "version_minor": 0,
              "model_id": "a2dfedff05e348d99a1d2ed44c2e7e67"
            }
          },
          "metadata": {}
        },
        {
          "output_type": "stream",
          "name": "stdout",
          "text": [
            "Correct! You earned 2/2 points. You are a star!\n",
            "\n",
            "Your submission has been successfully recorded in the gradebook."
          ]
        }
      ],
      "source": [
        "%%spark\n",
        "\n",
        "# 2 points\n",
        "grader.grade(test_case_id = 'best_player', answer = highest_tackle_ratio_person)"
      ]
    },
    {
      "cell_type": "code",
      "execution_count": 28,
      "metadata": {
        "colab": {
          "base_uri": "https://localhost:8080/",
          "height": 69,
          "referenced_widgets": [
            "915fcae081b344feb8dc1020115606d3",
            "12cc2bfba3ed45ea91e9b60144480b6f",
            "4443444c8abd4c66918e60710faddc5f"
          ]
        },
        "id": "YZa4prSwQUJQ",
        "outputId": "25f96403-feb7-47f8-c96d-507cabaec1d1"
      },
      "outputs": [
        {
          "output_type": "display_data",
          "data": {
            "text/plain": [
              "FloatProgress(value=0.0, bar_style='info', description='Progress:', layout=Layout(height='25px', width='50%'),…"
            ],
            "application/vnd.jupyter.widget-view+json": {
              "version_major": 2,
              "version_minor": 0,
              "model_id": "915fcae081b344feb8dc1020115606d3"
            }
          },
          "metadata": {}
        },
        {
          "output_type": "stream",
          "name": "stdout",
          "text": [
            "Correct! You earned 2/2 points. You are a star!\n",
            "\n",
            "Your submission has been successfully recorded in the gradebook."
          ]
        }
      ],
      "source": [
        "%%spark\n",
        "\n",
        "# 2 points\n",
        "grader.grade(test_case_id = 'best_team', answer = highest_tackle_ratio_team)"
      ]
    },
    {
      "cell_type": "code",
      "execution_count": 29,
      "metadata": {
        "id": "NyVBZzE9Zg-G",
        "colab": {
          "base_uri": "https://localhost:8080/",
          "height": 451,
          "referenced_widgets": [
            "63da8e3ef4c445a59c252ec1aea40dcd",
            "a704fb697d56404f8d21b794acd8d619",
            "a90b28f4a57c443f8179019453453689"
          ]
        },
        "outputId": "a8b91272-75ac-4186-ad4e-f583fd28e7fa"
      },
      "outputs": [
        {
          "output_type": "display_data",
          "data": {
            "text/plain": [
              "FloatProgress(value=0.0, bar_style='info', description='Progress:', layout=Layout(height='25px', width='50%'),…"
            ],
            "application/vnd.jupyter.widget-view+json": {
              "version_major": 2,
              "version_minor": 0,
              "model_id": "63da8e3ef4c445a59c252ec1aea40dcd"
            }
          },
          "metadata": {}
        },
        {
          "output_type": "stream",
          "name": "stdout",
          "text": [
            "+------------------+--------------------+\n",
            "| Percentage Change|                  ID|\n",
            "+------------------+--------------------+\n",
            "|               0.0|a'shawnrobinson/2...|\n",
            "|1160.0000000000002|   a.j.bouye/2541162|\n",
            "|            -100.0|     a.j.edds/496921|\n",
            "|            -100.0|     a.j.edds/496921|\n",
            "|             -50.0|     a.j.edds/496921|\n",
            "|            -81.25|     a.j.edds/496921|\n",
            "|              null|  a.j.feeley/2504566|\n",
            "|              null| a.j.francis/2541707|\n",
            "|            -100.0|   a.j.green/2495450|\n",
            "|               0.0|a.j.jefferson/494275|\n",
            "|57.460317460317476|   a.j.klein/2539982|\n",
            "|               0.0| a.j.schable/2506734|\n",
            "|               0.0| a.j.tarpley/2553605|\n",
            "|-51.64835164835166|aaronbeasley/2499587|\n",
            "|               0.0|aaronburbridge/25...|\n",
            "|-51.11111111111111| aaroncolvin/2543501|\n",
            "|              null| aarondobson/2539256|\n",
            "|-2.083333333333333| aarondonald/2543485|\n",
            "|-55.55555555555556| aaronelling/2504975|\n",
            "| 672.6190476190476|aaronfrancisco/25...|\n",
            "+------------------+--------------------+\n",
            "only showing top 20 rows"
          ]
        }
      ],
      "source": [
        "%%spark\n",
        "\n",
        "#TODO Create % change table\n",
        "# For each player who has played for more than a year, what is the percentage \n",
        "# change in their ratio from the first year they played to the last year they \n",
        "# played? Save this df in percentage_change_sdf, and make sure to order by ID. \n",
        "# This DF should just contain two columns- percentage change and ID\n",
        "\n",
        "best_tackles_sdf.createOrReplaceTempView(\"best_tackles\")\n",
        "# best_tackles_sdf.createOrReplaceTempView(\"basic_stats\")\n",
        "defensive_cleaned_sdf.createOrReplaceTempView(\"defensive_cleaned\")\n",
        "        \n",
        "\n",
        "query = '''WITH query1 AS(\n",
        "          SELECT `Player Id`, Min(`Year`) AS `first year`, Max(`Year`) AS `last year`\n",
        "          FROM defensive_cleaned\n",
        "           GROUP BY `Player Id`\n",
        "          )\n",
        "          SELECT defensive_cleaned.`Player Id`, defensive_cleaned.Year, `Total Tackles`/`Games Played` AS Percentage, `first year`, `last year`\n",
        "          FROM defensive_cleaned\n",
        "          JOIN query1\n",
        "          USING(`Player Id`)\n",
        "           '''\n",
        "percentage_change_sdf1 = spark.sql(query)\n",
        "# percentage_change_sdf1.show()\n",
        "percentage_change_sdf1.createOrReplaceTempView(\"sdf1\")\n",
        "query2 = '''WITH first AS(SELECT `Player Id`, Year, Percentage AS `first percentage`, `last year`\n",
        "          FROM sdf1\n",
        "          WHERE Year = `first year`)\n",
        "          SELECT  (sdf1.Percentage-first.`first percentage`)/first.`first percentage`*100 AS `Percentage Change`, `Player Id` AS ID\n",
        "          FROM sdf1\n",
        "          JOIN first\n",
        "          USING(`Player Id`)\n",
        "          WHERE sdf1.Year = sdf1.`last year` \n",
        "          ORDER BY ID\n",
        "           '''\n",
        "\n",
        "percentage_change_sdf = spark.sql(query2)\n",
        "percentage_change_sdf.show()\n",
        "\n",
        "percentage_change_df = percentage_change_sdf.toPandas()\n",
        "to_submit = pd.read_json(percentage_change_df.to_json())"
      ]
    },
    {
      "cell_type": "code",
      "execution_count": 30,
      "metadata": {
        "id": "SzCb93YH7BcB",
        "colab": {
          "base_uri": "https://localhost:8080/",
          "height": 451,
          "referenced_widgets": [
            "03a808231dd64f31941bc2145aac6357",
            "71819dacd4be4738a0f64a1089dc8ac2",
            "e2173edf167d416eb4c4406773331510"
          ]
        },
        "outputId": "c9953ac3-7cbc-474a-998d-fa3acc1152d7"
      },
      "outputs": [
        {
          "output_type": "display_data",
          "data": {
            "text/plain": [
              "FloatProgress(value=0.0, bar_style='info', description='Progress:', layout=Layout(height='25px', width='50%'),…"
            ],
            "application/vnd.jupyter.widget-view+json": {
              "version_major": 2,
              "version_minor": 0,
              "model_id": "03a808231dd64f31941bc2145aac6357"
            }
          },
          "metadata": {}
        },
        {
          "output_type": "stream",
          "name": "stdout",
          "text": [
            "+------------------+--------------------+\n",
            "| Percentage Change|                  ID|\n",
            "+------------------+--------------------+\n",
            "|               0.0|a'shawnrobinson/2...|\n",
            "|1160.0000000000002|   a.j.bouye/2541162|\n",
            "|            -100.0|     a.j.edds/496921|\n",
            "|            -81.25|     a.j.edds/496921|\n",
            "|             -50.0|     a.j.edds/496921|\n",
            "|            -100.0|     a.j.edds/496921|\n",
            "|              null|  a.j.feeley/2504566|\n",
            "|              null| a.j.francis/2541707|\n",
            "|            -100.0|   a.j.green/2495450|\n",
            "|               0.0|a.j.jefferson/494275|\n",
            "|57.460317460317476|   a.j.klein/2539982|\n",
            "|               0.0| a.j.schable/2506734|\n",
            "|               0.0| a.j.tarpley/2553605|\n",
            "|-51.64835164835166|aaronbeasley/2499587|\n",
            "|               0.0|aaronburbridge/25...|\n",
            "|-51.11111111111111| aaroncolvin/2543501|\n",
            "|              null| aarondobson/2539256|\n",
            "|-2.083333333333333| aarondonald/2543485|\n",
            "|-55.55555555555556| aaronelling/2504975|\n",
            "| 672.6190476190476|aaronfrancisco/25...|\n",
            "+------------------+--------------------+\n",
            "only showing top 20 rows"
          ]
        }
      ],
      "source": [
        "%%spark\n",
        "\n",
        "# Let's visualize the results\n",
        "percentage_change_sdf.show(20)"
      ]
    },
    {
      "cell_type": "code",
      "execution_count": 31,
      "metadata": {
        "id": "W3MZT21Qp5Fk",
        "colab": {
          "base_uri": "https://localhost:8080/",
          "height": 17,
          "referenced_widgets": [
            "7eb5cc52030848c4bafdbf44f7a74bee",
            "bf84b96cf5464cdd8c928bee9f61c02f",
            "60fa81f9c5ea4cf589f95fc06425125a"
          ]
        },
        "outputId": "d6944a1d-248f-406b-d48b-f84d966d8856"
      },
      "outputs": [
        {
          "output_type": "display_data",
          "data": {
            "text/plain": [
              "FloatProgress(value=0.0, bar_style='info', description='Progress:', layout=Layout(height='25px', width='50%'),…"
            ],
            "application/vnd.jupyter.widget-view+json": {
              "version_major": 2,
              "version_minor": 0,
              "model_id": "7eb5cc52030848c4bafdbf44f7a74bee"
            }
          },
          "metadata": {}
        }
      ],
      "source": [
        "%%spark\n",
        "\n",
        "## AUTOGRADER Step 2.2: ##\n",
        "percentage_change_sdf.createOrReplaceTempView(\"test_2_2\")\n",
        "test_2_2_sdf = spark.sql(\"SELECT * FROM test_2_2 ORDER BY ID\")"
      ]
    },
    {
      "cell_type": "code",
      "execution_count": 32,
      "metadata": {
        "id": "S8i_bc6bU93w",
        "colab": {
          "base_uri": "https://localhost:8080/",
          "height": 69,
          "referenced_widgets": [
            "527bc507f1674426ab65261aaa9c7b58",
            "8aaf7db94034401eb95c9523eb4fb239",
            "d7f304dabfca427ba099611388453194"
          ]
        },
        "outputId": "dbbb4679-3216-41c2-dec6-efad344c87f7"
      },
      "outputs": [
        {
          "output_type": "display_data",
          "data": {
            "text/plain": [
              "FloatProgress(value=0.0, bar_style='info', description='Progress:', layout=Layout(height='25px', width='50%'),…"
            ],
            "application/vnd.jupyter.widget-view+json": {
              "version_major": 2,
              "version_minor": 0,
              "model_id": "527bc507f1674426ab65261aaa9c7b58"
            }
          },
          "metadata": {}
        },
        {
          "output_type": "stream",
          "name": "stdout",
          "text": [
            "Correct! You earned 12/12 points. You are a star!\n",
            "\n",
            "Your submission has been successfully recorded in the gradebook."
          ]
        }
      ],
      "source": [
        "%%spark\n",
        "\n",
        "# 12 points\n",
        "grader.grade(test_case_id = 'percentage_change', answer = test_2_2_sdf.toPandas())"
      ]
    },
    {
      "cell_type": "markdown",
      "metadata": {
        "id": "VZIfJGqDqKzX"
      },
      "source": [
        "## 2.3 The Blessed Break\n",
        "\n",
        "That last section was hard. And it's gonna get harder. Take a break. Sit back and relax for a minute. Listen to some music. Here's a [suggestion](https://www.youtube.com/watch?v=A3yCcXgbKrE).\n",
        "\n",
        "In the cell below fill out the boolean variable `whatd_you_think` with `True` if you liked it or `False` if you didn't. You will be graded on your response."
      ]
    },
    {
      "cell_type": "code",
      "execution_count": 33,
      "metadata": {
        "id": "WkA0_E2485jy"
      },
      "outputs": [],
      "source": [
        "whatd_you_think = True # TODO"
      ]
    },
    {
      "cell_type": "code",
      "execution_count": 34,
      "metadata": {
        "id": "4lS-XkWl2deZ",
        "colab": {
          "base_uri": "https://localhost:8080/"
        },
        "outputId": "14de5daf-b789-45eb-f1a1-7ce17ddc659f"
      },
      "outputs": [
        {
          "output_type": "stream",
          "name": "stdout",
          "text": [
            "Correct! You earned 1/1 points. You are a star!\n",
            "\n",
            "Your submission has been successfully recorded in the gradebook.\n"
          ]
        }
      ],
      "source": [
        "# 1 point\n",
        "grader.grade(test_case_id = 'tunes', answer = whatd_you_think)"
      ]
    },
    {
      "cell_type": "markdown",
      "metadata": {
        "id": "QkF2RfLSXO0u"
      },
      "source": [
        "## Step 3: Formatting the Time Series Data\n",
        "\n",
        "\n",
        "Our overarching goal is to create an annual time series model that will use the highest tackle ratio per year for each team to predict the highest tackle ratio for that team over the next season. The model is trained on a set of observations. Each observation contains the team name, and the highest tackle ratios for each year from 2001 to 2016. \n",
        "\n",
        "```\n",
        "+----+-----+----------+---------+----------+---\n",
        "|Team |2001 |...  |2008 |2009 |   ...   |2016 |\n",
        "+----+-----+----------+---------+----------+---\n",
        "|TEN  |...  |...  |...  |...  |   ...   |...  |\n",
        "|SF   |...  |...  |...  |...  |   ...   |...  |\n",
        "|...  |...  |...  |...  |...  |   ...   |...  |\n",
        "+----+-----+----------+---------+----------+---\n",
        "```\n"
      ]
    },
    {
      "cell_type": "markdown",
      "metadata": {
        "id": "KzEa-C36_x45"
      },
      "source": [
        "\n",
        "### Step 3.1: The Annual Arrangement\n",
        "\n",
        "Your first task is to create the time series table, i.e. the `2001` through `2016` columns. This will involve reshaping `best_tackles_sdf`. Currently, `best_tackles_sdf` has columns `ID`, `Name`, `Team`, `Ratio` and `Year`. We want to group the rows together based on common `Team` and create new columns for the Ratio corresponding to each year.\n",
        "\n",
        "Create an sdf called `raw_tackles_time_series_sdf` that has for a single team, the highest tackle ratio in 2001 through 2016. It is ok if for a given team you don't have a given year. However, ensure that for a given team, each year column has an entry, i.e. if no Ratio value is present for the year, the entry for that year column should be `0`. The format of the sdf is shown below: \n",
        "```\n",
        "+----+-----+----------+---------+----------+----------+-------\n",
        "|Team                |2001 |...  |2008 |2009 |   ...   |2016 |\n",
        "+----+-----+----------+---------+----------+----------+-------\n",
        "|Tennessee Titans    |...  |...  |...  |...  |   ...   |...  |\n",
        "|San Francisco 49ers |...  |...  |...  |...  |   ...   |...  |\n",
        "|...                 |...  |...  |...  |...  |   ...   |...  |\n",
        "+----+-----+----------+---------+----------+----------+-------\n",
        "```\n",
        "_Hint_: This is a **fiddly and somewhat difficult** question. The tricky part is creating the additional columns of annual ratios, specifically when there are missing years. \n",
        "\n",
        "We suggest you look into `CASE` and `WHEN` statements in the [function list](https://spark.apache.org/docs/2.3.0/api/sql/index.html), and use these to **either** fill in a number for column (if appropriate) or put in a 0."
      ]
    },
    {
      "cell_type": "code",
      "execution_count": 35,
      "metadata": {
        "id": "btp2wboHqg2J",
        "colab": {
          "base_uri": "https://localhost:8080/",
          "height": 471,
          "referenced_widgets": [
            "6c39dab481904a969513f23e8c326659",
            "6082d0268f6b443aac27df6df2099439",
            "e1ce0926c43249d08d2557fb921b3914"
          ]
        },
        "outputId": "f29cd4d8-a874-476c-ad95-87f6baec8b6c"
      },
      "outputs": [
        {
          "output_type": "display_data",
          "data": {
            "text/plain": [
              "FloatProgress(value=0.0, bar_style='info', description='Progress:', layout=Layout(height='25px', width='50%'),…"
            ],
            "application/vnd.jupyter.widget-view+json": {
              "version_major": 2,
              "version_minor": 0,
              "model_id": "6c39dab481904a969513f23e8c326659"
            }
          },
          "metadata": {}
        },
        {
          "output_type": "stream",
          "name": "stdout",
          "text": [
            "+--------------------+------------------+------------------+------------------+------------------+------------------+------------------+-----------------+------------------+------------------+------------------+-----------------+------------------+-----------------+------------------+-----------------+-----------------+\n",
            "|                Team|              2001|              2002|              2003|              2004|              2005|              2006|             2007|              2008|              2009|              2010|             2011|              2012|             2013|              2014|             2015|             2016|\n",
            "+--------------------+------------------+------------------+------------------+------------------+------------------+------------------+-----------------+------------------+------------------+------------------+-----------------+------------------+-----------------+------------------+-----------------+-----------------+\n",
            "|New England Patriots|            5.6875| 7.642857142857143|             7.875|             8.625|              6.75|6.2727272727272725|5.666666666666667|               8.0| 7.923076923076923|           10.9375|             7.75|            9.1875|9.166666666666666| 8.833333333333334|7.416666666666667|6.142857142857143|\n",
            "|      Miami Dolphins|10.266666666666667|              9.75|10.133333333333333|11.153846153846153|11.285714285714286|           10.3125|             10.4|               7.5|             7.125| 6.785714285714286|           6.6875|             8.375|            7.375| 7.333333333333333|           8.4375|              8.5|\n",
            "|       Chicago Bears|              7.25|            9.4375|              7.25| 7.777777777777778|            7.5625|            8.8125|           7.6875|               6.2| 6.133333333333334|            7.8125|            6.375| 5.666666666666667|            6.375| 6.461538461538462|             6.75|9.166666666666666|\n",
            "|     Atlanta Falcons|               4.2|3.6666666666666665| 4.333333333333333|               6.0| 5.266666666666667|             6.125|              6.0|2.8333333333333335|            6.8125|            5.4375|           7.1875|7.3076923076923075|           7.9375|             8.875|6.333333333333333|7.571428571428571|\n",
            "|   Carolina Panthers| 5.888888888888889| 6.733333333333333|            4.6875|             4.625|               5.0| 6.285714285714286|             8.75|             8.625|            8.8125|             8.125|           9.0625|             10.25|             9.75|            9.5625|9.076923076923077|             10.2|\n",
            "|  San Diego Chargers| 7.642857142857143|               8.0|           10.0625|             9.375|               9.5|            8.8125|           5.3125|            7.9375|6.3076923076923075|               6.0|              6.0| 6.416666666666667|           7.1875|             7.125|6.916666666666667|6.583333333333333|\n",
            "|   Minnesota Vikings|            4.9375|            5.1875|             5.375|               5.0|            4.4375| 4.214285714285714|           6.5625|            7.1875|            6.1875|               9.0|            9.625|              9.25|            8.375|              7.75|6.571428571428571|7.266666666666667|\n",
            "|    Tennessee Titans| 6.833333333333333|               6.0|            5.3125| 6.733333333333333|               5.0|            6.6875|            7.625| 5.461538461538462|            7.5625|              10.0|6.866666666666666|               6.5|              6.5|               7.0|              6.8|              6.5|\n",
            "|       Buffalo Bills|            6.3125|            9.1875|            8.3125|             8.875|            9.8125|             9.125|8.666666666666666|             6.875|              9.25|10.785714285714286|            8.125|               7.0|           9.9375| 7.428571428571429|           7.9375|           9.3125|\n",
            "|  Indianapolis Colts| 7.222222222222222|            8.5625|            9.0625|              5.75|               6.5|              6.75|7.363636363636363|               7.5| 7.357142857142857|               7.6|             9.25|            9.0625|            7.875|             8.625|            9.375|              7.5|\n",
            "|    Cleveland Browns| 5.857142857142857| 4.846153846153846|               8.5| 6.454545454545454|            9.3125| 7.428571428571429|7.214285714285714|             9.625| 9.833333333333334|            7.6875|            9.875|             7.375|           8.8125|              7.75|             6.75|             9.25|\n",
            "|      Denver Broncos|            4.5625|              6.25| 4.933333333333334|            5.4375|               5.5|               6.0|              5.6| 6.666666666666667|              7.25|               6.0|6.466666666666667|               7.8|           8.0625| 8.071428571428571|7.266666666666667|6.214285714285714|\n",
            "|      Dallas Cowboys|               7.0|               6.5|            7.4375|            6.6875|            5.8125|            6.3125|           6.3125|              7.25|            7.0625|             7.375|              7.0| 9.666666666666666|              9.0| 8.166666666666666|9.142857142857142|9.666666666666666|\n",
            "| Washington Redskins| 7.071428571428571|            6.1875| 6.866666666666666|               7.0|             6.125|            6.9375|              8.0|            8.3125|             8.875| 9.444444444444445|           10.375|            8.6875|           7.1875| 8.384615384615385|7.333333333333333|             7.75|\n",
            "| Pittsburgh Steelers| 5.333333333333333| 5.857142857142857|            8.8125|             5.875|               8.5|             7.875|            6.125|            8.3125|             6.375|            8.4375|           5.8125|            7.0625|              8.0|              8.25|           7.4375|            7.125|\n",
            "|  Cincinnati Bengals|            3.6875| 4.357142857142857|            5.6875| 6.666666666666667|             6.125|               7.0|           6.8125|               7.0|            5.5625| 5.133333333333334|6.769230769230769|            7.9375|          10.6875|            7.5625|              7.4|9.181818181818182|\n",
            "|     New York Giants|            8.3125| 7.266666666666667|              9.25| 6.466666666666667| 7.615384615384615|            8.5625|           6.4375| 6.333333333333333|               6.5|            6.3125|5.466666666666667|             4.125|             7.75|              5.75|              7.0|           7.8125|\n",
            "| San Francisco 49ers| 6.214285714285714|             5.875|             5.875|              5.75|               8.2|              4.75|              6.5|               6.0|             5.875|               5.0|           8.9375|              9.25|           9.0625|            5.4375|            9.625|             8.75|\n",
            "|Tampa Bay Buccaneers|               5.0|            7.0625|7.2727272727272725| 6.933333333333334|            8.0625| 8.666666666666666|5.533333333333333| 5.363636363636363|               5.5|             5.125|             5.25|            8.6875|           9.0625|10.428571428571429|           9.1875|           9.0625|\n",
            "|       New York Jets|             8.875|               5.0|             6.125|            6.6875|           10.5625|            7.0625|           7.9375|            7.4375|            7.9375|            6.1875|            5.375|            7.6875|             7.75|            7.6875|             6.75|6.333333333333333|\n",
            "+--------------------+------------------+------------------+------------------+------------------+------------------+------------------+-----------------+------------------+------------------+------------------+-----------------+------------------+-----------------+------------------+-----------------+-----------------+\n",
            "only showing top 20 rows"
          ]
        }
      ],
      "source": [
        "%%spark\n",
        "\n",
        "# TODO: Create [raw_tackles_time_series_sdf]\n",
        "\n",
        "# CASE() statements are SQL's equivalent of if else statements. WHEN a CASE is\n",
        "# true THEN we define a function. ELSE we do another function and then END the\n",
        "# statement.\n",
        "\n",
        "# The query is a GROUP BY. We group data based on the same team, as in the\n",
        "# previous step. We then do a CASE statement. This will seperate out the sets of\n",
        "# data corresponding to the same year using the 'Year' volumn in the WHEN clause.\n",
        "# If we have a piece of data, it will be the Ratio value for a given team in \n",
        "# a given year and we will save it with a corresponding column name. If there is\n",
        "# no piece of data here, as per the question, we need to add a 0. This is the\n",
        "# ELSE clause. Lastly, we do a SUM() to find the final Ratio.\n",
        "\n",
        "best_tackles_sdf.createOrReplaceTempView(\"best_tackles\")\n",
        "  \n",
        "query = '''WITH query1 AS\n",
        "           (SELECT best_tackles.Team, best_tackles.Year,\n",
        "                  CASE WHEN best_tackles.Year = 2001\n",
        "                  THEN best_tackles.Ratio \n",
        "                  ELSE 0 END AS `2001`,\n",
        "                  CASE WHEN best_tackles.Year = 2002\n",
        "                  THEN best_tackles.Ratio \n",
        "                  ELSE 0 END AS `2002`,\n",
        "                  CASE WHEN best_tackles.Year = 2003\n",
        "                  THEN best_tackles.Ratio \n",
        "                  ELSE 0 END AS `2003`,\n",
        "                  CASE WHEN best_tackles.Year = 2004\n",
        "                  THEN best_tackles.Ratio \n",
        "                  ELSE 0 END AS `2004`,\n",
        "                  CASE WHEN best_tackles.Year = 2005\n",
        "                  THEN best_tackles.Ratio \n",
        "                  ELSE 0 END AS `2005`,\n",
        "                  CASE WHEN best_tackles.Year = 2006\n",
        "                  THEN best_tackles.Ratio \n",
        "                  ELSE 0 END AS `2006`,\n",
        "                  CASE WHEN best_tackles.Year = 2007\n",
        "                  THEN best_tackles.Ratio \n",
        "                  ELSE 0 END AS `2007`,\n",
        "                  CASE WHEN best_tackles.Year = 2008\n",
        "                  THEN best_tackles.Ratio \n",
        "                  ELSE 0 END AS `2008`,\n",
        "                  CASE WHEN best_tackles.Year = 2009\n",
        "                  THEN best_tackles.Ratio \n",
        "                  ELSE 0 END AS `2009`,\n",
        "                  CASE WHEN best_tackles.Year = 2010\n",
        "                  THEN best_tackles.Ratio \n",
        "                  ELSE 0 END AS `2010`,\n",
        "                  CASE WHEN best_tackles.Year = 2011\n",
        "                  THEN best_tackles.Ratio \n",
        "                  ELSE 0 END AS `2011`,\n",
        "                  CASE WHEN best_tackles.Year = 2012\n",
        "                  THEN best_tackles.Ratio \n",
        "                  ELSE 0 END AS `2012`,\n",
        "                  CASE WHEN best_tackles.Year = 2013\n",
        "                  THEN best_tackles.Ratio \n",
        "                  ELSE 0 END AS `2013`,\n",
        "                  CASE WHEN best_tackles.Year = 2014\n",
        "                  THEN best_tackles.Ratio \n",
        "                  ELSE 0 END AS `2014`,\n",
        "                  CASE WHEN best_tackles.Year = 2015\n",
        "                  THEN best_tackles.Ratio \n",
        "                  ELSE 0 END AS `2015`,\n",
        "                  CASE WHEN best_tackles.Year = 2016\n",
        "                  THEN best_tackles.Ratio \n",
        "                  ELSE 0 END AS `2016`\n",
        "            FROM best_tackles\n",
        "           )\n",
        "            SELECT Team, Max(`2001`) AS `2001`,  Max(`2002`) AS `2002` ,  Max(`2003`) AS `2003`,  Max(`2004`) AS `2004`,  Max(`2005`) AS `2005` , \n",
        "             Max(`2006`) AS `2006`,  Max(`2007`) AS `2007`,  Max(`2008`) AS `2008`,  Max(`2009`) AS `2009`,  Max(`2010`) AS `2010` ,  Max(`2011`) AS `2011`, \n",
        "              Max(`2012`) AS `2012`,  Max(`2013`) AS `2013`,  Max(`2014`) AS `2014`,  Max(`2015`) AS `2015`,  Max(`2016`) AS `2016` \n",
        "            FROM query1\n",
        "            GROUP BY Team\n",
        "            '''\n",
        "\n",
        "\n",
        "\n",
        "raw_tackles_time_series_sdf = spark.sql(query)\n",
        "raw_tackles_time_series_sdf.show()\n",
        "\n",
        "raw_tackles_time_series_df = raw_tackles_time_series_sdf.toPandas()\n",
        "to_submit = pd.read_json(raw_tackles_time_series_df .to_json())\n",
        "\n",
        "# Define and save raw_tackles_time_series_sdf\n"
      ]
    },
    {
      "cell_type": "code",
      "execution_count": 36,
      "metadata": {
        "id": "WRMSunHVq296",
        "colab": {
          "base_uri": "https://localhost:8080/",
          "height": 17,
          "referenced_widgets": [
            "a3e1f1e6c0614d79aa650dbc41060fb0",
            "fa589194602b4940a5facb33f8d2f031",
            "483b90a564b24a78848e7e069e59d117"
          ]
        },
        "outputId": "fdc40046-77f3-4eba-80d6-9a89b30f6b27"
      },
      "outputs": [
        {
          "output_type": "display_data",
          "data": {
            "text/plain": [
              "FloatProgress(value=0.0, bar_style='info', description='Progress:', layout=Layout(height='25px', width='50%'),…"
            ],
            "application/vnd.jupyter.widget-view+json": {
              "version_major": 2,
              "version_minor": 0,
              "model_id": "a3e1f1e6c0614d79aa650dbc41060fb0"
            }
          },
          "metadata": {}
        }
      ],
      "source": [
        "%%spark\n",
        "\n",
        "## AUTOGRADER Step 3.1: ##\n",
        "\n",
        "raw_tackles_time_series_sdf.createOrReplaceTempView(\"test_3_1\")\n",
        "test_3_1_sdf = spark.sql(\"SELECT * FROM test_3_1 ORDER BY Team DESC LIMIT 10\")"
      ]
    },
    {
      "cell_type": "code",
      "execution_count": 37,
      "metadata": {
        "id": "NluLbb4HX5AS",
        "colab": {
          "base_uri": "https://localhost:8080/",
          "height": 69,
          "referenced_widgets": [
            "0bd5f8e279d84963b6faca71ae463aaf",
            "6cd2da82b1b84389a94002c1a2a12609",
            "5d2dddd5526341b6a2cf237a7368d69d"
          ]
        },
        "outputId": "0d3a2bbe-b558-426c-ed5c-8afd641f2e19"
      },
      "outputs": [
        {
          "output_type": "display_data",
          "data": {
            "text/plain": [
              "FloatProgress(value=0.0, bar_style='info', description='Progress:', layout=Layout(height='25px', width='50%'),…"
            ],
            "application/vnd.jupyter.widget-view+json": {
              "version_major": 2,
              "version_minor": 0,
              "model_id": "0bd5f8e279d84963b6faca71ae463aaf"
            }
          },
          "metadata": {}
        },
        {
          "output_type": "stream",
          "name": "stdout",
          "text": [
            "Correct! You earned 14/14 points. You are a star!\n",
            "\n",
            "Your submission has been successfully recorded in the gradebook."
          ]
        }
      ],
      "source": [
        "%%spark\n",
        "\n",
        "# 14 points\n",
        "grader.grade(test_case_id = 'arrangement', answer = test_3_1_sdf.toPandas())"
      ]
    },
    {
      "cell_type": "markdown",
      "metadata": {
        "id": "KZRuAU0XI84l"
      },
      "source": [
        "### Step 3.2 The Clairvoyant Cleaning\n",
        "\n",
        "We now want to format the `Team` names to an appropriate abbreviation. The formatting will consist of 2 steps."
      ]
    },
    {
      "cell_type": "markdown",
      "metadata": {
        "id": "0DdnoFkP7mxz"
      },
      "source": [
        "#### Step 3.2.1 The Ubiquitous UDF\n",
        "\n",
        "The teams in our dataset are defined by their full names. We think that it would be *cleaner* to have names represented by using abbreviations. Often times when using Spark, there may not be a built-in SQL function that can do the operation we desired. Instead, we can create one on our own with a user-defined function (udf).\n",
        "\n",
        "A udf is defined as a normal Python function and then registered to be used as a Spark SQL function. Your task is to create a udf, `NAME_TO_ABBV()` that will convert the `Team` field in `raw_tackles_time_series_sdf` to their appropriate abbreviations. This will be done using the provided `name_to_abbv_dict` dictionary. We are only interested in the teams in that dictionary.\n",
        "\n",
        "Fill out the function `name_to_abbv()` below. Then use `spark.udf.register()` to register it as a SQL function. The command is provided. ***You do not need to edit it***. Note, we have defined the udf as returning `StringType()`. Ensure that your function returns this. You must also deal with any potential `null` cases."
      ]
    },
    {
      "cell_type": "code",
      "execution_count": 38,
      "metadata": {
        "id": "P4cJWZsr8iNC",
        "colab": {
          "base_uri": "https://localhost:8080/",
          "height": 34,
          "referenced_widgets": [
            "db33cc568c0a4729b9b4cbc63e50174f",
            "5c2eb9418d1d4a3daac09522f328b9e2",
            "ba2520681d054f28b5198d97cc72af42"
          ]
        },
        "outputId": "efd804f3-7e9f-4906-80b4-8728b2d976b7"
      },
      "outputs": [
        {
          "output_type": "display_data",
          "data": {
            "text/plain": [
              "FloatProgress(value=0.0, bar_style='info', description='Progress:', layout=Layout(height='25px', width='50%'),…"
            ],
            "application/vnd.jupyter.widget-view+json": {
              "version_major": 2,
              "version_minor": 0,
              "model_id": "db33cc568c0a4729b9b4cbc63e50174f"
            }
          },
          "metadata": {}
        },
        {
          "output_type": "stream",
          "name": "stdout",
          "text": [
            "<function name_to_abbv at 0x7f26ea58f290>"
          ]
        }
      ],
      "source": [
        "%%spark\n",
        "\n",
        "# Dictionary linking stock ticker symbols to their names\n",
        "name_to_abbv_dict = {'Tennessee Titans': 'TEN',\n",
        "                     'Denver Broncos': 'DEN',\n",
        "                     'Green Bay Packers': 'GBP',\n",
        "                     'Pittsburgh Steelers': 'PIT',\n",
        "                     'Chicago Bears': 'CHI',\n",
        "                     'Philadelphia Eagles': 'PHI',\n",
        "                     'Indianapolis Colts': 'IND',\n",
        "                     'Arizona Cardinals': 'ARI',\n",
        "                     'Seattle Seahawks': 'SEA',\n",
        "                     'Baltimore Ravens': 'BAR',\n",
        "                     'Carolina Panthers': 'CAR',\n",
        "                     'Kansas City Chiefs': 'KAN',\n",
        "                     'Oakland Raiders': 'OAK',\n",
        "                     'St. Louis Rams': 'SLR',\n",
        "                     'Atlanta Falcons': 'ATL',\n",
        "                     'New Orleans Saints': 'NOS',\n",
        "                     'San Francisco 49ers': 'SFF',\n",
        "                     'New England Patriots': 'NEP',\n",
        "                     'Buffalo Bills': 'BUF',\n",
        "                     'Los Angeles Rams': 'LAR',\n",
        "                     'Dallas Cowboys': 'DAL',\n",
        "                     'Minnesota Vikings': 'MIN',\n",
        "                     'Detroit Lions': 'DET',\n",
        "                     'Washington Redskins': 'WAS',\n",
        "                     'Jacksonville Jaguars': 'JAC',\n",
        "                     'New York Giants': 'NYG',\n",
        "                     'Tampa Bay Buccaneers': 'TBB',\n",
        "                     'Cleveland Browns': 'CLE',\n",
        "                     'Houston Texans': 'HOT',\n",
        "                     'Los Angeles Raiders': 'LOS',\n",
        "                     'Miami Dolphins': 'MIA',\n",
        "                     'Houston Oilers': 'HOU',\n",
        "                     'Cincinnati Bengals': 'CIN',\n",
        "                     'San Diego Chargers': 'SDC',\n",
        "                     'Tennessee Oilers': 'TEO',\n",
        "                     'New York Jets': 'NYJ',\n",
        "                     'Phoenix Cardinals': 'PHO',\n",
        "                     'St. Louis Cardinals': 'SLC',\n",
        "                     'Baltimore Colts': 'BAC'}\n",
        "\n",
        "# TODO: Fill out [name_to_abbv()] and register it as a udf.\n",
        "# Fill out name_to_abbv()\n",
        "\n",
        "# In UDFs we have to cover all possible output cases, or else the function will\n",
        "# crash. Specifically, this means we need to handle the case when \"name\" is\n",
        "# not in \"name_to_abbv_dict\". We use a try and except statement to return null\n",
        "# for this case.\n",
        "\n",
        "def name_to_abbv(name):\n",
        "  if name in name_to_abbv_dict:\n",
        "    name = name_to_abbv_dict.get(name)\n",
        "    return name\n",
        "  else:\n",
        "    return None\n",
        "\n",
        "# Register udf as a SQL function. DO NOT EDIT\n",
        "spark.udf.register(\"NAME_TO_ABBV\", name_to_abbv, StringType())\n"
      ]
    },
    {
      "cell_type": "markdown",
      "metadata": {
        "id": "LSM0mzPRaKKr"
      },
      "source": [
        "Submit a tuple to the autograder for the ticker value of San Franscisco 49ers and Washington Commanders. If the name value in the table, set it to a string equal to \"None\""
      ]
    },
    {
      "cell_type": "code",
      "execution_count": 39,
      "metadata": {
        "id": "NkdrFilOtKqx",
        "colab": {
          "base_uri": "https://localhost:8080/",
          "height": 34,
          "referenced_widgets": [
            "6a1eb2d1a4484413a9d0bf9923919e65",
            "f626fae16bff479491da45411b038e2d",
            "e7ddbe9136b64f75b30c355e63b89932"
          ]
        },
        "outputId": "304c8d07-3148-4b59-9984-642912a2606d"
      },
      "outputs": [
        {
          "output_type": "display_data",
          "data": {
            "text/plain": [
              "FloatProgress(value=0.0, bar_style='info', description='Progress:', layout=Layout(height='25px', width='50%'),…"
            ],
            "application/vnd.jupyter.widget-view+json": {
              "version_major": 2,
              "version_minor": 0,
              "model_id": "6a1eb2d1a4484413a9d0bf9923919e65"
            }
          },
          "metadata": {}
        },
        {
          "output_type": "stream",
          "name": "stdout",
          "text": [
            "('SFF', 'None')"
          ]
        }
      ],
      "source": [
        "%%spark\n",
        "\n",
        "## AUTOGRADER Step 3.2.1: ##\n",
        "\n",
        "print((str(name_to_abbv(\"San Francisco 49ers\")),str(name_to_abbv(\"Washington Commanders\"))))\n",
        "to_submit = ((str(name_to_abbv(\"San Francisco 49ers\")),str(name_to_abbv(\"Washington Commanders\"))))"
      ]
    },
    {
      "cell_type": "code",
      "execution_count": 40,
      "metadata": {
        "id": "BA95n1lpZ4yy",
        "colab": {
          "base_uri": "https://localhost:8080/",
          "height": 69,
          "referenced_widgets": [
            "a0078d4414ff42d2acc3ae1b53d1510c",
            "a45c4e1302ea4bbd9984995a5257d722",
            "d039215841d34553ad65b1861abe35de"
          ]
        },
        "outputId": "5e406189-e31c-4a41-f879-3b53abc4f203"
      },
      "outputs": [
        {
          "output_type": "display_data",
          "data": {
            "text/plain": [
              "FloatProgress(value=0.0, bar_style='info', description='Progress:', layout=Layout(height='25px', width='50%'),…"
            ],
            "application/vnd.jupyter.widget-view+json": {
              "version_major": 2,
              "version_minor": 0,
              "model_id": "a0078d4414ff42d2acc3ae1b53d1510c"
            }
          },
          "metadata": {}
        },
        {
          "output_type": "stream",
          "name": "stdout",
          "text": [
            "Correct! You earned 2/2 points. You are a star!\n",
            "\n",
            "Your submission has been successfully recorded in the gradebook."
          ]
        }
      ],
      "source": [
        "%%spark\n",
        "\n",
        "# 2 points\n",
        "grader.grade(test_case_id = 'clairvoyant', answer = to_submit)"
      ]
    },
    {
      "cell_type": "markdown",
      "metadata": {
        "id": "u9YOYO9L-_GS"
      },
      "source": [
        "#### Step 3.2.2: The Clean Conversion\n",
        "\n",
        "With our new `NAME_TO_ABBV()` function we will begin to wrangle `raw_tackles_time_series_sdf`.\n",
        "\n",
        "Create an sdf called `tackles_time_series_sdf` as follows. Convert all the team names in `raw_tackles_time_series_sdf` to the appropriate abbreviations and save it as `Team`. Drop any team abbreviations that do not appear in `name_to_abbv_dict`. Using .dropna() is acceptable instead of IS NOT NULL. The final df should be in the format shown below:\n",
        "\n",
        "```\n",
        "+----+-----+----------+---------+----------+----------+--\n",
        "|Team |2000 |2001 |   ...   |2008 |2009 |   ...   |2016 |\n",
        "+----+-----+----------+---------+----------+----------+--\n",
        "|TEN  |...  |...  |   ...   |...  |...  |   ...   |...  |\n",
        "|SFF  |...  |...  |   ...   |...  |...  |   ...   |...  |\n",
        "|...  |...  |...  |   ...   |...  |...  |   ...   |...  |\n",
        "+----+-----+----------+---------+----------+----------+--\n",
        "```"
      ]
    },
    {
      "cell_type": "code",
      "execution_count": 41,
      "metadata": {
        "id": "RuiitnWlBYJ7",
        "colab": {
          "base_uri": "https://localhost:8080/",
          "height": 471,
          "referenced_widgets": [
            "4216034783f14e97a79a69fa4f8a4053",
            "1a41a2f4509b4136b8bf6b39ecd0f191",
            "60fdbc283a4042f2a6d73a15b3fce170"
          ]
        },
        "outputId": "492020e5-a34d-467c-a7e9-ea60061e363e"
      },
      "outputs": [
        {
          "output_type": "display_data",
          "data": {
            "text/plain": [
              "FloatProgress(value=0.0, bar_style='info', description='Progress:', layout=Layout(height='25px', width='50%'),…"
            ],
            "application/vnd.jupyter.widget-view+json": {
              "version_major": 2,
              "version_minor": 0,
              "model_id": "4216034783f14e97a79a69fa4f8a4053"
            }
          },
          "metadata": {}
        },
        {
          "output_type": "stream",
          "name": "stdout",
          "text": [
            "+----+------------------+------------------+------------------+------------------+------------------+------------------+-----------------+------------------+------------------+------------------+-----------------+------------------+-----------------+------------------+-----------------+-----------------+\n",
            "|Team|              2001|              2002|              2003|              2004|              2005|              2006|             2007|              2008|              2009|              2010|             2011|              2012|             2013|              2014|             2015|             2016|\n",
            "+----+------------------+------------------+------------------+------------------+------------------+------------------+-----------------+------------------+------------------+------------------+-----------------+------------------+-----------------+------------------+-----------------+-----------------+\n",
            "| NEP|            5.6875| 7.642857142857143|             7.875|             8.625|              6.75|6.2727272727272725|5.666666666666667|               8.0| 7.923076923076923|           10.9375|             7.75|            9.1875|9.166666666666666| 8.833333333333334|7.416666666666667|6.142857142857143|\n",
            "| MIA|10.266666666666667|              9.75|10.133333333333333|11.153846153846153|11.285714285714286|           10.3125|             10.4|               7.5|             7.125| 6.785714285714286|           6.6875|             8.375|            7.375| 7.333333333333333|           8.4375|              8.5|\n",
            "| CHI|              7.25|            9.4375|              7.25| 7.777777777777778|            7.5625|            8.8125|           7.6875|               6.2| 6.133333333333334|            7.8125|            6.375| 5.666666666666667|            6.375| 6.461538461538462|             6.75|9.166666666666666|\n",
            "| ATL|               4.2|3.6666666666666665| 4.333333333333333|               6.0| 5.266666666666667|             6.125|              6.0|2.8333333333333335|            6.8125|            5.4375|           7.1875|7.3076923076923075|           7.9375|             8.875|6.333333333333333|7.571428571428571|\n",
            "| CAR| 5.888888888888889| 6.733333333333333|            4.6875|             4.625|               5.0| 6.285714285714286|             8.75|             8.625|            8.8125|             8.125|           9.0625|             10.25|             9.75|            9.5625|9.076923076923077|             10.2|\n",
            "| SDC| 7.642857142857143|               8.0|           10.0625|             9.375|               9.5|            8.8125|           5.3125|            7.9375|6.3076923076923075|               6.0|              6.0| 6.416666666666667|           7.1875|             7.125|6.916666666666667|6.583333333333333|\n",
            "| MIN|            4.9375|            5.1875|             5.375|               5.0|            4.4375| 4.214285714285714|           6.5625|            7.1875|            6.1875|               9.0|            9.625|              9.25|            8.375|              7.75|6.571428571428571|7.266666666666667|\n",
            "| TEN| 6.833333333333333|               6.0|            5.3125| 6.733333333333333|               5.0|            6.6875|            7.625| 5.461538461538462|            7.5625|              10.0|6.866666666666666|               6.5|              6.5|               7.0|              6.8|              6.5|\n",
            "| BUF|            6.3125|            9.1875|            8.3125|             8.875|            9.8125|             9.125|8.666666666666666|             6.875|              9.25|10.785714285714286|            8.125|               7.0|           9.9375| 7.428571428571429|           7.9375|           9.3125|\n",
            "| IND| 7.222222222222222|            8.5625|            9.0625|              5.75|               6.5|              6.75|7.363636363636363|               7.5| 7.357142857142857|               7.6|             9.25|            9.0625|            7.875|             8.625|            9.375|              7.5|\n",
            "| CLE| 5.857142857142857| 4.846153846153846|               8.5| 6.454545454545454|            9.3125| 7.428571428571429|7.214285714285714|             9.625| 9.833333333333334|            7.6875|            9.875|             7.375|           8.8125|              7.75|             6.75|             9.25|\n",
            "| DEN|            4.5625|              6.25| 4.933333333333334|            5.4375|               5.5|               6.0|              5.6| 6.666666666666667|              7.25|               6.0|6.466666666666667|               7.8|           8.0625| 8.071428571428571|7.266666666666667|6.214285714285714|\n",
            "| DAL|               7.0|               6.5|            7.4375|            6.6875|            5.8125|            6.3125|           6.3125|              7.25|            7.0625|             7.375|              7.0| 9.666666666666666|              9.0| 8.166666666666666|9.142857142857142|9.666666666666666|\n",
            "| WAS| 7.071428571428571|            6.1875| 6.866666666666666|               7.0|             6.125|            6.9375|              8.0|            8.3125|             8.875| 9.444444444444445|           10.375|            8.6875|           7.1875| 8.384615384615385|7.333333333333333|             7.75|\n",
            "| PIT| 5.333333333333333| 5.857142857142857|            8.8125|             5.875|               8.5|             7.875|            6.125|            8.3125|             6.375|            8.4375|           5.8125|            7.0625|              8.0|              8.25|           7.4375|            7.125|\n",
            "| CIN|            3.6875| 4.357142857142857|            5.6875| 6.666666666666667|             6.125|               7.0|           6.8125|               7.0|            5.5625| 5.133333333333334|6.769230769230769|            7.9375|          10.6875|            7.5625|              7.4|9.181818181818182|\n",
            "| NYG|            8.3125| 7.266666666666667|              9.25| 6.466666666666667| 7.615384615384615|            8.5625|           6.4375| 6.333333333333333|               6.5|            6.3125|5.466666666666667|             4.125|             7.75|              5.75|              7.0|           7.8125|\n",
            "| SFF| 6.214285714285714|             5.875|             5.875|              5.75|               8.2|              4.75|              6.5|               6.0|             5.875|               5.0|           8.9375|              9.25|           9.0625|            5.4375|            9.625|             8.75|\n",
            "| TBB|               5.0|            7.0625|7.2727272727272725| 6.933333333333334|            8.0625| 8.666666666666666|5.533333333333333| 5.363636363636363|               5.5|             5.125|             5.25|            8.6875|           9.0625|10.428571428571429|           9.1875|           9.0625|\n",
            "| NYJ|             8.875|               5.0|             6.125|            6.6875|           10.5625|            7.0625|           7.9375|            7.4375|            7.9375|            6.1875|            5.375|            7.6875|             7.75|            7.6875|             6.75|6.333333333333333|\n",
            "+----+------------------+------------------+------------------+------------------+------------------+------------------+-----------------+------------------+------------------+------------------+-----------------+------------------+-----------------+------------------+-----------------+-----------------+\n",
            "only showing top 20 rows"
          ]
        }
      ],
      "source": [
        "%%spark\n",
        "\n",
        "# Format the \"Team\" column using our UDF, NAME_TO_ABBV.\n",
        "# TODO: Create [tackles_time_series_sdf]\n",
        "\n",
        "\n",
        "# raw_tackles_time_series_df.withColumn(\"Team\", name_to_abbv(\"Team\")).show(10)\n",
        "\n",
        "\n",
        "raw_tackles_time_series_sdf.createOrReplaceTempView(\"time_series\")\n",
        "\n",
        "query = '''\n",
        "        SELECT NAME_TO_ABBV(Team) AS Team, `2001`, `2002`, `2003`, `2004`, `2005`, `2006`, `2007`, `2008`, `2009`, `2010`, `2011`, `2012`, `2013`,`2014`,`2015`,`2016`\n",
        "        FROM time_series\n",
        "         '''\n",
        "\n",
        "tackles_time_series_sdf = spark.sql(query)\n",
        "tackles_time_series_sdf.show()\n",
        "\n",
        "tackles_time_series_df = tackles_time_series_sdf.toPandas()\n",
        "to_submit = pd.read_json(tackles_time_series_df.to_json())\n",
        "\n",
        "# Define and save tackles_time_series_sdf\n",
        "\n"
      ]
    },
    {
      "cell_type": "code",
      "execution_count": 42,
      "metadata": {
        "id": "qBm-D6FXtdv6",
        "colab": {
          "base_uri": "https://localhost:8080/",
          "height": 17,
          "referenced_widgets": [
            "87435fe9697f4e598e9e80d46a27f1fb",
            "3ccef3c742e744c8847cd1c42d6653a5",
            "ef3d29dd574c4e33961772e453a580e2"
          ]
        },
        "outputId": "5d3978de-dcf0-4158-ecf8-27213401aae4"
      },
      "outputs": [
        {
          "output_type": "display_data",
          "data": {
            "text/plain": [
              "FloatProgress(value=0.0, bar_style='info', description='Progress:', layout=Layout(height='25px', width='50%'),…"
            ],
            "application/vnd.jupyter.widget-view+json": {
              "version_major": 2,
              "version_minor": 0,
              "model_id": "87435fe9697f4e598e9e80d46a27f1fb"
            }
          },
          "metadata": {}
        }
      ],
      "source": [
        "%%spark\n",
        "\n",
        "## AUTOGRADER Step 3.2.2: ##\n",
        "\n",
        "tackles_time_series_sdf.createOrReplaceTempView(\"test_3_2_2\")\n",
        "test_3_2_2_sdf = spark.sql(\"SELECT * FROM test_3_2_2 ORDER BY Team LIMIT 10\")"
      ]
    },
    {
      "cell_type": "code",
      "execution_count": 43,
      "metadata": {
        "id": "ghKZ3HHOaXIq",
        "colab": {
          "base_uri": "https://localhost:8080/",
          "height": 69,
          "referenced_widgets": [
            "51dcc2ebe28841c3a5b57e32017320ce",
            "58aa956b292e45799013a2cb0e388c90",
            "07bb2bc4801e40e9a9bc359ed6115fa9"
          ]
        },
        "outputId": "a1e2aabd-4eb9-4a82-e40d-a0f7353a4a8a"
      },
      "outputs": [
        {
          "output_type": "display_data",
          "data": {
            "text/plain": [
              "FloatProgress(value=0.0, bar_style='info', description='Progress:', layout=Layout(height='25px', width='50%'),…"
            ],
            "application/vnd.jupyter.widget-view+json": {
              "version_major": 2,
              "version_minor": 0,
              "model_id": "51dcc2ebe28841c3a5b57e32017320ce"
            }
          },
          "metadata": {}
        },
        {
          "output_type": "stream",
          "name": "stdout",
          "text": [
            "Correct! You earned 10/10 points. You are a star!\n",
            "\n",
            "Your submission has been successfully recorded in the gradebook."
          ]
        }
      ],
      "source": [
        "%%spark\n",
        "\n",
        "# 10 points\n",
        "grader.grade(test_case_id = 'conversion', answer = test_3_2_2_sdf.toPandas())"
      ]
    },
    {
      "cell_type": "markdown",
      "metadata": {
        "id": "VvDlOG74JPl7"
      },
      "source": [
        "And there you go! Now we have formatted a simple time series dataset for the highest tackle ratios of all teams."
      ]
    },
    {
      "cell_type": "markdown",
      "metadata": {
        "id": "ZnwHS5-kPtVl"
      },
      "source": [
        "## Step 4: The Super... Bacon?\n",
        "\n",
        "Let's introduce a fun little concept called the Bacon Number! The Bacon number of an actor or actress is the number of degrees of separation they have from actor Kevin Bacon, as defined by the game known as Six Degrees of Kevin Bacon. For example, Kevin Bacon's Bacon number is 0. If an actor works in a movie with Kevin Bacon, the actor's Bacon number is 1. If an actor works with an actor who worked with Kevin Bacon in a movie, the first actor's Bacon number is 2, and so forth.\n",
        "\n",
        "How do we implement this for NFL though? Let's use a dataset specifically based on the history of the Super Bowl, and find a number we're calling \"The Super Bacon.\" We define this number as follows: if team A has beaten team B, and team B has beaten team C, then the super bacon of C with respect to A will be 2.\n",
        "\n",
        "Now to calculate this number, we'll use the concepts of graphs and BFS!\n"
      ]
    },
    {
      "cell_type": "markdown",
      "metadata": {
        "id": "VPOLIiHpYr86"
      },
      "source": [
        "*For this section, we will be using Pyspark instead of Spark on the EMR cluster. The syntax remains the same, except you don't need to use the `%%spark` call at the top of each code cell.\n",
        "Run the setup cells for Pyspark below.*"
      ]
    },
    {
      "cell_type": "code",
      "execution_count": 44,
      "metadata": {
        "id": "nlrk--6d_6p7",
        "colab": {
          "base_uri": "https://localhost:8080/"
        },
        "outputId": "e9fc72a3-e12d-49dc-ccba-749bcb82e81e"
      },
      "outputs": [
        {
          "output_type": "stream",
          "name": "stdout",
          "text": [
            "Requirement already satisfied: pyspark in /usr/local/lib/python3.7/dist-packages (3.2.1)\n",
            "Requirement already satisfied: py4j==0.10.9.3 in /usr/local/lib/python3.7/dist-packages (from pyspark) (0.10.9.3)\n"
          ]
        }
      ],
      "source": [
        "!pip install pyspark"
      ]
    },
    {
      "cell_type": "code",
      "execution_count": 45,
      "metadata": {
        "id": "VGEag3L-3cp8"
      },
      "outputs": [],
      "source": [
        "from pyspark.sql import SparkSession\n",
        "\n",
        "appName = \"PySpark\"\n",
        "\n",
        "# Create Spark session\n",
        "spark = SparkSession.builder.appName(appName).getOrCreate()\n"
      ]
    },
    {
      "cell_type": "markdown",
      "metadata": {
        "id": "LK-JxKe0xBvS"
      },
      "source": [
        "### 4.1 “Traversing” a Graph\n",
        "\n",
        "Before we jump to finding the Super Bacons for the teams, let's review how BFS works."
      ]
    },
    {
      "cell_type": "code",
      "execution_count": 46,
      "metadata": {
        "id": "GT6WJwy5vK_G"
      },
      "outputs": [],
      "source": [
        "import pandas as pd\n",
        "from IPython.display import Image as I\n",
        "\n",
        "bfsgif =\\\n",
        "'https://upload.wikimedia.org/wikipedia/commons/5/5d/Breadth-First-S'+\\\n",
        "'earch-Algorithm.gif'\n",
        "dfsgif=\\\n",
        "'https://upload.wikimedia.org/wikipedia/commons/7/7f/Depth-First-Search.gif'\n"
      ]
    },
    {
      "cell_type": "markdown",
      "metadata": {
        "id": "wpanImv_x2l9"
      },
      "source": [
        "\n",
        "#### 4.1.1 Intro to Distributed Breadth-First Search\n",
        "\n",
        "\n",
        "To start off, we will be implementing a graph traversal algorithm known as Breadth First Search. It works in a way that's equivalent to how a stain spreads on a white t-shirt. Take a look at the graph below:\n",
        "\n",
        "<p align = \"center\">\n",
        "<img src = \"https://imgur.com/WU3AUwg.png\" width= \"600\" align =\"center\"/>\n",
        "\n",
        "* Consider starting BFS from point A (green). This is considered the starting frontier/singular origin node.\n",
        "* The first round of BFS would involve finding all the nodes directly reachable from A, namely B-F (blue circles). These blue nodes make up the next frontier at depth 1 away from our starting node A.\n",
        "* The second round would then be identifying the red nodes which are the neighbors of the blue nodes. Now, the red nodes all belong to a frontier 2 depth away from A. Note that node A is also a neighbor of a blue node. However, since it has already been visited, it does not get added to this frontier.\n",
        "\n",
        "This process continues until all the nodes in the graph have been visited.\n",
        "If you would like to learn more about BFS, we highly suggest looking [here](https://www.tutorialspoint.com/data_structures_algorithms/breadth_first_traversal.html).\n",
        "\n",
        "\n",
        "We will now be implementing **spark_bfs(G, N, d)**, our spark flavor of BFS that takes a graph **G**, a set of origin nodes **N**, and a max depth **d**.\n",
        "\n",
        "In order to write a successful BFS function, you are going to need to figure out \n",
        "1. how to keep track of nodes that we have visited\n",
        "2. how to properly find all the nodes at the next depth\n",
        "3. how to avoid cycles and ensure that we do not constantly loop through the same edges (take a look at J-K in the graph)\n"
      ]
    },
    {
      "cell_type": "markdown",
      "metadata": {
        "id": "I9QtEcHJyFTK"
      },
      "source": [
        "#### [OPTIONAL/ADDITIONAL] BFS vs. DFS Animation \n",
        "Run the code cells below to understand the difference between depth and breadth first search! (Source: Wikimedia Commons)"
      ]
    },
    {
      "cell_type": "code",
      "execution_count": 47,
      "metadata": {
        "id": "KOOmbVszx2gu",
        "colab": {
          "base_uri": "https://localhost:8080/",
          "height": 538
        },
        "outputId": "9a4ff356-3970-4695-a24b-a12fb79fd8a2"
      },
      "outputs": [
        {
          "output_type": "stream",
          "name": "stdout",
          "text": [
            "BFS:\n"
          ]
        },
        {
          "output_type": "execute_result",
          "data": {
            "text/plain": [
              "<IPython.core.display.Image object>"
            ],
            "text/html": [
              "<img src=\"https://upload.wikimedia.org/wikipedia/commons/5/5d/Breadth-First-Search-Algorithm.gif\"/>"
            ]
          },
          "metadata": {},
          "execution_count": 47
        }
      ],
      "source": [
        "# NOT GRADED\n",
        "print('BFS:')\n",
        "I(url=bfsgif)"
      ]
    },
    {
      "cell_type": "code",
      "execution_count": 48,
      "metadata": {
        "id": "Aq2JPO0iyN4g",
        "colab": {
          "base_uri": "https://localhost:8080/",
          "height": 538
        },
        "outputId": "a1e8a6e7-1be1-47ef-82ce-5818832713cd"
      },
      "outputs": [
        {
          "output_type": "stream",
          "name": "stdout",
          "text": [
            "DFS:\n"
          ]
        },
        {
          "output_type": "execute_result",
          "data": {
            "text/plain": [
              "<IPython.core.display.Image object>"
            ],
            "text/html": [
              "<img src=\"https://upload.wikimedia.org/wikipedia/commons/7/7f/Depth-First-Search.gif\"/>"
            ]
          },
          "metadata": {},
          "execution_count": 48
        }
      ],
      "source": [
        "#NOT GRADED\n",
        "print('DFS:')\n",
        "I(url=dfsgif)"
      ]
    },
    {
      "cell_type": "markdown",
      "metadata": {
        "id": "wp6kU4RWyQw4"
      },
      "source": [
        "#### 4.1.2 Implement One Traversal\n",
        "\n",
        "To break down this process, let's think about how we would implement a single traversal of the graph. That is given the green node in the graph above, how are we going to get the blue nodes?\n",
        "\n",
        "\n",
        "Consider the simple graph below **which is different from the graph in the image above**:"
      ]
    },
    {
      "cell_type": "code",
      "execution_count": 49,
      "metadata": {
        "id": "VZV6fQIxyaww",
        "colab": {
          "base_uri": "https://localhost:8080/"
        },
        "outputId": "c8ccb465-a3ec-41f2-88b5-496679277933"
      },
      "outputs": [
        {
          "output_type": "stream",
          "name": "stdout",
          "text": [
            "+---------+-------+\n",
            "|from_node|to_node|\n",
            "+---------+-------+\n",
            "|        A|      B|\n",
            "|        A|      C|\n",
            "|        A|      D|\n",
            "|        C|      F|\n",
            "|        F|      A|\n",
            "|        B|      G|\n",
            "|        G|      H|\n",
            "|        D|      E|\n",
            "+---------+-------+\n",
            "\n"
          ]
        }
      ],
      "source": [
        "spark.conf.set(\"spark.sql.execution.arrow.enabled\", \"true\")\n",
        "\n",
        "simple = [('A', 'B'),\n",
        "         ('A', 'C'),\n",
        "         ('A', 'D'),\n",
        "         ('C', 'F'),\n",
        "         ('F', 'A'),\n",
        "         ('B', 'G'),\n",
        "         ('G', 'H'),\n",
        "         ('D', 'E')]\n",
        "\n",
        "simple_dict = {'from_node': ['A', 'A', 'A', 'C', 'F', 'B', 'G', 'D'],\n",
        "       'to_node': ['B', 'C', 'D', 'F', 'A', 'G', 'H', 'E']}\n",
        "\n",
        "simple_graph_df = pd.DataFrame.from_dict(simple_dict)\n",
        "simple_graph_sdf = spark.createDataFrame(simple_graph_df)\n",
        "simple_graph_sdf.show()"
      ]
    },
    {
      "cell_type": "markdown",
      "metadata": {
        "id": "MQuo6wH-yr9D"
      },
      "source": [
        "As you can see, each row of this dataframe represents an edge between two nodes Here, we are looking at a **directed graph**, which means that A-->B  does not represent the same edge as B-->A.\n",
        "\n",
        "Let's define our starting node as follows:"
      ]
    },
    {
      "cell_type": "code",
      "execution_count": 50,
      "metadata": {
        "id": "jmaJlqRuzEEv"
      },
      "outputs": [],
      "source": [
        "smallOrig = [{'node': 'A'}]"
      ]
    },
    {
      "cell_type": "markdown",
      "metadata": {
        "id": "g6hLLqHdzHmy"
      },
      "source": [
        "Then, bfs with graph G, starting from smallOrig to depth 1, or  **spark_bfs(G, smallOrig, 1)** would output as follows:"
      ]
    },
    {
      "cell_type": "code",
      "execution_count": 51,
      "metadata": {
        "id": "MSWF2e-YzIud",
        "colab": {
          "base_uri": "https://localhost:8080/"
        },
        "outputId": "61e2899c-b7cb-4299-e7c0-5c8ba976be72"
      },
      "outputs": [
        {
          "output_type": "stream",
          "name": "stdout",
          "text": [
            "+----+--------+\n",
            "|node|distance|\n",
            "+----+--------+\n",
            "|   B|       1|\n",
            "|   D|       1|\n",
            "|   C|       1|\n",
            "|   A|       0|\n",
            "+----+--------+\n",
            "\n"
          ]
        }
      ],
      "source": [
        "simple_1_round_dict = {'node': ['B', 'D', 'C', 'A'],\n",
        "       'distance': [1, 1, 1, 0]}\n",
        "simple_1_round_bfs_df = pd.DataFrame.from_dict(simple_1_round_dict)\n",
        "simple_1_round_bfs_sdf = spark.createDataFrame(simple_1_round_bfs_df)\n",
        "# spark1\n",
        "simple_1_round_bfs_sdf.show()"
      ]
    },
    {
      "cell_type": "markdown",
      "metadata": {
        "id": "eL9Jx1BLzZME"
      },
      "source": [
        "As you can see, this dataframe logs each node with its corresponding distance away from A. Moreover, we also know that these nodes are **visited**. \n",
        "\n",
        "Hopefully, you can see how we can use our original graph and this new information to find the nodes at depth two. \n",
        "\n",
        "This is exactly what we will try to accomplish with **spark_bfs_1_round(visited_nodes)** which will ultimately be the inner function of **spark_bfs** that we use to perform exactly one traversal of a graph.\n",
        "\n",
        "**TODO**: Write **spark_bfs_1_round(visted_nodes)** that takes the currently dataframe of visited_nodes, performs one round of BFS, and returns an updated visited nodes dataframe. You should assume that a temporary sdf G already exists."
      ]
    },
    {
      "cell_type": "code",
      "execution_count": 73,
      "metadata": {
        "id": "vZcC22Bfzi6F"
      },
      "outputs": [],
      "source": [
        "simple_graph_sdf.createOrReplaceTempView(\"G\")\n",
        "def spark_bfs_1_round(visited_nodes):\n",
        "  \"\"\"\n",
        "  :param visited_nodes: dataframe with columns node and distance\n",
        "  :return: dataframe of updated visuted nodes, with columns node and distance\n",
        "  \"\"\"\n",
        "  # TODO: Complete this function to implement 1 round of BFS\n",
        "  visited_nodes.createOrReplaceTempView(\"visited_nodes\")\n",
        "  query = '''\n",
        "          SELECT to_node AS node, distance + 1 AS distance FROM visited_nodes\n",
        "          LEFT JOIN G ON visited_nodes.node = G.from_node\n",
        "          WHERE to_node IS NOT NULL\n",
        "          UNION \n",
        "          SELECT * FROM visited_nodes\n",
        "          WHERE distance = 0 \n",
        "  '''\n",
        "  visited_nodes = spark.sql(query)\n",
        "  spark.catalog.dropTempView(\"visited_nodes\")\n",
        "  return visited_nodes"
      ]
    },
    {
      "cell_type": "markdown",
      "metadata": {
        "id": "VDY1lkNtz3zX"
      },
      "source": [
        "Now, run the inner function on **simple_1_round_bfs_sdf** (i.e. result of 1 round of BFS on the simple graph) and store the results in **simple_bfs_result**. This is ultimately what the output of BFS to depth 2 should look like."
      ]
    },
    {
      "cell_type": "code",
      "execution_count": 74,
      "metadata": {
        "id": "TxNEr82Z0EYY",
        "colab": {
          "base_uri": "https://localhost:8080/"
        },
        "outputId": "a950ad70-7552-4467-ee35-c9da1838dd89"
      },
      "outputs": [
        {
          "output_type": "stream",
          "name": "stdout",
          "text": [
            "+----+--------+\n",
            "|node|distance|\n",
            "+----+--------+\n",
            "|   G|       2|\n",
            "|   E|       2|\n",
            "|   F|       2|\n",
            "|   B|       1|\n",
            "|   C|       1|\n",
            "|   D|       1|\n",
            "|   A|       0|\n",
            "+----+--------+\n",
            "\n"
          ]
        }
      ],
      "source": [
        "# TODO: Run spark_bfs_1_round on simple_1_round_bfs_sdf\n",
        "simple_bfs_result = spark_bfs_1_round(simple_1_round_bfs_sdf)\n",
        "simple_bfs_result.show()\n"
      ]
    },
    {
      "cell_type": "markdown",
      "metadata": {
        "id": "IJMBU6I50Ls6"
      },
      "source": [
        "Convert this result to Pandas, sorted by the node (ascending), and submit it to the autograder.\n",
        "\n",
        "**HINT:** Make sure distance is formatted as a number!"
      ]
    },
    {
      "cell_type": "code",
      "execution_count": 75,
      "metadata": {
        "id": "DltsLEUz0PUg",
        "colab": {
          "base_uri": "https://localhost:8080/",
          "height": 269
        },
        "outputId": "596b1615-226b-4972-9caf-a4be8f4c192e"
      },
      "outputs": [
        {
          "output_type": "execute_result",
          "data": {
            "text/plain": [
              "  node  distance\n",
              "6    A         0\n",
              "3    B         1\n",
              "4    C         1\n",
              "5    D         1\n",
              "1    E         2\n",
              "2    F         2\n",
              "0    G         2"
            ],
            "text/html": [
              "\n",
              "  <div id=\"df-517bd705-6349-40ad-b101-06783134bb6c\">\n",
              "    <div class=\"colab-df-container\">\n",
              "      <div>\n",
              "<style scoped>\n",
              "    .dataframe tbody tr th:only-of-type {\n",
              "        vertical-align: middle;\n",
              "    }\n",
              "\n",
              "    .dataframe tbody tr th {\n",
              "        vertical-align: top;\n",
              "    }\n",
              "\n",
              "    .dataframe thead th {\n",
              "        text-align: right;\n",
              "    }\n",
              "</style>\n",
              "<table border=\"1\" class=\"dataframe\">\n",
              "  <thead>\n",
              "    <tr style=\"text-align: right;\">\n",
              "      <th></th>\n",
              "      <th>node</th>\n",
              "      <th>distance</th>\n",
              "    </tr>\n",
              "  </thead>\n",
              "  <tbody>\n",
              "    <tr>\n",
              "      <th>6</th>\n",
              "      <td>A</td>\n",
              "      <td>0</td>\n",
              "    </tr>\n",
              "    <tr>\n",
              "      <th>3</th>\n",
              "      <td>B</td>\n",
              "      <td>1</td>\n",
              "    </tr>\n",
              "    <tr>\n",
              "      <th>4</th>\n",
              "      <td>C</td>\n",
              "      <td>1</td>\n",
              "    </tr>\n",
              "    <tr>\n",
              "      <th>5</th>\n",
              "      <td>D</td>\n",
              "      <td>1</td>\n",
              "    </tr>\n",
              "    <tr>\n",
              "      <th>1</th>\n",
              "      <td>E</td>\n",
              "      <td>2</td>\n",
              "    </tr>\n",
              "    <tr>\n",
              "      <th>2</th>\n",
              "      <td>F</td>\n",
              "      <td>2</td>\n",
              "    </tr>\n",
              "    <tr>\n",
              "      <th>0</th>\n",
              "      <td>G</td>\n",
              "      <td>2</td>\n",
              "    </tr>\n",
              "  </tbody>\n",
              "</table>\n",
              "</div>\n",
              "      <button class=\"colab-df-convert\" onclick=\"convertToInteractive('df-517bd705-6349-40ad-b101-06783134bb6c')\"\n",
              "              title=\"Convert this dataframe to an interactive table.\"\n",
              "              style=\"display:none;\">\n",
              "        \n",
              "  <svg xmlns=\"http://www.w3.org/2000/svg\" height=\"24px\"viewBox=\"0 0 24 24\"\n",
              "       width=\"24px\">\n",
              "    <path d=\"M0 0h24v24H0V0z\" fill=\"none\"/>\n",
              "    <path d=\"M18.56 5.44l.94 2.06.94-2.06 2.06-.94-2.06-.94-.94-2.06-.94 2.06-2.06.94zm-11 1L8.5 8.5l.94-2.06 2.06-.94-2.06-.94L8.5 2.5l-.94 2.06-2.06.94zm10 10l.94 2.06.94-2.06 2.06-.94-2.06-.94-.94-2.06-.94 2.06-2.06.94z\"/><path d=\"M17.41 7.96l-1.37-1.37c-.4-.4-.92-.59-1.43-.59-.52 0-1.04.2-1.43.59L10.3 9.45l-7.72 7.72c-.78.78-.78 2.05 0 2.83L4 21.41c.39.39.9.59 1.41.59.51 0 1.02-.2 1.41-.59l7.78-7.78 2.81-2.81c.8-.78.8-2.07 0-2.86zM5.41 20L4 18.59l7.72-7.72 1.47 1.35L5.41 20z\"/>\n",
              "  </svg>\n",
              "      </button>\n",
              "      \n",
              "  <style>\n",
              "    .colab-df-container {\n",
              "      display:flex;\n",
              "      flex-wrap:wrap;\n",
              "      gap: 12px;\n",
              "    }\n",
              "\n",
              "    .colab-df-convert {\n",
              "      background-color: #E8F0FE;\n",
              "      border: none;\n",
              "      border-radius: 50%;\n",
              "      cursor: pointer;\n",
              "      display: none;\n",
              "      fill: #1967D2;\n",
              "      height: 32px;\n",
              "      padding: 0 0 0 0;\n",
              "      width: 32px;\n",
              "    }\n",
              "\n",
              "    .colab-df-convert:hover {\n",
              "      background-color: #E2EBFA;\n",
              "      box-shadow: 0px 1px 2px rgba(60, 64, 67, 0.3), 0px 1px 3px 1px rgba(60, 64, 67, 0.15);\n",
              "      fill: #174EA6;\n",
              "    }\n",
              "\n",
              "    [theme=dark] .colab-df-convert {\n",
              "      background-color: #3B4455;\n",
              "      fill: #D2E3FC;\n",
              "    }\n",
              "\n",
              "    [theme=dark] .colab-df-convert:hover {\n",
              "      background-color: #434B5C;\n",
              "      box-shadow: 0px 1px 3px 1px rgba(0, 0, 0, 0.15);\n",
              "      filter: drop-shadow(0px 1px 2px rgba(0, 0, 0, 0.3));\n",
              "      fill: #FFFFFF;\n",
              "    }\n",
              "  </style>\n",
              "\n",
              "      <script>\n",
              "        const buttonEl =\n",
              "          document.querySelector('#df-517bd705-6349-40ad-b101-06783134bb6c button.colab-df-convert');\n",
              "        buttonEl.style.display =\n",
              "          google.colab.kernel.accessAllowed ? 'block' : 'none';\n",
              "\n",
              "        async function convertToInteractive(key) {\n",
              "          const element = document.querySelector('#df-517bd705-6349-40ad-b101-06783134bb6c');\n",
              "          const dataTable =\n",
              "            await google.colab.kernel.invokeFunction('convertToInteractive',\n",
              "                                                     [key], {});\n",
              "          if (!dataTable) return;\n",
              "\n",
              "          const docLinkHtml = 'Like what you see? Visit the ' +\n",
              "            '<a target=\"_blank\" href=https://colab.research.google.com/notebooks/data_table.ipynb>data table notebook</a>'\n",
              "            + ' to learn more about interactive tables.';\n",
              "          element.innerHTML = '';\n",
              "          dataTable['output_type'] = 'display_data';\n",
              "          await google.colab.output.renderOutput(dataTable, element);\n",
              "          const docLink = document.createElement('div');\n",
              "          docLink.innerHTML = docLinkHtml;\n",
              "          element.appendChild(docLink);\n",
              "        }\n",
              "      </script>\n",
              "    </div>\n",
              "  </div>\n",
              "  "
            ]
          },
          "metadata": {},
          "execution_count": 75
        }
      ],
      "source": [
        "# TODO: Convert simple_bfs_result to Pandas sorted by node\n",
        "simple_bfs_test = simple_bfs_result.toPandas()\n",
        "simple_bfs_test = simple_bfs_test.sort_values(by=['node'])\n",
        "simple_bfs_test"
      ]
    },
    {
      "cell_type": "code",
      "execution_count": 76,
      "metadata": {
        "id": "rKpFy0tU0R8t",
        "colab": {
          "base_uri": "https://localhost:8080/"
        },
        "outputId": "97eca897-fc92-4155-ca02-8cfa5ddeb3c2"
      },
      "outputs": [
        {
          "output_type": "stream",
          "name": "stdout",
          "text": [
            "Correct! You earned 6/6 points. You are a star!\n",
            "\n",
            "Your submission has been successfully recorded in the gradebook.\n"
          ]
        }
      ],
      "source": [
        "# 6 points\n",
        "grader.grade(test_case_id = 'checksimpleBFS', answer = simple_bfs_test)"
      ]
    },
    {
      "cell_type": "markdown",
      "metadata": {
        "id": "wUZugRR20T4F"
      },
      "source": [
        "#### 4.1.3 Full BFS Implementation\n",
        "\n",
        "Now, we will fully implement **spark_bfs**. This function should iteratively call your implemented version of **spark_bfs_1_round** and ultimately return the output of this function at **max_depth**.\n",
        "\n",
        "You are also responsible for initializing the starting dataframe, that is converting the list of origin nodes into a spark dataframe with the nodes logged at distance 0.\n",
        "\n",
        "Consider the following: \n",
        "\n",
        "```\n",
        "schema = StructType([\n",
        "            StructField(\"node\", StringType(), True)\n",
        "        ])\n",
        "\n",
        "    my_sdf = spark.createDataFrame(origins, schema)\n",
        "```\n",
        "\n",
        "The schema ultimately specifies the structure of the Spark DataFrame with a string `node` column. It then calls **spark.createDataFrame** to map this schema to the **origins** nodes. Also, you are responsible for ensuring that a view of your graph is available within this function. (Note: you will also need to add in a distance column)\n",
        "\n",
        "**TODO:** implement **spark_bfs(G,origins,max_depth)** and run on **teams_graph_sdf** initalized in 4.3. Note: you may want to run tests on the **simple_graph** example as the `teams_graph_sdf` will take quite some time to run.\n",
        "\n",
        "These imports might be useful: \n",
        "`from pyspark.sql.types import StructType, StructField, StringType, IntegerType`"
      ]
    },
    {
      "cell_type": "code",
      "execution_count": 83,
      "metadata": {
        "id": "TPaMfg6g2isS"
      },
      "outputs": [],
      "source": [
        "from pyspark.sql.types import StructType, StructField, StringType, IntegerType"
      ]
    },
    {
      "cell_type": "code",
      "execution_count": 86,
      "metadata": {
        "id": "2OpEOcsT1Vwu"
      },
      "outputs": [],
      "source": [
        "# TODO: iterative search over directed graph\n",
        "# Worth 5 points directly, but will be needed later\n",
        "# runs distributed BFS to a specified max depth\n",
        "# :param G: graph dataframe from 4.3\n",
        "# :param origins: list of origin nodes stored as {\"node\": nodeValue}\n",
        "# :param max_depth: integer value of max depth to run BFS to\n",
        "# :return: dataframe with columns node, distance of all visited nodes\n",
        "\n",
        "def spark_bfs(G, origins, max_depth):\n",
        "   G.createOrReplaceTempView(\"G\")\n",
        "   origins_dictionary = {'node': [origins[0].get('node')],\"distance\":[0]}\n",
        "   schema = StructType([\n",
        "            StructField(\"node\", StringType(), False),\n",
        "            StructField(\"distance\", IntegerType(), False)\n",
        "        ])\n",
        "   origins_df = pd.DataFrame.from_dict(origins_dictionary)\n",
        "   origin_sdf = spark.createDataFrame(origins_df, schema)\n",
        "\n",
        "   for count in range(max_depth):\n",
        "     origin_sdf = spark_bfs_1_round(origin_sdf)\n",
        "     count += 1\n",
        " \n",
        "   origin_word = origins[0].get('node')\n",
        "   sdf1 = origin_sdf.filter(((origin_sdf.node == origin_word ) & (origin_sdf.distance == 0)) | (origin_sdf.node != origin_word))\n",
        "   sdf1.createOrReplaceTempView(\"sdf\")\n",
        "   query = '''\n",
        "          SELECT node, min(distance) AS distance\n",
        "          FROM sdf\n",
        "          GROUP BY node\n",
        "          '''\n",
        "   final_sdf = spark.sql(query)\n",
        "\n",
        "   return  final_sdf"
      ]
    },
    {
      "cell_type": "markdown",
      "metadata": {
        "id": "7ZsmVVlE1r_v"
      },
      "source": [
        "Test that this function works on the simple example. "
      ]
    },
    {
      "cell_type": "code",
      "execution_count": 87,
      "metadata": {
        "id": "Ideb3M_c1t4N",
        "colab": {
          "base_uri": "https://localhost:8080/"
        },
        "outputId": "4af98ba6-e9c0-44fc-9e07-ff4dcd0c1720"
      },
      "outputs": [
        {
          "output_type": "stream",
          "name": "stdout",
          "text": [
            "+----+--------+\n",
            "|node|distance|\n",
            "+----+--------+\n",
            "|   F|       2|\n",
            "|   E|       2|\n",
            "|   B|       1|\n",
            "|   D|       1|\n",
            "|   C|       1|\n",
            "|   G|       2|\n",
            "|   H|       3|\n",
            "|   A|       0|\n",
            "+----+--------+\n",
            "\n"
          ]
        }
      ],
      "source": [
        "simple_bfs_iterative_result = spark_bfs(simple_graph_sdf, smallOrig, 3)\n",
        "simple_bfs_iterative_result.show()"
      ]
    },
    {
      "cell_type": "markdown",
      "metadata": {
        "id": "V6mLUZvAuwDK"
      },
      "source": [
        "### Step 4.2: History of the Super Bowl"
      ]
    },
    {
      "cell_type": "markdown",
      "metadata": {
        "id": "HUJ49VklGB92"
      },
      "source": [
        "Time to look at the Super Bowl history dataset. Here we have data for all Super Bowls from 1967 to 2020. Let's load the data to **superbowl_sdf** and see how it looks."
      ]
    },
    {
      "cell_type": "markdown",
      "metadata": {
        "id": "OFT-guWHa4iU"
      },
      "source": [
        "Download the `superbowl.csv` dataset from [here](https://drive.google.com/file/d/1QFLg2hvrjOi_QpDnKb0rWiszvP-g6txo/view?usp=sharing), and upload it to the content folder of this Colab notebook."
      ]
    },
    {
      "cell_type": "code",
      "execution_count": 88,
      "metadata": {
        "id": "ih_KUCTAvvWo"
      },
      "outputs": [],
      "source": [
        "superbowl_sdf = spark.read.csv(\"superbowl.csv\", header=True)"
      ]
    },
    {
      "cell_type": "code",
      "execution_count": 89,
      "metadata": {
        "id": "FMy3cSNTvvnF",
        "colab": {
          "base_uri": "https://localhost:8080/"
        },
        "outputId": "59772179-e253-425f-e47d-f152603fa561"
      },
      "outputs": [
        {
          "output_type": "stream",
          "name": "stdout",
          "text": [
            "+-----------+------------+--------------------+----------+--------------------+---------+---------------+--------------------+---------------+----------+\n",
            "|       Date|          SB|              Winner|Winner Pts|               Loser|Loser Pts|            MVP|             Stadium|           City|     State|\n",
            "+-----------+------------+--------------------+----------+--------------------+---------+---------------+--------------------+---------------+----------+\n",
            "| Feb 2 2020|    LIV (54)|  Kansas City Chiefs|        31| San Francisco 49ers|       20|Patrick Mahomes|   Hard Rock Stadium|  Miami Gardens|   Florida|\n",
            "| Feb 3 2019|   LIII (53)|New England Patriots|        13|    Los Angeles Rams|        3| Julian Edelman|Mercedes-Benz Sta...|        Atlanta|   Georgia|\n",
            "| Feb 4 2018|    LII (52)| Philadelphia Eagles|        41|New England Patriots|       33|     Nick Foles|   U.S. Bank Stadium|    Minneapolis| Minnesota|\n",
            "| Feb 5 2017|     LI (51)|New England Patriots|        34|     Atlanta Falcons|       28|      Tom Brady|         NRG Stadium|        Houston|     Texas|\n",
            "| Feb 7 2016|          50|      Denver Broncos|        24|   Carolina Panthers|       10|     Von Miller|      Levi's Stadium|    Santa Clara|California|\n",
            "| Feb 1 2015|   XLIX (49)|New England Patriots|        28|    Seattle Seahawks|       24|      Tom Brady|University of Pho...|       Glendale|   Arizona|\n",
            "| Feb 2 2014| XLVIII (48)|    Seattle Seahawks|        43|      Denver Broncos|        8|  Malcolm Smith|     MetLife Stadium|East Rutherford|New Jersey|\n",
            "| Feb 3 2013|  XLVII (47)|    Baltimore Ravens|        34| San Francisco 49ers|       31|     Joe Flacco|Mercedes-Benz Sup...|    New Orleans| Louisiana|\n",
            "| Feb 5 2012|   XLVI (46)|     New York Giants|        21|New England Patriots|       17|    Eli Manning|   Lucas Oil Stadium|   Indianapolis|   Indiana|\n",
            "| Feb 6 2011|    XLV (45)|   Green Bay Packers|        31| Pittsburgh Steelers|       25|  Aaron Rodgers|     Cowboys Stadium|      Arlington|     Texas|\n",
            "| Feb 7 2010|   XLIV (44)|  New Orleans Saints|        31|  Indianapolis Colts|       17|     Drew Brees|    Sun Life Stadium|  Miami Gardens|   Florida|\n",
            "| Feb 1 2009|  XLIII (43)| Pittsburgh Steelers|        27|   Arizona Cardinals|       23|Santonio Holmes|Raymond James Sta...|          Tampa|   Florida|\n",
            "| Feb 3 2008|   XLII (42)|     New York Giants|        17|New England Patriots|       14|    Eli Manning|University of Pho...|       Glendale|   Arizona|\n",
            "| Feb 4 2007|    XLI (41)|  Indianapolis Colts|        29|       Chicago Bears|       17| Peyton Manning|     Dolphin Stadium|  Miami Gardens|   Florida|\n",
            "| Feb 5 2006|     XL (40)| Pittsburgh Steelers|        21|    Seattle Seahawks|       10|     Hines Ward|          Ford Field|        Detroit|  Michigan|\n",
            "| Feb 6 2005|  XXXIX (39)|New England Patriots|        24| Philadelphia Eagles|       21|   Deion Branch|      Alltel Stadium|   Jacksonville|   Florida|\n",
            "| Feb 1 2004|XXXVIII (38)|New England Patriots|        32|   Carolina Panthers|       29|      Tom Brady|     Reliant Stadium|        Houston|     Texas|\n",
            "|Jan 26 2003| XXXVII (37)|Tampa Bay Buccaneers|        48|     Oakland Raiders|       21| Dexter Jackson|    Qualcomm Stadium|      San Diego|California|\n",
            "| Feb 3 2002|  XXXVI (36)|New England Patriots|        20|      St. Louis Rams|       17|      Tom Brady| Louisiana Superdome|    New Orleans| Louisiana|\n",
            "|Jan 28 2001|   XXXV (35)|    Baltimore Ravens|        34|     New York Giants|        7|     Ray Lewis+|Raymond James Sta...|          Tampa|   Florida|\n",
            "+-----------+------------+--------------------+----------+--------------------+---------+---------------+--------------------+---------------+----------+\n",
            "only showing top 20 rows\n",
            "\n"
          ]
        }
      ],
      "source": [
        "superbowl_sdf.show()"
      ]
    },
    {
      "cell_type": "markdown",
      "metadata": {
        "id": "RUxD2OD0GeYE"
      },
      "source": [
        "Do you know which teams have been the most successful during this period? Let's find out!\n",
        "\n",
        "**TODO:** Calculate the number of times each team appears in the *Winner* column, and store this **count_sdf**. This should have two columns: *Winner* and *win_count*."
      ]
    },
    {
      "cell_type": "code",
      "execution_count": 90,
      "metadata": {
        "id": "LwDGFymQv66L",
        "colab": {
          "base_uri": "https://localhost:8080/"
        },
        "outputId": "907f6dd3-efb6-4f36-99aa-7c0eece490f9"
      },
      "outputs": [
        {
          "output_type": "stream",
          "name": "stdout",
          "text": [
            "+--------------------+---------+\n",
            "|              Winner|win_count|\n",
            "+--------------------+---------+\n",
            "| San Francisco 49ers|        5|\n",
            "|     Baltimore Colts|        1|\n",
            "|Tampa Bay Buccaneers|        1|\n",
            "|New England Patriots|        6|\n",
            "|  Kansas City Chiefs|        2|\n",
            "| Philadelphia Eagles|        1|\n",
            "|  Indianapolis Colts|        1|\n",
            "|       New York Jets|        1|\n",
            "|       Chicago Bears|        1|\n",
            "|      Miami Dolphins|        2|\n",
            "|     Oakland Raiders|        2|\n",
            "|   Green Bay Packers|        4|\n",
            "|      Denver Broncos|        3|\n",
            "|      Dallas Cowboys|        5|\n",
            "|  New Orleans Saints|        1|\n",
            "| Washington Redskins|        3|\n",
            "|    Seattle Seahawks|        1|\n",
            "|    Baltimore Ravens|        2|\n",
            "| Pittsburgh Steelers|        6|\n",
            "| Los Angeles Raiders|        1|\n",
            "+--------------------+---------+\n",
            "only showing top 20 rows\n",
            "\n"
          ]
        }
      ],
      "source": [
        "# TODO\n",
        "superbowl_sdf.createOrReplaceTempView(\"superbowl\")\n",
        "\n",
        "query = '''\n",
        "        SELECT Winner, count(Winner) AS win_count\n",
        "        FROM superbowl\n",
        "        GROUP BY Winner\n",
        "         '''\n",
        "count_sdf = spark.sql(query)\n",
        "count_sdf.show()\n",
        "\n"
      ]
    },
    {
      "cell_type": "markdown",
      "metadata": {
        "id": "Qpjvw2j3I9Nt"
      },
      "source": [
        "Convert the dataframe to pandas and pass it to the grader."
      ]
    },
    {
      "cell_type": "code",
      "execution_count": 91,
      "metadata": {
        "id": "FJ_GNxFeIvH6"
      },
      "outputs": [],
      "source": [
        "count_df= count_sdf.toPandas()\n",
        "to_submit = pd.read_json(count_df.to_json())"
      ]
    },
    {
      "cell_type": "code",
      "execution_count": 92,
      "metadata": {
        "id": "0y-AIOxyH3s-",
        "colab": {
          "base_uri": "https://localhost:8080/"
        },
        "outputId": "8ff8795d-4926-42d9-a45f-b68a0d05f52d"
      },
      "outputs": [
        {
          "output_type": "stream",
          "name": "stdout",
          "text": [
            "Correct! You earned 3/3 points. You are a star!\n",
            "\n",
            "Your submission has been successfully recorded in the gradebook.\n"
          ]
        }
      ],
      "source": [
        "# 3 points\n",
        "grader.grade(test_case_id = 'checkSuperBowlCount', answer = count_df)"
      ]
    },
    {
      "cell_type": "markdown",
      "metadata": {
        "id": "NDQHXODMI35m"
      },
      "source": [
        "Now that we have the Super Bowl dataset, let's convert it to a graph sdf just like the one we had in section 4.1 (P.S. it's not as hard as it sounds).\n",
        "\n",
        "**TODO:** Create **teams_graph_sdf** that has the columns *from_node* and *to_node*. from_node has all the entries from the *Winner* column and to_node has all the entries from the *Loser* column."
      ]
    },
    {
      "cell_type": "code",
      "execution_count": 93,
      "metadata": {
        "id": "N85KxevSv4ei",
        "colab": {
          "base_uri": "https://localhost:8080/"
        },
        "outputId": "644dddad-282d-468c-cca9-0348ce91c9ae"
      },
      "outputs": [
        {
          "output_type": "stream",
          "name": "stdout",
          "text": [
            "+--------------------+--------------------+\n",
            "|           from_node|             to_node|\n",
            "+--------------------+--------------------+\n",
            "|  Kansas City Chiefs| San Francisco 49ers|\n",
            "|New England Patriots|    Los Angeles Rams|\n",
            "| Philadelphia Eagles|New England Patriots|\n",
            "|New England Patriots|     Atlanta Falcons|\n",
            "|      Denver Broncos|   Carolina Panthers|\n",
            "|New England Patriots|    Seattle Seahawks|\n",
            "|    Seattle Seahawks|      Denver Broncos|\n",
            "|    Baltimore Ravens| San Francisco 49ers|\n",
            "|     New York Giants|New England Patriots|\n",
            "|   Green Bay Packers| Pittsburgh Steelers|\n",
            "|  New Orleans Saints|  Indianapolis Colts|\n",
            "| Pittsburgh Steelers|   Arizona Cardinals|\n",
            "|     New York Giants|New England Patriots|\n",
            "|  Indianapolis Colts|       Chicago Bears|\n",
            "| Pittsburgh Steelers|    Seattle Seahawks|\n",
            "|New England Patriots| Philadelphia Eagles|\n",
            "|New England Patriots|   Carolina Panthers|\n",
            "|Tampa Bay Buccaneers|     Oakland Raiders|\n",
            "|New England Patriots|      St. Louis Rams|\n",
            "|    Baltimore Ravens|     New York Giants|\n",
            "+--------------------+--------------------+\n",
            "only showing top 20 rows\n",
            "\n"
          ]
        }
      ],
      "source": [
        "# teams_graph_sdf = ...\n",
        "\n",
        "superbowl_sdf.createOrReplaceTempView(\"superbowl\")\n",
        "\n",
        "query = '''\n",
        "        SELECT Winner AS `from_node`, Loser AS `to_node`\n",
        "        FROM superbowl\n",
        "\n",
        "         '''\n",
        "\n",
        "teams_graph_sdf = spark.sql(query)\n",
        "teams_graph_sdf.show()\n",
        "teams_graph_df= teams_graph_sdf.toPandas()\n",
        "to_submit = pd.read_json(teams_graph_df.to_json())"
      ]
    },
    {
      "cell_type": "code",
      "execution_count": 94,
      "metadata": {
        "id": "sQrBW1FcMNEP",
        "colab": {
          "base_uri": "https://localhost:8080/"
        },
        "outputId": "367f5e75-4f6e-431a-804a-3336ecca56e4"
      },
      "outputs": [
        {
          "output_type": "stream",
          "name": "stdout",
          "text": [
            "Correct! You earned 2/2 points. You are a star!\n",
            "\n",
            "Your submission has been successfully recorded in the gradebook.\n"
          ]
        }
      ],
      "source": [
        "# 2 points\n",
        "grader.grade(test_case_id = 'checkSuperBowlGraph', answer = teams_graph_sdf.toPandas())"
      ]
    },
    {
      "cell_type": "markdown",
      "metadata": {
        "id": "C5hCeztRMe2D"
      },
      "source": [
        "We have our graph ready! All that's left is running full BFS on it find the Super Bacons."
      ]
    },
    {
      "cell_type": "markdown",
      "metadata": {
        "id": "HYMybeI82fgC"
      },
      "source": [
        "### Step 4.3: The Super Bacon Search"
      ]
    },
    {
      "cell_type": "markdown",
      "metadata": {
        "id": "oQyp_EjeM_16"
      },
      "source": [
        "In the previous section, we found out that the New England Patriots and the Pittsburgh Steelers have been the most successful teams in the 54 years. So let's find out the Super Bacons of teams with respect to the New England Patriots."
      ]
    },
    {
      "cell_type": "markdown",
      "metadata": {
        "id": "W4iQD5nJOrJy"
      },
      "source": [
        "First, we'll create an origin node using the New England Patriots."
      ]
    },
    {
      "cell_type": "code",
      "execution_count": 95,
      "metadata": {
        "id": "YolRMKEl2xJG"
      },
      "outputs": [],
      "source": [
        "orig = [{'node': 'New England Patriots'}]"
      ]
    },
    {
      "cell_type": "markdown",
      "metadata": {
        "id": "rw_lX0nPPoYT"
      },
      "source": [
        "Now, run the **spark_bfs()** function on **teams_graph_sdf** using this origin node and a max depth of 5. Store the result in **bfs_5**."
      ]
    },
    {
      "cell_type": "code",
      "execution_count": 96,
      "metadata": {
        "id": "rGG2g_dWPmG-"
      },
      "outputs": [],
      "source": [
        "bfs_5 = spark_bfs(teams_graph_sdf, orig, 5)"
      ]
    },
    {
      "cell_type": "code",
      "execution_count": 97,
      "metadata": {
        "id": "L3nwp0ly20oD",
        "colab": {
          "base_uri": "https://localhost:8080/"
        },
        "outputId": "951bbdb6-9f0d-413d-82e9-0822feb72e2e"
      },
      "outputs": [
        {
          "output_type": "stream",
          "name": "stdout",
          "text": [
            "+--------------------+--------+\n",
            "|                node|distance|\n",
            "+--------------------+--------+\n",
            "| San Francisco 49ers|       5|\n",
            "|    Tennessee Titans|       2|\n",
            "|   Arizona Cardinals|       5|\n",
            "|  Kansas City Chiefs|       4|\n",
            "| Philadelphia Eagles|       1|\n",
            "|     Oakland Raiders|       4|\n",
            "|     Atlanta Falcons|       1|\n",
            "|   Green Bay Packers|       3|\n",
            "|   Carolina Panthers|       1|\n",
            "|      Denver Broncos|       2|\n",
            "|      Dallas Cowboys|       5|\n",
            "|    Los Angeles Rams|       1|\n",
            "|    Seattle Seahawks|       1|\n",
            "| Pittsburgh Steelers|       4|\n",
            "|   Minnesota Vikings|       5|\n",
            "|      St. Louis Rams|       1|\n",
            "|New England Patriots|       0|\n",
            "+--------------------+--------+\n",
            "\n"
          ]
        }
      ],
      "source": [
        "bfs_5.show()"
      ]
    },
    {
      "cell_type": "markdown",
      "metadata": {
        "id": "gkmBQnFJQJjz"
      },
      "source": [
        "Converty the result to pandas, store it to answer_df and pass this to the grader."
      ]
    },
    {
      "cell_type": "code",
      "execution_count": 98,
      "metadata": {
        "id": "8VmoiLtK21Ru"
      },
      "outputs": [],
      "source": [
        "# TODO\n",
        "answer_df= bfs_5.toPandas()\n",
        "to_submit = pd.read_json(answer_df.to_json())"
      ]
    },
    {
      "cell_type": "code",
      "execution_count": 99,
      "metadata": {
        "id": "oCCXO6Wv4KNR",
        "colab": {
          "base_uri": "https://localhost:8080/"
        },
        "outputId": "a497cac0-2ef4-4f89-d524-17dcb981bc21"
      },
      "outputs": [
        {
          "output_type": "stream",
          "name": "stdout",
          "text": [
            "Correct! You earned 15/15 points. You are a star!\n",
            "\n",
            "Your submission has been successfully recorded in the gradebook.\n"
          ]
        }
      ],
      "source": [
        "# 15 points\n",
        "grader.grade(test_case_id = 'checkBFS', answer = answer_df)"
      ]
    },
    {
      "cell_type": "markdown",
      "metadata": {
        "id": "3dePHd9CQW-C"
      },
      "source": [
        "Voila! We're all done. Just like this NFL season, you've completed the homework."
      ]
    },
    {
      "cell_type": "markdown",
      "metadata": {
        "id": "4FJDDdPButTi"
      },
      "source": [
        "One last thing, as we predicted before, you're a star."
      ]
    },
    {
      "cell_type": "markdown",
      "metadata": {
        "id": "EHVFHPVIrvu1"
      },
      "source": [
        "# HW Submission\n",
        "\n",
        "Before you submit on Gradescope (you must submit your notebook to receive credit):\n",
        "\n",
        "\n",
        "1.   Restart and Run-All to make sure there's nothing wrong with your notebook\n",
        "2.   **Double check that you have the correct PennID (all numbers) in the autograder**. \n",
        "3. Make sure you've run all the PennGrader cells\n",
        "4. Go to the \"File\" tab at the top left, and click \"Download .ipynb\" and then \"Download .py\".  **Rename** the files to \"homework3.ipynb\" and \"homework3.py\" respectively and upload them to Gradescope \n",
        "\n",
        "**Let the course staff know ASAP if you have any issues submitting, but otherwise best of luck!**"
      ]
    }
  ],
  "metadata": {
    "colab": {
      "collapsed_sections": [],
      "name": "Copy of Spring 2022 Homework 3.ipynb",
      "provenance": []
    },
    "kernelspec": {
      "display_name": "Python 3",
      "name": "python3"
    },
    "widgets": {
      "application/vnd.jupyter.widget-state+json": {
        "a3acc7fa88a148e48c17ed47088aec89": {
          "model_module": "@jupyter-widgets/controls",
          "model_name": "FloatProgressModel",
          "model_module_version": "1.5.0",
          "state": {
            "_dom_classes": [],
            "_model_module": "@jupyter-widgets/controls",
            "_model_module_version": "1.5.0",
            "_model_name": "FloatProgressModel",
            "_view_count": null,
            "_view_module": "@jupyter-widgets/controls",
            "_view_module_version": "1.5.0",
            "_view_name": "ProgressView",
            "bar_style": "info",
            "description": "Progress:",
            "description_tooltip": null,
            "layout": "IPY_MODEL_8a307f4a2f3443c6a596199591c3db13",
            "max": 1,
            "min": 0,
            "orientation": "horizontal",
            "style": "IPY_MODEL_4424212841dc45b88a989bf006624686",
            "value": 0
          }
        },
        "8a307f4a2f3443c6a596199591c3db13": {
          "model_module": "@jupyter-widgets/base",
          "model_name": "LayoutModel",
          "model_module_version": "1.2.0",
          "state": {
            "_model_module": "@jupyter-widgets/base",
            "_model_module_version": "1.2.0",
            "_model_name": "LayoutModel",
            "_view_count": null,
            "_view_module": "@jupyter-widgets/base",
            "_view_module_version": "1.2.0",
            "_view_name": "LayoutView",
            "align_content": null,
            "align_items": null,
            "align_self": null,
            "border": null,
            "bottom": null,
            "display": null,
            "flex": null,
            "flex_flow": null,
            "grid_area": null,
            "grid_auto_columns": null,
            "grid_auto_flow": null,
            "grid_auto_rows": null,
            "grid_column": null,
            "grid_gap": null,
            "grid_row": null,
            "grid_template_areas": null,
            "grid_template_columns": null,
            "grid_template_rows": null,
            "height": "25px",
            "justify_content": null,
            "justify_items": null,
            "left": null,
            "margin": null,
            "max_height": null,
            "max_width": null,
            "min_height": null,
            "min_width": null,
            "object_fit": null,
            "object_position": null,
            "order": null,
            "overflow": null,
            "overflow_x": null,
            "overflow_y": null,
            "padding": null,
            "right": null,
            "top": null,
            "visibility": null,
            "width": "50%"
          }
        },
        "4424212841dc45b88a989bf006624686": {
          "model_module": "@jupyter-widgets/controls",
          "model_name": "ProgressStyleModel",
          "model_module_version": "1.5.0",
          "state": {
            "_model_module": "@jupyter-widgets/controls",
            "_model_module_version": "1.5.0",
            "_model_name": "ProgressStyleModel",
            "_view_count": null,
            "_view_module": "@jupyter-widgets/base",
            "_view_module_version": "1.2.0",
            "_view_name": "StyleView",
            "bar_color": null,
            "description_width": ""
          }
        },
        "4eaf4b5f773c4f00b1e3d4a114ab34d7": {
          "model_module": "@jupyter-widgets/controls",
          "model_name": "FloatProgressModel",
          "model_module_version": "1.5.0",
          "state": {
            "_dom_classes": [],
            "_model_module": "@jupyter-widgets/controls",
            "_model_module_version": "1.5.0",
            "_model_name": "FloatProgressModel",
            "_view_count": null,
            "_view_module": "@jupyter-widgets/controls",
            "_view_module_version": "1.5.0",
            "_view_name": "ProgressView",
            "bar_style": "info",
            "description": "Progress:",
            "description_tooltip": null,
            "layout": "IPY_MODEL_8615c3b2ae97402593b8e08671dd0f06",
            "max": 1,
            "min": 0,
            "orientation": "horizontal",
            "style": "IPY_MODEL_f260a4eb87464d5ca34f53235c7049cf",
            "value": 0
          }
        },
        "8615c3b2ae97402593b8e08671dd0f06": {
          "model_module": "@jupyter-widgets/base",
          "model_name": "LayoutModel",
          "model_module_version": "1.2.0",
          "state": {
            "_model_module": "@jupyter-widgets/base",
            "_model_module_version": "1.2.0",
            "_model_name": "LayoutModel",
            "_view_count": null,
            "_view_module": "@jupyter-widgets/base",
            "_view_module_version": "1.2.0",
            "_view_name": "LayoutView",
            "align_content": null,
            "align_items": null,
            "align_self": null,
            "border": null,
            "bottom": null,
            "display": null,
            "flex": null,
            "flex_flow": null,
            "grid_area": null,
            "grid_auto_columns": null,
            "grid_auto_flow": null,
            "grid_auto_rows": null,
            "grid_column": null,
            "grid_gap": null,
            "grid_row": null,
            "grid_template_areas": null,
            "grid_template_columns": null,
            "grid_template_rows": null,
            "height": "25px",
            "justify_content": null,
            "justify_items": null,
            "left": null,
            "margin": null,
            "max_height": null,
            "max_width": null,
            "min_height": null,
            "min_width": null,
            "object_fit": null,
            "object_position": null,
            "order": null,
            "overflow": null,
            "overflow_x": null,
            "overflow_y": null,
            "padding": null,
            "right": null,
            "top": null,
            "visibility": null,
            "width": "50%"
          }
        },
        "f260a4eb87464d5ca34f53235c7049cf": {
          "model_module": "@jupyter-widgets/controls",
          "model_name": "ProgressStyleModel",
          "model_module_version": "1.5.0",
          "state": {
            "_model_module": "@jupyter-widgets/controls",
            "_model_module_version": "1.5.0",
            "_model_name": "ProgressStyleModel",
            "_view_count": null,
            "_view_module": "@jupyter-widgets/base",
            "_view_module_version": "1.2.0",
            "_view_name": "StyleView",
            "bar_color": null,
            "description_width": ""
          }
        },
        "62aadc9076194e10a2348d1919fcaaff": {
          "model_module": "@jupyter-widgets/controls",
          "model_name": "FloatProgressModel",
          "model_module_version": "1.5.0",
          "state": {
            "_dom_classes": [],
            "_model_module": "@jupyter-widgets/controls",
            "_model_module_version": "1.5.0",
            "_model_name": "FloatProgressModel",
            "_view_count": null,
            "_view_module": "@jupyter-widgets/controls",
            "_view_module_version": "1.5.0",
            "_view_name": "ProgressView",
            "bar_style": "info",
            "description": "Progress:",
            "description_tooltip": null,
            "layout": "IPY_MODEL_e45afe6de0dc4463962963d2219827a8",
            "max": 1,
            "min": 0,
            "orientation": "horizontal",
            "style": "IPY_MODEL_1ca3d3ac7cc84c7fafb42ef43668f929",
            "value": 0
          }
        },
        "e45afe6de0dc4463962963d2219827a8": {
          "model_module": "@jupyter-widgets/base",
          "model_name": "LayoutModel",
          "model_module_version": "1.2.0",
          "state": {
            "_model_module": "@jupyter-widgets/base",
            "_model_module_version": "1.2.0",
            "_model_name": "LayoutModel",
            "_view_count": null,
            "_view_module": "@jupyter-widgets/base",
            "_view_module_version": "1.2.0",
            "_view_name": "LayoutView",
            "align_content": null,
            "align_items": null,
            "align_self": null,
            "border": null,
            "bottom": null,
            "display": null,
            "flex": null,
            "flex_flow": null,
            "grid_area": null,
            "grid_auto_columns": null,
            "grid_auto_flow": null,
            "grid_auto_rows": null,
            "grid_column": null,
            "grid_gap": null,
            "grid_row": null,
            "grid_template_areas": null,
            "grid_template_columns": null,
            "grid_template_rows": null,
            "height": "25px",
            "justify_content": null,
            "justify_items": null,
            "left": null,
            "margin": null,
            "max_height": null,
            "max_width": null,
            "min_height": null,
            "min_width": null,
            "object_fit": null,
            "object_position": null,
            "order": null,
            "overflow": null,
            "overflow_x": null,
            "overflow_y": null,
            "padding": null,
            "right": null,
            "top": null,
            "visibility": null,
            "width": "50%"
          }
        },
        "1ca3d3ac7cc84c7fafb42ef43668f929": {
          "model_module": "@jupyter-widgets/controls",
          "model_name": "ProgressStyleModel",
          "model_module_version": "1.5.0",
          "state": {
            "_model_module": "@jupyter-widgets/controls",
            "_model_module_version": "1.5.0",
            "_model_name": "ProgressStyleModel",
            "_view_count": null,
            "_view_module": "@jupyter-widgets/base",
            "_view_module_version": "1.2.0",
            "_view_name": "StyleView",
            "bar_color": null,
            "description_width": ""
          }
        },
        "5115ac9a781445a5870a2ec916184f35": {
          "model_module": "@jupyter-widgets/controls",
          "model_name": "FloatProgressModel",
          "model_module_version": "1.5.0",
          "state": {
            "_dom_classes": [],
            "_model_module": "@jupyter-widgets/controls",
            "_model_module_version": "1.5.0",
            "_model_name": "FloatProgressModel",
            "_view_count": null,
            "_view_module": "@jupyter-widgets/controls",
            "_view_module_version": "1.5.0",
            "_view_name": "ProgressView",
            "bar_style": "info",
            "description": "Progress:",
            "description_tooltip": null,
            "layout": "IPY_MODEL_6e23a7907011412bbbc9c3a04001702d",
            "max": 1,
            "min": 0,
            "orientation": "horizontal",
            "style": "IPY_MODEL_40ff4e73391b4b5fb5e8a33da11ee7a2",
            "value": 0
          }
        },
        "6e23a7907011412bbbc9c3a04001702d": {
          "model_module": "@jupyter-widgets/base",
          "model_name": "LayoutModel",
          "model_module_version": "1.2.0",
          "state": {
            "_model_module": "@jupyter-widgets/base",
            "_model_module_version": "1.2.0",
            "_model_name": "LayoutModel",
            "_view_count": null,
            "_view_module": "@jupyter-widgets/base",
            "_view_module_version": "1.2.0",
            "_view_name": "LayoutView",
            "align_content": null,
            "align_items": null,
            "align_self": null,
            "border": null,
            "bottom": null,
            "display": null,
            "flex": null,
            "flex_flow": null,
            "grid_area": null,
            "grid_auto_columns": null,
            "grid_auto_flow": null,
            "grid_auto_rows": null,
            "grid_column": null,
            "grid_gap": null,
            "grid_row": null,
            "grid_template_areas": null,
            "grid_template_columns": null,
            "grid_template_rows": null,
            "height": "25px",
            "justify_content": null,
            "justify_items": null,
            "left": null,
            "margin": null,
            "max_height": null,
            "max_width": null,
            "min_height": null,
            "min_width": null,
            "object_fit": null,
            "object_position": null,
            "order": null,
            "overflow": null,
            "overflow_x": null,
            "overflow_y": null,
            "padding": null,
            "right": null,
            "top": null,
            "visibility": null,
            "width": "50%"
          }
        },
        "40ff4e73391b4b5fb5e8a33da11ee7a2": {
          "model_module": "@jupyter-widgets/controls",
          "model_name": "ProgressStyleModel",
          "model_module_version": "1.5.0",
          "state": {
            "_model_module": "@jupyter-widgets/controls",
            "_model_module_version": "1.5.0",
            "_model_name": "ProgressStyleModel",
            "_view_count": null,
            "_view_module": "@jupyter-widgets/base",
            "_view_module_version": "1.2.0",
            "_view_name": "StyleView",
            "bar_color": null,
            "description_width": ""
          }
        },
        "4aaad07e9dbe41079a9ddf8e4a1a3b2c": {
          "model_module": "@jupyter-widgets/controls",
          "model_name": "FloatProgressModel",
          "model_module_version": "1.5.0",
          "state": {
            "_dom_classes": [],
            "_model_module": "@jupyter-widgets/controls",
            "_model_module_version": "1.5.0",
            "_model_name": "FloatProgressModel",
            "_view_count": null,
            "_view_module": "@jupyter-widgets/controls",
            "_view_module_version": "1.5.0",
            "_view_name": "ProgressView",
            "bar_style": "info",
            "description": "Progress:",
            "description_tooltip": null,
            "layout": "IPY_MODEL_6d84160af3a34393ab7c7863395c2238",
            "max": 1,
            "min": 0,
            "orientation": "horizontal",
            "style": "IPY_MODEL_ea07a6dc754444148973fdc31c65843c",
            "value": 0
          }
        },
        "6d84160af3a34393ab7c7863395c2238": {
          "model_module": "@jupyter-widgets/base",
          "model_name": "LayoutModel",
          "model_module_version": "1.2.0",
          "state": {
            "_model_module": "@jupyter-widgets/base",
            "_model_module_version": "1.2.0",
            "_model_name": "LayoutModel",
            "_view_count": null,
            "_view_module": "@jupyter-widgets/base",
            "_view_module_version": "1.2.0",
            "_view_name": "LayoutView",
            "align_content": null,
            "align_items": null,
            "align_self": null,
            "border": null,
            "bottom": null,
            "display": null,
            "flex": null,
            "flex_flow": null,
            "grid_area": null,
            "grid_auto_columns": null,
            "grid_auto_flow": null,
            "grid_auto_rows": null,
            "grid_column": null,
            "grid_gap": null,
            "grid_row": null,
            "grid_template_areas": null,
            "grid_template_columns": null,
            "grid_template_rows": null,
            "height": "25px",
            "justify_content": null,
            "justify_items": null,
            "left": null,
            "margin": null,
            "max_height": null,
            "max_width": null,
            "min_height": null,
            "min_width": null,
            "object_fit": null,
            "object_position": null,
            "order": null,
            "overflow": null,
            "overflow_x": null,
            "overflow_y": null,
            "padding": null,
            "right": null,
            "top": null,
            "visibility": null,
            "width": "50%"
          }
        },
        "ea07a6dc754444148973fdc31c65843c": {
          "model_module": "@jupyter-widgets/controls",
          "model_name": "ProgressStyleModel",
          "model_module_version": "1.5.0",
          "state": {
            "_model_module": "@jupyter-widgets/controls",
            "_model_module_version": "1.5.0",
            "_model_name": "ProgressStyleModel",
            "_view_count": null,
            "_view_module": "@jupyter-widgets/base",
            "_view_module_version": "1.2.0",
            "_view_name": "StyleView",
            "bar_color": null,
            "description_width": ""
          }
        },
        "609b4dd380234afd943c4aac8177ec85": {
          "model_module": "@jupyter-widgets/controls",
          "model_name": "FloatProgressModel",
          "model_module_version": "1.5.0",
          "state": {
            "_dom_classes": [],
            "_model_module": "@jupyter-widgets/controls",
            "_model_module_version": "1.5.0",
            "_model_name": "FloatProgressModel",
            "_view_count": null,
            "_view_module": "@jupyter-widgets/controls",
            "_view_module_version": "1.5.0",
            "_view_name": "ProgressView",
            "bar_style": "info",
            "description": "Progress:",
            "description_tooltip": null,
            "layout": "IPY_MODEL_a522987fc29344dabfac4a05eeb4053a",
            "max": 1,
            "min": 0,
            "orientation": "horizontal",
            "style": "IPY_MODEL_09eb001845e04fbfb88289c5291b130e",
            "value": 0
          }
        },
        "a522987fc29344dabfac4a05eeb4053a": {
          "model_module": "@jupyter-widgets/base",
          "model_name": "LayoutModel",
          "model_module_version": "1.2.0",
          "state": {
            "_model_module": "@jupyter-widgets/base",
            "_model_module_version": "1.2.0",
            "_model_name": "LayoutModel",
            "_view_count": null,
            "_view_module": "@jupyter-widgets/base",
            "_view_module_version": "1.2.0",
            "_view_name": "LayoutView",
            "align_content": null,
            "align_items": null,
            "align_self": null,
            "border": null,
            "bottom": null,
            "display": null,
            "flex": null,
            "flex_flow": null,
            "grid_area": null,
            "grid_auto_columns": null,
            "grid_auto_flow": null,
            "grid_auto_rows": null,
            "grid_column": null,
            "grid_gap": null,
            "grid_row": null,
            "grid_template_areas": null,
            "grid_template_columns": null,
            "grid_template_rows": null,
            "height": "25px",
            "justify_content": null,
            "justify_items": null,
            "left": null,
            "margin": null,
            "max_height": null,
            "max_width": null,
            "min_height": null,
            "min_width": null,
            "object_fit": null,
            "object_position": null,
            "order": null,
            "overflow": null,
            "overflow_x": null,
            "overflow_y": null,
            "padding": null,
            "right": null,
            "top": null,
            "visibility": null,
            "width": "50%"
          }
        },
        "09eb001845e04fbfb88289c5291b130e": {
          "model_module": "@jupyter-widgets/controls",
          "model_name": "ProgressStyleModel",
          "model_module_version": "1.5.0",
          "state": {
            "_model_module": "@jupyter-widgets/controls",
            "_model_module_version": "1.5.0",
            "_model_name": "ProgressStyleModel",
            "_view_count": null,
            "_view_module": "@jupyter-widgets/base",
            "_view_module_version": "1.2.0",
            "_view_name": "StyleView",
            "bar_color": null,
            "description_width": ""
          }
        },
        "e56749ef83d940b6bf3238aa89430806": {
          "model_module": "@jupyter-widgets/controls",
          "model_name": "FloatProgressModel",
          "model_module_version": "1.5.0",
          "state": {
            "_dom_classes": [],
            "_model_module": "@jupyter-widgets/controls",
            "_model_module_version": "1.5.0",
            "_model_name": "FloatProgressModel",
            "_view_count": null,
            "_view_module": "@jupyter-widgets/controls",
            "_view_module_version": "1.5.0",
            "_view_name": "ProgressView",
            "bar_style": "info",
            "description": "Progress:",
            "description_tooltip": null,
            "layout": "IPY_MODEL_f110c22b4ffd463d8dcf01d436e9eab0",
            "max": 1,
            "min": 0,
            "orientation": "horizontal",
            "style": "IPY_MODEL_dbaace18202e465fa1643d08613c7d49",
            "value": 0.6666666666666666
          }
        },
        "f110c22b4ffd463d8dcf01d436e9eab0": {
          "model_module": "@jupyter-widgets/base",
          "model_name": "LayoutModel",
          "model_module_version": "1.2.0",
          "state": {
            "_model_module": "@jupyter-widgets/base",
            "_model_module_version": "1.2.0",
            "_model_name": "LayoutModel",
            "_view_count": null,
            "_view_module": "@jupyter-widgets/base",
            "_view_module_version": "1.2.0",
            "_view_name": "LayoutView",
            "align_content": null,
            "align_items": null,
            "align_self": null,
            "border": null,
            "bottom": null,
            "display": null,
            "flex": null,
            "flex_flow": null,
            "grid_area": null,
            "grid_auto_columns": null,
            "grid_auto_flow": null,
            "grid_auto_rows": null,
            "grid_column": null,
            "grid_gap": null,
            "grid_row": null,
            "grid_template_areas": null,
            "grid_template_columns": null,
            "grid_template_rows": null,
            "height": "25px",
            "justify_content": null,
            "justify_items": null,
            "left": null,
            "margin": null,
            "max_height": null,
            "max_width": null,
            "min_height": null,
            "min_width": null,
            "object_fit": null,
            "object_position": null,
            "order": null,
            "overflow": null,
            "overflow_x": null,
            "overflow_y": null,
            "padding": null,
            "right": null,
            "top": null,
            "visibility": null,
            "width": "50%"
          }
        },
        "dbaace18202e465fa1643d08613c7d49": {
          "model_module": "@jupyter-widgets/controls",
          "model_name": "ProgressStyleModel",
          "model_module_version": "1.5.0",
          "state": {
            "_model_module": "@jupyter-widgets/controls",
            "_model_module_version": "1.5.0",
            "_model_name": "ProgressStyleModel",
            "_view_count": null,
            "_view_module": "@jupyter-widgets/base",
            "_view_module_version": "1.2.0",
            "_view_name": "StyleView",
            "bar_color": null,
            "description_width": ""
          }
        },
        "8b68b3797ae3403b86dc90c5a31392f5": {
          "model_module": "@jupyter-widgets/controls",
          "model_name": "FloatProgressModel",
          "model_module_version": "1.5.0",
          "state": {
            "_dom_classes": [],
            "_model_module": "@jupyter-widgets/controls",
            "_model_module_version": "1.5.0",
            "_model_name": "FloatProgressModel",
            "_view_count": null,
            "_view_module": "@jupyter-widgets/controls",
            "_view_module_version": "1.5.0",
            "_view_name": "ProgressView",
            "bar_style": "info",
            "description": "Progress:",
            "description_tooltip": null,
            "layout": "IPY_MODEL_0e82db17dc444c4e899cc7ce6b8e019a",
            "max": 1,
            "min": 0,
            "orientation": "horizontal",
            "style": "IPY_MODEL_0c9297198b604d80955a035c7ca8e8d8",
            "value": 0
          }
        },
        "0e82db17dc444c4e899cc7ce6b8e019a": {
          "model_module": "@jupyter-widgets/base",
          "model_name": "LayoutModel",
          "model_module_version": "1.2.0",
          "state": {
            "_model_module": "@jupyter-widgets/base",
            "_model_module_version": "1.2.0",
            "_model_name": "LayoutModel",
            "_view_count": null,
            "_view_module": "@jupyter-widgets/base",
            "_view_module_version": "1.2.0",
            "_view_name": "LayoutView",
            "align_content": null,
            "align_items": null,
            "align_self": null,
            "border": null,
            "bottom": null,
            "display": null,
            "flex": null,
            "flex_flow": null,
            "grid_area": null,
            "grid_auto_columns": null,
            "grid_auto_flow": null,
            "grid_auto_rows": null,
            "grid_column": null,
            "grid_gap": null,
            "grid_row": null,
            "grid_template_areas": null,
            "grid_template_columns": null,
            "grid_template_rows": null,
            "height": "25px",
            "justify_content": null,
            "justify_items": null,
            "left": null,
            "margin": null,
            "max_height": null,
            "max_width": null,
            "min_height": null,
            "min_width": null,
            "object_fit": null,
            "object_position": null,
            "order": null,
            "overflow": null,
            "overflow_x": null,
            "overflow_y": null,
            "padding": null,
            "right": null,
            "top": null,
            "visibility": null,
            "width": "50%"
          }
        },
        "0c9297198b604d80955a035c7ca8e8d8": {
          "model_module": "@jupyter-widgets/controls",
          "model_name": "ProgressStyleModel",
          "model_module_version": "1.5.0",
          "state": {
            "_model_module": "@jupyter-widgets/controls",
            "_model_module_version": "1.5.0",
            "_model_name": "ProgressStyleModel",
            "_view_count": null,
            "_view_module": "@jupyter-widgets/base",
            "_view_module_version": "1.2.0",
            "_view_name": "StyleView",
            "bar_color": null,
            "description_width": ""
          }
        },
        "62891430cea8435eb0a1b4e65d47b861": {
          "model_module": "@jupyter-widgets/controls",
          "model_name": "FloatProgressModel",
          "model_module_version": "1.5.0",
          "state": {
            "_dom_classes": [],
            "_model_module": "@jupyter-widgets/controls",
            "_model_module_version": "1.5.0",
            "_model_name": "FloatProgressModel",
            "_view_count": null,
            "_view_module": "@jupyter-widgets/controls",
            "_view_module_version": "1.5.0",
            "_view_name": "ProgressView",
            "bar_style": "info",
            "description": "Progress:",
            "description_tooltip": null,
            "layout": "IPY_MODEL_e1bb86c501e04e91976177a073635185",
            "max": 1,
            "min": 0,
            "orientation": "horizontal",
            "style": "IPY_MODEL_c94444bdaf86446282b98ad892b4286f",
            "value": 0.6666666666666666
          }
        },
        "e1bb86c501e04e91976177a073635185": {
          "model_module": "@jupyter-widgets/base",
          "model_name": "LayoutModel",
          "model_module_version": "1.2.0",
          "state": {
            "_model_module": "@jupyter-widgets/base",
            "_model_module_version": "1.2.0",
            "_model_name": "LayoutModel",
            "_view_count": null,
            "_view_module": "@jupyter-widgets/base",
            "_view_module_version": "1.2.0",
            "_view_name": "LayoutView",
            "align_content": null,
            "align_items": null,
            "align_self": null,
            "border": null,
            "bottom": null,
            "display": null,
            "flex": null,
            "flex_flow": null,
            "grid_area": null,
            "grid_auto_columns": null,
            "grid_auto_flow": null,
            "grid_auto_rows": null,
            "grid_column": null,
            "grid_gap": null,
            "grid_row": null,
            "grid_template_areas": null,
            "grid_template_columns": null,
            "grid_template_rows": null,
            "height": "25px",
            "justify_content": null,
            "justify_items": null,
            "left": null,
            "margin": null,
            "max_height": null,
            "max_width": null,
            "min_height": null,
            "min_width": null,
            "object_fit": null,
            "object_position": null,
            "order": null,
            "overflow": null,
            "overflow_x": null,
            "overflow_y": null,
            "padding": null,
            "right": null,
            "top": null,
            "visibility": null,
            "width": "50%"
          }
        },
        "c94444bdaf86446282b98ad892b4286f": {
          "model_module": "@jupyter-widgets/controls",
          "model_name": "ProgressStyleModel",
          "model_module_version": "1.5.0",
          "state": {
            "_model_module": "@jupyter-widgets/controls",
            "_model_module_version": "1.5.0",
            "_model_name": "ProgressStyleModel",
            "_view_count": null,
            "_view_module": "@jupyter-widgets/base",
            "_view_module_version": "1.2.0",
            "_view_name": "StyleView",
            "bar_color": null,
            "description_width": ""
          }
        },
        "86000c9940634ef4a53841b100f008b3": {
          "model_module": "@jupyter-widgets/controls",
          "model_name": "FloatProgressModel",
          "model_module_version": "1.5.0",
          "state": {
            "_dom_classes": [],
            "_model_module": "@jupyter-widgets/controls",
            "_model_module_version": "1.5.0",
            "_model_name": "FloatProgressModel",
            "_view_count": null,
            "_view_module": "@jupyter-widgets/controls",
            "_view_module_version": "1.5.0",
            "_view_name": "ProgressView",
            "bar_style": "info",
            "description": "Progress:",
            "description_tooltip": null,
            "layout": "IPY_MODEL_da7bd7fcc24247f1a9278765fb79175b",
            "max": 1,
            "min": 0,
            "orientation": "horizontal",
            "style": "IPY_MODEL_a603aec90fbf46abbb39b7d91a5766bf",
            "value": 0
          }
        },
        "da7bd7fcc24247f1a9278765fb79175b": {
          "model_module": "@jupyter-widgets/base",
          "model_name": "LayoutModel",
          "model_module_version": "1.2.0",
          "state": {
            "_model_module": "@jupyter-widgets/base",
            "_model_module_version": "1.2.0",
            "_model_name": "LayoutModel",
            "_view_count": null,
            "_view_module": "@jupyter-widgets/base",
            "_view_module_version": "1.2.0",
            "_view_name": "LayoutView",
            "align_content": null,
            "align_items": null,
            "align_self": null,
            "border": null,
            "bottom": null,
            "display": null,
            "flex": null,
            "flex_flow": null,
            "grid_area": null,
            "grid_auto_columns": null,
            "grid_auto_flow": null,
            "grid_auto_rows": null,
            "grid_column": null,
            "grid_gap": null,
            "grid_row": null,
            "grid_template_areas": null,
            "grid_template_columns": null,
            "grid_template_rows": null,
            "height": "25px",
            "justify_content": null,
            "justify_items": null,
            "left": null,
            "margin": null,
            "max_height": null,
            "max_width": null,
            "min_height": null,
            "min_width": null,
            "object_fit": null,
            "object_position": null,
            "order": null,
            "overflow": null,
            "overflow_x": null,
            "overflow_y": null,
            "padding": null,
            "right": null,
            "top": null,
            "visibility": null,
            "width": "50%"
          }
        },
        "a603aec90fbf46abbb39b7d91a5766bf": {
          "model_module": "@jupyter-widgets/controls",
          "model_name": "ProgressStyleModel",
          "model_module_version": "1.5.0",
          "state": {
            "_model_module": "@jupyter-widgets/controls",
            "_model_module_version": "1.5.0",
            "_model_name": "ProgressStyleModel",
            "_view_count": null,
            "_view_module": "@jupyter-widgets/base",
            "_view_module_version": "1.2.0",
            "_view_name": "StyleView",
            "bar_color": null,
            "description_width": ""
          }
        },
        "81e1e9c19c7b42038095ffd09c5e552b": {
          "model_module": "@jupyter-widgets/controls",
          "model_name": "FloatProgressModel",
          "model_module_version": "1.5.0",
          "state": {
            "_dom_classes": [],
            "_model_module": "@jupyter-widgets/controls",
            "_model_module_version": "1.5.0",
            "_model_name": "FloatProgressModel",
            "_view_count": null,
            "_view_module": "@jupyter-widgets/controls",
            "_view_module_version": "1.5.0",
            "_view_name": "ProgressView",
            "bar_style": "info",
            "description": "Progress:",
            "description_tooltip": null,
            "layout": "IPY_MODEL_2b65973827c74ffa9cf3de4f0e389549",
            "max": 1,
            "min": 0,
            "orientation": "horizontal",
            "style": "IPY_MODEL_850ec2afcb1a4e5dba32c930cebe4e7b",
            "value": 0.5
          }
        },
        "2b65973827c74ffa9cf3de4f0e389549": {
          "model_module": "@jupyter-widgets/base",
          "model_name": "LayoutModel",
          "model_module_version": "1.2.0",
          "state": {
            "_model_module": "@jupyter-widgets/base",
            "_model_module_version": "1.2.0",
            "_model_name": "LayoutModel",
            "_view_count": null,
            "_view_module": "@jupyter-widgets/base",
            "_view_module_version": "1.2.0",
            "_view_name": "LayoutView",
            "align_content": null,
            "align_items": null,
            "align_self": null,
            "border": null,
            "bottom": null,
            "display": null,
            "flex": null,
            "flex_flow": null,
            "grid_area": null,
            "grid_auto_columns": null,
            "grid_auto_flow": null,
            "grid_auto_rows": null,
            "grid_column": null,
            "grid_gap": null,
            "grid_row": null,
            "grid_template_areas": null,
            "grid_template_columns": null,
            "grid_template_rows": null,
            "height": "25px",
            "justify_content": null,
            "justify_items": null,
            "left": null,
            "margin": null,
            "max_height": null,
            "max_width": null,
            "min_height": null,
            "min_width": null,
            "object_fit": null,
            "object_position": null,
            "order": null,
            "overflow": null,
            "overflow_x": null,
            "overflow_y": null,
            "padding": null,
            "right": null,
            "top": null,
            "visibility": null,
            "width": "50%"
          }
        },
        "850ec2afcb1a4e5dba32c930cebe4e7b": {
          "model_module": "@jupyter-widgets/controls",
          "model_name": "ProgressStyleModel",
          "model_module_version": "1.5.0",
          "state": {
            "_model_module": "@jupyter-widgets/controls",
            "_model_module_version": "1.5.0",
            "_model_name": "ProgressStyleModel",
            "_view_count": null,
            "_view_module": "@jupyter-widgets/base",
            "_view_module_version": "1.2.0",
            "_view_name": "StyleView",
            "bar_color": null,
            "description_width": ""
          }
        },
        "195f312738514b6ca3ebc1e5e7a71af1": {
          "model_module": "@jupyter-widgets/controls",
          "model_name": "FloatProgressModel",
          "model_module_version": "1.5.0",
          "state": {
            "_dom_classes": [],
            "_model_module": "@jupyter-widgets/controls",
            "_model_module_version": "1.5.0",
            "_model_name": "FloatProgressModel",
            "_view_count": null,
            "_view_module": "@jupyter-widgets/controls",
            "_view_module_version": "1.5.0",
            "_view_name": "ProgressView",
            "bar_style": "info",
            "description": "Progress:",
            "description_tooltip": null,
            "layout": "IPY_MODEL_67269fe2e5254be2ae3a3a2fc9acd164",
            "max": 1,
            "min": 0,
            "orientation": "horizontal",
            "style": "IPY_MODEL_465f09b8d5354d3b92afccdbe30152f8",
            "value": 0
          }
        },
        "67269fe2e5254be2ae3a3a2fc9acd164": {
          "model_module": "@jupyter-widgets/base",
          "model_name": "LayoutModel",
          "model_module_version": "1.2.0",
          "state": {
            "_model_module": "@jupyter-widgets/base",
            "_model_module_version": "1.2.0",
            "_model_name": "LayoutModel",
            "_view_count": null,
            "_view_module": "@jupyter-widgets/base",
            "_view_module_version": "1.2.0",
            "_view_name": "LayoutView",
            "align_content": null,
            "align_items": null,
            "align_self": null,
            "border": null,
            "bottom": null,
            "display": null,
            "flex": null,
            "flex_flow": null,
            "grid_area": null,
            "grid_auto_columns": null,
            "grid_auto_flow": null,
            "grid_auto_rows": null,
            "grid_column": null,
            "grid_gap": null,
            "grid_row": null,
            "grid_template_areas": null,
            "grid_template_columns": null,
            "grid_template_rows": null,
            "height": "25px",
            "justify_content": null,
            "justify_items": null,
            "left": null,
            "margin": null,
            "max_height": null,
            "max_width": null,
            "min_height": null,
            "min_width": null,
            "object_fit": null,
            "object_position": null,
            "order": null,
            "overflow": null,
            "overflow_x": null,
            "overflow_y": null,
            "padding": null,
            "right": null,
            "top": null,
            "visibility": null,
            "width": "50%"
          }
        },
        "465f09b8d5354d3b92afccdbe30152f8": {
          "model_module": "@jupyter-widgets/controls",
          "model_name": "ProgressStyleModel",
          "model_module_version": "1.5.0",
          "state": {
            "_model_module": "@jupyter-widgets/controls",
            "_model_module_version": "1.5.0",
            "_model_name": "ProgressStyleModel",
            "_view_count": null,
            "_view_module": "@jupyter-widgets/base",
            "_view_module_version": "1.2.0",
            "_view_name": "StyleView",
            "bar_color": null,
            "description_width": ""
          }
        },
        "73c1266198ff4c44b07d58fb22d98682": {
          "model_module": "@jupyter-widgets/controls",
          "model_name": "FloatProgressModel",
          "model_module_version": "1.5.0",
          "state": {
            "_dom_classes": [],
            "_model_module": "@jupyter-widgets/controls",
            "_model_module_version": "1.5.0",
            "_model_name": "FloatProgressModel",
            "_view_count": null,
            "_view_module": "@jupyter-widgets/controls",
            "_view_module_version": "1.5.0",
            "_view_name": "ProgressView",
            "bar_style": "info",
            "description": "Progress:",
            "description_tooltip": null,
            "layout": "IPY_MODEL_dc1b85bb6c264b97818b46cae70a68a3",
            "max": 1,
            "min": 0,
            "orientation": "horizontal",
            "style": "IPY_MODEL_1ab6cbe7eb68454b976fcd85cd24b5e9",
            "value": 0.5
          }
        },
        "dc1b85bb6c264b97818b46cae70a68a3": {
          "model_module": "@jupyter-widgets/base",
          "model_name": "LayoutModel",
          "model_module_version": "1.2.0",
          "state": {
            "_model_module": "@jupyter-widgets/base",
            "_model_module_version": "1.2.0",
            "_model_name": "LayoutModel",
            "_view_count": null,
            "_view_module": "@jupyter-widgets/base",
            "_view_module_version": "1.2.0",
            "_view_name": "LayoutView",
            "align_content": null,
            "align_items": null,
            "align_self": null,
            "border": null,
            "bottom": null,
            "display": null,
            "flex": null,
            "flex_flow": null,
            "grid_area": null,
            "grid_auto_columns": null,
            "grid_auto_flow": null,
            "grid_auto_rows": null,
            "grid_column": null,
            "grid_gap": null,
            "grid_row": null,
            "grid_template_areas": null,
            "grid_template_columns": null,
            "grid_template_rows": null,
            "height": "25px",
            "justify_content": null,
            "justify_items": null,
            "left": null,
            "margin": null,
            "max_height": null,
            "max_width": null,
            "min_height": null,
            "min_width": null,
            "object_fit": null,
            "object_position": null,
            "order": null,
            "overflow": null,
            "overflow_x": null,
            "overflow_y": null,
            "padding": null,
            "right": null,
            "top": null,
            "visibility": null,
            "width": "50%"
          }
        },
        "1ab6cbe7eb68454b976fcd85cd24b5e9": {
          "model_module": "@jupyter-widgets/controls",
          "model_name": "ProgressStyleModel",
          "model_module_version": "1.5.0",
          "state": {
            "_model_module": "@jupyter-widgets/controls",
            "_model_module_version": "1.5.0",
            "_model_name": "ProgressStyleModel",
            "_view_count": null,
            "_view_module": "@jupyter-widgets/base",
            "_view_module_version": "1.2.0",
            "_view_name": "StyleView",
            "bar_color": null,
            "description_width": ""
          }
        },
        "bddecb3272b940f89e78803a6a5e3fb8": {
          "model_module": "@jupyter-widgets/controls",
          "model_name": "FloatProgressModel",
          "model_module_version": "1.5.0",
          "state": {
            "_dom_classes": [],
            "_model_module": "@jupyter-widgets/controls",
            "_model_module_version": "1.5.0",
            "_model_name": "FloatProgressModel",
            "_view_count": null,
            "_view_module": "@jupyter-widgets/controls",
            "_view_module_version": "1.5.0",
            "_view_name": "ProgressView",
            "bar_style": "info",
            "description": "Progress:",
            "description_tooltip": null,
            "layout": "IPY_MODEL_8e6ca785947d4c22b78d378687f9c14a",
            "max": 1,
            "min": 0,
            "orientation": "horizontal",
            "style": "IPY_MODEL_e721b990463a4d01af2b72aae9b0ca31",
            "value": 1
          }
        },
        "8e6ca785947d4c22b78d378687f9c14a": {
          "model_module": "@jupyter-widgets/base",
          "model_name": "LayoutModel",
          "model_module_version": "1.2.0",
          "state": {
            "_model_module": "@jupyter-widgets/base",
            "_model_module_version": "1.2.0",
            "_model_name": "LayoutModel",
            "_view_count": null,
            "_view_module": "@jupyter-widgets/base",
            "_view_module_version": "1.2.0",
            "_view_name": "LayoutView",
            "align_content": null,
            "align_items": null,
            "align_self": null,
            "border": null,
            "bottom": null,
            "display": null,
            "flex": null,
            "flex_flow": null,
            "grid_area": null,
            "grid_auto_columns": null,
            "grid_auto_flow": null,
            "grid_auto_rows": null,
            "grid_column": null,
            "grid_gap": null,
            "grid_row": null,
            "grid_template_areas": null,
            "grid_template_columns": null,
            "grid_template_rows": null,
            "height": "25px",
            "justify_content": null,
            "justify_items": null,
            "left": null,
            "margin": null,
            "max_height": null,
            "max_width": null,
            "min_height": null,
            "min_width": null,
            "object_fit": null,
            "object_position": null,
            "order": null,
            "overflow": null,
            "overflow_x": null,
            "overflow_y": null,
            "padding": null,
            "right": null,
            "top": null,
            "visibility": null,
            "width": "50%"
          }
        },
        "e721b990463a4d01af2b72aae9b0ca31": {
          "model_module": "@jupyter-widgets/controls",
          "model_name": "ProgressStyleModel",
          "model_module_version": "1.5.0",
          "state": {
            "_model_module": "@jupyter-widgets/controls",
            "_model_module_version": "1.5.0",
            "_model_name": "ProgressStyleModel",
            "_view_count": null,
            "_view_module": "@jupyter-widgets/base",
            "_view_module_version": "1.2.0",
            "_view_name": "StyleView",
            "bar_color": null,
            "description_width": ""
          }
        },
        "f9c80a1310894846ba48d5330e8f77c7": {
          "model_module": "@jupyter-widgets/controls",
          "model_name": "FloatProgressModel",
          "model_module_version": "1.5.0",
          "state": {
            "_dom_classes": [],
            "_model_module": "@jupyter-widgets/controls",
            "_model_module_version": "1.5.0",
            "_model_name": "FloatProgressModel",
            "_view_count": null,
            "_view_module": "@jupyter-widgets/controls",
            "_view_module_version": "1.5.0",
            "_view_name": "ProgressView",
            "bar_style": "info",
            "description": "Progress:",
            "description_tooltip": null,
            "layout": "IPY_MODEL_431073f6de304e70bbc7a0c844a694d0",
            "max": 1,
            "min": 0,
            "orientation": "horizontal",
            "style": "IPY_MODEL_7be5e6295b504ba0883ab96117e7a401",
            "value": 0.5
          }
        },
        "431073f6de304e70bbc7a0c844a694d0": {
          "model_module": "@jupyter-widgets/base",
          "model_name": "LayoutModel",
          "model_module_version": "1.2.0",
          "state": {
            "_model_module": "@jupyter-widgets/base",
            "_model_module_version": "1.2.0",
            "_model_name": "LayoutModel",
            "_view_count": null,
            "_view_module": "@jupyter-widgets/base",
            "_view_module_version": "1.2.0",
            "_view_name": "LayoutView",
            "align_content": null,
            "align_items": null,
            "align_self": null,
            "border": null,
            "bottom": null,
            "display": null,
            "flex": null,
            "flex_flow": null,
            "grid_area": null,
            "grid_auto_columns": null,
            "grid_auto_flow": null,
            "grid_auto_rows": null,
            "grid_column": null,
            "grid_gap": null,
            "grid_row": null,
            "grid_template_areas": null,
            "grid_template_columns": null,
            "grid_template_rows": null,
            "height": "25px",
            "justify_content": null,
            "justify_items": null,
            "left": null,
            "margin": null,
            "max_height": null,
            "max_width": null,
            "min_height": null,
            "min_width": null,
            "object_fit": null,
            "object_position": null,
            "order": null,
            "overflow": null,
            "overflow_x": null,
            "overflow_y": null,
            "padding": null,
            "right": null,
            "top": null,
            "visibility": null,
            "width": "50%"
          }
        },
        "7be5e6295b504ba0883ab96117e7a401": {
          "model_module": "@jupyter-widgets/controls",
          "model_name": "ProgressStyleModel",
          "model_module_version": "1.5.0",
          "state": {
            "_model_module": "@jupyter-widgets/controls",
            "_model_module_version": "1.5.0",
            "_model_name": "ProgressStyleModel",
            "_view_count": null,
            "_view_module": "@jupyter-widgets/base",
            "_view_module_version": "1.2.0",
            "_view_name": "StyleView",
            "bar_color": null,
            "description_width": ""
          }
        },
        "7d7d826fa0e040d1b930a758dbf2fd51": {
          "model_module": "@jupyter-widgets/controls",
          "model_name": "FloatProgressModel",
          "model_module_version": "1.5.0",
          "state": {
            "_dom_classes": [],
            "_model_module": "@jupyter-widgets/controls",
            "_model_module_version": "1.5.0",
            "_model_name": "FloatProgressModel",
            "_view_count": null,
            "_view_module": "@jupyter-widgets/controls",
            "_view_module_version": "1.5.0",
            "_view_name": "ProgressView",
            "bar_style": "info",
            "description": "Progress:",
            "description_tooltip": null,
            "layout": "IPY_MODEL_63ab9902a440482494bf0711f1ca559c",
            "max": 1,
            "min": 0,
            "orientation": "horizontal",
            "style": "IPY_MODEL_493d232291fb4765a80a62ef285a5250",
            "value": 1
          }
        },
        "63ab9902a440482494bf0711f1ca559c": {
          "model_module": "@jupyter-widgets/base",
          "model_name": "LayoutModel",
          "model_module_version": "1.2.0",
          "state": {
            "_model_module": "@jupyter-widgets/base",
            "_model_module_version": "1.2.0",
            "_model_name": "LayoutModel",
            "_view_count": null,
            "_view_module": "@jupyter-widgets/base",
            "_view_module_version": "1.2.0",
            "_view_name": "LayoutView",
            "align_content": null,
            "align_items": null,
            "align_self": null,
            "border": null,
            "bottom": null,
            "display": null,
            "flex": null,
            "flex_flow": null,
            "grid_area": null,
            "grid_auto_columns": null,
            "grid_auto_flow": null,
            "grid_auto_rows": null,
            "grid_column": null,
            "grid_gap": null,
            "grid_row": null,
            "grid_template_areas": null,
            "grid_template_columns": null,
            "grid_template_rows": null,
            "height": "25px",
            "justify_content": null,
            "justify_items": null,
            "left": null,
            "margin": null,
            "max_height": null,
            "max_width": null,
            "min_height": null,
            "min_width": null,
            "object_fit": null,
            "object_position": null,
            "order": null,
            "overflow": null,
            "overflow_x": null,
            "overflow_y": null,
            "padding": null,
            "right": null,
            "top": null,
            "visibility": null,
            "width": "50%"
          }
        },
        "493d232291fb4765a80a62ef285a5250": {
          "model_module": "@jupyter-widgets/controls",
          "model_name": "ProgressStyleModel",
          "model_module_version": "1.5.0",
          "state": {
            "_model_module": "@jupyter-widgets/controls",
            "_model_module_version": "1.5.0",
            "_model_name": "ProgressStyleModel",
            "_view_count": null,
            "_view_module": "@jupyter-widgets/base",
            "_view_module_version": "1.2.0",
            "_view_name": "StyleView",
            "bar_color": null,
            "description_width": ""
          }
        },
        "c2b38becc51941ff801de44db7b8270f": {
          "model_module": "@jupyter-widgets/controls",
          "model_name": "FloatProgressModel",
          "model_module_version": "1.5.0",
          "state": {
            "_dom_classes": [],
            "_model_module": "@jupyter-widgets/controls",
            "_model_module_version": "1.5.0",
            "_model_name": "FloatProgressModel",
            "_view_count": null,
            "_view_module": "@jupyter-widgets/controls",
            "_view_module_version": "1.5.0",
            "_view_name": "ProgressView",
            "bar_style": "info",
            "description": "Progress:",
            "description_tooltip": null,
            "layout": "IPY_MODEL_d0d1cf4eec1c496e9199d4c778fa8e38",
            "max": 1,
            "min": 0,
            "orientation": "horizontal",
            "style": "IPY_MODEL_3fc31150308d48aaa132d6fc1207512e",
            "value": 0.75
          }
        },
        "d0d1cf4eec1c496e9199d4c778fa8e38": {
          "model_module": "@jupyter-widgets/base",
          "model_name": "LayoutModel",
          "model_module_version": "1.2.0",
          "state": {
            "_model_module": "@jupyter-widgets/base",
            "_model_module_version": "1.2.0",
            "_model_name": "LayoutModel",
            "_view_count": null,
            "_view_module": "@jupyter-widgets/base",
            "_view_module_version": "1.2.0",
            "_view_name": "LayoutView",
            "align_content": null,
            "align_items": null,
            "align_self": null,
            "border": null,
            "bottom": null,
            "display": null,
            "flex": null,
            "flex_flow": null,
            "grid_area": null,
            "grid_auto_columns": null,
            "grid_auto_flow": null,
            "grid_auto_rows": null,
            "grid_column": null,
            "grid_gap": null,
            "grid_row": null,
            "grid_template_areas": null,
            "grid_template_columns": null,
            "grid_template_rows": null,
            "height": "25px",
            "justify_content": null,
            "justify_items": null,
            "left": null,
            "margin": null,
            "max_height": null,
            "max_width": null,
            "min_height": null,
            "min_width": null,
            "object_fit": null,
            "object_position": null,
            "order": null,
            "overflow": null,
            "overflow_x": null,
            "overflow_y": null,
            "padding": null,
            "right": null,
            "top": null,
            "visibility": null,
            "width": "50%"
          }
        },
        "3fc31150308d48aaa132d6fc1207512e": {
          "model_module": "@jupyter-widgets/controls",
          "model_name": "ProgressStyleModel",
          "model_module_version": "1.5.0",
          "state": {
            "_model_module": "@jupyter-widgets/controls",
            "_model_module_version": "1.5.0",
            "_model_name": "ProgressStyleModel",
            "_view_count": null,
            "_view_module": "@jupyter-widgets/base",
            "_view_module_version": "1.2.0",
            "_view_name": "StyleView",
            "bar_color": null,
            "description_width": ""
          }
        },
        "afb0472ff8aa4a73ab0e6f2c2bd38d30": {
          "model_module": "@jupyter-widgets/controls",
          "model_name": "FloatProgressModel",
          "model_module_version": "1.5.0",
          "state": {
            "_dom_classes": [],
            "_model_module": "@jupyter-widgets/controls",
            "_model_module_version": "1.5.0",
            "_model_name": "FloatProgressModel",
            "_view_count": null,
            "_view_module": "@jupyter-widgets/controls",
            "_view_module_version": "1.5.0",
            "_view_name": "ProgressView",
            "bar_style": "info",
            "description": "Progress:",
            "description_tooltip": null,
            "layout": "IPY_MODEL_0d6fe3ef9bd34bf79a77e072caa6a577",
            "max": 1,
            "min": 0,
            "orientation": "horizontal",
            "style": "IPY_MODEL_466cd8954ab14cd0a4432179b33f8f70",
            "value": 0.5
          }
        },
        "0d6fe3ef9bd34bf79a77e072caa6a577": {
          "model_module": "@jupyter-widgets/base",
          "model_name": "LayoutModel",
          "model_module_version": "1.2.0",
          "state": {
            "_model_module": "@jupyter-widgets/base",
            "_model_module_version": "1.2.0",
            "_model_name": "LayoutModel",
            "_view_count": null,
            "_view_module": "@jupyter-widgets/base",
            "_view_module_version": "1.2.0",
            "_view_name": "LayoutView",
            "align_content": null,
            "align_items": null,
            "align_self": null,
            "border": null,
            "bottom": null,
            "display": null,
            "flex": null,
            "flex_flow": null,
            "grid_area": null,
            "grid_auto_columns": null,
            "grid_auto_flow": null,
            "grid_auto_rows": null,
            "grid_column": null,
            "grid_gap": null,
            "grid_row": null,
            "grid_template_areas": null,
            "grid_template_columns": null,
            "grid_template_rows": null,
            "height": "25px",
            "justify_content": null,
            "justify_items": null,
            "left": null,
            "margin": null,
            "max_height": null,
            "max_width": null,
            "min_height": null,
            "min_width": null,
            "object_fit": null,
            "object_position": null,
            "order": null,
            "overflow": null,
            "overflow_x": null,
            "overflow_y": null,
            "padding": null,
            "right": null,
            "top": null,
            "visibility": null,
            "width": "50%"
          }
        },
        "466cd8954ab14cd0a4432179b33f8f70": {
          "model_module": "@jupyter-widgets/controls",
          "model_name": "ProgressStyleModel",
          "model_module_version": "1.5.0",
          "state": {
            "_model_module": "@jupyter-widgets/controls",
            "_model_module_version": "1.5.0",
            "_model_name": "ProgressStyleModel",
            "_view_count": null,
            "_view_module": "@jupyter-widgets/base",
            "_view_module_version": "1.2.0",
            "_view_name": "StyleView",
            "bar_color": null,
            "description_width": ""
          }
        },
        "dee60c89a6574948940ebd979789abca": {
          "model_module": "@jupyter-widgets/controls",
          "model_name": "FloatProgressModel",
          "model_module_version": "1.5.0",
          "state": {
            "_dom_classes": [],
            "_model_module": "@jupyter-widgets/controls",
            "_model_module_version": "1.5.0",
            "_model_name": "FloatProgressModel",
            "_view_count": null,
            "_view_module": "@jupyter-widgets/controls",
            "_view_module_version": "1.5.0",
            "_view_name": "ProgressView",
            "bar_style": "info",
            "description": "Progress:",
            "description_tooltip": null,
            "layout": "IPY_MODEL_e876422e1616450ba351a82348d8c0d4",
            "max": 1,
            "min": 0,
            "orientation": "horizontal",
            "style": "IPY_MODEL_fb2779bc15b14eb1ad3d16576482ed86",
            "value": 0
          }
        },
        "e876422e1616450ba351a82348d8c0d4": {
          "model_module": "@jupyter-widgets/base",
          "model_name": "LayoutModel",
          "model_module_version": "1.2.0",
          "state": {
            "_model_module": "@jupyter-widgets/base",
            "_model_module_version": "1.2.0",
            "_model_name": "LayoutModel",
            "_view_count": null,
            "_view_module": "@jupyter-widgets/base",
            "_view_module_version": "1.2.0",
            "_view_name": "LayoutView",
            "align_content": null,
            "align_items": null,
            "align_self": null,
            "border": null,
            "bottom": null,
            "display": null,
            "flex": null,
            "flex_flow": null,
            "grid_area": null,
            "grid_auto_columns": null,
            "grid_auto_flow": null,
            "grid_auto_rows": null,
            "grid_column": null,
            "grid_gap": null,
            "grid_row": null,
            "grid_template_areas": null,
            "grid_template_columns": null,
            "grid_template_rows": null,
            "height": "25px",
            "justify_content": null,
            "justify_items": null,
            "left": null,
            "margin": null,
            "max_height": null,
            "max_width": null,
            "min_height": null,
            "min_width": null,
            "object_fit": null,
            "object_position": null,
            "order": null,
            "overflow": null,
            "overflow_x": null,
            "overflow_y": null,
            "padding": null,
            "right": null,
            "top": null,
            "visibility": null,
            "width": "50%"
          }
        },
        "fb2779bc15b14eb1ad3d16576482ed86": {
          "model_module": "@jupyter-widgets/controls",
          "model_name": "ProgressStyleModel",
          "model_module_version": "1.5.0",
          "state": {
            "_model_module": "@jupyter-widgets/controls",
            "_model_module_version": "1.5.0",
            "_model_name": "ProgressStyleModel",
            "_view_count": null,
            "_view_module": "@jupyter-widgets/base",
            "_view_module_version": "1.2.0",
            "_view_name": "StyleView",
            "bar_color": null,
            "description_width": ""
          }
        },
        "fac3d3a09c974a5ea898e32f0763ae36": {
          "model_module": "@jupyter-widgets/controls",
          "model_name": "FloatProgressModel",
          "model_module_version": "1.5.0",
          "state": {
            "_dom_classes": [],
            "_model_module": "@jupyter-widgets/controls",
            "_model_module_version": "1.5.0",
            "_model_name": "FloatProgressModel",
            "_view_count": null,
            "_view_module": "@jupyter-widgets/controls",
            "_view_module_version": "1.5.0",
            "_view_name": "ProgressView",
            "bar_style": "info",
            "description": "Progress:",
            "description_tooltip": null,
            "layout": "IPY_MODEL_acbc4f09141144a7a174a2534226feaf",
            "max": 1,
            "min": 0,
            "orientation": "horizontal",
            "style": "IPY_MODEL_47ab7d3a9650471fafd5c39d1cbb8340",
            "value": 1
          }
        },
        "acbc4f09141144a7a174a2534226feaf": {
          "model_module": "@jupyter-widgets/base",
          "model_name": "LayoutModel",
          "model_module_version": "1.2.0",
          "state": {
            "_model_module": "@jupyter-widgets/base",
            "_model_module_version": "1.2.0",
            "_model_name": "LayoutModel",
            "_view_count": null,
            "_view_module": "@jupyter-widgets/base",
            "_view_module_version": "1.2.0",
            "_view_name": "LayoutView",
            "align_content": null,
            "align_items": null,
            "align_self": null,
            "border": null,
            "bottom": null,
            "display": null,
            "flex": null,
            "flex_flow": null,
            "grid_area": null,
            "grid_auto_columns": null,
            "grid_auto_flow": null,
            "grid_auto_rows": null,
            "grid_column": null,
            "grid_gap": null,
            "grid_row": null,
            "grid_template_areas": null,
            "grid_template_columns": null,
            "grid_template_rows": null,
            "height": "25px",
            "justify_content": null,
            "justify_items": null,
            "left": null,
            "margin": null,
            "max_height": null,
            "max_width": null,
            "min_height": null,
            "min_width": null,
            "object_fit": null,
            "object_position": null,
            "order": null,
            "overflow": null,
            "overflow_x": null,
            "overflow_y": null,
            "padding": null,
            "right": null,
            "top": null,
            "visibility": null,
            "width": "50%"
          }
        },
        "47ab7d3a9650471fafd5c39d1cbb8340": {
          "model_module": "@jupyter-widgets/controls",
          "model_name": "ProgressStyleModel",
          "model_module_version": "1.5.0",
          "state": {
            "_model_module": "@jupyter-widgets/controls",
            "_model_module_version": "1.5.0",
            "_model_name": "ProgressStyleModel",
            "_view_count": null,
            "_view_module": "@jupyter-widgets/base",
            "_view_module_version": "1.2.0",
            "_view_name": "StyleView",
            "bar_color": null,
            "description_width": ""
          }
        },
        "a2dfedff05e348d99a1d2ed44c2e7e67": {
          "model_module": "@jupyter-widgets/controls",
          "model_name": "FloatProgressModel",
          "model_module_version": "1.5.0",
          "state": {
            "_dom_classes": [],
            "_model_module": "@jupyter-widgets/controls",
            "_model_module_version": "1.5.0",
            "_model_name": "FloatProgressModel",
            "_view_count": null,
            "_view_module": "@jupyter-widgets/controls",
            "_view_module_version": "1.5.0",
            "_view_name": "ProgressView",
            "bar_style": "info",
            "description": "Progress:",
            "description_tooltip": null,
            "layout": "IPY_MODEL_fa5c1d472d5842c18ef1004dfc9df991",
            "max": 1,
            "min": 0,
            "orientation": "horizontal",
            "style": "IPY_MODEL_764dab3348b54a4bba81b0b6eb6d72d7",
            "value": 0
          }
        },
        "fa5c1d472d5842c18ef1004dfc9df991": {
          "model_module": "@jupyter-widgets/base",
          "model_name": "LayoutModel",
          "model_module_version": "1.2.0",
          "state": {
            "_model_module": "@jupyter-widgets/base",
            "_model_module_version": "1.2.0",
            "_model_name": "LayoutModel",
            "_view_count": null,
            "_view_module": "@jupyter-widgets/base",
            "_view_module_version": "1.2.0",
            "_view_name": "LayoutView",
            "align_content": null,
            "align_items": null,
            "align_self": null,
            "border": null,
            "bottom": null,
            "display": null,
            "flex": null,
            "flex_flow": null,
            "grid_area": null,
            "grid_auto_columns": null,
            "grid_auto_flow": null,
            "grid_auto_rows": null,
            "grid_column": null,
            "grid_gap": null,
            "grid_row": null,
            "grid_template_areas": null,
            "grid_template_columns": null,
            "grid_template_rows": null,
            "height": "25px",
            "justify_content": null,
            "justify_items": null,
            "left": null,
            "margin": null,
            "max_height": null,
            "max_width": null,
            "min_height": null,
            "min_width": null,
            "object_fit": null,
            "object_position": null,
            "order": null,
            "overflow": null,
            "overflow_x": null,
            "overflow_y": null,
            "padding": null,
            "right": null,
            "top": null,
            "visibility": null,
            "width": "50%"
          }
        },
        "764dab3348b54a4bba81b0b6eb6d72d7": {
          "model_module": "@jupyter-widgets/controls",
          "model_name": "ProgressStyleModel",
          "model_module_version": "1.5.0",
          "state": {
            "_model_module": "@jupyter-widgets/controls",
            "_model_module_version": "1.5.0",
            "_model_name": "ProgressStyleModel",
            "_view_count": null,
            "_view_module": "@jupyter-widgets/base",
            "_view_module_version": "1.2.0",
            "_view_name": "StyleView",
            "bar_color": null,
            "description_width": ""
          }
        },
        "915fcae081b344feb8dc1020115606d3": {
          "model_module": "@jupyter-widgets/controls",
          "model_name": "FloatProgressModel",
          "model_module_version": "1.5.0",
          "state": {
            "_dom_classes": [],
            "_model_module": "@jupyter-widgets/controls",
            "_model_module_version": "1.5.0",
            "_model_name": "FloatProgressModel",
            "_view_count": null,
            "_view_module": "@jupyter-widgets/controls",
            "_view_module_version": "1.5.0",
            "_view_name": "ProgressView",
            "bar_style": "info",
            "description": "Progress:",
            "description_tooltip": null,
            "layout": "IPY_MODEL_12cc2bfba3ed45ea91e9b60144480b6f",
            "max": 1,
            "min": 0,
            "orientation": "horizontal",
            "style": "IPY_MODEL_4443444c8abd4c66918e60710faddc5f",
            "value": 0
          }
        },
        "12cc2bfba3ed45ea91e9b60144480b6f": {
          "model_module": "@jupyter-widgets/base",
          "model_name": "LayoutModel",
          "model_module_version": "1.2.0",
          "state": {
            "_model_module": "@jupyter-widgets/base",
            "_model_module_version": "1.2.0",
            "_model_name": "LayoutModel",
            "_view_count": null,
            "_view_module": "@jupyter-widgets/base",
            "_view_module_version": "1.2.0",
            "_view_name": "LayoutView",
            "align_content": null,
            "align_items": null,
            "align_self": null,
            "border": null,
            "bottom": null,
            "display": null,
            "flex": null,
            "flex_flow": null,
            "grid_area": null,
            "grid_auto_columns": null,
            "grid_auto_flow": null,
            "grid_auto_rows": null,
            "grid_column": null,
            "grid_gap": null,
            "grid_row": null,
            "grid_template_areas": null,
            "grid_template_columns": null,
            "grid_template_rows": null,
            "height": "25px",
            "justify_content": null,
            "justify_items": null,
            "left": null,
            "margin": null,
            "max_height": null,
            "max_width": null,
            "min_height": null,
            "min_width": null,
            "object_fit": null,
            "object_position": null,
            "order": null,
            "overflow": null,
            "overflow_x": null,
            "overflow_y": null,
            "padding": null,
            "right": null,
            "top": null,
            "visibility": null,
            "width": "50%"
          }
        },
        "4443444c8abd4c66918e60710faddc5f": {
          "model_module": "@jupyter-widgets/controls",
          "model_name": "ProgressStyleModel",
          "model_module_version": "1.5.0",
          "state": {
            "_model_module": "@jupyter-widgets/controls",
            "_model_module_version": "1.5.0",
            "_model_name": "ProgressStyleModel",
            "_view_count": null,
            "_view_module": "@jupyter-widgets/base",
            "_view_module_version": "1.2.0",
            "_view_name": "StyleView",
            "bar_color": null,
            "description_width": ""
          }
        },
        "63da8e3ef4c445a59c252ec1aea40dcd": {
          "model_module": "@jupyter-widgets/controls",
          "model_name": "FloatProgressModel",
          "model_module_version": "1.5.0",
          "state": {
            "_dom_classes": [],
            "_model_module": "@jupyter-widgets/controls",
            "_model_module_version": "1.5.0",
            "_model_name": "FloatProgressModel",
            "_view_count": null,
            "_view_module": "@jupyter-widgets/controls",
            "_view_module_version": "1.5.0",
            "_view_name": "ProgressView",
            "bar_style": "info",
            "description": "Progress:",
            "description_tooltip": null,
            "layout": "IPY_MODEL_a704fb697d56404f8d21b794acd8d619",
            "max": 1,
            "min": 0,
            "orientation": "horizontal",
            "style": "IPY_MODEL_a90b28f4a57c443f8179019453453689",
            "value": 0.9662921348314607
          }
        },
        "a704fb697d56404f8d21b794acd8d619": {
          "model_module": "@jupyter-widgets/base",
          "model_name": "LayoutModel",
          "model_module_version": "1.2.0",
          "state": {
            "_model_module": "@jupyter-widgets/base",
            "_model_module_version": "1.2.0",
            "_model_name": "LayoutModel",
            "_view_count": null,
            "_view_module": "@jupyter-widgets/base",
            "_view_module_version": "1.2.0",
            "_view_name": "LayoutView",
            "align_content": null,
            "align_items": null,
            "align_self": null,
            "border": null,
            "bottom": null,
            "display": null,
            "flex": null,
            "flex_flow": null,
            "grid_area": null,
            "grid_auto_columns": null,
            "grid_auto_flow": null,
            "grid_auto_rows": null,
            "grid_column": null,
            "grid_gap": null,
            "grid_row": null,
            "grid_template_areas": null,
            "grid_template_columns": null,
            "grid_template_rows": null,
            "height": "25px",
            "justify_content": null,
            "justify_items": null,
            "left": null,
            "margin": null,
            "max_height": null,
            "max_width": null,
            "min_height": null,
            "min_width": null,
            "object_fit": null,
            "object_position": null,
            "order": null,
            "overflow": null,
            "overflow_x": null,
            "overflow_y": null,
            "padding": null,
            "right": null,
            "top": null,
            "visibility": null,
            "width": "50%"
          }
        },
        "a90b28f4a57c443f8179019453453689": {
          "model_module": "@jupyter-widgets/controls",
          "model_name": "ProgressStyleModel",
          "model_module_version": "1.5.0",
          "state": {
            "_model_module": "@jupyter-widgets/controls",
            "_model_module_version": "1.5.0",
            "_model_name": "ProgressStyleModel",
            "_view_count": null,
            "_view_module": "@jupyter-widgets/base",
            "_view_module_version": "1.2.0",
            "_view_name": "StyleView",
            "bar_color": null,
            "description_width": ""
          }
        },
        "03a808231dd64f31941bc2145aac6357": {
          "model_module": "@jupyter-widgets/controls",
          "model_name": "FloatProgressModel",
          "model_module_version": "1.5.0",
          "state": {
            "_dom_classes": [],
            "_model_module": "@jupyter-widgets/controls",
            "_model_module_version": "1.5.0",
            "_model_name": "FloatProgressModel",
            "_view_count": null,
            "_view_module": "@jupyter-widgets/controls",
            "_view_module_version": "1.5.0",
            "_view_name": "ProgressView",
            "bar_style": "info",
            "description": "Progress:",
            "description_tooltip": null,
            "layout": "IPY_MODEL_71819dacd4be4738a0f64a1089dc8ac2",
            "max": 1,
            "min": 0,
            "orientation": "horizontal",
            "style": "IPY_MODEL_e2173edf167d416eb4c4406773331510",
            "value": 0.5
          }
        },
        "71819dacd4be4738a0f64a1089dc8ac2": {
          "model_module": "@jupyter-widgets/base",
          "model_name": "LayoutModel",
          "model_module_version": "1.2.0",
          "state": {
            "_model_module": "@jupyter-widgets/base",
            "_model_module_version": "1.2.0",
            "_model_name": "LayoutModel",
            "_view_count": null,
            "_view_module": "@jupyter-widgets/base",
            "_view_module_version": "1.2.0",
            "_view_name": "LayoutView",
            "align_content": null,
            "align_items": null,
            "align_self": null,
            "border": null,
            "bottom": null,
            "display": null,
            "flex": null,
            "flex_flow": null,
            "grid_area": null,
            "grid_auto_columns": null,
            "grid_auto_flow": null,
            "grid_auto_rows": null,
            "grid_column": null,
            "grid_gap": null,
            "grid_row": null,
            "grid_template_areas": null,
            "grid_template_columns": null,
            "grid_template_rows": null,
            "height": "25px",
            "justify_content": null,
            "justify_items": null,
            "left": null,
            "margin": null,
            "max_height": null,
            "max_width": null,
            "min_height": null,
            "min_width": null,
            "object_fit": null,
            "object_position": null,
            "order": null,
            "overflow": null,
            "overflow_x": null,
            "overflow_y": null,
            "padding": null,
            "right": null,
            "top": null,
            "visibility": null,
            "width": "50%"
          }
        },
        "e2173edf167d416eb4c4406773331510": {
          "model_module": "@jupyter-widgets/controls",
          "model_name": "ProgressStyleModel",
          "model_module_version": "1.5.0",
          "state": {
            "_model_module": "@jupyter-widgets/controls",
            "_model_module_version": "1.5.0",
            "_model_name": "ProgressStyleModel",
            "_view_count": null,
            "_view_module": "@jupyter-widgets/base",
            "_view_module_version": "1.2.0",
            "_view_name": "StyleView",
            "bar_color": null,
            "description_width": ""
          }
        },
        "7eb5cc52030848c4bafdbf44f7a74bee": {
          "model_module": "@jupyter-widgets/controls",
          "model_name": "FloatProgressModel",
          "model_module_version": "1.5.0",
          "state": {
            "_dom_classes": [],
            "_model_module": "@jupyter-widgets/controls",
            "_model_module_version": "1.5.0",
            "_model_name": "FloatProgressModel",
            "_view_count": null,
            "_view_module": "@jupyter-widgets/controls",
            "_view_module_version": "1.5.0",
            "_view_name": "ProgressView",
            "bar_style": "info",
            "description": "Progress:",
            "description_tooltip": null,
            "layout": "IPY_MODEL_bf84b96cf5464cdd8c928bee9f61c02f",
            "max": 1,
            "min": 0,
            "orientation": "horizontal",
            "style": "IPY_MODEL_60fa81f9c5ea4cf589f95fc06425125a",
            "value": 0
          }
        },
        "bf84b96cf5464cdd8c928bee9f61c02f": {
          "model_module": "@jupyter-widgets/base",
          "model_name": "LayoutModel",
          "model_module_version": "1.2.0",
          "state": {
            "_model_module": "@jupyter-widgets/base",
            "_model_module_version": "1.2.0",
            "_model_name": "LayoutModel",
            "_view_count": null,
            "_view_module": "@jupyter-widgets/base",
            "_view_module_version": "1.2.0",
            "_view_name": "LayoutView",
            "align_content": null,
            "align_items": null,
            "align_self": null,
            "border": null,
            "bottom": null,
            "display": null,
            "flex": null,
            "flex_flow": null,
            "grid_area": null,
            "grid_auto_columns": null,
            "grid_auto_flow": null,
            "grid_auto_rows": null,
            "grid_column": null,
            "grid_gap": null,
            "grid_row": null,
            "grid_template_areas": null,
            "grid_template_columns": null,
            "grid_template_rows": null,
            "height": "25px",
            "justify_content": null,
            "justify_items": null,
            "left": null,
            "margin": null,
            "max_height": null,
            "max_width": null,
            "min_height": null,
            "min_width": null,
            "object_fit": null,
            "object_position": null,
            "order": null,
            "overflow": null,
            "overflow_x": null,
            "overflow_y": null,
            "padding": null,
            "right": null,
            "top": null,
            "visibility": null,
            "width": "50%"
          }
        },
        "60fa81f9c5ea4cf589f95fc06425125a": {
          "model_module": "@jupyter-widgets/controls",
          "model_name": "ProgressStyleModel",
          "model_module_version": "1.5.0",
          "state": {
            "_model_module": "@jupyter-widgets/controls",
            "_model_module_version": "1.5.0",
            "_model_name": "ProgressStyleModel",
            "_view_count": null,
            "_view_module": "@jupyter-widgets/base",
            "_view_module_version": "1.2.0",
            "_view_name": "StyleView",
            "bar_color": null,
            "description_width": ""
          }
        },
        "527bc507f1674426ab65261aaa9c7b58": {
          "model_module": "@jupyter-widgets/controls",
          "model_name": "FloatProgressModel",
          "model_module_version": "1.5.0",
          "state": {
            "_dom_classes": [],
            "_model_module": "@jupyter-widgets/controls",
            "_model_module_version": "1.5.0",
            "_model_name": "FloatProgressModel",
            "_view_count": null,
            "_view_module": "@jupyter-widgets/controls",
            "_view_module_version": "1.5.0",
            "_view_name": "ProgressView",
            "bar_style": "info",
            "description": "Progress:",
            "description_tooltip": null,
            "layout": "IPY_MODEL_8aaf7db94034401eb95c9523eb4fb239",
            "max": 1,
            "min": 0,
            "orientation": "horizontal",
            "style": "IPY_MODEL_d7f304dabfca427ba099611388453194",
            "value": 0.75
          }
        },
        "8aaf7db94034401eb95c9523eb4fb239": {
          "model_module": "@jupyter-widgets/base",
          "model_name": "LayoutModel",
          "model_module_version": "1.2.0",
          "state": {
            "_model_module": "@jupyter-widgets/base",
            "_model_module_version": "1.2.0",
            "_model_name": "LayoutModel",
            "_view_count": null,
            "_view_module": "@jupyter-widgets/base",
            "_view_module_version": "1.2.0",
            "_view_name": "LayoutView",
            "align_content": null,
            "align_items": null,
            "align_self": null,
            "border": null,
            "bottom": null,
            "display": null,
            "flex": null,
            "flex_flow": null,
            "grid_area": null,
            "grid_auto_columns": null,
            "grid_auto_flow": null,
            "grid_auto_rows": null,
            "grid_column": null,
            "grid_gap": null,
            "grid_row": null,
            "grid_template_areas": null,
            "grid_template_columns": null,
            "grid_template_rows": null,
            "height": "25px",
            "justify_content": null,
            "justify_items": null,
            "left": null,
            "margin": null,
            "max_height": null,
            "max_width": null,
            "min_height": null,
            "min_width": null,
            "object_fit": null,
            "object_position": null,
            "order": null,
            "overflow": null,
            "overflow_x": null,
            "overflow_y": null,
            "padding": null,
            "right": null,
            "top": null,
            "visibility": null,
            "width": "50%"
          }
        },
        "d7f304dabfca427ba099611388453194": {
          "model_module": "@jupyter-widgets/controls",
          "model_name": "ProgressStyleModel",
          "model_module_version": "1.5.0",
          "state": {
            "_model_module": "@jupyter-widgets/controls",
            "_model_module_version": "1.5.0",
            "_model_name": "ProgressStyleModel",
            "_view_count": null,
            "_view_module": "@jupyter-widgets/base",
            "_view_module_version": "1.2.0",
            "_view_name": "StyleView",
            "bar_color": null,
            "description_width": ""
          }
        },
        "6c39dab481904a969513f23e8c326659": {
          "model_module": "@jupyter-widgets/controls",
          "model_name": "FloatProgressModel",
          "model_module_version": "1.5.0",
          "state": {
            "_dom_classes": [],
            "_model_module": "@jupyter-widgets/controls",
            "_model_module_version": "1.5.0",
            "_model_name": "FloatProgressModel",
            "_view_count": null,
            "_view_module": "@jupyter-widgets/controls",
            "_view_module_version": "1.5.0",
            "_view_name": "ProgressView",
            "bar_style": "info",
            "description": "Progress:",
            "description_tooltip": null,
            "layout": "IPY_MODEL_6082d0268f6b443aac27df6df2099439",
            "max": 1,
            "min": 0,
            "orientation": "horizontal",
            "style": "IPY_MODEL_e1ce0926c43249d08d2557fb921b3914",
            "value": 0.4375
          }
        },
        "6082d0268f6b443aac27df6df2099439": {
          "model_module": "@jupyter-widgets/base",
          "model_name": "LayoutModel",
          "model_module_version": "1.2.0",
          "state": {
            "_model_module": "@jupyter-widgets/base",
            "_model_module_version": "1.2.0",
            "_model_name": "LayoutModel",
            "_view_count": null,
            "_view_module": "@jupyter-widgets/base",
            "_view_module_version": "1.2.0",
            "_view_name": "LayoutView",
            "align_content": null,
            "align_items": null,
            "align_self": null,
            "border": null,
            "bottom": null,
            "display": null,
            "flex": null,
            "flex_flow": null,
            "grid_area": null,
            "grid_auto_columns": null,
            "grid_auto_flow": null,
            "grid_auto_rows": null,
            "grid_column": null,
            "grid_gap": null,
            "grid_row": null,
            "grid_template_areas": null,
            "grid_template_columns": null,
            "grid_template_rows": null,
            "height": "25px",
            "justify_content": null,
            "justify_items": null,
            "left": null,
            "margin": null,
            "max_height": null,
            "max_width": null,
            "min_height": null,
            "min_width": null,
            "object_fit": null,
            "object_position": null,
            "order": null,
            "overflow": null,
            "overflow_x": null,
            "overflow_y": null,
            "padding": null,
            "right": null,
            "top": null,
            "visibility": null,
            "width": "50%"
          }
        },
        "e1ce0926c43249d08d2557fb921b3914": {
          "model_module": "@jupyter-widgets/controls",
          "model_name": "ProgressStyleModel",
          "model_module_version": "1.5.0",
          "state": {
            "_model_module": "@jupyter-widgets/controls",
            "_model_module_version": "1.5.0",
            "_model_name": "ProgressStyleModel",
            "_view_count": null,
            "_view_module": "@jupyter-widgets/base",
            "_view_module_version": "1.2.0",
            "_view_name": "StyleView",
            "bar_color": null,
            "description_width": ""
          }
        },
        "a3e1f1e6c0614d79aa650dbc41060fb0": {
          "model_module": "@jupyter-widgets/controls",
          "model_name": "FloatProgressModel",
          "model_module_version": "1.5.0",
          "state": {
            "_dom_classes": [],
            "_model_module": "@jupyter-widgets/controls",
            "_model_module_version": "1.5.0",
            "_model_name": "FloatProgressModel",
            "_view_count": null,
            "_view_module": "@jupyter-widgets/controls",
            "_view_module_version": "1.5.0",
            "_view_name": "ProgressView",
            "bar_style": "info",
            "description": "Progress:",
            "description_tooltip": null,
            "layout": "IPY_MODEL_fa589194602b4940a5facb33f8d2f031",
            "max": 1,
            "min": 0,
            "orientation": "horizontal",
            "style": "IPY_MODEL_483b90a564b24a78848e7e069e59d117",
            "value": 0
          }
        },
        "fa589194602b4940a5facb33f8d2f031": {
          "model_module": "@jupyter-widgets/base",
          "model_name": "LayoutModel",
          "model_module_version": "1.2.0",
          "state": {
            "_model_module": "@jupyter-widgets/base",
            "_model_module_version": "1.2.0",
            "_model_name": "LayoutModel",
            "_view_count": null,
            "_view_module": "@jupyter-widgets/base",
            "_view_module_version": "1.2.0",
            "_view_name": "LayoutView",
            "align_content": null,
            "align_items": null,
            "align_self": null,
            "border": null,
            "bottom": null,
            "display": null,
            "flex": null,
            "flex_flow": null,
            "grid_area": null,
            "grid_auto_columns": null,
            "grid_auto_flow": null,
            "grid_auto_rows": null,
            "grid_column": null,
            "grid_gap": null,
            "grid_row": null,
            "grid_template_areas": null,
            "grid_template_columns": null,
            "grid_template_rows": null,
            "height": "25px",
            "justify_content": null,
            "justify_items": null,
            "left": null,
            "margin": null,
            "max_height": null,
            "max_width": null,
            "min_height": null,
            "min_width": null,
            "object_fit": null,
            "object_position": null,
            "order": null,
            "overflow": null,
            "overflow_x": null,
            "overflow_y": null,
            "padding": null,
            "right": null,
            "top": null,
            "visibility": null,
            "width": "50%"
          }
        },
        "483b90a564b24a78848e7e069e59d117": {
          "model_module": "@jupyter-widgets/controls",
          "model_name": "ProgressStyleModel",
          "model_module_version": "1.5.0",
          "state": {
            "_model_module": "@jupyter-widgets/controls",
            "_model_module_version": "1.5.0",
            "_model_name": "ProgressStyleModel",
            "_view_count": null,
            "_view_module": "@jupyter-widgets/base",
            "_view_module_version": "1.2.0",
            "_view_name": "StyleView",
            "bar_color": null,
            "description_width": ""
          }
        },
        "0bd5f8e279d84963b6faca71ae463aaf": {
          "model_module": "@jupyter-widgets/controls",
          "model_name": "FloatProgressModel",
          "model_module_version": "1.5.0",
          "state": {
            "_dom_classes": [],
            "_model_module": "@jupyter-widgets/controls",
            "_model_module_version": "1.5.0",
            "_model_name": "FloatProgressModel",
            "_view_count": null,
            "_view_module": "@jupyter-widgets/controls",
            "_view_module_version": "1.5.0",
            "_view_name": "ProgressView",
            "bar_style": "info",
            "description": "Progress:",
            "description_tooltip": null,
            "layout": "IPY_MODEL_6cd2da82b1b84389a94002c1a2a12609",
            "max": 1,
            "min": 0,
            "orientation": "horizontal",
            "style": "IPY_MODEL_5d2dddd5526341b6a2cf237a7368d69d",
            "value": 0.05714285714285714
          }
        },
        "6cd2da82b1b84389a94002c1a2a12609": {
          "model_module": "@jupyter-widgets/base",
          "model_name": "LayoutModel",
          "model_module_version": "1.2.0",
          "state": {
            "_model_module": "@jupyter-widgets/base",
            "_model_module_version": "1.2.0",
            "_model_name": "LayoutModel",
            "_view_count": null,
            "_view_module": "@jupyter-widgets/base",
            "_view_module_version": "1.2.0",
            "_view_name": "LayoutView",
            "align_content": null,
            "align_items": null,
            "align_self": null,
            "border": null,
            "bottom": null,
            "display": null,
            "flex": null,
            "flex_flow": null,
            "grid_area": null,
            "grid_auto_columns": null,
            "grid_auto_flow": null,
            "grid_auto_rows": null,
            "grid_column": null,
            "grid_gap": null,
            "grid_row": null,
            "grid_template_areas": null,
            "grid_template_columns": null,
            "grid_template_rows": null,
            "height": "25px",
            "justify_content": null,
            "justify_items": null,
            "left": null,
            "margin": null,
            "max_height": null,
            "max_width": null,
            "min_height": null,
            "min_width": null,
            "object_fit": null,
            "object_position": null,
            "order": null,
            "overflow": null,
            "overflow_x": null,
            "overflow_y": null,
            "padding": null,
            "right": null,
            "top": null,
            "visibility": null,
            "width": "50%"
          }
        },
        "5d2dddd5526341b6a2cf237a7368d69d": {
          "model_module": "@jupyter-widgets/controls",
          "model_name": "ProgressStyleModel",
          "model_module_version": "1.5.0",
          "state": {
            "_model_module": "@jupyter-widgets/controls",
            "_model_module_version": "1.5.0",
            "_model_name": "ProgressStyleModel",
            "_view_count": null,
            "_view_module": "@jupyter-widgets/base",
            "_view_module_version": "1.2.0",
            "_view_name": "StyleView",
            "bar_color": null,
            "description_width": ""
          }
        },
        "db33cc568c0a4729b9b4cbc63e50174f": {
          "model_module": "@jupyter-widgets/controls",
          "model_name": "FloatProgressModel",
          "model_module_version": "1.5.0",
          "state": {
            "_dom_classes": [],
            "_model_module": "@jupyter-widgets/controls",
            "_model_module_version": "1.5.0",
            "_model_name": "FloatProgressModel",
            "_view_count": null,
            "_view_module": "@jupyter-widgets/controls",
            "_view_module_version": "1.5.0",
            "_view_name": "ProgressView",
            "bar_style": "info",
            "description": "Progress:",
            "description_tooltip": null,
            "layout": "IPY_MODEL_5c2eb9418d1d4a3daac09522f328b9e2",
            "max": 1,
            "min": 0,
            "orientation": "horizontal",
            "style": "IPY_MODEL_ba2520681d054f28b5198d97cc72af42",
            "value": 0
          }
        },
        "5c2eb9418d1d4a3daac09522f328b9e2": {
          "model_module": "@jupyter-widgets/base",
          "model_name": "LayoutModel",
          "model_module_version": "1.2.0",
          "state": {
            "_model_module": "@jupyter-widgets/base",
            "_model_module_version": "1.2.0",
            "_model_name": "LayoutModel",
            "_view_count": null,
            "_view_module": "@jupyter-widgets/base",
            "_view_module_version": "1.2.0",
            "_view_name": "LayoutView",
            "align_content": null,
            "align_items": null,
            "align_self": null,
            "border": null,
            "bottom": null,
            "display": null,
            "flex": null,
            "flex_flow": null,
            "grid_area": null,
            "grid_auto_columns": null,
            "grid_auto_flow": null,
            "grid_auto_rows": null,
            "grid_column": null,
            "grid_gap": null,
            "grid_row": null,
            "grid_template_areas": null,
            "grid_template_columns": null,
            "grid_template_rows": null,
            "height": "25px",
            "justify_content": null,
            "justify_items": null,
            "left": null,
            "margin": null,
            "max_height": null,
            "max_width": null,
            "min_height": null,
            "min_width": null,
            "object_fit": null,
            "object_position": null,
            "order": null,
            "overflow": null,
            "overflow_x": null,
            "overflow_y": null,
            "padding": null,
            "right": null,
            "top": null,
            "visibility": null,
            "width": "50%"
          }
        },
        "ba2520681d054f28b5198d97cc72af42": {
          "model_module": "@jupyter-widgets/controls",
          "model_name": "ProgressStyleModel",
          "model_module_version": "1.5.0",
          "state": {
            "_model_module": "@jupyter-widgets/controls",
            "_model_module_version": "1.5.0",
            "_model_name": "ProgressStyleModel",
            "_view_count": null,
            "_view_module": "@jupyter-widgets/base",
            "_view_module_version": "1.2.0",
            "_view_name": "StyleView",
            "bar_color": null,
            "description_width": ""
          }
        },
        "6a1eb2d1a4484413a9d0bf9923919e65": {
          "model_module": "@jupyter-widgets/controls",
          "model_name": "FloatProgressModel",
          "model_module_version": "1.5.0",
          "state": {
            "_dom_classes": [],
            "_model_module": "@jupyter-widgets/controls",
            "_model_module_version": "1.5.0",
            "_model_name": "FloatProgressModel",
            "_view_count": null,
            "_view_module": "@jupyter-widgets/controls",
            "_view_module_version": "1.5.0",
            "_view_name": "ProgressView",
            "bar_style": "info",
            "description": "Progress:",
            "description_tooltip": null,
            "layout": "IPY_MODEL_f626fae16bff479491da45411b038e2d",
            "max": 1,
            "min": 0,
            "orientation": "horizontal",
            "style": "IPY_MODEL_e7ddbe9136b64f75b30c355e63b89932",
            "value": 0
          }
        },
        "f626fae16bff479491da45411b038e2d": {
          "model_module": "@jupyter-widgets/base",
          "model_name": "LayoutModel",
          "model_module_version": "1.2.0",
          "state": {
            "_model_module": "@jupyter-widgets/base",
            "_model_module_version": "1.2.0",
            "_model_name": "LayoutModel",
            "_view_count": null,
            "_view_module": "@jupyter-widgets/base",
            "_view_module_version": "1.2.0",
            "_view_name": "LayoutView",
            "align_content": null,
            "align_items": null,
            "align_self": null,
            "border": null,
            "bottom": null,
            "display": null,
            "flex": null,
            "flex_flow": null,
            "grid_area": null,
            "grid_auto_columns": null,
            "grid_auto_flow": null,
            "grid_auto_rows": null,
            "grid_column": null,
            "grid_gap": null,
            "grid_row": null,
            "grid_template_areas": null,
            "grid_template_columns": null,
            "grid_template_rows": null,
            "height": "25px",
            "justify_content": null,
            "justify_items": null,
            "left": null,
            "margin": null,
            "max_height": null,
            "max_width": null,
            "min_height": null,
            "min_width": null,
            "object_fit": null,
            "object_position": null,
            "order": null,
            "overflow": null,
            "overflow_x": null,
            "overflow_y": null,
            "padding": null,
            "right": null,
            "top": null,
            "visibility": null,
            "width": "50%"
          }
        },
        "e7ddbe9136b64f75b30c355e63b89932": {
          "model_module": "@jupyter-widgets/controls",
          "model_name": "ProgressStyleModel",
          "model_module_version": "1.5.0",
          "state": {
            "_model_module": "@jupyter-widgets/controls",
            "_model_module_version": "1.5.0",
            "_model_name": "ProgressStyleModel",
            "_view_count": null,
            "_view_module": "@jupyter-widgets/base",
            "_view_module_version": "1.2.0",
            "_view_name": "StyleView",
            "bar_color": null,
            "description_width": ""
          }
        },
        "a0078d4414ff42d2acc3ae1b53d1510c": {
          "model_module": "@jupyter-widgets/controls",
          "model_name": "FloatProgressModel",
          "model_module_version": "1.5.0",
          "state": {
            "_dom_classes": [],
            "_model_module": "@jupyter-widgets/controls",
            "_model_module_version": "1.5.0",
            "_model_name": "FloatProgressModel",
            "_view_count": null,
            "_view_module": "@jupyter-widgets/controls",
            "_view_module_version": "1.5.0",
            "_view_name": "ProgressView",
            "bar_style": "info",
            "description": "Progress:",
            "description_tooltip": null,
            "layout": "IPY_MODEL_a45c4e1302ea4bbd9984995a5257d722",
            "max": 1,
            "min": 0,
            "orientation": "horizontal",
            "style": "IPY_MODEL_d039215841d34553ad65b1861abe35de",
            "value": 0
          }
        },
        "a45c4e1302ea4bbd9984995a5257d722": {
          "model_module": "@jupyter-widgets/base",
          "model_name": "LayoutModel",
          "model_module_version": "1.2.0",
          "state": {
            "_model_module": "@jupyter-widgets/base",
            "_model_module_version": "1.2.0",
            "_model_name": "LayoutModel",
            "_view_count": null,
            "_view_module": "@jupyter-widgets/base",
            "_view_module_version": "1.2.0",
            "_view_name": "LayoutView",
            "align_content": null,
            "align_items": null,
            "align_self": null,
            "border": null,
            "bottom": null,
            "display": null,
            "flex": null,
            "flex_flow": null,
            "grid_area": null,
            "grid_auto_columns": null,
            "grid_auto_flow": null,
            "grid_auto_rows": null,
            "grid_column": null,
            "grid_gap": null,
            "grid_row": null,
            "grid_template_areas": null,
            "grid_template_columns": null,
            "grid_template_rows": null,
            "height": "25px",
            "justify_content": null,
            "justify_items": null,
            "left": null,
            "margin": null,
            "max_height": null,
            "max_width": null,
            "min_height": null,
            "min_width": null,
            "object_fit": null,
            "object_position": null,
            "order": null,
            "overflow": null,
            "overflow_x": null,
            "overflow_y": null,
            "padding": null,
            "right": null,
            "top": null,
            "visibility": null,
            "width": "50%"
          }
        },
        "d039215841d34553ad65b1861abe35de": {
          "model_module": "@jupyter-widgets/controls",
          "model_name": "ProgressStyleModel",
          "model_module_version": "1.5.0",
          "state": {
            "_model_module": "@jupyter-widgets/controls",
            "_model_module_version": "1.5.0",
            "_model_name": "ProgressStyleModel",
            "_view_count": null,
            "_view_module": "@jupyter-widgets/base",
            "_view_module_version": "1.2.0",
            "_view_name": "StyleView",
            "bar_color": null,
            "description_width": ""
          }
        },
        "4216034783f14e97a79a69fa4f8a4053": {
          "model_module": "@jupyter-widgets/controls",
          "model_name": "FloatProgressModel",
          "model_module_version": "1.5.0",
          "state": {
            "_dom_classes": [],
            "_model_module": "@jupyter-widgets/controls",
            "_model_module_version": "1.5.0",
            "_model_name": "FloatProgressModel",
            "_view_count": null,
            "_view_module": "@jupyter-widgets/controls",
            "_view_module_version": "1.5.0",
            "_view_name": "ProgressView",
            "bar_style": "info",
            "description": "Progress:",
            "description_tooltip": null,
            "layout": "IPY_MODEL_1a41a2f4509b4136b8bf6b39ecd0f191",
            "max": 1,
            "min": 0,
            "orientation": "horizontal",
            "style": "IPY_MODEL_60fdbc283a4042f2a6d73a15b3fce170",
            "value": 0.9375
          }
        },
        "1a41a2f4509b4136b8bf6b39ecd0f191": {
          "model_module": "@jupyter-widgets/base",
          "model_name": "LayoutModel",
          "model_module_version": "1.2.0",
          "state": {
            "_model_module": "@jupyter-widgets/base",
            "_model_module_version": "1.2.0",
            "_model_name": "LayoutModel",
            "_view_count": null,
            "_view_module": "@jupyter-widgets/base",
            "_view_module_version": "1.2.0",
            "_view_name": "LayoutView",
            "align_content": null,
            "align_items": null,
            "align_self": null,
            "border": null,
            "bottom": null,
            "display": null,
            "flex": null,
            "flex_flow": null,
            "grid_area": null,
            "grid_auto_columns": null,
            "grid_auto_flow": null,
            "grid_auto_rows": null,
            "grid_column": null,
            "grid_gap": null,
            "grid_row": null,
            "grid_template_areas": null,
            "grid_template_columns": null,
            "grid_template_rows": null,
            "height": "25px",
            "justify_content": null,
            "justify_items": null,
            "left": null,
            "margin": null,
            "max_height": null,
            "max_width": null,
            "min_height": null,
            "min_width": null,
            "object_fit": null,
            "object_position": null,
            "order": null,
            "overflow": null,
            "overflow_x": null,
            "overflow_y": null,
            "padding": null,
            "right": null,
            "top": null,
            "visibility": null,
            "width": "50%"
          }
        },
        "60fdbc283a4042f2a6d73a15b3fce170": {
          "model_module": "@jupyter-widgets/controls",
          "model_name": "ProgressStyleModel",
          "model_module_version": "1.5.0",
          "state": {
            "_model_module": "@jupyter-widgets/controls",
            "_model_module_version": "1.5.0",
            "_model_name": "ProgressStyleModel",
            "_view_count": null,
            "_view_module": "@jupyter-widgets/base",
            "_view_module_version": "1.2.0",
            "_view_name": "StyleView",
            "bar_color": null,
            "description_width": ""
          }
        },
        "87435fe9697f4e598e9e80d46a27f1fb": {
          "model_module": "@jupyter-widgets/controls",
          "model_name": "FloatProgressModel",
          "model_module_version": "1.5.0",
          "state": {
            "_dom_classes": [],
            "_model_module": "@jupyter-widgets/controls",
            "_model_module_version": "1.5.0",
            "_model_name": "FloatProgressModel",
            "_view_count": null,
            "_view_module": "@jupyter-widgets/controls",
            "_view_module_version": "1.5.0",
            "_view_name": "ProgressView",
            "bar_style": "info",
            "description": "Progress:",
            "description_tooltip": null,
            "layout": "IPY_MODEL_3ccef3c742e744c8847cd1c42d6653a5",
            "max": 1,
            "min": 0,
            "orientation": "horizontal",
            "style": "IPY_MODEL_ef3d29dd574c4e33961772e453a580e2",
            "value": 0
          }
        },
        "3ccef3c742e744c8847cd1c42d6653a5": {
          "model_module": "@jupyter-widgets/base",
          "model_name": "LayoutModel",
          "model_module_version": "1.2.0",
          "state": {
            "_model_module": "@jupyter-widgets/base",
            "_model_module_version": "1.2.0",
            "_model_name": "LayoutModel",
            "_view_count": null,
            "_view_module": "@jupyter-widgets/base",
            "_view_module_version": "1.2.0",
            "_view_name": "LayoutView",
            "align_content": null,
            "align_items": null,
            "align_self": null,
            "border": null,
            "bottom": null,
            "display": null,
            "flex": null,
            "flex_flow": null,
            "grid_area": null,
            "grid_auto_columns": null,
            "grid_auto_flow": null,
            "grid_auto_rows": null,
            "grid_column": null,
            "grid_gap": null,
            "grid_row": null,
            "grid_template_areas": null,
            "grid_template_columns": null,
            "grid_template_rows": null,
            "height": "25px",
            "justify_content": null,
            "justify_items": null,
            "left": null,
            "margin": null,
            "max_height": null,
            "max_width": null,
            "min_height": null,
            "min_width": null,
            "object_fit": null,
            "object_position": null,
            "order": null,
            "overflow": null,
            "overflow_x": null,
            "overflow_y": null,
            "padding": null,
            "right": null,
            "top": null,
            "visibility": null,
            "width": "50%"
          }
        },
        "ef3d29dd574c4e33961772e453a580e2": {
          "model_module": "@jupyter-widgets/controls",
          "model_name": "ProgressStyleModel",
          "model_module_version": "1.5.0",
          "state": {
            "_model_module": "@jupyter-widgets/controls",
            "_model_module_version": "1.5.0",
            "_model_name": "ProgressStyleModel",
            "_view_count": null,
            "_view_module": "@jupyter-widgets/base",
            "_view_module_version": "1.2.0",
            "_view_name": "StyleView",
            "bar_color": null,
            "description_width": ""
          }
        },
        "51dcc2ebe28841c3a5b57e32017320ce": {
          "model_module": "@jupyter-widgets/controls",
          "model_name": "FloatProgressModel",
          "model_module_version": "1.5.0",
          "state": {
            "_dom_classes": [],
            "_model_module": "@jupyter-widgets/controls",
            "_model_module_version": "1.5.0",
            "_model_name": "FloatProgressModel",
            "_view_count": null,
            "_view_module": "@jupyter-widgets/controls",
            "_view_module_version": "1.5.0",
            "_view_name": "ProgressView",
            "bar_style": "info",
            "description": "Progress:",
            "description_tooltip": null,
            "layout": "IPY_MODEL_58aa956b292e45799013a2cb0e388c90",
            "max": 1,
            "min": 0,
            "orientation": "horizontal",
            "style": "IPY_MODEL_07bb2bc4801e40e9a9bc359ed6115fa9",
            "value": 0.05714285714285714
          }
        },
        "58aa956b292e45799013a2cb0e388c90": {
          "model_module": "@jupyter-widgets/base",
          "model_name": "LayoutModel",
          "model_module_version": "1.2.0",
          "state": {
            "_model_module": "@jupyter-widgets/base",
            "_model_module_version": "1.2.0",
            "_model_name": "LayoutModel",
            "_view_count": null,
            "_view_module": "@jupyter-widgets/base",
            "_view_module_version": "1.2.0",
            "_view_name": "LayoutView",
            "align_content": null,
            "align_items": null,
            "align_self": null,
            "border": null,
            "bottom": null,
            "display": null,
            "flex": null,
            "flex_flow": null,
            "grid_area": null,
            "grid_auto_columns": null,
            "grid_auto_flow": null,
            "grid_auto_rows": null,
            "grid_column": null,
            "grid_gap": null,
            "grid_row": null,
            "grid_template_areas": null,
            "grid_template_columns": null,
            "grid_template_rows": null,
            "height": "25px",
            "justify_content": null,
            "justify_items": null,
            "left": null,
            "margin": null,
            "max_height": null,
            "max_width": null,
            "min_height": null,
            "min_width": null,
            "object_fit": null,
            "object_position": null,
            "order": null,
            "overflow": null,
            "overflow_x": null,
            "overflow_y": null,
            "padding": null,
            "right": null,
            "top": null,
            "visibility": null,
            "width": "50%"
          }
        },
        "07bb2bc4801e40e9a9bc359ed6115fa9": {
          "model_module": "@jupyter-widgets/controls",
          "model_name": "ProgressStyleModel",
          "model_module_version": "1.5.0",
          "state": {
            "_model_module": "@jupyter-widgets/controls",
            "_model_module_version": "1.5.0",
            "_model_name": "ProgressStyleModel",
            "_view_count": null,
            "_view_module": "@jupyter-widgets/base",
            "_view_module_version": "1.2.0",
            "_view_name": "StyleView",
            "bar_color": null,
            "description_width": ""
          }
        }
      }
    }
  },
  "nbformat": 4,
  "nbformat_minor": 0
}